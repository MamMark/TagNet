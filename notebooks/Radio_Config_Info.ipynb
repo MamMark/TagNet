{
 "cells": [
  {
   "cell_type": "code",
   "execution_count": null,
   "metadata": {},
   "outputs": [],
   "source": [
    "%autosave 0"
   ]
  },
  {
   "cell_type": "code",
   "execution_count": null,
   "metadata": {
    "scrolled": false
   },
   "outputs": [],
   "source": [
    "from __future__ import print_function, absolute_import, division\n",
    "\n",
    "import logging\n",
    "import os\n",
    "import sys\n",
    "from collections import defaultdict, OrderedDict\n",
    "from errno import ENOENT, ENODATA\n",
    "from stat import S_IFDIR, S_IFLNK, S_IFREG\n",
    "from sys import argv, exit, path\n",
    "import time\n",
    "from binascii import hexlify\n",
    "\n",
    "if not hasattr(__builtins__, 'bytes'):\n",
    "    bytes = str"
   ]
  },
  {
   "cell_type": "code",
   "execution_count": null,
   "metadata": {},
   "outputs": [],
   "source": [
    "from datetime import datetime"
   ]
  },
  {
   "cell_type": "code",
   "execution_count": null,
   "metadata": {},
   "outputs": [],
   "source": [
    "sys.path.insert(0,\"../si446x/\")\n",
    "sys.path.insert(0,\"../tagfuse\")\n",
    "#from tagfuse import *\n",
    "\n",
    "#from tagfuse.radioutils import radio_start\n",
    "#radio = radio_start()"
   ]
  },
  {
   "cell_type": "code",
   "execution_count": null,
   "metadata": {},
   "outputs": [],
   "source": [
    "from si446x import Si446xRadio\n",
    "radio = Si446xRadio(0)\n",
    "radio.unshutdown()"
   ]
  },
  {
   "cell_type": "code",
   "execution_count": null,
   "metadata": {},
   "outputs": [],
   "source": [
    "from si446x import Si446xRadio\n",
    "radio=Si446xRadio(0)\n",
    "if (radio == None):\n",
    "    raise RuntimeError('radio_start: could not instantiate radio')\n",
    "radio.unshutdown()\n",
    "radio.write_config()\n",
    "radio.config_frr()"
   ]
  },
  {
   "cell_type": "code",
   "execution_count": null,
   "metadata": {},
   "outputs": [],
   "source": [
    "from si446x import get_config_wds, get_name_wds\n",
    "get_name_wds()"
   ]
  },
  {
   "cell_type": "code",
   "execution_count": null,
   "metadata": {
    "scrolled": true
   },
   "outputs": [],
   "source": [
    "radio.trace.display(radio.trace.filter())"
   ]
  },
  {
   "cell_type": "code",
   "execution_count": null,
   "metadata": {},
   "outputs": [],
   "source": [
    "radio.get_clear_interrupts()"
   ]
  },
  {
   "cell_type": "code",
   "execution_count": null,
   "metadata": {
    "scrolled": true
   },
   "outputs": [],
   "source": [
    "#for i in range(100):\n",
    "#    print(radio.get_clear_interrupts())"
   ]
  },
  {
   "cell_type": "code",
   "execution_count": null,
   "metadata": {
    "scrolled": true
   },
   "outputs": [],
   "source": [
    "radio.dump_radio()"
   ]
  },
  {
   "cell_type": "code",
   "execution_count": null,
   "metadata": {},
   "outputs": [],
   "source": [
    "last_dump = {'\\x00': bytearray(b'R\\x00\\x18`\\x00\\x00\\x01`\\x00\\x00\\x00'),\n",
    " '\\x01': bytearray(b'\\x07;#('),\n",
    " '\\x02': bytearray(b'\\x01\\x02\\t\\x00'),\n",
    " '\\x10': bytearray(b'\\x08\\x14\\x00\\x0f1\\x00\\x00\\x00\\x00\\x00\\x00\\x00\\x00\\x00'),\n",
    " '\\x11': bytearray(b'\\x01\\xb4+\\x00\\x00\\x00\\x00\\x00\\x00\\x00'),\n",
    " '\\x12': bytearray(b'\\x85\\x01\\x08\\xff\\xff\\x00\\x82\\x00*\\x01\\x00\\x10\\x10\\x00\\x01\\x04\\xa2\\x00\\x00\\x00\\n\\x00\\x00\\x00\\x00\\x00\\x00\\x00\\x00\\x00\\x00\\x00\\x00\\x00\\x01\\x04\\x82\\x00\\xff\\x00\\n\\x00\\x00\\x00\\x00\\x00\\x00\\x00\\x00\\x00\\x00\\x00\\x00\\x00\\x00\\x00\\x00'),\n",
    " ' ': bytearray(b'\\x03\\x00\\x07\\x06\\x1a\\x80\\x05\\xc9\\xc3\\x80\\x00\\x05v\\x00\\x00g`M6!\\x11\\x08\\x03\\x01\\x01\\x80\\x08\\x03\\x80\\x00  \\x00\\xe8\\x01w\\x01]\\x86\\x00\\xaf\\x02\\xc0\\x00\\x94#\\x81U\\x01]\\x80\\x00\\x00\\xe0\\x00\\x00\\x11RR\\x80\\x1a\\xff\\xff\\x00*\\x0c\\x84#V\\x8f\\x00\\xde\\x01\\x00 \\x0c\"\\x1a@\\x03\\x84\\n\\x00(\\x83A\\xff\\x00\\x00\\x025fd'),\n",
    " '!': bytearray(b'\\xa2\\x81&\\xaf?\\xee\\xc8\\xc7\\xdb\\xf2\\x02\\x08\\x07\\x03\\x15\\xfc\\x0f\\x00\\xa2\\x81&\\xaf?\\xee\\xc8\\xc7\\xdb\\xf2\\x02\\x08\\x07\\x03\\x15\\xfc\\x0f\\x00'),\n",
    " '\"': bytearray(b'\\x085\\x00\\x1d\\x80#\\x03'),\n",
    " '#': bytearray(b',\\x0e\\x0b\\x04\\x0cs\\x03\\x05'),\n",
    " '0': bytearray(b'\\x00\\x00\\x00\\x00\\x00\\x00\\x00\\x00\\x00\\x00\\x00\\x00'),\n",
    " '@': bytearray(b'8\\r\\xdd\\xdd\\x00\\x0e \\xfe'),\n",
    " 'P': bytearray(b'\\x04\\x01\\x00\\x01\\x02\\x03\\x04\\x05\\x06\\x07\\x08\\t\\n\\x0b\\x0c\\r\\x0e\\x0f\\x10\\x11\\x12\\x13\\x14\\x15\\x16\\x17\\x18\\x19\\x1a\\x1b\\x1c\\x1d\\x1e\\x1f !\"#$%&\\'()*+,-./0123456789:;<=>?')}"
   ]
  },
  {
   "cell_type": "code",
   "execution_count": null,
   "metadata": {},
   "outputs": [],
   "source": [
    "from ipywidgets import interact, interactive, fixed, interact_manual\n",
    "import ipywidgets as widgets\n",
    "from si446xdef import *\n",
    "\n",
    "\n",
    "def si446x_device_group_fetch_and_decode(group):\n",
    "    gname = radio_config_group_ids.decoding[group]\n",
    "    g_s = radio_config_groups[radio_config_group_ids.build(gname)]\n",
    "    gid = radio_config_group_ids.build(gname)\n",
    "    p = si446x_device_get_property(radio, gname, 0, g_s.sizeof())\n",
    "    print(g_s, insert_space(p))\n",
    "    #print(gname, len(p), hexlify(p))\n",
    "    print(radio_display_structs[g_s](g_s, p))\n",
    "    return None\n",
    "\n",
    "\n",
    "def si446x_device_command_fetch_and_decode(cmd):\n",
    "    cname = radio_status_cmd_ids.decoding[cmd]\n",
    "    cfunc, cstr = radio_status_commands[radio_config_cmd_ids.build(cname)]\n",
    "#    print(cname, cmd)\n",
    "    if (cfunc):\n",
    "        cmd = cfunc(cname)\n",
    "        if (cmd):\n",
    "#            print(cfunc, hexlify(cmd), cstr)\n",
    "            radio.spi.command(cmd, cstr)\n",
    "            rsp = radio.spi.response(cstr.sizeof(), cstr.name)\n",
    "            if (rsp):\n",
    "#                print(cstr, radio_display_structs[cstr])\n",
    "                print(cstr, insert_space(rsp))\n",
    "                print(radio_display_structs[cstr](cstr, rsp))\n",
    "            else:\n",
    "                print('no response')\n",
    "        else:\n",
    "            print('no command')\n",
    "    else:\n",
    "        print('no function')\n",
    "    return None\n",
    "\n",
    "def si446x_device_get_property(radio, g_n, start, limit):\n",
    "    prop_x = 0\n",
    "    prop_b = bytearray()\n",
    "    while (prop_x < limit):\n",
    "        chunk_size = limit - prop_x\n",
    "        x = MAX_RADIO_RSP if (chunk_size >= MAX_RADIO_RSP) else chunk_size\n",
    "        rsp = radio.get_property(g_n, prop_x, x)\n",
    "        if (rsp):\n",
    "            prop_b += bytearray(rsp[:x])\n",
    "            prop_x += x\n",
    "        else:\n",
    "            return None\n",
    "    return prop_b"
   ]
  },
  {
   "cell_type": "code",
   "execution_count": null,
   "metadata": {
    "scrolled": false
   },
   "outputs": [],
   "source": [
    "interact(si446x_device_group_fetch_and_decode, group=radio_config_group_ids.encoding)"
   ]
  },
  {
   "cell_type": "code",
   "execution_count": null,
   "metadata": {},
   "outputs": [],
   "source": [
    "interact(si446x_device_command_fetch_and_decode, cmd=radio_status_cmd_ids.encoding)"
   ]
  },
  {
   "cell_type": "markdown",
   "metadata": {},
   "source": [
    "## Compare configurations"
   ]
  },
  {
   "cell_type": "code",
   "execution_count": null,
   "metadata": {},
   "outputs": [],
   "source": [
    "STOP"
   ]
  },
  {
   "cell_type": "code",
   "execution_count": null,
   "metadata": {},
   "outputs": [],
   "source": [
    "get_config_wds(10)"
   ]
  },
  {
   "cell_type": "code",
   "execution_count": null,
   "metadata": {},
   "outputs": [],
   "source": [
    "rpi = radio.dump_radio()\n",
    "rpi"
   ]
  },
  {
   "cell_type": "code",
   "execution_count": null,
   "metadata": {},
   "outputs": [],
   "source": [
    "tagold = {'!': bytearray(b'\\xa2\\x81&\\xaf?\\xee\\xc8\\xc7\\xdb\\xf2\\x02\\x08\\x07\\x03\\x15\\xfc\\x0f\\x00\\xa2\\x81&\\xaf?\\xee\\xc8\\xc7\\xdb\\xf2\\x02\\x08\\x07\\x03\\x15\\xfc\\x0f\\x00'),\n",
    "       '@': bytearray(b'8\\r\\xdd\\xdd\\x00\\x0e \\xfe'),\n",
    "       '#': bytearray(b',\\x0e\\x0b\\x04\\x0cs\\x03\\x05'),\n",
    "       '\"': bytearray(b'\\x08\\x10\\x00\\x1d\\x80#\\x03'),\n",
    "       '\\x10': bytearray(b'\\x08\\x14\\x00\\x0f1\\x00\\x00\\x00\\x00\\x00\\x00\\x00\\x00\\x00'),\n",
    "       ' ': bytearray(b'\\x03\\x00\\x07\\x06\\x1a\\x80\\x05\\xc9\\xc3\\x80\\x00\\x05v\\x00\\x00g`M6!\\x11\\x08\\x03\\x01\\x01\\x80\\x08\\x03\\x80\\x00  \\x00\\xe8\\x01w\\x01]\\x86\\x00\\xaf\\x02\\xc0\\x00\\x94#\\x81U\\x01]\\x80\\x00\\x00\\xe0\\x00\\x00\\x11RR\\x80\\x1a\\xff\\xff\\x00*\\x0c\\x84#V\\x8f\\x00\\xde\\x01\\x00 \\x0c\"\\x1a@\\x03\\x84\\n\\x00(\\x83A\\xff\\x00\\x00\\x025fd\\x07x\"'),\n",
    "       '\\x00': bytearray(b'R\\x00\\x18`\\x00\\x00\\x01`\\x00\\x00\\x00'),\n",
    "       '0': bytearray(b'\\x00\\x00\\x00\\x00\\x00\\x00\\x00\\x00\\x00\\x00\\x00\\x00'),\n",
    "       '\\x11': bytearray(b'\\x01\\xb4+\\x00\\x00\\x00\\x00\\x00\\x00\\x00'),\n",
    "       'P': bytearray(b'\\x04\\x01\\x00\\x01\\x02\\x03\\x04\\x05\\x06\\x07\\x08\\t\\n\\x0b\\x0c\\r\\x0e\\x0f\\x10\\x11\\x12\\x13\\x14\\x15\\x16\\x17\\x18\\x19\\x1a\\x1b\\x1c\\x1d\\x1e\\x1f !\"#$%&\\'()*+,-./0123456789:;<=>?'),\n",
    "       '\\x01': bytearray(b'\\x07;#('),\n",
    "       '\\x12': bytearray(b'\\x85\\x01\\x08\\xff\\xff\\x00\\x82\\x00*\\x01\\x00(\\x19\\x00\\x01\\x04\\xa2\\x00\\x00\\x00\\n\\x00\\x00\\x00\\x00\\x00\\x00\\x00\\x00\\x00\\x00\\x00\\x00\\x00\\x01\\x04\\x82\\x00\\xff\\x00\\n\\x00\\x00\\x00\\x00\\x00\\x00\\x00\\x00\\x00\\x00\\x00\\x00\\x00\\x00\\x00\\x00\\x00'),\n",
    "       '\\x02': bytearray(b'\\t\\x04\\x06\\n')}\n",
    "tagold"
   ]
  },
  {
   "cell_type": "code",
   "execution_count": null,
   "metadata": {},
   "outputs": [],
   "source": [
    "tag = {'!': bytearray(b'\\xa2\\x81&\\xaf?\\xee\\xc8\\xc7\\xdb\\xf2\\x02\\x08\\x07\\x03\\x15\\xfc\\x0f\\x00\\xa2\\x81&\\xaf?\\xee\\xc8\\xc7\\xdb\\xf2\\x02\\x08\\x07\\x03\\x15\\xfc\\x0f\\x00'), '@': bytearray(b'8\\r\\xdd\\xdd6\\x9d \\xfe'), '#': bytearray(b',\\x0e\\x0b\\x04\\x0cs\\x03\\x05'), '\"': bytearray(b'\\x08\\x10\\x00\\x1d\\x80#\\x03'), '\\x10': bytearray(b'\\x08\\x14\\x00\\x0f1\\x00\\x00\\x00\\x00\\x00\\x00\\x00\\x00\\x00'), ' ': bytearray(b'\\x03\\x00\\x07\\x06\\x1a\\x80\\x05\\xc9\\xc3\\x80\\x00\\x05v\\x00\\x00g`M6!\\x11\\x08\\x03\\x01\\x01\\x80\\x08\\x03\\x80\\x00  \\x00\\xe8\\x01w\\x01]\\x86\\x00\\xaf\\x02\\xc2\\x00\\x04#\\x80\\x1d\\x10\\x04\\x80\\x00\\x00\\xe0\\x00\\x00\\x11RR\\x80\\x1a\\xff\\xff\\x00*\\x0c\\xa4\"V\\x83\\x00\\xde\\x01\\x00 \\x0c\"\\x18@\\x03\\x84\\n\\x00(\\x03\\x07\\xff\\x00\\x00\\x00\\x00@\\x04\\x07x '), '\\x00': bytearray(b'R\\x00\\x18`\\x00\\x00\\x01`\\x00\\x00\\x00'), '0': bytearray(b'\\x00\\x00\\x00\\x00\\x00\\x00\\x00\\x00\\x00\\x00\\x00\\x00'), '\\x11': bytearray(b'\\x01\\xb4+\\x00\\x00\\x00\\x00\\x00\\x00\\x00'), 'P': bytearray(b'\\x04\\x01\\x00\\x01\\x02\\x03\\x04\\x05\\x06\\x07\\x08\\t\\n\\x0b\\x0c\\r\\x0e\\x0f\\x10\\x11\\x12\\x13\\x14\\x15\\x16\\x17\\x18\\x19\\x1a\\x1b\\x1c\\x1d\\x1e\\x1f !\"#$%&\\'()*+,-./0123456789:;<=>?'), '\\x01': bytearray(b'\\x07;#('), '\\x12': bytearray(b'\\x85\\x01\\x08\\xff\\xff\\x00\\x82\\x00*\\x01\\x00(\\x19\\x00\\x01\\x04\\xa2\\x00\\x00\\x00\"\\x00\\x00\\x00\\x00\\x00\\x00\\x00\\x00\\x00\\x00\\x00\\x00\\x00\\x01\\x04\\x82\\x00\\xff\\x00\\n\\x00\\x00\\x00\\x00\\x00\\x00\\x00\\x00\\x00\\x00\\x00\\x00\\x00\\x00\\x00\\x00\\x00'), '\\x02': bytearray(b'\\t\\x04\\x06\\n')}\n",
    "tag"
   ]
  },
  {
   "cell_type": "code",
   "execution_count": null,
   "metadata": {},
   "outputs": [],
   "source": [
    "for key in sorted(tag.keys()):\n",
    "    if tag[key] != rpi[key]:\n",
    "        print(hex(ord(key)))\n",
    "        st = tag[key]\n",
    "        sr = rpi[key]\n",
    "        print(hexlify(st))\n",
    "        print(hexlify(sr))\n",
    "        ss = ''\n",
    "        for x in range(min(len(st),len(sr))):\n",
    "            if st[x] == sr[x]:\n",
    "                ss += ' '\n",
    "            else:\n",
    "                ss += '^'\n",
    "        print(ss)\n",
    "        for x in range(min(len(st),len(sr))):\n",
    "            if st[x] != sr[x]:\n",
    "                print(x, hex(st[x]), hex(sr[x]))"
   ]
  },
  {
   "cell_type": "code",
   "execution_count": null,
   "metadata": {},
   "outputs": [],
   "source": [
    "handler.radio.trace.display(handler.radio.trace.filter())"
   ]
  },
  {
   "cell_type": "code",
   "execution_count": null,
   "metadata": {},
   "outputs": [],
   "source": [
    "radio.config_frr()"
   ]
  },
  {
   "cell_type": "markdown",
   "metadata": {},
   "source": [
    "## Change configuration"
   ]
  },
  {
   "cell_type": "code",
   "execution_count": null,
   "metadata": {},
   "outputs": [],
   "source": [
    "import sys\n",
    "sys.path.insert(0,\"../si446x/si446x/radioconfig\")"
   ]
  },
  {
   "cell_type": "code",
   "execution_count": null,
   "metadata": {},
   "outputs": [],
   "source": [
    "import si446xcfg\n",
    "help(si446xcfg)"
   ]
  },
  {
   "cell_type": "code",
   "execution_count": null,
   "metadata": {},
   "outputs": [],
   "source": [
    "si446xcfg.get_config_device(24)"
   ]
  },
  {
   "cell_type": "code",
   "execution_count": null,
   "metadata": {},
   "outputs": [],
   "source": [
    "si446xcfg.get_config_wds(0)"
   ]
  },
  {
   "cell_type": "code",
   "execution_count": null,
   "metadata": {},
   "outputs": [],
   "source": [
    "si446xcfg.get_name_wds()"
   ]
  },
  {
   "cell_type": "code",
   "execution_count": null,
   "metadata": {},
   "outputs": [],
   "source": [
    "si446xcfg.wds_config_count()"
   ]
  },
  {
   "cell_type": "code",
   "execution_count": null,
   "metadata": {},
   "outputs": [],
   "source": [
    "len(si446xcfg.wds_config_str()[0])"
   ]
  },
  {
   "cell_type": "code",
   "execution_count": null,
   "metadata": {},
   "outputs": [],
   "source": [
    "si446xcfg.wds_default_config(1)"
   ]
  },
  {
   "cell_type": "code",
   "execution_count": null,
   "metadata": {},
   "outputs": [],
   "source": [
    "si446xcfg.wds_default_config()"
   ]
  },
  {
   "cell_type": "code",
   "execution_count": null,
   "metadata": {},
   "outputs": [],
   "source": [
    "for i in range(5):\n",
    "    if (si446xcfg.wds_default_config(i) < i):\n",
    "        break\n",
    "    print(si446xcfg.get_name_wds())    "
   ]
  },
  {
   "cell_type": "code",
   "execution_count": null,
   "metadata": {
    "scrolled": false
   },
   "outputs": [],
   "source": [
    "x=0\n",
    "count=0\n",
    "while (True):\n",
    "    s=bytearray(si446xcfg.get_config_wds(x))\n",
    "    print(hexlify(s))\n",
    "    if len(s) == 0: break\n",
    "    print(x, len(s))\n",
    "    x += len(s) + 1\n",
    "    count +=1\n",
    "count, x"
   ]
  },
  {
   "cell_type": "code",
   "execution_count": null,
   "metadata": {
    "scrolled": false
   },
   "outputs": [],
   "source": [
    "x=0\n",
    "count=0\n",
    "while (True):\n",
    "    s=bytearray(si446xcfg.get_config_device(x))\n",
    "    print(hexlify(s))\n",
    "    if len(s) == 0: break\n",
    "    print(x, len(s))\n",
    "    x += len(s) + 1\n",
    "    count +=1\n",
    "count, x"
   ]
  },
  {
   "cell_type": "code",
   "execution_count": null,
   "metadata": {},
   "outputs": [],
   "source": [
    "reload(si446xcfg)"
   ]
  },
  {
   "cell_type": "code",
   "execution_count": null,
   "metadata": {},
   "outputs": [],
   "source": [
    "type(s), len(s)"
   ]
  },
  {
   "cell_type": "code",
   "execution_count": null,
   "metadata": {},
   "outputs": [],
   "source": [
    "x=0"
   ]
  },
  {
   "cell_type": "code",
   "execution_count": null,
   "metadata": {},
   "outputs": [],
   "source": [
    "bb = bytearray(si446xcfg.get_config_wds(x))\n",
    "x += len(bb) + 1\n",
    "x, len(bb), bb"
   ]
  },
  {
   "cell_type": "code",
   "execution_count": null,
   "metadata": {},
   "outputs": [],
   "source": [
    "si446xcfg.get_name_wds()"
   ]
  },
  {
   "cell_type": "code",
   "execution_count": null,
   "metadata": {},
   "outputs": [],
   "source": [
    "from binascii import hexlify"
   ]
  },
  {
   "cell_type": "code",
   "execution_count": null,
   "metadata": {},
   "outputs": [],
   "source": [
    "radio.config_strings"
   ]
  },
  {
   "cell_type": "code",
   "execution_count": null,
   "metadata": {},
   "outputs": [],
   "source": []
  }
 ],
 "metadata": {
  "kernelspec": {
   "display_name": "Python 2",
   "language": "python",
   "name": "python2"
  },
  "language_info": {
   "codemirror_mode": {
    "name": "ipython",
    "version": 2
   },
   "file_extension": ".py",
   "mimetype": "text/x-python",
   "name": "python",
   "nbconvert_exporter": "python",
   "pygments_lexer": "ipython2",
   "version": "2.7.13"
  }
 },
 "nbformat": 4,
 "nbformat_minor": 2
}
