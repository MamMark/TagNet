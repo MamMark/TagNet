{
 "cells": [
  {
   "cell_type": "markdown",
   "metadata": {},
   "source": [
    "# Radio Access TagNet Software Image Directory Listing"
   ]
  },
  {
   "cell_type": "code",
   "execution_count": null,
   "metadata": {},
   "outputs": [],
   "source": [
    "from __future__ import print_function\n",
    "from builtins import *                  # python3 types\n",
    "from time import sleep\n",
    "from datetime import datetime\n",
    "import struct as pystruct\n",
    "from binascii import hexlify, unhexlify\n",
    "import os\n",
    "import sys"
   ]
  },
  {
   "cell_type": "code",
   "execution_count": null,
   "metadata": {
    "scrolled": true
   },
   "outputs": [],
   "source": [
    "!pwd\n",
    "%autosave 0"
   ]
  },
  {
   "cell_type": "code",
   "execution_count": null,
   "metadata": {},
   "outputs": [],
   "source": [
    "sys.path.insert(0,'../tagfuse/tagfuse')\n",
    "print(os.getcwd())\n",
    "from radioutils import radio_start, path2list, radio_send_msg, radio_receive_msg\n",
    "from radiofile import file_get_bytes, file_put_bytes, file_update_attrs, dblk_put_note\n",
    "from radioimage import im_get_dir, im_put_file, im_delete_file, im_get_file"
   ]
  },
  {
   "cell_type": "code",
   "execution_count": null,
   "metadata": {},
   "outputs": [],
   "source": [
    "sys.path.insert(0, '../tagnet')\n",
    "from tagnet import TagMessage, TagPoll, TagGet, TagPut, TagDelete, TagHead\n",
    "from tagnet import TagName\n",
    "from tagnet import TagTlv, TagTlvList, tlv_types"
   ]
  },
  {
   "cell_type": "code",
   "execution_count": null,
   "metadata": {},
   "outputs": [],
   "source": [
    "import datetime\n",
    "print('Test Start Time: {}'.format(datetime.datetime.now()))"
   ]
  },
  {
   "cell_type": "markdown",
   "metadata": {},
   "source": [
    "##  Start up Radio"
   ]
  },
  {
   "cell_type": "code",
   "execution_count": null,
   "metadata": {
    "scrolled": true
   },
   "outputs": [],
   "source": [
    "radio = radio_start()"
   ]
  },
  {
   "cell_type": "markdown",
   "metadata": {},
   "source": [
    "## Check for Command Error"
   ]
  },
  {
   "cell_type": "code",
   "execution_count": null,
   "metadata": {},
   "outputs": [],
   "source": [
    "status = radio.get_chip_status()\n",
    "if (status.chip_pend.CMD_ERROR):\n",
    "    print(status)"
   ]
  },
  {
   "cell_type": "markdown",
   "metadata": {},
   "source": [
    "## Image Info description\n",
    "Image Description Information stored in the Image File"
   ]
  },
  {
   "cell_type": "raw",
   "metadata": {},
   "source": [
    "C structures from TAG code define image info metadata\n",
    "\n",
    "typedef struct {                        /* little endian order  */\n",
    "  uint16_t build;                       /* that's native for us */\n",
    "  uint8_t  minor;\n",
    "  uint8_t  major;\n",
    "} image_ver_t;\n",
    "\n",
    "typedef struct {\n",
    "  uint8_t  hw_rev;\n",
    "  uint8_t  hw_model;\n",
    "} hw_ver_t;\n",
    "\n",
    "typedef struct {\n",
    "  uint32_t    sig;                      /* must be IMAGE_INFO_SIG to be valid */\n",
    "  uint32_t    image_start;              /* where this binary loads            */\n",
    "  uint32_t    image_length;             /* byte length of entire image        */\n",
    "  uint32_t    vector_chk;               /* simple checksum over vector table  */\n",
    "  uint32_t    image_chk;                /* simple checksum over entire image  */\n",
    "  image_ver_t ver_id;\n",
    "  hw_ver_t    hw_ver;\n",
    "} image_info_t;"
   ]
  },
  {
   "cell_type": "code",
   "execution_count": null,
   "metadata": {},
   "outputs": [],
   "source": [
    "#  IMAGE_INFO provides information about a Tag software image. This data is\n",
    "#  embedded in the image itself. The IMAGE_META_OFFSET is the offset into\n",
    "#  the image where image_info lives in the image.  It directly follows the\n",
    "#  exception vectors which are 0x140 bytes long.\n",
    "# \n",
    "#  This struct will have to change, If MSP432 vector table length changes.\n",
    "# \n",
    "IMAGE_INFO_SIG = 0x33275401\n",
    "IMAGE_META_OFFSET = 0x140\n",
    "IMAGE_INFO_DEFAULT = [IMAGE_INFO_SIG, 0x20000, (0x140*2)+0x1c, 0, 0, 257, 2, 3, ' '  * 40, ' '  * 40, ' '  * 30, 0xde, 2]\n",
    "#\n",
    "# Struct created for accessing image info (little indian)\n",
    "# sig, image_start, imagelength, vector_chk, image_chk, im_build, im_minor, im_major, main_tree, aux_tree, build_time, im_rev, im_model = image_info\n",
    "#\n",
    "IM_FIELDS = '<LLLLLHBB44s44s30sBB'\n",
    "image_info_struct = pystruct.Struct(IM_FIELDS)\n",
    "IMAGE_MIN_SIZE  =  (IMAGE_META_OFFSET + image_info_struct.size)"
   ]
  },
  {
   "cell_type": "code",
   "execution_count": null,
   "metadata": {},
   "outputs": [],
   "source": [
    "# write out simple default binary input file for testing purposes\n",
    "#\n",
    "def default_image(filename):\n",
    "    if not os.path.isfile(filename):\n",
    "        with open(filename,'wb') as outfile:\n",
    "            buf = bytearray(IMAGE_META_OFFSET)\n",
    "            for x in range(1,IMAGE_META_OFFSET): buf[x] = x & 0x7f\n",
    "            outfile.write(buf)\n",
    "            outfile.write(bytearray(image_info_struct.pack(*IMAGE_INFO_DEFAULT)))\n",
    "            for i in range(64):\n",
    "                for x in range(256): buf[x] = x & 0x7f\n",
    "                outfile.write(buf)"
   ]
  },
  {
   "cell_type": "code",
   "execution_count": null,
   "metadata": {},
   "outputs": [],
   "source": [
    "def image_file_info(filename):\n",
    "    infile = open(filename, 'rb')\n",
    "    infile.seek(0, 2) # seek to the end\n",
    "    file_size = infile.tell()\n",
    "    if file_size < IMAGE_MIN_SIZE: raise RadioLoadException(\"input file too short\")\n",
    "    infile.seek(0, 0)    # seek to the beginnnig\n",
    "    # get image info from input file and sanity check\n",
    "    infile.seek(IMAGE_META_OFFSET) # seek to location of image info\n",
    "    image_info = image_info_struct.unpack(infile.read(image_info_struct.size))\n",
    "    print(\"file information\")\n",
    "    sig, image_start, imagelength, vector_chk, image_chk, im_build, im_minor, im_major,\\\n",
    "            main_tree, aux_tree, build_time, im_rev, im_model = image_info\n",
    "    pstr = \"  signature: 0x{:x}, start: 0x{:x}, length: 0x{:x}, vect_chk: 0x{:x}, image_chk: 0x{:x}\"\n",
    "    print(pstr.format(sig, image_start, imagelength, vector_chk, image_chk))\n",
    "    pstr = \"  version: ({}.{}.{}(0x{:x})), rev: {}, model: {}\"\n",
    "    print(pstr.format(im_major, im_minor, im_build, im_build, im_rev, im_model))\n",
    "    if sig != IMAGE_INFO_SIG: raise RadioLoadException(\"image metadata is invalid\")\n",
    "    infile.seek(0)    # seek to the beginning\n",
    "    infile.close()"
   ]
  },
  {
   "cell_type": "code",
   "execution_count": null,
   "metadata": {},
   "outputs": [],
   "source": [
    "image_main    = 'main.bin'\n",
    "image_test    = '/tmp/test.bin'"
   ]
  },
  {
   "cell_type": "code",
   "execution_count": null,
   "metadata": {},
   "outputs": [],
   "source": [
    "image_file_info(image_main)"
   ]
  },
  {
   "cell_type": "code",
   "execution_count": null,
   "metadata": {},
   "outputs": [],
   "source": [
    "default_image(image_test)\n",
    "image_file_info(image_test)"
   ]
  },
  {
   "cell_type": "markdown",
   "metadata": {},
   "source": [
    "## Image Directory and File Information"
   ]
  },
  {
   "cell_type": "code",
   "execution_count": null,
   "metadata": {
    "scrolled": true
   },
   "outputs": [],
   "source": [
    "# default paramters\n",
    "MAX_WAIT            = 10\n",
    "MAX_RECV            = 255\n",
    "MAX_PAYLOAD         = 254\n",
    "MAX_RETRIES         = 10\n",
    "RADIO_POWER         = 100\n",
    "SHORT_DELAY         = 0"
   ]
  },
  {
   "cell_type": "code",
   "execution_count": null,
   "metadata": {},
   "outputs": [],
   "source": [
    "#\"tag\"  \"sd\"    <node_id>   \"img\"\n",
    "def get_directory():\n",
    "    image_manager_name = TagName ([\n",
    "                TagTlv(tlv_types.NODE_ID, -1),\n",
    "                TagTlv('tag'),\n",
    "                TagTlv('sd'),\n",
    "                TagTlv(0),\n",
    "                TagTlv('img')])\n",
    "\n",
    "    dir_info = TagGet(image_manager_name)\n",
    "    #print(dir_info.name)\n",
    "    dir_msg = dir_info.build()\n",
    "    #\n",
    "    print(len(dir_msg),hexlify(dir_msg))\n",
    "    radio_send_msg(radio, dir_msg, RADIO_POWER);\n",
    "    rsp_buf, rssi, status = radio_receive_msg(radio, MAX_RECV, MAX_WAIT)\n",
    "    if (rsp_buf):\n",
    "        print(len(rsp_buf),hexlify(rsp_buf))\n",
    "        rsp_obj = TagMessage(rsp_buf)\n",
    "        for x in range(0, 8, 2):\n",
    "            print(\"state: {}, {}\".format(rsp_obj.payload[x+1].value(), rsp_obj.payload[x]))\n",
    "    else:\n",
    "        print('timeout')"
   ]
  },
  {
   "cell_type": "code",
   "execution_count": null,
   "metadata": {},
   "outputs": [],
   "source": [
    "#\"tag\"\t\"sys\"\t<node_id>\t\"which\"\n",
    "def get_version(which):\n",
    "    sys_name = TagName ([\n",
    "                TagTlv(tlv_types.NODE_ID, -1),\n",
    "                TagTlv('tag'),\n",
    "                TagTlv('sys'),\n",
    "                TagTlv(which)])\n",
    "            \n",
    "    sys_obj = TagGet(sys_name)\n",
    "#    print(sys_obj.name)\n",
    "    get_msg = sys_obj.build()\n",
    "#\n",
    "    print(len(get_msg),hexlify(get_msg))\n",
    "    radio_send_msg(radio, get_msg, RADIO_POWER);\n",
    "    rsp_buf, rssi, status = radio_receive_msg(radio, MAX_RECV, MAX_WAIT)\n",
    "    if(rsp_buf):\n",
    "#\n",
    "        print(len(rsp_buf),hexlify(rsp_buf))\n",
    "        rsp_obj = TagMessage(rsp_buf)\n",
    "        print(\"{} {:^10} state: {}, {}\".format(rsp_obj.header.options.param.error_code, \\\n",
    "                                                         which, rsp_obj.payload[1].value(),       \\\n",
    "                                                         rsp_obj.payload[0]))\n",
    "    sleep(.1)"
   ]
  },
  {
   "cell_type": "code",
   "execution_count": null,
   "metadata": {},
   "outputs": [],
   "source": [
    "STOP"
   ]
  },
  {
   "cell_type": "markdown",
   "metadata": {},
   "source": [
    "## Get Directory"
   ]
  },
  {
   "cell_type": "code",
   "execution_count": null,
   "metadata": {},
   "outputs": [],
   "source": [
    "get_directory()"
   ]
  },
  {
   "cell_type": "markdown",
   "metadata": {},
   "source": [
    "## Get Versions"
   ]
  },
  {
   "cell_type": "code",
   "execution_count": null,
   "metadata": {},
   "outputs": [],
   "source": [
    "get_version('active')"
   ]
  },
  {
   "cell_type": "code",
   "execution_count": null,
   "metadata": {},
   "outputs": [],
   "source": [
    "get_version('backup')"
   ]
  },
  {
   "cell_type": "code",
   "execution_count": null,
   "metadata": {},
   "outputs": [],
   "source": [
    "get_version('golden')"
   ]
  },
  {
   "cell_type": "code",
   "execution_count": null,
   "metadata": {},
   "outputs": [],
   "source": [
    "get_version('nib')"
   ]
  },
  {
   "cell_type": "code",
   "execution_count": null,
   "metadata": {},
   "outputs": [],
   "source": [
    "get_version('running')"
   ]
  },
  {
   "cell_type": "code",
   "execution_count": null,
   "metadata": {},
   "outputs": [],
   "source": [
    "rsp_buf=bytearray(unhexlify(\"2691801a0506ffffffffffff0103746167010373797301066163746976650a0480010200010161\"))\n",
    "rsp_buf=bytearray(unhexlify(\"1c9088190506ffffffffffff0103746167010273640201000103696d67\"))\n",
    "print(hexlify(rsp_buf))\n",
    "tn = TagMessage(rsp_buf)\n",
    "print(tn.name)\n",
    "print(tn.payload)"
   ]
  },
  {
   "cell_type": "markdown",
   "metadata": {},
   "source": [
    "## Def Set Active/Backup Version"
   ]
  },
  {
   "cell_type": "code",
   "execution_count": null,
   "metadata": {},
   "outputs": [],
   "source": [
    "#\"tag\"\t\"sys\"\t<node_id>\t\"which\"\n",
    "def set_version(which, version):\n",
    "    set_name = TagName ([\n",
    "                TagTlv(tlv_types.NODE_ID, -1),\n",
    "                TagTlv('tag'),\n",
    "                TagTlv('sys'),\n",
    "                TagTlv(which),\n",
    "                TagTlv(tlv_types.VERSION, version)])\n",
    "    set_obj = TagPut(set_name)\n",
    "#    print(set_obj.name)\n",
    "    set_msg = set_obj.build()\n",
    "    radio_send_msg(radio, set_msg, RADIO_POWER);\n",
    "    rsp_buf, rssi, status = si446x_device_receive_msg(radio, MAX_RECV, 5)\n",
    "    if(rsp_buf):\n",
    "#        print(hexlify(rsp_buf))\n",
    "        rsp_obj = TagMessage(rsp_buf)\n",
    "#        print(rsp_obj.header)\n",
    "        if (rsp_obj.payload):\n",
    "            print(\"{}: state: {}, {}\".format(rsp_obj.header.options.param.error_code, rsp_obj.payload[1].value(), rsp_obj.payload[0]))\n",
    "        else:\n",
    "            print(\"{}\".format(rsp_obj.header.options.param.error_code))"
   ]
  },
  {
   "cell_type": "markdown",
   "metadata": {},
   "source": [
    "## Set Active Version"
   ]
  },
  {
   "cell_type": "code",
   "execution_count": null,
   "metadata": {},
   "outputs": [],
   "source": [
    "set_version('active', (118, 1, 0))"
   ]
  },
  {
   "cell_type": "markdown",
   "metadata": {},
   "source": [
    "## Set Backup Version"
   ]
  },
  {
   "cell_type": "code",
   "execution_count": null,
   "metadata": {},
   "outputs": [],
   "source": [
    "set_version('backup', (112, 1, 0))"
   ]
  },
  {
   "cell_type": "markdown",
   "metadata": {},
   "source": [
    "## Reboot Running Version"
   ]
  },
  {
   "cell_type": "code",
   "execution_count": null,
   "metadata": {},
   "outputs": [],
   "source": [
    "set_version('running', (116, 1, 0))"
   ]
  },
  {
   "cell_type": "markdown",
   "metadata": {},
   "source": [
    "## Reboot NIB"
   ]
  },
  {
   "cell_type": "code",
   "execution_count": null,
   "metadata": {},
   "outputs": [],
   "source": [
    "set_version('nib', (115, 1, 0))"
   ]
  },
  {
   "cell_type": "markdown",
   "metadata": {},
   "source": [
    "## Reboot Golden"
   ]
  },
  {
   "cell_type": "code",
   "execution_count": null,
   "metadata": {},
   "outputs": [],
   "source": [
    "set_version('golden', (117, 1, 0))"
   ]
  },
  {
   "cell_type": "markdown",
   "metadata": {},
   "source": [
    "## Delete Version"
   ]
  },
  {
   "cell_type": "code",
   "execution_count": null,
   "metadata": {},
   "outputs": [],
   "source": [
    "#\"tag\"  \"sd\"    <node_id>   \"img\"   <version>\n",
    "def delete_image(version):\n",
    "    delete_image_name = TagName ([\n",
    "                TagTlv(tlv_types.NODE_ID, -1),\n",
    "                TagTlv('tag'),\n",
    "                TagTlv('sd'),\n",
    "                TagTlv(0),\n",
    "                TagTlv('img'),\n",
    "                TagTlv(tlv_types.VERSION, version)])\n",
    "    delete_info = TagDelete(delete_image_name)\n",
    "    #print(delete_info.header)\n",
    "    print(delete_info.name)\n",
    "    delete_msg = delete_info.build()\n",
    "    radio_send_msg(radio, delete_msg, RADIO_POWER);\n",
    "    rsp_buf, rssi, status = si446x_device_receive_msg(radio, MAX_RECV, 5)\n",
    "    if(rsp_buf):\n",
    "#    print(hexlify(rsp_buf))\n",
    "        rsp_obj = TagMessage(rsp_buf)\n",
    "#    print(rsp_obj.header.options.param.error_code)\n",
    "#    print(rsp_obj.payload)\n",
    "        if (rsp_obj.payload):\n",
    "            print(\"{}: state: {}, {}\".format(rsp_obj.header.options.param.error_code, rsp_obj.payload[1].value(), rsp_obj.payload[0]))\n",
    "        else:\n",
    "            print(\"{}\".format(rsp_obj.header.options.param.error_code))"
   ]
  },
  {
   "cell_type": "code",
   "execution_count": null,
   "metadata": {},
   "outputs": [],
   "source": [
    "delete_image((383, 2, 0))"
   ]
  },
  {
   "cell_type": "markdown",
   "metadata": {},
   "source": [
    "## Get Chip Status"
   ]
  },
  {
   "cell_type": "code",
   "execution_count": null,
   "metadata": {},
   "outputs": [],
   "source": [
    "print(radio.get_chip_status())"
   ]
  },
  {
   "cell_type": "markdown",
   "metadata": {},
   "source": [
    "## Interactive Group Properties"
   ]
  },
  {
   "cell_type": "code",
   "execution_count": null,
   "metadata": {
    "scrolled": true
   },
   "outputs": [],
   "source": [
    "from ipywidgets import interact\n",
    "interact(si446x_device_group_fetch_and_decode, group=radio_config_group_ids.encoding)"
   ]
  },
  {
   "cell_type": "markdown",
   "metadata": {},
   "source": [
    "## Interactive  Command Status Responses"
   ]
  },
  {
   "cell_type": "code",
   "execution_count": null,
   "metadata": {},
   "outputs": [],
   "source": [
    "interact(si446x_device_command_fetch_and_decode, cmd=radio_status_cmd_ids.encoding)"
   ]
  },
  {
   "cell_type": "code",
   "execution_count": null,
   "metadata": {},
   "outputs": [],
   "source": [
    "from datetime import datetime\n",
    "datetime.now()"
   ]
  },
  {
   "cell_type": "markdown",
   "metadata": {},
   "source": [
    "## Examine Radio Trace Buffer"
   ]
  },
  {
   "cell_type": "code",
   "execution_count": null,
   "metadata": {
    "scrolled": false
   },
   "outputs": [],
   "source": [
    "radio.trace.display(radio.trace.filter())"
   ]
  }
 ],
 "metadata": {
  "kernelspec": {
   "display_name": "Python 2",
   "language": "python",
   "name": "python2"
  },
  "language_info": {
   "codemirror_mode": {
    "name": "ipython",
    "version": 2
   },
   "file_extension": ".py",
   "mimetype": "text/x-python",
   "name": "python",
   "nbconvert_exporter": "python",
   "pygments_lexer": "ipython2",
   "version": "2.7.13"
  }
 },
 "nbformat": 4,
 "nbformat_minor": 2
}
