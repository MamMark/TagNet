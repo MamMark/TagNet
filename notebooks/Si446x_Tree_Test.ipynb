{
 "cells": [
  {
   "cell_type": "code",
   "execution_count": null,
   "metadata": {},
   "outputs": [],
   "source": [
    "from __future__ import print_function, absolute_import, division\n",
    "\n",
    "import logging\n",
    "import os\n",
    "import sys\n",
    "from collections import defaultdict, OrderedDict\n",
    "from errno import ENOENT, ENODATA\n",
    "from stat import S_IFDIR, S_IFLNK, S_IFREG\n",
    "from sys import argv, exit, path\n",
    "from time import time\n",
    "\n",
    "from fuse import FUSE, FuseOSError, Operations, LoggingMixIn\n",
    "\n",
    "# zzz \n",
    "sys.path.append(\"../tagfuse/tagfuse\")\n",
    "print(os.getcwd())\n",
    "print(path)\n",
    "from Si446xUtils import si446x_device_enable, path2tlvs\n",
    "from taghandlers import *\n",
    "from TagFuseTree import TagFuseFileTree\n",
    "\n",
    "if not hasattr(__builtins__, 'bytes'):\n",
    "    bytes = str"
   ]
  },
  {
   "cell_type": "code",
   "execution_count": null,
   "metadata": {},
   "outputs": [],
   "source": [
    "radio = si446x_device_enable()"
   ]
  },
  {
   "cell_type": "code",
   "execution_count": null,
   "metadata": {
    "collapsed": true
   },
   "outputs": [],
   "source": [
    "# default paramters\n",
    "MAX_WAIT            = 10\n",
    "MAX_RECV            = 255\n",
    "MAX_PAYLOAD         = 254\n",
    "MAX_RETRIES         = 10\n",
    "RADIO_POWER         = 100\n",
    "SHORT_DELAY         = 0\n",
    "from datetime import datetime"
   ]
  },
  {
   "cell_type": "code",
   "execution_count": null,
   "metadata": {
    "collapsed": true
   },
   "outputs": [],
   "source": [
    "def path2list(path):\n",
    "    path = os.path.abspath(os.path.realpath(path))\n",
    "    return path.split('/')[1:]\n",
    "\n",
    "def LocateNode(tag_tree, path):\n",
    "    if (path == '/'):\n",
    "        print('located root')\n",
    "        return tag_tree\n",
    "    return tag_tree.traverse(path2list(path), 0)\n",
    "\n",
    "def DeleteNode(path, node):\n",
    "    pass"
   ]
  },
  {
   "cell_type": "code",
   "execution_count": null,
   "metadata": {},
   "outputs": [],
   "source": [
    "tag_tree = PollNetDirHandler(radio, OrderedDict([\n",
    "            ('',                       FileHandler(S_IFDIR, 0o751, 3)),\n",
    "            ('<node_id:0xffffffffffff>', TagFuseFileTree(radio)),\n",
    "            ]))"
   ]
  },
  {
   "cell_type": "code",
   "execution_count": null,
   "metadata": {
    "scrolled": true
   },
   "outputs": [],
   "source": [
    "print(tag_tree)"
   ]
  },
  {
   "cell_type": "code",
   "execution_count": null,
   "metadata": {},
   "outputs": [],
   "source": [
    "path='/<node_id:0xffffffffffff>/tag/sd/0/dblk/byte/0'\n",
    "handler = LocateNode(tag_tree, path)\n",
    "print(handler)"
   ]
  },
  {
   "cell_type": "code",
   "execution_count": null,
   "metadata": {},
   "outputs": [],
   "source": [
    "handler.getattr(path2list(path), update=True)"
   ]
  },
  {
   "cell_type": "code",
   "execution_count": null,
   "metadata": {},
   "outputs": [],
   "source": [
    "path='/<node_id:0xffffffffffff>/tag/sd/0/panic/byte/0'\n",
    "handler = LocateNode(tag_tree, path)\n",
    "handler.getattr(path2list(path), update=True)"
   ]
  },
  {
   "cell_type": "code",
   "execution_count": null,
   "metadata": {},
   "outputs": [],
   "source": [
    "path2tlvs(['<gps:(1,2,3)>'])"
   ]
  },
  {
   "cell_type": "code",
   "execution_count": null,
   "metadata": {},
   "outputs": [],
   "source": [
    "STOP"
   ]
  },
  {
   "cell_type": "code",
   "execution_count": null,
   "metadata": {
    "collapsed": true
   },
   "outputs": [],
   "source": []
  },
  {
   "cell_type": "code",
   "execution_count": null,
   "metadata": {
    "collapsed": true
   },
   "outputs": [],
   "source": []
  },
  {
   "cell_type": "code",
   "execution_count": null,
   "metadata": {
    "collapsed": true
   },
   "outputs": [],
   "source": []
  },
  {
   "cell_type": "code",
   "execution_count": null,
   "metadata": {
    "collapsed": true
   },
   "outputs": [],
   "source": [
    "BLOCK_SIZE = 512\n",
    "def verify_file(radio, check_fname, dev, unit, skip=0):\n",
    "    with open(check_fname, 'rb') as fd:\n",
    "        start  = datetime.now()\n",
    "        eof    = False\n",
    "        offset  = 0\n",
    "        while not eof:\n",
    "            fd.seek(offset+skip)\n",
    "            dbuf = bytearray(fd.read(BLOCK_SIZE))\n",
    "            sbuf, eof = file_get_bytes(radio, dev, unit, BLOCK_SIZE, offset)\n",
    "            if sbuf:\n",
    "                for ix in range(len(sbuf)):\n",
    "                    if sbuf[ix] != dbuf[ix]:\n",
    "                        print(hexlify(sbuf))\n",
    "                        print(hexlify(dbuf))\n",
    "                        print(\"\\r{} mismatch: offset:{}, {}/{}\".format(datetime.now() - start,\n",
    "                                                            offset+ix,\n",
    "                                                            hexlify(sbuf[ix-4:ix+4]),\n",
    "                                                            hexlify(dbuf[ix-4:ix+4])))\n",
    "                        break\n",
    "                offset += len(sbuf)\n",
    "            elif not eof:\n",
    "                print(\"\\r{} {}\".format(datetime.now() - start, 'timeout'), end=\"\")\n",
    "            sleep(0)\n",
    "            print(\"\\r{} {}\".format(datetime.now() - start, offset), end=\"\")\n",
    "    print(\"\\ntime: {}, offset: {}\".format(datetime.now() - start, offset))"
   ]
  },
  {
   "cell_type": "code",
   "execution_count": null,
   "metadata": {
    "collapsed": true
   },
   "outputs": [],
   "source": [
    "verify_file(radio, '/home/pi/o/mm/dblk.data', 'dblk', '0')"
   ]
  },
  {
   "cell_type": "code",
   "execution_count": null,
   "metadata": {
    "collapsed": true
   },
   "outputs": [],
   "source": [
    "verify_file(radio, '/home/pi/o/mm/panic.data', 'panic', '2', skip=512)"
   ]
  },
  {
   "cell_type": "code",
   "execution_count": null,
   "metadata": {
    "collapsed": true
   },
   "outputs": [],
   "source": [
    "dblk_put_note(radio, 'hello')"
   ]
  },
  {
   "cell_type": "code",
   "execution_count": null,
   "metadata": {
    "collapsed": true
   },
   "outputs": [],
   "source": [
    "file_update_attrs(radio, ['panic', 'byte', 3], {})"
   ]
  },
  {
   "cell_type": "code",
   "execution_count": null,
   "metadata": {
    "collapsed": true
   },
   "outputs": [],
   "source": [
    "file_update_attrs(radio, ['dblk', 'byte', '0'], {})"
   ]
  },
  {
   "cell_type": "code",
   "execution_count": null,
   "metadata": {
    "collapsed": true
   },
   "outputs": [],
   "source": [
    "file_update_attrs(radio, ['dblk', 'note'], {})"
   ]
  }
 ],
 "metadata": {
  "kernelspec": {
   "display_name": "Python 2",
   "language": "python",
   "name": "python2"
  },
  "language_info": {
   "codemirror_mode": {
    "name": "ipython",
    "version": 2
   },
   "file_extension": ".py",
   "mimetype": "text/x-python",
   "name": "python",
   "nbconvert_exporter": "python",
   "pygments_lexer": "ipython2",
   "version": "2.7.9"
  }
 },
 "nbformat": 4,
 "nbformat_minor": 2
}
