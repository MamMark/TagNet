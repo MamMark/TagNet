{
 "cells": [
  {
   "cell_type": "markdown",
   "metadata": {},
   "source": [
    "# Si446x Device Direct Access TagNet Software Image Load"
   ]
  },
  {
   "cell_type": "code",
   "execution_count": null,
   "metadata": {
    "collapsed": true
   },
   "outputs": [],
   "source": [
    "from __future__ import print_function\n",
    "from builtins import *                  # python3 types\n",
    "from time import sleep\n",
    "from datetime import datetime\n",
    "import struct as pystruct\n",
    "from binascii import hexlify\n",
    "import os.path"
   ]
  },
  {
   "cell_type": "code",
   "execution_count": null,
   "metadata": {
    "scrolled": true
   },
   "outputs": [],
   "source": [
    "!pwd\n",
    "%autosave 0\n",
    "import sys\n",
    "sys.path.append(\"../si446x/si446x\")\n",
    "%run '../si446x/si446x/notebooks/si446x_Device_Layer.ipynb'"
   ]
  },
  {
   "cell_type": "code",
   "execution_count": null,
   "metadata": {
    "collapsed": true
   },
   "outputs": [],
   "source": [
    "import sys\n",
    "sys.path.append(\"../tagnet/tagnet\")\n",
    "from tagmessages import TagMessage, TagPoll, TagGet, TagPut, TagHead\n",
    "from tagnames import TagName\n",
    "from tagtlv import TagTlv, TagTlvList, tlv_types"
   ]
  },
  {
   "cell_type": "code",
   "execution_count": null,
   "metadata": {},
   "outputs": [],
   "source": [
    "import datetime\n",
    "print('Test Start Time: {}'.format(datetime.datetime.now()))\n",
    "print('Si446x Radio Device Driver Version: {}'.format(si446x_device_version()))"
   ]
  },
  {
   "cell_type": "markdown",
   "metadata": {},
   "source": [
    "##  Start up Radio"
   ]
  },
  {
   "cell_type": "code",
   "execution_count": null,
   "metadata": {
    "scrolled": true
   },
   "outputs": [],
   "source": [
    "radio = si446x_device_start_radio()"
   ]
  },
  {
   "cell_type": "code",
   "execution_count": null,
   "metadata": {
    "scrolled": false
   },
   "outputs": [],
   "source": [
    "si446x_device_show_config(radio.dump_radio())"
   ]
  },
  {
   "cell_type": "markdown",
   "metadata": {},
   "source": [
    "## Check for Command Error"
   ]
  },
  {
   "cell_type": "code",
   "execution_count": null,
   "metadata": {
    "collapsed": true
   },
   "outputs": [],
   "source": [
    "status = radio.get_chip_status()\n",
    "if (status.chip_pend.CMD_ERROR):\n",
    "    print(status)"
   ]
  },
  {
   "cell_type": "markdown",
   "metadata": {},
   "source": [
    "##  Configure Radio"
   ]
  },
  {
   "cell_type": "code",
   "execution_count": null,
   "metadata": {
    "scrolled": true
   },
   "outputs": [],
   "source": [
    "config = si446x_device_config_radio(radio)\n",
    "\n",
    "si446x_device_show_config(radio.dump_radio())\n",
    "total = 0\n",
    "print('\\n=== const config strings:')\n",
    "for s in config:\n",
    "    print((hexlify(s)))\n",
    "    total += len(s) - 4\n",
    "print('\\n total: {}'.format(total))"
   ]
  },
  {
   "cell_type": "markdown",
   "metadata": {},
   "source": [
    "## Transfer Software Image using TagNet"
   ]
  },
  {
   "cell_type": "markdown",
   "metadata": {},
   "source": [
    "### Image Info description\n",
    "Image Description Information stored in the Image File"
   ]
  },
  {
   "cell_type": "code",
   "execution_count": null,
   "metadata": {
    "collapsed": true
   },
   "outputs": [],
   "source": [
    "filename    = '/tmp/test.bin'"
   ]
  },
  {
   "cell_type": "raw",
   "metadata": {},
   "source": [
    "C structures from TAG code define image info metadata\n",
    "\n",
    "typedef struct {                        /* little endian order  */\n",
    "  uint16_t build;                       /* that's native for us */\n",
    "  uint8_t  minor;\n",
    "  uint8_t  major;\n",
    "} image_ver_t;\n",
    "\n",
    "typedef struct {\n",
    "  uint8_t  hw_rev;\n",
    "  uint8_t  hw_model;\n",
    "} hw_ver_t;\n",
    "\n",
    "typedef struct {\n",
    "  uint32_t    sig;                      /* must be IMAGE_INFO_SIG to be valid */\n",
    "  uint32_t    image_start;              /* where this binary loads            */\n",
    "  uint32_t    image_length;             /* byte length of entire image        */\n",
    "  uint32_t    vector_chk;               /* simple checksum over vector table  */\n",
    "  uint32_t    image_chk;                /* simple checksum over entire image  */\n",
    "  image_ver_t ver_id;\n",
    "  hw_ver_t    hw_ver;\n",
    "} image_info_t;"
   ]
  },
  {
   "cell_type": "code",
   "execution_count": null,
   "metadata": {
    "collapsed": true
   },
   "outputs": [],
   "source": [
    "#  IMAGE_INFO provides information about a Tag software image. This data is\n",
    "#  embedded in the image itself. The IMAGE_META_OFFSET is the offset into\n",
    "#  the image where image_info lives in the image.  It directly follows the\n",
    "#  exception vectors which are 0x140 bytes long.\n",
    "# \n",
    "#  This struct will have to change, If MSP432 vector table length changes.\n",
    "# \n",
    "IMAGE_INFO_SIG = 0x33275401\n",
    "IMAGE_META_OFFSET = 0x140\n",
    "IMAGE_INFO_DEFAULT = [IMAGE_INFO_SIG, 0x20000, (0x140*2)+0x1c, 0, 0, 257, 2, 3, ' '  * 40, ' '  * 40, ' '  * 30, 0xde, 2]\n",
    "#\n",
    "# Struct created for accessing image info (little indian)\n",
    "# sig, image_start, imagelength, vector_chk, image_chk, im_build, im_minor, im_major, main_tree, aux_tree, build_time, im_rev, im_model = image_info\n",
    "#\n",
    "IM_FIELDS = '<LLLLLHBB40s40s30sBB'\n",
    "image_info_struct = pystruct.Struct(IM_FIELDS)\n",
    "IMAGE_MIN_SIZE  =  (IMAGE_META_OFFSET + image_info_struct.size)"
   ]
  },
  {
   "cell_type": "code",
   "execution_count": null,
   "metadata": {},
   "outputs": [],
   "source": [
    "# write out simple default binary input file for testing purposes\n",
    "#\n",
    "if not os.path.isfile(filename):\n",
    "    with open(filename,'wb') as outfile:\n",
    "        buf = bytearray(IMAGE_META_OFFSET)\n",
    "        for x in range(1,IMAGE_META_OFFSET): buf[x] = x & 0x7f\n",
    "        outfile.write(buf)\n",
    "        outfile.write(bytearray(image_info_struct.pack(*IMAGE_INFO_DEFAULT)))\n",
    "        for i in range(64):\n",
    "            for x in range(256): buf[x] = x & 0x7f\n",
    "            outfile.write(buf)"
   ]
  },
  {
   "cell_type": "code",
   "execution_count": null,
   "metadata": {
    "collapsed": true
   },
   "outputs": [],
   "source": []
  },
  {
   "cell_type": "markdown",
   "metadata": {},
   "source": [
    "### utility routines for handling image load"
   ]
  },
  {
   "cell_type": "code",
   "execution_count": null,
   "metadata": {
    "collapsed": true
   },
   "outputs": [],
   "source": [
    "# debug flags\n",
    "PRINT_MAX = 80"
   ]
  },
  {
   "cell_type": "code",
   "execution_count": null,
   "metadata": {
    "collapsed": true,
    "scrolled": true
   },
   "outputs": [],
   "source": [
    "# default paramters\n",
    "MAX_WAIT            = 3\n",
    "MAX_RECV            = 255\n",
    "MAX_PAYLOAD         = 254\n",
    "MAX_RETRIES         = 5\n",
    "\n",
    "RADIO_POWER         = 10\n",
    "SHORT_DELAY         = .2"
   ]
  },
  {
   "cell_type": "code",
   "execution_count": null,
   "metadata": {
    "collapsed": true
   },
   "outputs": [],
   "source": [
    "# build Image PUT Request\n",
    "def im_send_request(fd, write_max, vers, eof=False):\n",
    "    # base image name\n",
    "    req_name = TagName ('/tag/sd') \\\n",
    "                + TagTlv(tlv_types.NODE_ID, -1) \\\n",
    "                + TagTlv(0) \\\n",
    "                + TagTlv('img') \\\n",
    "                + TagTlv(tlv_types.VERSION, vers)\n",
    "\n",
    "    # optionally add offset to name\n",
    "    if (fd.tell() > 0):\n",
    "        req_name = req_name + TagTlv(tlv_types.OFFSET, fd.tell())\n",
    "\n",
    "    # build the PUT mesage object\n",
    "    req_obj = TagPut(req_name)\n",
    "\n",
    "    # optionally add payload\n",
    "    if eof:\n",
    "        # send end of file indication\n",
    "        pload = TagTlvList([TagTlv(tlv_types.EOF)])\n",
    "    elif (fd.tell() < write_max):\n",
    "        # determine payload size to send and read it\n",
    "        chunk_size = MAX_PAYLOAD - req_obj.pkt_len()\n",
    "        if ((file_size - fd.tell()) < chunk_size):\n",
    "            chunk_size = file_size - fd.tell()\n",
    "        pload = bytearray(fd.read(chunk_size))\n",
    "    # else\n",
    "        # just send without payload\n",
    "    \n",
    "    # print out details of request\n",
    "    print(\"REQUEST MSG\")\n",
    "    print(req_obj.header)\n",
    "    print(req_obj.name)\n",
    "    if (pload is not None):\n",
    "        req_obj.payload = pload\n",
    "    req_msg = req_obj.build()\n",
    "    print(\"   msg len: {},  payload len: {}\".format(len(req_msg), len(pload)))\n",
    "#    print(\"   \", hexlify(req_msg[:PRINT_MAX]),\"...\", hexlify(req_msg[-PRINT_MAX:]))\n",
    "    \n",
    "    # send request msg\n",
    "    si446x_device_send_msg(radio, req_msg, RADIO_POWER);\n",
    "    del req_name\n",
    "    return req_obj, req_msg, len(pload)"
   ]
  },
  {
   "cell_type": "code",
   "execution_count": null,
   "metadata": {},
   "outputs": [],
   "source": [
    "req_name = TagName ('/tag/sd') \\\n",
    "                + TagTlv(tlv_types.NODE_ID, -1) \\\n",
    "                + TagTlv(0) \\\n",
    "                + TagTlv('img') \\\n",
    "                + TagTlv(tlv_types.VERSION, (0,0,0))\n",
    "req_obj = TagPut(req_name)\n",
    "req_obj.payload = TagTlvList([TagTlv(tlv_types.EOF)])\n",
    "req_msg = req_obj.build()\n",
    "#print(hexlify(req_msg))"
   ]
  },
  {
   "cell_type": "code",
   "execution_count": null,
   "metadata": {
    "collapsed": true
   },
   "outputs": [],
   "source": [
    "def im_get_response(fd):\n",
    "    rsp_buf, rssi, status = si446x_device_receive_msg(radio, MAX_RECV, MAX_WAIT)\n",
    "    if (not rsp_buf):\n",
    "        return None, None, 0\n",
    "    rsp_obj = TagMessage(rsp_buf)\n",
    "    # get offset\n",
    "    offset = -1\n",
    "    if (rsp_obj.payload) and (rsp_obj.payload[0].tlv_type() == tlv_types.OFFSET):\n",
    "        offset = rsp_obj.payload[0].value()\n",
    "\n",
    "    # print out details of response\n",
    "    print(\"RESPONSE MSG\")\n",
    "    print(rsp_obj.header)\n",
    "    print(rsp_obj.name)\n",
    "    if (rsp_obj.payload):\n",
    "        print(rsp_obj.payload)\n",
    "        print(\"   offset: {}, msg len: {},  payload len: {}, rssi: {}\".format(offset, len(rsp_buf), 0, rssi))\n",
    "#        print(\"   \", hexlify(rsp_buf[:PRINT_MAX]),\"...\", hexlify(rsp_buf[-PRINT_MAX:]))\n",
    "    return rsp_obj, rsp_buf, offset;"
   ]
  },
  {
   "cell_type": "markdown",
   "metadata": {},
   "source": [
    "### main funtion for transfer of image to tag"
   ]
  },
  {
   "cell_type": "code",
   "execution_count": null,
   "metadata": {
    "scrolled": true
   },
   "outputs": [],
   "source": [
    "radio.trace._enable()\n",
    "\n",
    "# set rssi control (enable latch, average4, latch on sync)\n",
    "prp         = bytearray('0x22')\n",
    "radio.set_property('MODEM', 0x4c, prp) \n",
    "\n",
    "\n",
    "# tx/rx threshold\n",
    "#prp = bytearray('\\x20\\x20')\n",
    "#radio.set_property('PKT', 0x0b, prp)\n",
    "\n",
    "from datetime import datetime\n",
    "start = datetime.now()\n",
    "print(start)\n",
    "\n",
    "class RadioLoadException(Exception):\n",
    "    pass\n",
    "\n",
    "try:\n",
    "    # open input file and determine its length\n",
    "    infile = open(filename, 'rb')\n",
    "    infile.seek(0, 2) # seek to the end\n",
    "    file_size = infile.tell()\n",
    "    if file_size < IMAGE_MIN_SIZE: raise RadioLoadException(\"input file too short\")\n",
    "    infile.seek(0)    # seek to the beginnnig\n",
    "\n",
    "    # get image info from input file and sanity check\n",
    "    infile.seek(IMAGE_META_OFFSET) # seek to location of image info\n",
    "    image_info = image_info_struct.unpack(infile.read(image_info_struct.size))\n",
    "    print(\"file information\")\n",
    "    sig, image_start, imagelength, vector_chk, image_chk, im_build, im_minor, im_major,\\\n",
    "        main_tree, aux_tree, build_time, im_rev, im_model = image_info\n",
    "    pstr = \"  signature: 0x{:x}, start: 0x{:x}, length: 0x{:x}, vect_chk: 0x{:x}, image_chk: 0x{:x}\"\n",
    "    print(pstr.format(sig, image_start, imagelength, vector_chk, image_chk))\n",
    "    pstr = \"  version: ({}.{}.{}(0x{:x})), rev: {}, model: {}\"\n",
    "    print(pstr.format(im_major, im_minor, im_build, im_build, im_rev, im_model))\n",
    "    if sig != IMAGE_INFO_SIG: raise RadioLoadException(\"image metadata is invalid\")\n",
    "    infile.seek(0)    # seek to the beginnnig\n",
    "\n",
    "    # loop to transfer image data to tag\n",
    "    retries         = 0\n",
    "    total_retries   = 0\n",
    "    packets_sent    = 0\n",
    "    while (file_size - infile.tell() > 0):\n",
    "        print(\"\\n>>>> file size: {}, offset: {}, retries: {}\".format(file_size, infile.tell(), retries))\n",
    "        _, _, plen = im_send_request(infile, file_size, (im_build, im_minor, im_major))\n",
    "        packets_sent += 1\n",
    "        print(\"----\")\n",
    "        rsp_obj, rsp_msg, offset = im_get_response(infile)\n",
    "        # check that offset is expected\n",
    "        if offset != infile.tell():\n",
    "            if (rsp_obj is None): p = \"TIMEOUT\"\n",
    "            else:                 p = \"BAD OFFSET\"\n",
    "            print(\"\\n{}  {}! offset: response {}, expected {}\".format(datetime.now(), p, offset, infile.tell()))\n",
    "            if (offset > 0):\n",
    "                infile.seek(0, offset)\n",
    "            else:\n",
    "                infile.seek(1, -plen)\n",
    "            retries = retries + 1\n",
    "            total_retries = total_retries + 1\n",
    "        else:\n",
    "            retries = 0\n",
    "        if (retries > MAX_RETRIES):\n",
    "            raise RadioLoadException(\"too many retries\")\n",
    "        sleep(SHORT_DELAY)\n",
    "\n",
    "    # send end of file to complete the image load operation\n",
    "    im_send_request(infile, file_size, (im_build, im_minor, im_major), True)\n",
    "    rsp_obj, rsp_msg, offset = im_get_response()\n",
    "\n",
    "    print(\"totals bytes: {}, packets: {} retries: {}\".format(offset, packets_sent, total_retries))\n",
    "\n",
    "except RadioLoadException:\n",
    "    print('terminating')\n",
    "\n",
    "finally:\n",
    "    infile.close()\n",
    "\n",
    "\n",
    "print('\\ndone')"
   ]
  },
  {
   "cell_type": "code",
   "execution_count": null,
   "metadata": {},
   "outputs": [],
   "source": [
    "print(offset)\n",
    "print(rsp_obj.payload[0].value())"
   ]
  },
  {
   "cell_type": "markdown",
   "metadata": {},
   "source": [
    "## Get Directory"
   ]
  },
  {
   "cell_type": "code",
   "execution_count": null,
   "metadata": {
    "collapsed": true
   },
   "outputs": [],
   "source": [
    "image_manager_name = TagName ('/tag/sd') \\\n",
    "                + TagTlv(tlv_types.NODE_ID, -1) \\\n",
    "                + TagTlv(0) \\\n",
    "                + TagTlv('img') \\\n",
    "dir_info = TagGet(image_manager_name)\n",
    "print(dir_info.name)\n",
    "dir_msg = dir_info.build()\n",
    "print(len(dir_msg),hexlify(dir_msg))"
   ]
  },
  {
   "cell_type": "code",
   "execution_count": null,
   "metadata": {
    "collapsed": true
   },
   "outputs": [],
   "source": [
    "l = si446x_device_send_msg(radio, dir_msg, pwr)\n",
    "dir_msg, rssi, status = si446x_device_receive_msg(radio, MAX_RECV, MAX_WAIT)\n",
    "if (dir_msg):\n",
    "    dir_obj = TagMessage(dir_msg)\n",
    "    print(\"DIRECTORY LISTING\")\n",
    "    print(dir_obj.header)\n",
    "    print(obj_obj.name)\n",
    "    print(obj_obj.payload)"
   ]
  },
  {
   "cell_type": "markdown",
   "metadata": {},
   "source": [
    "## Get Chip Status"
   ]
  },
  {
   "cell_type": "code",
   "execution_count": null,
   "metadata": {
    "collapsed": true
   },
   "outputs": [],
   "source": [
    "print(radio.get_chip_status())"
   ]
  },
  {
   "cell_type": "markdown",
   "metadata": {},
   "source": [
    "## Interactive Group Properties"
   ]
  },
  {
   "cell_type": "code",
   "execution_count": null,
   "metadata": {
    "scrolled": true
   },
   "outputs": [],
   "source": [
    "interact(si446x_device_group_fetch_and_decode, group=radio_config_group_ids.encoding)"
   ]
  },
  {
   "cell_type": "markdown",
   "metadata": {},
   "source": [
    "## Interactive  Command Status Responses"
   ]
  },
  {
   "cell_type": "code",
   "execution_count": null,
   "metadata": {
    "collapsed": true
   },
   "outputs": [],
   "source": [
    "interact(si446x_device_command_fetch_and_decode, cmd=radio_status_cmd_ids.encoding)"
   ]
  },
  {
   "cell_type": "code",
   "execution_count": null,
   "metadata": {
    "collapsed": true
   },
   "outputs": [],
   "source": [
    "from datetime import datetime\n",
    "datetime.now()"
   ]
  },
  {
   "cell_type": "code",
   "execution_count": null,
   "metadata": {
    "collapsed": true
   },
   "outputs": [],
   "source": []
  }
 ],
 "metadata": {
  "kernelspec": {
   "display_name": "Python 2",
   "language": "python",
   "name": "python2"
  },
  "language_info": {
   "codemirror_mode": {
    "name": "ipython",
    "version": 2
   },
   "file_extension": ".py",
   "mimetype": "text/x-python",
   "name": "python",
   "nbconvert_exporter": "python",
   "pygments_lexer": "ipython2",
   "version": "2.7.9"
  }
 },
 "nbformat": 4,
 "nbformat_minor": 2
}
