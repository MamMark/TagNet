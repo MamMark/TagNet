{
 "cells": [
  {
   "cell_type": "markdown",
   "metadata": {},
   "source": [
    "# Si446x Device Direct Access Byte File (Dblk and Panic)"
   ]
  },
  {
   "cell_type": "code",
   "execution_count": null,
   "metadata": {
    "collapsed": true
   },
   "outputs": [],
   "source": [
    "from __future__ import print_function\n",
    "from builtins import *                  # python3 types\n",
    "from time import sleep\n",
    "from datetime import datetime\n",
    "import struct as pystruct\n",
    "from binascii import hexlify\n",
    "import os.path"
   ]
  },
  {
   "cell_type": "code",
   "execution_count": null,
   "metadata": {
    "scrolled": true
   },
   "outputs": [],
   "source": [
    "!pwd\n",
    "%autosave 0\n",
    "import sys\n",
    "sys.path.append(\"../si446x/si446x\")\n",
    "%run '../si446x/si446x/notebooks/si446x_Device_Layer.ipynb'"
   ]
  },
  {
   "cell_type": "code",
   "execution_count": null,
   "metadata": {
    "collapsed": true
   },
   "outputs": [],
   "source": [
    "import sys\n",
    "sys.path.append(\"../tagnet/tagnet\")\n",
    "from tagmessages import TagMessage, TagPoll, TagGet, TagPut, TagDelete, TagHead\n",
    "from tagnames import TagName\n",
    "from tagtlv import TagTlv, TagTlvList, tlv_types"
   ]
  },
  {
   "cell_type": "code",
   "execution_count": null,
   "metadata": {},
   "outputs": [],
   "source": [
    "import datetime\n",
    "print('Test Start Time: {}'.format(datetime.datetime.now()))\n",
    "print('Si446x Radio Device Driver Version: {}'.format(si446x_device_version()))"
   ]
  },
  {
   "cell_type": "code",
   "execution_count": null,
   "metadata": {},
   "outputs": [],
   "source": [
    "sys.path.append(\"../tagfuse/tagfuse\")\n",
    "from Si446xFile import si446x_device_enable, file_get_bytes, file_put_bytes, file_update_attrs, dblk_put_note"
   ]
  },
  {
   "cell_type": "markdown",
   "metadata": {},
   "source": [
    "##  Start up and Radio"
   ]
  },
  {
   "cell_type": "code",
   "execution_count": null,
   "metadata": {
    "scrolled": true
   },
   "outputs": [],
   "source": [
    "radio = si446x_device_enable()"
   ]
  },
  {
   "cell_type": "markdown",
   "metadata": {},
   "source": [
    "## File Data Verification"
   ]
  },
  {
   "cell_type": "code",
   "execution_count": null,
   "metadata": {
    "collapsed": true
   },
   "outputs": [],
   "source": [
    "# default paramters\n",
    "MAX_WAIT            = 10\n",
    "MAX_RECV            = 255\n",
    "MAX_PAYLOAD         = 254\n",
    "MAX_RETRIES         = 10\n",
    "RADIO_POWER         = 100\n",
    "SHORT_DELAY         = 0\n",
    "from datetime import datetime"
   ]
  },
  {
   "cell_type": "code",
   "execution_count": null,
   "metadata": {
    "scrolled": true
   },
   "outputs": [],
   "source": [
    "BLOCK_SIZE = 512\n",
    "def verify_file(radio, check_fname, dev, unit, skip=0):\n",
    "    with open(check_fname, 'rb') as fd:\n",
    "        start  = datetime.now()\n",
    "        eof    = False\n",
    "        offset  = 0\n",
    "        while not eof:\n",
    "            fd.seek(offset+skip)\n",
    "            dbuf = bytearray(fd.read(BLOCK_SIZE))\n",
    "            sbuf, eof = file_get_bytes(radio, dev, unit, BLOCK_SIZE, offset)\n",
    "            if sbuf:\n",
    "                for ix in range(len(sbuf)):\n",
    "                    if sbuf[ix] != dbuf[ix]:\n",
    "                        print(hexlify(sbuf))\n",
    "                        print(hexlify(dbuf))\n",
    "                        print(\"\\r{} mismatch: offset:{}, {}/{}\".format(datetime.now() - start,\n",
    "                                                            offset+ix,\n",
    "                                                            hexlify(sbuf[ix-4:ix+4]),\n",
    "                                                            hexlify(dbuf[ix-4:ix+4])))\n",
    "                        break\n",
    "                offset += len(sbuf)\n",
    "            elif not eof:\n",
    "                print(\"\\r{} {}\".format(datetime.now() - start, 'timeout'), end=\"\")\n",
    "            sleep(0)\n",
    "            print(\"\\r{} {}\".format(datetime.now() - start, offset), end=\"\")\n",
    "    print(\"\\ntime: {}, offset: {}\".format(datetime.now() - start, offset))"
   ]
  },
  {
   "cell_type": "code",
   "execution_count": null,
   "metadata": {},
   "outputs": [],
   "source": [
    "STOP"
   ]
  },
  {
   "cell_type": "markdown",
   "metadata": {},
   "source": [
    "## Verify Dblk File"
   ]
  },
  {
   "cell_type": "code",
   "execution_count": null,
   "metadata": {
    "scrolled": true
   },
   "outputs": [],
   "source": [
    "verify_file(radio, '/home/pi/o/mm/dblk.data', 'dblk', '0')"
   ]
  },
  {
   "cell_type": "markdown",
   "metadata": {},
   "source": [
    "## Verify Panic File"
   ]
  },
  {
   "cell_type": "code",
   "execution_count": null,
   "metadata": {
    "scrolled": true
   },
   "outputs": [],
   "source": [
    "verify_file(radio, '/home/pi/o/mm/panic.data', 'panic', '2', skip=512)"
   ]
  },
  {
   "cell_type": "markdown",
   "metadata": {},
   "source": [
    "## Put Note"
   ]
  },
  {
   "cell_type": "code",
   "execution_count": null,
   "metadata": {},
   "outputs": [],
   "source": [
    "dblk_put_note(radio, 'hello')"
   ]
  },
  {
   "cell_type": "markdown",
   "metadata": {},
   "source": [
    "## Update File Status"
   ]
  },
  {
   "cell_type": "code",
   "execution_count": null,
   "metadata": {},
   "outputs": [],
   "source": [
    "file_update_attrs(radio, ['panic', 'byte', 3], {})"
   ]
  },
  {
   "cell_type": "code",
   "execution_count": null,
   "metadata": {},
   "outputs": [],
   "source": [
    "file_update_attrs(radio, ['dblk', 'byte', '0'], {})"
   ]
  },
  {
   "cell_type": "code",
   "execution_count": null,
   "metadata": {},
   "outputs": [],
   "source": [
    "file_update_attrs(radio, ['dblk', 'note'], {})"
   ]
  },
  {
   "cell_type": "markdown",
   "metadata": {},
   "source": [
    "## Extra"
   ]
  },
  {
   "cell_type": "code",
   "execution_count": null,
   "metadata": {
    "collapsed": true
   },
   "outputs": [],
   "source": [
    "STOP"
   ]
  },
  {
   "cell_type": "code",
   "execution_count": null,
   "metadata": {},
   "outputs": [],
   "source": [
    "buf, eof = file_get_bytes(radio, 'dblk', 0, 512, 512*4)"
   ]
  },
  {
   "cell_type": "code",
   "execution_count": null,
   "metadata": {},
   "outputs": [],
   "source": [
    "print(len(buf), eof)"
   ]
  },
  {
   "cell_type": "code",
   "execution_count": null,
   "metadata": {},
   "outputs": [],
   "source": [
    "print(hexlify(buf))"
   ]
  },
  {
   "cell_type": "code",
   "execution_count": null,
   "metadata": {
    "collapsed": true,
    "scrolled": true
   },
   "outputs": [],
   "source": [
    "BLOCK_SIZE = 512\n",
    "\n",
    "with open('/home/pi/o/mm/dblk.data', 'rb') as fd:\n",
    "    start  = datetime.now()\n",
    "    eof    = False\n",
    "    offset  = 0\n",
    "    while not eof:\n",
    "        fd.seek(offset)\n",
    "        dbuf = bytearray(fd.read(BLOCK_SIZE))\n",
    "        sbuf, eof = dblk_get_bytes(radio, BLOCK_SIZE, offset)\n",
    "        if sbuf:\n",
    "            for ix in range(len(sbuf)):\n",
    "                if sbuf[ix] != dbuf[ix]:\n",
    "                    print(\"\\r{} mismatch: offset:{}, {}/{}\".format(datetime.now() - start,\n",
    "                                                        offset+ix,\n",
    "                                                        hexlify(sbuf[ix-4:ix+4]),\n",
    "                                                        hexlify(dbuf[ix-4:ix+4])))\n",
    "                    break\n",
    "            offset += len(sbuf)\n",
    "        elif not eof:\n",
    "            print(\"\\r{} {}\".format(datetime.now() - start, 'timeout'), end=\"\")\n",
    "        sleep(0)\n",
    "        print(\"\\r{} {}\".format(datetime.now() - start, offset), end=\"\")\n",
    "print(\"\\ntime: {}, offset: {}\".format(datetime.now() - start, offset))"
   ]
  },
  {
   "cell_type": "code",
   "execution_count": null,
   "metadata": {},
   "outputs": [],
   "source": [
    "print(ix, offset)\n",
    "print(hexlify(dbuf))\n",
    "print(hexlify(sbuf))"
   ]
  },
  {
   "cell_type": "code",
   "execution_count": null,
   "metadata": {
    "scrolled": true
   },
   "outputs": [],
   "source": [
    "buf, eof = file_get_bytes(radio, 'panic', 1, 2, 76799)"
   ]
  },
  {
   "cell_type": "code",
   "execution_count": null,
   "metadata": {},
   "outputs": [],
   "source": [
    "print(len(buf), eof)"
   ]
  },
  {
   "cell_type": "code",
   "execution_count": null,
   "metadata": {},
   "outputs": [],
   "source": [
    "print(hexlify(buf))"
   ]
  },
  {
   "cell_type": "markdown",
   "metadata": {},
   "source": [
    "## Get Chip Status"
   ]
  },
  {
   "cell_type": "code",
   "execution_count": null,
   "metadata": {
    "collapsed": true
   },
   "outputs": [],
   "source": [
    "print(radio.get_chip_status())"
   ]
  },
  {
   "cell_type": "markdown",
   "metadata": {},
   "source": [
    "## Get Image Directory"
   ]
  },
  {
   "cell_type": "code",
   "execution_count": null,
   "metadata": {},
   "outputs": [],
   "source": [
    "#<node_id>   \"tag\"  \"sd\"  0  \"img\"\n",
    "image_manager_name = TagName (TagTlv(tlv_types.NODE_ID, -1),\n",
    "                              'tag',\n",
    "                              'sd',\n",
    "                              TagTlv(0),\n",
    "                              TagTlv('img'))\n",
    "dir_info = TagGet(image_manager_name)\n",
    "#print(dir_info.name)\n",
    "dir_msg = dir_info.build()\n",
    "#print(len(dir_msg),hexlify(dir_msg))\n",
    "si446x_device_send_msg(radio, dir_msg, RADIO_POWER);\n",
    "rsp_buf, rssi, status = si446x_device_receive_msg(radio, MAX_RECV, MAX_WAIT)\n",
    "if (rsp_buf):\n",
    "#    print(len(rsp_buf),hexlify(rsp_buf))\n",
    "    rsp_obj = TagMessage(rsp_buf)\n",
    "    for x in range(0, 8, 2):\n",
    "        print(\"state: {}, {}\".format(rsp_obj.payload[x+1].value(), rsp_obj.payload[x]))\n",
    "else:\n",
    "    print('timeout')"
   ]
  },
  {
   "cell_type": "code",
   "execution_count": null,
   "metadata": {
    "collapsed": true
   },
   "outputs": [],
   "source": [
    "#\"tag\"\t\"sys\"\t<node_id>\t\"which\"\n",
    "def get_version(which):\n",
    "    sys_name = TagName (TagTlv(tlv_types.NODE_ID, -1),\n",
    "                        'tag',\n",
    "                        'sys',\n",
    "                        TagTlv(which))\n",
    "    sys_obj = TagGet(sys_name)\n",
    "#    print(sys_obj.name)\n",
    "    get_msg = sys_obj.build()\n",
    "    si446x_device_send_msg(radio, get_msg, RADIO_POWER);\n",
    "    rsp_buf, rssi, status = si446x_device_receive_msg(radio, MAX_RECV, 5)\n",
    "    if(rsp_buf):\n",
    "#        print(hexlify(rsp_buf))\n",
    "        rsp_obj = TagMessage(rsp_buf)\n",
    "        print(\"{}: {:^10} state: {}, {}\".format(rsp_obj.header.options.param.error_code, which, rsp_obj.payload[1].value(), rsp_obj.payload[0]))"
   ]
  },
  {
   "cell_type": "code",
   "execution_count": null,
   "metadata": {},
   "outputs": [],
   "source": [
    "get_version('active')\n",
    "get_version('backup')\n",
    "get_version('golden')\n",
    "get_version('nib')\n",
    "get_version('running')"
   ]
  },
  {
   "cell_type": "code",
   "execution_count": null,
   "metadata": {
    "collapsed": true
   },
   "outputs": [],
   "source": [
    "#\"tag\"\t\"sys\"\t<node_id>\t\"which\"\n",
    "def set_version(which, version):\n",
    "    set_name = TagName (TagTlv(tlv_types.NODE_ID, -1),\n",
    "                        'tag',\n",
    "                        'sys',\n",
    "                        TagTlv(which),\n",
    "                        TagTlv(tlv_types.VERSION, version))\n",
    "    set_obj = TagPut(set_name)\n",
    "#    print(set_obj.name)\n",
    "    set_msg = set_obj.build()\n",
    "    si446x_device_send_msg(radio, set_msg, RADIO_POWER);\n",
    "    rsp_buf, rssi, status = si446x_device_receive_msg(radio, MAX_RECV, 5)\n",
    "    if(rsp_buf):\n",
    "#        print(hexlify(rsp_buf))\n",
    "        rsp_obj = TagMessage(rsp_buf)\n",
    "#        print(rsp_obj.header)\n",
    "        if (rsp_obj.payload):\n",
    "            print(\"{}: state: {}, {}\".format(rsp_obj.header.options.param.error_code, rsp_obj.payload[1].value(), rsp_obj.payload[0]))\n",
    "        else:\n",
    "            print(\"{}\".format(rsp_obj.header.options.param.error_code))"
   ]
  },
  {
   "cell_type": "code",
   "execution_count": null,
   "metadata": {
    "collapsed": true
   },
   "outputs": [],
   "source": [
    "set_version('active', (118, 16, 0))"
   ]
  },
  {
   "cell_type": "code",
   "execution_count": null,
   "metadata": {
    "collapsed": true
   },
   "outputs": [],
   "source": [
    "set_version('backup', (32, 16, 0))"
   ]
  },
  {
   "cell_type": "code",
   "execution_count": null,
   "metadata": {
    "collapsed": true
   },
   "outputs": [],
   "source": [
    "set_version('running', (125, 1, 0))"
   ]
  },
  {
   "cell_type": "markdown",
   "metadata": {},
   "source": [
    "## Interactive Group Properties"
   ]
  },
  {
   "cell_type": "code",
   "execution_count": null,
   "metadata": {
    "collapsed": true
   },
   "outputs": [],
   "source": [
    "from si446xdef import *\n",
    "\n",
    "\n",
    "def si446x_device_group_fetch_and_decode(group):\n",
    "    gname = radio_config_group_ids.decoding[group]\n",
    "    g_s = radio_config_groups[radio_config_group_ids.build(gname)]\n",
    "    gid = radio_config_group_ids.build(gname)\n",
    "    p = si446x_device_get_property(radio, gname, 0, g_s.sizeof())\n",
    "    print(g_s, insert_space(p))\n",
    "    #print(gname, len(p), hexlify(p))\n",
    "    print(radio_display_structs[g_s](g_s, p))\n",
    "    return None\n",
    "\n",
    "\n",
    "def si446x_device_command_fetch_and_decode(cmd):\n",
    "    cname = radio_status_cmd_ids.decoding[cmd]\n",
    "    cfunc, cstr = radio_status_commands[radio_config_cmd_ids.build(cname)]\n",
    "#    print(cname, cmd)\n",
    "    if (cfunc):\n",
    "        cmd = cfunc(cname)\n",
    "        if (cmd):\n",
    "#            print(cfunc, hexlify(cmd), cstr)\n",
    "            radio.spi.command(cmd, cstr)\n",
    "            rsp = radio.spi.response(cstr.sizeof(), cstr.name)\n",
    "            if (rsp):\n",
    "#                print(cstr, radio_display_structs[cstr])\n",
    "                print(cstr, insert_space(rsp))\n",
    "                print(radio_display_structs[cstr](cstr, rsp))\n",
    "            else:\n",
    "                print('no response')\n",
    "        else:\n",
    "            print('no command')\n",
    "    else:\n",
    "        print('no function')\n",
    "    return None"
   ]
  },
  {
   "cell_type": "code",
   "execution_count": null,
   "metadata": {
    "collapsed": true,
    "scrolled": true
   },
   "outputs": [],
   "source": [
    "interact(si446x_device_group_fetch_and_decode, group=radio_config_group_ids.encoding)"
   ]
  },
  {
   "cell_type": "markdown",
   "metadata": {},
   "source": [
    "## Interactive  Command Status Responses"
   ]
  },
  {
   "cell_type": "code",
   "execution_count": null,
   "metadata": {
    "collapsed": true
   },
   "outputs": [],
   "source": [
    "interact(si446x_device_command_fetch_and_decode, cmd=radio_status_cmd_ids.encoding)"
   ]
  },
  {
   "cell_type": "code",
   "execution_count": null,
   "metadata": {
    "collapsed": true
   },
   "outputs": [],
   "source": [
    "from datetime import datetime\n",
    "datetime.now()"
   ]
  },
  {
   "cell_type": "code",
   "execution_count": null,
   "metadata": {
    "collapsed": true
   },
   "outputs": [],
   "source": []
  }
 ],
 "metadata": {
  "kernelspec": {
   "display_name": "Python 2",
   "language": "python",
   "name": "python2"
  },
  "language_info": {
   "codemirror_mode": {
    "name": "ipython",
    "version": 2
   },
   "file_extension": ".py",
   "mimetype": "text/x-python",
   "name": "python",
   "nbconvert_exporter": "python",
   "pygments_lexer": "ipython2",
   "version": "2.7.9"
  }
 },
 "nbformat": 4,
 "nbformat_minor": 2
}
