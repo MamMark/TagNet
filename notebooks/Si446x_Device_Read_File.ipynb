{
 "cells": [
  {
   "cell_type": "markdown",
   "metadata": {},
   "source": [
    "# Si446x Device Direct Access Byte File (Dblk and Panic)"
   ]
  },
  {
   "cell_type": "code",
   "execution_count": null,
   "metadata": {
    "collapsed": true
   },
   "outputs": [],
   "source": [
    "from __future__ import print_function\n",
    "from builtins import *                  # python3 types\n",
    "from time import sleep\n",
    "from datetime import datetime\n",
    "import struct as pystruct\n",
    "from binascii import hexlify\n",
    "import os.path"
   ]
  },
  {
   "cell_type": "code",
   "execution_count": null,
   "metadata": {
    "scrolled": true
   },
   "outputs": [],
   "source": [
    "!pwd\n",
    "%autosave 0\n",
    "import sys\n",
    "sys.path.append(\"../si446x/si446x\")\n",
    "%run '../si446x/si446x/notebooks/si446x_Device_Layer.ipynb'"
   ]
  },
  {
   "cell_type": "code",
   "execution_count": null,
   "metadata": {
    "collapsed": true
   },
   "outputs": [],
   "source": [
    "import sys\n",
    "sys.path.append(\"../tagnet/tagnet\")\n",
    "from tagmessages import TagMessage, TagPoll, TagGet, TagPut, TagDelete, TagHead\n",
    "from tagnames import TagName\n",
    "from tagtlv import TagTlv, TagTlvList, tlv_types"
   ]
  },
  {
   "cell_type": "code",
   "execution_count": null,
   "metadata": {},
   "outputs": [],
   "source": [
    "import datetime\n",
    "print('Test Start Time: {}'.format(datetime.datetime.now()))\n",
    "print('Si446x Radio Device Driver Version: {}'.format(si446x_device_version()))"
   ]
  },
  {
   "cell_type": "code",
   "execution_count": null,
   "metadata": {},
   "outputs": [],
   "source": [
    "sys.path.append(\"../tagfuse/tagfuse\")\n",
    "from Si446xUtils import si446x_device_enable\n",
    "from Si446xFile import file_get_bytes, file_put_bytes, file_update_attrs, dblk_put_note\n",
    "from Si446xImage import im_get_dir, im_put_file, im_delete_file"
   ]
  },
  {
   "cell_type": "markdown",
   "metadata": {},
   "source": [
    "##  Start up and Radio"
   ]
  },
  {
   "cell_type": "code",
   "execution_count": null,
   "metadata": {
    "scrolled": true
   },
   "outputs": [],
   "source": [
    "radio = si446x_device_enable()"
   ]
  },
  {
   "cell_type": "markdown",
   "metadata": {},
   "source": [
    "## File Data Verification"
   ]
  },
  {
   "cell_type": "code",
   "execution_count": null,
   "metadata": {
    "collapsed": true
   },
   "outputs": [],
   "source": [
    "# default paramters\n",
    "MAX_WAIT            = 10\n",
    "MAX_RECV            = 255\n",
    "MAX_PAYLOAD         = 254\n",
    "MAX_RETRIES         = 10\n",
    "RADIO_POWER         = 100\n",
    "SHORT_DELAY         = 0\n",
    "from datetime import datetime"
   ]
  },
  {
   "cell_type": "code",
   "execution_count": null,
   "metadata": {
    "collapsed": true,
    "scrolled": true
   },
   "outputs": [],
   "source": [
    "BLOCK_SIZE = 512\n",
    "def verify_file(radio, check_fname, dev, unit, skip=0):\n",
    "    with open(check_fname, 'rb') as fd:\n",
    "        start  = datetime.now()\n",
    "        eof    = False\n",
    "        offset  = 0\n",
    "        while not eof:\n",
    "            fd.seek(offset+skip)\n",
    "            dbuf = bytearray(fd.read(BLOCK_SIZE))\n",
    "            sbuf, eof = file_get_bytes(radio, dev, unit, BLOCK_SIZE, offset)\n",
    "            if sbuf:\n",
    "                for ix in range(len(sbuf)):\n",
    "                    if sbuf[ix] != dbuf[ix]:\n",
    "                        print(hexlify(sbuf))\n",
    "                        print(hexlify(dbuf))\n",
    "                        print(\"\\r{} mismatch: offset:{}, {}/{}\".format(datetime.now() - start,\n",
    "                                                            offset+ix,\n",
    "                                                            hexlify(sbuf[ix-4:ix+4]),\n",
    "                                                            hexlify(dbuf[ix-4:ix+4])))\n",
    "                        break\n",
    "                offset += len(sbuf)\n",
    "            elif not eof:\n",
    "                print(\"\\r{} {}\".format(datetime.now() - start, 'timeout'), end=\"\")\n",
    "            sleep(0)\n",
    "            print(\"\\r{} {}\".format(datetime.now() - start, offset), end=\"\")\n",
    "    print(\"\\ntime: {}, offset: {}\".format(datetime.now() - start, offset))"
   ]
  },
  {
   "cell_type": "code",
   "execution_count": null,
   "metadata": {},
   "outputs": [],
   "source": [
    "STOP"
   ]
  },
  {
   "cell_type": "markdown",
   "metadata": {},
   "source": [
    "## Verify Dblk File"
   ]
  },
  {
   "cell_type": "code",
   "execution_count": null,
   "metadata": {
    "scrolled": true
   },
   "outputs": [],
   "source": [
    "verify_file(radio, '/home/pi/o/mm/dblk.data', 'dblk', '0')"
   ]
  },
  {
   "cell_type": "markdown",
   "metadata": {},
   "source": [
    "## Verify Panic File"
   ]
  },
  {
   "cell_type": "code",
   "execution_count": null,
   "metadata": {
    "scrolled": true
   },
   "outputs": [],
   "source": [
    "verify_file(radio, '/home/pi/o/mm/panic.data', 'panic', '2', skip=512)"
   ]
  },
  {
   "cell_type": "markdown",
   "metadata": {},
   "source": [
    "## Put Note"
   ]
  },
  {
   "cell_type": "code",
   "execution_count": null,
   "metadata": {
    "collapsed": true
   },
   "outputs": [],
   "source": [
    "dblk_put_note(radio, 'hello')"
   ]
  },
  {
   "cell_type": "markdown",
   "metadata": {},
   "source": [
    "## Update File Status"
   ]
  },
  {
   "cell_type": "code",
   "execution_count": null,
   "metadata": {},
   "outputs": [],
   "source": [
    "file_update_attrs(radio, ['<node_id:ffffffffffff>', 'tag', 'sd', '0', 'panic', 'byte', 1], {})"
   ]
  },
  {
   "cell_type": "code",
   "execution_count": null,
   "metadata": {},
   "outputs": [],
   "source": [
    "file_update_attrs(radio, ['<node_id:ffffffffffff>', 'tag', 'sd', '0', 'dblk', 'byte', '0'], {})"
   ]
  },
  {
   "cell_type": "code",
   "execution_count": null,
   "metadata": {},
   "outputs": [],
   "source": [
    "file_update_attrs(radio, ['<node_id:ffffffffffff>', 'tag', 'sd', '0', 'dblk', 'note'], {})"
   ]
  },
  {
   "cell_type": "markdown",
   "metadata": {},
   "source": [
    "## Get Image Directory"
   ]
  },
  {
   "cell_type": "code",
   "execution_count": null,
   "metadata": {},
   "outputs": [],
   "source": [
    "print(im_get_dir(radio, ['image']))"
   ]
  },
  {
   "cell_type": "code",
   "execution_count": null,
   "metadata": {
    "collapsed": true
   },
   "outputs": [],
   "source": []
  },
  {
   "cell_type": "markdown",
   "metadata": {},
   "source": [
    "## Extra"
   ]
  },
  {
   "cell_type": "code",
   "execution_count": null,
   "metadata": {
    "collapsed": true
   },
   "outputs": [],
   "source": [
    "STOP"
   ]
  },
  {
   "cell_type": "code",
   "execution_count": null,
   "metadata": {},
   "outputs": [],
   "source": [
    "buf, eof = file_get_bytes(radio, 'dblk', 0, 512, 512*4)"
   ]
  },
  {
   "cell_type": "code",
   "execution_count": null,
   "metadata": {},
   "outputs": [],
   "source": [
    "print(len(buf), eof)"
   ]
  },
  {
   "cell_type": "code",
   "execution_count": null,
   "metadata": {},
   "outputs": [],
   "source": [
    "print(hexlify(buf))"
   ]
  },
  {
   "cell_type": "code",
   "execution_count": null,
   "metadata": {
    "scrolled": true
   },
   "outputs": [],
   "source": [
    "buf, eof = file_get_bytes(radio, 'panic', 0, 1, 76799)"
   ]
  },
  {
   "cell_type": "code",
   "execution_count": null,
   "metadata": {},
   "outputs": [],
   "source": [
    "print(len(buf), eof)"
   ]
  },
  {
   "cell_type": "code",
   "execution_count": null,
   "metadata": {
    "collapsed": true
   },
   "outputs": [],
   "source": [
    "print(hexlify(buf))"
   ]
  },
  {
   "cell_type": "markdown",
   "metadata": {},
   "source": [
    "## Get Chip Status"
   ]
  },
  {
   "cell_type": "code",
   "execution_count": null,
   "metadata": {
    "collapsed": true
   },
   "outputs": [],
   "source": [
    "print(radio.get_chip_status())"
   ]
  },
  {
   "cell_type": "markdown",
   "metadata": {},
   "source": [
    "## Get Image Directory"
   ]
  },
  {
   "cell_type": "code",
   "execution_count": null,
   "metadata": {},
   "outputs": [],
   "source": [
    "#<node_id>   \"tag\"  \"sd\"  0  \"img\"\n",
    "image_manager_name = TagName (TagTlv(tlv_types.NODE_ID, -1),\n",
    "                              'tag',\n",
    "                              'sd',\n",
    "                              TagTlv(0),\n",
    "                              TagTlv('img'))\n",
    "dir_info = TagGet(image_manager_name)\n",
    "#print(dir_info.name)\n",
    "dir_msg = dir_info.build()\n",
    "#print(len(dir_msg),hexlify(dir_msg))\n",
    "si446x_device_send_msg(radio, dir_msg, RADIO_POWER);\n",
    "rsp_buf, rssi, status = si446x_device_receive_msg(radio, MAX_RECV, MAX_WAIT)\n",
    "if (rsp_buf):\n",
    "#    print(len(rsp_buf),hexlify(rsp_buf))\n",
    "    rsp_obj = TagMessage(rsp_buf)\n",
    "    for x in range(0, 8, 2):\n",
    "        print(\"state: {}, {}\".format(rsp_obj.payload[x+1].value(), rsp_obj.payload[x]))\n",
    "else:\n",
    "    print('timeout')"
   ]
  },
  {
   "cell_type": "code",
   "execution_count": null,
   "metadata": {
    "collapsed": true
   },
   "outputs": [],
   "source": [
    "#\"tag\"\t\"sys\"\t<node_id>\t\"which\"\n",
    "def get_version(which):\n",
    "    sys_name = TagName (TagTlv(tlv_types.NODE_ID, -1),\n",
    "                        'tag',\n",
    "                        'sys',\n",
    "                        TagTlv(which))\n",
    "    sys_obj = TagGet(sys_name)\n",
    "#    print(sys_obj.name)\n",
    "    get_msg = sys_obj.build()\n",
    "    si446x_device_send_msg(radio, get_msg, RADIO_POWER);\n",
    "    rsp_buf, rssi, status = si446x_device_receive_msg(radio, MAX_RECV, 5)\n",
    "    if(rsp_buf):\n",
    "#        print(hexlify(rsp_buf))\n",
    "        rsp_obj = TagMessage(rsp_buf)\n",
    "        print(\"{}: {:^10} state: {}, {}\".format(rsp_obj.header.options.param.error_code, which, rsp_obj.payload[1].value(), rsp_obj.payload[0]))"
   ]
  },
  {
   "cell_type": "code",
   "execution_count": null,
   "metadata": {},
   "outputs": [],
   "source": [
    "get_version('active')\n",
    "get_version('backup')\n",
    "get_version('golden')\n",
    "get_version('nib')\n",
    "get_version('running')"
   ]
  },
  {
   "cell_type": "code",
   "execution_count": null,
   "metadata": {
    "collapsed": true
   },
   "outputs": [],
   "source": [
    "#\"tag\"\t\"sys\"\t<node_id>\t\"which\"\n",
    "def set_version(which, version):\n",
    "    set_name = TagName (TagTlv(tlv_types.NODE_ID, -1),\n",
    "                        'tag',\n",
    "                        'sys',\n",
    "                        TagTlv(which),\n",
    "                        TagTlv(tlv_types.VERSION, version))\n",
    "    set_obj = TagPut(set_name)\n",
    "#    print(set_obj.name)\n",
    "    set_msg = set_obj.build()\n",
    "    si446x_device_send_msg(radio, set_msg, RADIO_POWER);\n",
    "    rsp_buf, rssi, status = si446x_device_receive_msg(radio, MAX_RECV, 5)\n",
    "    if(rsp_buf):\n",
    "#        print(hexlify(rsp_buf))\n",
    "        rsp_obj = TagMessage(rsp_buf)\n",
    "#        print(rsp_obj.header)\n",
    "        if (rsp_obj.payload):\n",
    "            print(\"{}: state: {}, {}\".format(rsp_obj.header.options.param.error_code, rsp_obj.payload[1].value(), rsp_obj.payload[0]))\n",
    "        else:\n",
    "            print(\"{}\".format(rsp_obj.header.options.param.error_code))"
   ]
  },
  {
   "cell_type": "code",
   "execution_count": null,
   "metadata": {},
   "outputs": [],
   "source": [
    "set_version('active', (118, 16, 0))"
   ]
  },
  {
   "cell_type": "code",
   "execution_count": null,
   "metadata": {},
   "outputs": [],
   "source": [
    "set_version('backup', (32, 16, 0))"
   ]
  },
  {
   "cell_type": "code",
   "execution_count": null,
   "metadata": {
    "collapsed": true
   },
   "outputs": [],
   "source": [
    "set_version('running', (125, 1, 0))"
   ]
  },
  {
   "cell_type": "markdown",
   "metadata": {},
   "source": [
    "## Load Image File onto Tag"
   ]
  },
  {
   "cell_type": "code",
   "execution_count": null,
   "metadata": {
    "collapsed": true
   },
   "outputs": [],
   "source": [
    "radio.trace._enable()\n",
    "# set rssi control (enable latch, average4, latch on sync)\n",
    "prp         = bytearray('0x22')\n",
    "radio.set_property('MODEM', 0x4c, prp) \n",
    "# tx/rx threshold\n",
    "#prp = bytearray('\\x20\\x20')\n",
    "#radio.set_property('PKT', 0x0b, prp)\n",
    "start = datetime.now()\n",
    "print(start)\n",
    "class RadioLoadException(Exception):\n",
    "    pass\n",
    "try:\n",
    "    # open input file and determine its length\n",
    "    infile = open(filename, 'rb')\n",
    "    infile.seek(0, 2) # seek to the end\n",
    "    file_size = infile.tell()\n",
    "    if file_size < IMAGE_MIN_SIZE: raise RadioLoadException(\"input file too short\")\n",
    "    infile.seek(0, 0)    # seek to the beginnnig\n",
    "    # get image info from input file and sanity check\n",
    "    infile.seek(IMAGE_META_OFFSET) # seek to location of image info\n",
    "    image_info = image_info_struct.unpack(infile.read(image_info_struct.size))\n",
    "    print(\"file information\")\n",
    "    sig, image_start, imagelength, vector_chk, image_chk, im_build, im_minor, im_major,\\\n",
    "        main_tree, aux_tree, build_time, im_rev, im_model = image_info\n",
    "    pstr = \"  signature: 0x{:x}, start: 0x{:x}, length: 0x{:x}, vect_chk: 0x{:x}, image_chk: 0x{:x}\"\n",
    "    print(pstr.format(sig, image_start, imagelength, vector_chk, image_chk))\n",
    "    pstr = \"  version: ({}.{}.{}(0x{:x})), rev: {}, model: {}\"\n",
    "    print(pstr.format(im_major, im_minor, im_build, im_build, im_rev, im_model))\n",
    "    if sig != IMAGE_INFO_SIG: raise RadioLoadException(\"image metadata is invalid\")\n",
    "    infile.seek(0)    # seek to the beginnnig\n",
    "    # loop to transfer image data to tag\n",
    "    retries         = 0\n",
    "    total_retries   = 0\n",
    "    packets_sent    = 0\n",
    "    rssi            = 0\n",
    "    offset          = 0\n",
    "    path_list = ['<node_id:ffffffffffff>','tag','sd', 0, 'img', '<version:{}.{}.{}>'.format(im_build, im_minor, im_major)]\n",
    "    while (file_size - infile.tell() > 0):\n",
    "        if ((packets_sent % 10) == 0):\n",
    "            print(\"\\r{0:.2f}%\".format((float(infile.tell())/float(file_size))*100), end='')\n",
    "#        print(\">>>> file size: {}, offset: {}, retries: {}, rssi: {}\\r\".format(file_size, infile.tell(), retries, rssi, end=''))\n",
    "        error, offset = im_put_file(radio, path_list, infile, offset)\n",
    "        if (error is tlv_errors.SUCCESS):\n",
    "            infile.seek(offset)\n",
    "    \n",
    "        if offset != infile.tell():\n",
    "            if (rsp_obj is None): p = \"TIMEOUT\"\n",
    "            else:                 p = \"BAD OFFSET\"\n",
    "            print(\"\\n{}  {}! offset: response {}, expected {}\".format(datetime.now(), p, offset, infile.tell()))\n",
    "            if (offset >= 0):\n",
    "                infile.seek(offset, 0)\n",
    "            else:\n",
    "                infile.seek(-plen, 1)\n",
    "                offset -= plen\n",
    "                \n",
    "            retries = retries + 1\n",
    "            total_retries = total_retries + 1\n",
    "        else:\n",
    "            retries = 0\n",
    "        if (retries > MAX_RETRIES):\n",
    "            raise RadioLoadException(\"too many retries\")\n",
    "        sleep(SHORT_DELAY)\n",
    "    # send end of file to complete the image load operation\n",
    "    im_send_request(infile, file_size, (im_build, im_minor, im_major), True)\n",
    "    rsp_obj, rsp_msg, offset, rssi = im_get_response(infile)\n",
    "    print(\"\\ntotals bytes: {}, packets: {} retries: {}\".format(offset, packets_sent, total_retries))\n",
    "except RadioLoadException:\n",
    "    print('terminating')\n",
    "finally:\n",
    "    infile.close()\n",
    "print('\\ndone, elapsed time', datetime.now() - start)"
   ]
  },
  {
   "cell_type": "code",
   "execution_count": null,
   "metadata": {
    "collapsed": true
   },
   "outputs": [],
   "source": []
  }
 ],
 "metadata": {
  "kernelspec": {
   "display_name": "Python 2",
   "language": "python",
   "name": "python2"
  },
  "language_info": {
   "codemirror_mode": {
    "name": "ipython",
    "version": 2
   },
   "file_extension": ".py",
   "mimetype": "text/x-python",
   "name": "python",
   "nbconvert_exporter": "python",
   "pygments_lexer": "ipython2",
   "version": "2.7.13"
  }
 },
 "nbformat": 4,
 "nbformat_minor": 2
}
