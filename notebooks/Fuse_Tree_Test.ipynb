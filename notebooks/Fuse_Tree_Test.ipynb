{
 "cells": [
  {
   "cell_type": "code",
   "execution_count": null,
   "metadata": {
    "scrolled": false
   },
   "outputs": [],
   "source": [
    "from __future__ import print_function, absolute_import, division\n",
    "\n",
    "import logging\n",
    "import os\n",
    "import sys\n",
    "from collections import defaultdict, OrderedDict\n",
    "from errno import ENOENT, ENODATA\n",
    "from stat import S_IFDIR, S_IFLNK, S_IFREG\n",
    "from sys import argv, exit, path\n",
    "from time import time\n",
    "\n",
    "sys.path.insert(0,\"../tagfuse\")\n",
    "from tagfuse import *\n",
    "\n",
    "if not hasattr(__builtins__, 'bytes'):\n",
    "    bytes = str"
   ]
  },
  {
   "cell_type": "code",
   "execution_count": null,
   "metadata": {},
   "outputs": [],
   "source": [
    "from datetime import datetime"
   ]
  },
  {
   "cell_type": "code",
   "execution_count": 3,
   "metadata": {},
   "outputs": [],
   "source": [
    "def LocateNode(tag_tree, path):\n",
    "    # print(path2list(path))\n",
    "    if (path == '/'):\n",
    "        print('located root')\n",
    "        return tag_tree\n",
    "    return tag_tree.traverse(path2list(path), 0)\n",
    "\n",
    "def DeleteNode(path, node):\n",
    "    pass\n",
    "\n",
    "def path2list(path):\n",
    "    path = os.path.abspath(os.path.realpath(path))\n",
    "    return path.split('/')[1:]"
   ]
  },
  {
   "cell_type": "code",
   "execution_count": 4,
   "metadata": {},
   "outputs": [],
   "source": [
    "def get_name_from_class(model):\n",
    "    c = model.__class__.__mro__[0]\n",
    "    name = c.__module__ + \".\" + c.__name__\n",
    "    return name"
   ]
  },
  {
   "cell_type": "code",
   "execution_count": 5,
   "metadata": {},
   "outputs": [
    {
     "name": "stdout",
     "output_type": "stream",
     "text": [
      "('si446x version: ', '0.2.6')\n",
      "('tagnet: ', '/usr/local/lib/python2.7/dist-packages/ipykernel_launcher.py', '/mnt/Open/TagNet/notebooks')\n",
      "tagnet driver version 0.0.25\n"
     ]
    },
    {
     "name": "stderr",
     "output_type": "stream",
     "text": [
      "/mnt/Open/TagNet/tagfuse/../si446x/si446x/si446xradio.py:711: RuntimeWarning: This channel is already in use, continuing anyway.  Use GPIO.setwarnings(False) to disable warnings.\n",
      "  GPIO.setup(GPIO_SDN,GPIO.OUT)   #  [sdn]\n"
     ]
    }
   ],
   "source": [
    "from tagfuse.radioutils import radio_start\n",
    "radio = radio_start()"
   ]
  },
  {
   "cell_type": "raw",
   "metadata": {},
   "source": [
    "print(type(radio), radio)"
   ]
  },
  {
   "cell_type": "code",
   "execution_count": 6,
   "metadata": {},
   "outputs": [
    {
     "name": "stdout",
     "output_type": "stream",
     "text": [
      "('mountpoint', '/home/pi/tag_store')\n",
      "('verbosity turned on', 1)\n",
      "('sparse files stored here', '/tmp')\n"
     ]
    },
    {
     "data": {
      "text/plain": [
       "Namespace(background=False, disable_sparse=False, disable_sparse_read=False, mountpoint='/home/pi/tag_store', sparse_dir='/tmp', verbosity=1)"
      ]
     },
     "execution_count": 6,
     "metadata": {},
     "output_type": "execute_result"
    }
   ],
   "source": [
    "from tagfuse.tagfuseargs import process_cmd_args, get_cmd_args\n",
    "sys.argv = ['tagfuse.py', '/home/pi/tag_store']\n",
    "process_cmd_args()\n",
    "get_cmd_args()"
   ]
  },
  {
   "cell_type": "code",
   "execution_count": 7,
   "metadata": {},
   "outputs": [
    {
     "name": "stdout",
     "output_type": "stream",
     "text": [
      "loading sparsefile\n",
      "*** TagFuseTree.py ending\n",
      "sparse handler init: /tmp\n"
     ]
    }
   ],
   "source": [
    "from tagfuse.tagfusetree import TagFuseRootTree\n",
    "tree_root = TagFuseRootTree(radio)"
   ]
  },
  {
   "cell_type": "code",
   "execution_count": 8,
   "metadata": {
    "scrolled": true
   },
   "outputs": [
    {
     "data": {
      "text/plain": [
       "(DirHandler([('',\n",
       "              FileHandler([('st_ctime', 1521877082.016846),\n",
       "                           ('st_mtime', 1521877082.016846),\n",
       "                           ('st_nlink', 7),\n",
       "                           ('st_gid', 1000),\n",
       "                           ('st_blksize', 512),\n",
       "                           ('st_size', 0),\n",
       "                           ('st_atime', 1521877082.016847),\n",
       "                           ('st_uid', 1000),\n",
       "                           ('st_mode', 16873)])),\n",
       "             ('byte',\n",
       "              SparseIOFileHandler([('st_ctime', 1521877082.017021),\n",
       "                                   ('st_mtime', 1521877082.017022),\n",
       "                                   ('st_nlink', 1),\n",
       "                                   ('st_gid', 1000),\n",
       "                                   ('st_blksize', 512),\n",
       "                                   ('st_size', 0),\n",
       "                                   ('st_atime', 1521877082.017022),\n",
       "                                   ('st_uid', 1000),\n",
       "                                   ('st_mode', 33060)])),\n",
       "             ('note',\n",
       "              SimpleRecHandler([('st_ctime', 1521877082.017678),\n",
       "                                ('st_mtime', 1521877082.017679),\n",
       "                                ('st_nlink', 1),\n",
       "                                ('st_gid', 1000),\n",
       "                                ('st_blksize', 512),\n",
       "                                ('st_size', 0),\n",
       "                                ('st_atime', 1521877082.01768),\n",
       "                                ('st_uid', 1000),\n",
       "                                ('st_mode', 33200)])),\n",
       "             ('.recnum',\n",
       "              ByteIOFileHandler([('st_ctime', 1521877082.017964),\n",
       "                                 ('st_mtime', 1521877082.017965),\n",
       "                                 ('st_nlink', 1),\n",
       "                                 ('st_gid', 1000),\n",
       "                                 ('st_blksize', 512),\n",
       "                                 ('st_size', 0),\n",
       "                                 ('st_atime', 1521877082.017966),\n",
       "                                 ('st_uid', 1000),\n",
       "                                 ('st_mode', 33060)])),\n",
       "             ('.last_rec',\n",
       "              ByteIOFileHandler([('st_ctime', 1521877082.018142),\n",
       "                                 ('st_mtime', 1521877082.018143),\n",
       "                                 ('st_nlink', 1),\n",
       "                                 ('st_gid', 1000),\n",
       "                                 ('st_blksize', 512),\n",
       "                                 ('st_size', 0),\n",
       "                                 ('st_atime', 1521877082.018143),\n",
       "                                 ('st_uid', 1000),\n",
       "                                 ('st_mode', 33060)])),\n",
       "             ('.last_sync',\n",
       "              ByteIOFileHandler([('st_ctime', 1521877082.018313),\n",
       "                                 ('st_mtime', 1521877082.018314),\n",
       "                                 ('st_nlink', 1),\n",
       "                                 ('st_gid', 1000),\n",
       "                                 ('st_blksize', 512),\n",
       "                                 ('st_size', 0),\n",
       "                                 ('st_atime', 1521877082.018314),\n",
       "                                 ('st_uid', 1000),\n",
       "                                 ('st_mode', 33060)])),\n",
       "             ('.committed',\n",
       "              ByteIOFileHandler([('st_ctime', 1521877082.018495),\n",
       "                                 ('st_mtime', 1521877082.018495),\n",
       "                                 ('st_nlink', 1),\n",
       "                                 ('st_gid', 1000),\n",
       "                                 ('st_blksize', 512),\n",
       "                                 ('st_size', 0),\n",
       "                                 ('st_atime', 1521877082.018496),\n",
       "                                 ('st_uid', 1000),\n",
       "                                 ('st_mode', 33060)]))]),\n",
       " ['<node_id:ffffffffffff>', 'tag', 'sd', '0', 'dblk'])"
      ]
     },
     "execution_count": 8,
     "metadata": {},
     "output_type": "execute_result"
    }
   ],
   "source": [
    "handlerA = LocateNode(tree_root ,'/ffffffffffff/tag/sd/0/dblk')\n",
    "handlerA"
   ]
  },
  {
   "cell_type": "code",
   "execution_count": 9,
   "metadata": {},
   "outputs": [
    {
     "ename": "AttributeError",
     "evalue": "'list' object has no attribute 'startswith'",
     "output_type": "error",
     "traceback": [
      "\u001b[0;31m\u001b[0m",
      "\u001b[0;31mAttributeError\u001b[0mTraceback (most recent call last)",
      "\u001b[0;32m<ipython-input-9-64726bb03776>\u001b[0m in \u001b[0;36m<module>\u001b[0;34m()\u001b[0m\n\u001b[0;32m----> 1\u001b[0;31m \u001b[0mp\u001b[0m\u001b[0;34m=\u001b[0m\u001b[0mpath2list\u001b[0m\u001b[0;34m(\u001b[0m\u001b[0mpath\u001b[0m\u001b[0;34m)\u001b[0m\u001b[0;34m\u001b[0m\u001b[0m\n\u001b[0m\u001b[1;32m      2\u001b[0m \u001b[0mth\u001b[0m\u001b[0;34m=\u001b[0m\u001b[0mtree_root\u001b[0m\u001b[0;34m.\u001b[0m\u001b[0mtraverse\u001b[0m\u001b[0;34m(\u001b[0m\u001b[0mp\u001b[0m\u001b[0;34m,\u001b[0m \u001b[0;36m0\u001b[0m\u001b[0;34m)\u001b[0m\u001b[0;34m\u001b[0m\u001b[0m\n\u001b[1;32m      3\u001b[0m \u001b[0mp\u001b[0m\u001b[0;34m,\u001b[0m \u001b[0mth\u001b[0m\u001b[0;34m\u001b[0m\u001b[0m\n",
      "\u001b[0;32m<ipython-input-3-43fa27f4846a>\u001b[0m in \u001b[0;36mpath2list\u001b[0;34m(path)\u001b[0m\n\u001b[1;32m     10\u001b[0m \u001b[0;34m\u001b[0m\u001b[0m\n\u001b[1;32m     11\u001b[0m \u001b[0;32mdef\u001b[0m \u001b[0mpath2list\u001b[0m\u001b[0;34m(\u001b[0m\u001b[0mpath\u001b[0m\u001b[0;34m)\u001b[0m\u001b[0;34m:\u001b[0m\u001b[0;34m\u001b[0m\u001b[0m\n\u001b[0;32m---> 12\u001b[0;31m     \u001b[0mpath\u001b[0m \u001b[0;34m=\u001b[0m \u001b[0mos\u001b[0m\u001b[0;34m.\u001b[0m\u001b[0mpath\u001b[0m\u001b[0;34m.\u001b[0m\u001b[0mabspath\u001b[0m\u001b[0;34m(\u001b[0m\u001b[0mos\u001b[0m\u001b[0;34m.\u001b[0m\u001b[0mpath\u001b[0m\u001b[0;34m.\u001b[0m\u001b[0mrealpath\u001b[0m\u001b[0;34m(\u001b[0m\u001b[0mpath\u001b[0m\u001b[0;34m)\u001b[0m\u001b[0;34m)\u001b[0m\u001b[0;34m\u001b[0m\u001b[0m\n\u001b[0m\u001b[1;32m     13\u001b[0m     \u001b[0;32mreturn\u001b[0m \u001b[0mpath\u001b[0m\u001b[0;34m.\u001b[0m\u001b[0msplit\u001b[0m\u001b[0;34m(\u001b[0m\u001b[0;34m'/'\u001b[0m\u001b[0;34m)\u001b[0m\u001b[0;34m[\u001b[0m\u001b[0;36m1\u001b[0m\u001b[0;34m:\u001b[0m\u001b[0;34m]\u001b[0m\u001b[0;34m\u001b[0m\u001b[0m\n",
      "\u001b[0;32m/usr/lib/python2.7/posixpath.pyc\u001b[0m in \u001b[0;36mrealpath\u001b[0;34m(filename)\u001b[0m\n\u001b[1;32m    373\u001b[0m     \"\"\"Return the canonical path of the specified filename, eliminating any\n\u001b[1;32m    374\u001b[0m symbolic links encountered in the path.\"\"\"\n\u001b[0;32m--> 375\u001b[0;31m     \u001b[0mpath\u001b[0m\u001b[0;34m,\u001b[0m \u001b[0mok\u001b[0m \u001b[0;34m=\u001b[0m \u001b[0m_joinrealpath\u001b[0m\u001b[0;34m(\u001b[0m\u001b[0;34m''\u001b[0m\u001b[0;34m,\u001b[0m \u001b[0mfilename\u001b[0m\u001b[0;34m,\u001b[0m \u001b[0;34m{\u001b[0m\u001b[0;34m}\u001b[0m\u001b[0;34m)\u001b[0m\u001b[0;34m\u001b[0m\u001b[0m\n\u001b[0m\u001b[1;32m    376\u001b[0m     \u001b[0;32mreturn\u001b[0m \u001b[0mabspath\u001b[0m\u001b[0;34m(\u001b[0m\u001b[0mpath\u001b[0m\u001b[0;34m)\u001b[0m\u001b[0;34m\u001b[0m\u001b[0m\n\u001b[1;32m    377\u001b[0m \u001b[0;34m\u001b[0m\u001b[0m\n",
      "\u001b[0;32m/usr/lib/python2.7/posixpath.pyc\u001b[0m in \u001b[0;36m_joinrealpath\u001b[0;34m(path, rest, seen)\u001b[0m\n\u001b[1;32m    379\u001b[0m \u001b[0;31m# encountered in the second path.\u001b[0m\u001b[0;34m\u001b[0m\u001b[0;34m\u001b[0m\u001b[0m\n\u001b[1;32m    380\u001b[0m \u001b[0;32mdef\u001b[0m \u001b[0m_joinrealpath\u001b[0m\u001b[0;34m(\u001b[0m\u001b[0mpath\u001b[0m\u001b[0;34m,\u001b[0m \u001b[0mrest\u001b[0m\u001b[0;34m,\u001b[0m \u001b[0mseen\u001b[0m\u001b[0;34m)\u001b[0m\u001b[0;34m:\u001b[0m\u001b[0;34m\u001b[0m\u001b[0m\n\u001b[0;32m--> 381\u001b[0;31m     \u001b[0;32mif\u001b[0m \u001b[0misabs\u001b[0m\u001b[0;34m(\u001b[0m\u001b[0mrest\u001b[0m\u001b[0;34m)\u001b[0m\u001b[0;34m:\u001b[0m\u001b[0;34m\u001b[0m\u001b[0m\n\u001b[0m\u001b[1;32m    382\u001b[0m         \u001b[0mrest\u001b[0m \u001b[0;34m=\u001b[0m \u001b[0mrest\u001b[0m\u001b[0;34m[\u001b[0m\u001b[0;36m1\u001b[0m\u001b[0;34m:\u001b[0m\u001b[0;34m]\u001b[0m\u001b[0;34m\u001b[0m\u001b[0m\n\u001b[1;32m    383\u001b[0m         \u001b[0mpath\u001b[0m \u001b[0;34m=\u001b[0m \u001b[0msep\u001b[0m\u001b[0;34m\u001b[0m\u001b[0m\n",
      "\u001b[0;32m/usr/lib/python2.7/posixpath.pyc\u001b[0m in \u001b[0;36misabs\u001b[0;34m(s)\u001b[0m\n\u001b[1;32m     52\u001b[0m \u001b[0;32mdef\u001b[0m \u001b[0misabs\u001b[0m\u001b[0;34m(\u001b[0m\u001b[0ms\u001b[0m\u001b[0;34m)\u001b[0m\u001b[0;34m:\u001b[0m\u001b[0;34m\u001b[0m\u001b[0m\n\u001b[1;32m     53\u001b[0m     \u001b[0;34m\"\"\"Test whether a path is absolute\"\"\"\u001b[0m\u001b[0;34m\u001b[0m\u001b[0m\n\u001b[0;32m---> 54\u001b[0;31m     \u001b[0;32mreturn\u001b[0m \u001b[0ms\u001b[0m\u001b[0;34m.\u001b[0m\u001b[0mstartswith\u001b[0m\u001b[0;34m(\u001b[0m\u001b[0;34m'/'\u001b[0m\u001b[0;34m)\u001b[0m\u001b[0;34m\u001b[0m\u001b[0m\n\u001b[0m\u001b[1;32m     55\u001b[0m \u001b[0;34m\u001b[0m\u001b[0m\n\u001b[1;32m     56\u001b[0m \u001b[0;34m\u001b[0m\u001b[0m\n",
      "\u001b[0;31mAttributeError\u001b[0m: 'list' object has no attribute 'startswith'"
     ]
    }
   ],
   "source": [
    "p=path2list(path)\n",
    "th=tree_root.traverse(p, 0)\n",
    "p, th"
   ]
  },
  {
   "cell_type": "markdown",
   "metadata": {},
   "source": [
    "## Examine Image Directory"
   ]
  },
  {
   "cell_type": "code",
   "execution_count": null,
   "metadata": {},
   "outputs": [],
   "source": [
    "STOP"
   ]
  },
  {
   "cell_type": "code",
   "execution_count": 10,
   "metadata": {},
   "outputs": [
    {
     "data": {
      "text/plain": [
       "tagfuse.taghandlers.ImageDirHandler"
      ]
     },
     "execution_count": 10,
     "metadata": {},
     "output_type": "execute_result"
    }
   ],
   "source": [
    "path='/ffffffffffff/tag/sd/0/img'\n",
    "handler, path_list = LocateNode(tree_root, path)\n",
    "type(handler)"
   ]
  },
  {
   "cell_type": "code",
   "execution_count": 11,
   "metadata": {
    "scrolled": false
   },
   "outputs": [
    {
     "name": "stdout",
     "output_type": "stream",
     "text": [
      "im get dir, state: v version: (0, 2, 386)\n",
      "im get dir, state: v version: (0, 2, 442)\n",
      "im get dir, state: a version: (0, 2, 443)\n",
      "im get dir, state: x version: (0, 2, 464)\n",
      "img readdir version/state (0, 2, 386) valid\n",
      "img readdir version/state (0, 2, 442) valid\n",
      "img readdir version/state (0, 2, 443) active\n",
      "img readdir version/state (0, 2, 464) x\n",
      "tag_set Set(['0.2.386', '0.2.443', '0.2.442'])\n",
      "my_set Set([])\n"
     ]
    }
   ],
   "source": [
    "img_list = handler.readdir(path_list)"
   ]
  },
  {
   "cell_type": "code",
   "execution_count": 12,
   "metadata": {},
   "outputs": [
    {
     "name": "stdout",
     "output_type": "stream",
     "text": [
      ".\n",
      "..\n",
      "0.2.386\n",
      "0.2.443\n",
      "0.2.442\n"
     ]
    }
   ],
   "source": [
    "for a in img_list:\n",
    "    print(a)"
   ]
  },
  {
   "cell_type": "code",
   "execution_count": null,
   "metadata": {},
   "outputs": [],
   "source": [
    "handler.radio"
   ]
  },
  {
   "cell_type": "code",
   "execution_count": null,
   "metadata": {
    "scrolled": true
   },
   "outputs": [],
   "source": [
    "for i in range(100):\n",
    "    print(handler.readdir(path_list))"
   ]
  },
  {
   "cell_type": "code",
   "execution_count": null,
   "metadata": {},
   "outputs": [],
   "source": []
  },
  {
   "cell_type": "markdown",
   "metadata": {},
   "source": [
    "## OTHER FUNCTIONS"
   ]
  },
  {
   "cell_type": "code",
   "execution_count": null,
   "metadata": {},
   "outputs": [],
   "source": [
    "STOP"
   ]
  },
  {
   "cell_type": "code",
   "execution_count": null,
   "metadata": {
    "scrolled": false
   },
   "outputs": [],
   "source": [
    "handler.radio.trace.display(handler.radio.trace.filter())"
   ]
  },
  {
   "cell_type": "code",
   "execution_count": null,
   "metadata": {},
   "outputs": [],
   "source": [
    "radio.get_clear_interrupts()"
   ]
  },
  {
   "cell_type": "code",
   "execution_count": null,
   "metadata": {
    "scrolled": true
   },
   "outputs": [],
   "source": [
    "for i in range(100):\n",
    "    print(radio.get_clear_interrupts())"
   ]
  },
  {
   "cell_type": "code",
   "execution_count": null,
   "metadata": {},
   "outputs": [],
   "source": [
    "radio.dump_radio()"
   ]
  },
  {
   "cell_type": "code",
   "execution_count": null,
   "metadata": {},
   "outputs": [],
   "source": []
  }
 ],
 "metadata": {
  "kernelspec": {
   "display_name": "Python 2",
   "language": "python",
   "name": "python2"
  },
  "language_info": {
   "codemirror_mode": {
    "name": "ipython",
    "version": 2
   },
   "file_extension": ".py",
   "mimetype": "text/x-python",
   "name": "python",
   "nbconvert_exporter": "python",
   "pygments_lexer": "ipython2",
   "version": "2.7.13"
  }
 },
 "nbformat": 4,
 "nbformat_minor": 2
}
