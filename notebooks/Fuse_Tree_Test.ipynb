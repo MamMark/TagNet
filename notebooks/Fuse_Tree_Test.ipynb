{
 "cells": [
  {
   "cell_type": "code",
   "execution_count": null,
   "metadata": {},
   "outputs": [],
   "source": [
    "%autosave 0"
   ]
  },
  {
   "cell_type": "code",
   "execution_count": null,
   "metadata": {},
   "outputs": [],
   "source": [
    "import sys\n",
    "stdout = sys.stdout\n",
    "#reload(sys)\n",
    "#sys.setdefaultencoding('utf-8')"
   ]
  },
  {
   "cell_type": "code",
   "execution_count": null,
   "metadata": {
    "scrolled": false
   },
   "outputs": [],
   "source": [
    "#from __future__ import print_function\n",
    "from __future__ import print_function, absolute_import, division\n",
    "\n",
    "import logging\n",
    "import os\n",
    "import sys\n",
    "from collections import defaultdict, OrderedDict\n",
    "from errno import ENOENT, ENODATA\n",
    "from stat import S_IFDIR, S_IFLNK, S_IFREG\n",
    "from sys import argv, exit, path\n",
    "import time\n",
    "\n",
    "\n",
    "#sys.path.insert(0,\"../tagfuse\")\n",
    "sys.path.insert(0,\"../tagfuse/tagfuse\")\n",
    "from tagfuse import *\n",
    "\n",
    "if not hasattr(__builtins__, 'bytes'):\n",
    "    bytes = str"
   ]
  },
  {
   "cell_type": "code",
   "execution_count": null,
   "metadata": {},
   "outputs": [],
   "source": [
    "sys.stdout = stdout"
   ]
  },
  {
   "cell_type": "code",
   "execution_count": null,
   "metadata": {},
   "outputs": [],
   "source": [
    "from datetime import datetime"
   ]
  },
  {
   "cell_type": "code",
   "execution_count": null,
   "metadata": {},
   "outputs": [],
   "source": [
    "def LocateNode(tag_tree, path):\n",
    "    # print(path2list(path))\n",
    "    if (path == '/'):\n",
    "        print('located root')\n",
    "        return tag_tree, path2list(path)\n",
    "    return tag_tree.traverse(path2list(path), 0)\n",
    "\n",
    "def DeleteNode(path, node):\n",
    "    pass\n",
    "\n",
    "def path2list(path):\n",
    "    path = os.path.abspath(os.path.realpath(path))\n",
    "    return path.split('/')[1:]"
   ]
  },
  {
   "cell_type": "code",
   "execution_count": null,
   "metadata": {},
   "outputs": [],
   "source": [
    "def get_name_from_class(model):\n",
    "    c = model.__class__.__mro__[0]\n",
    "    name = c.__module__ + \".\" + c.__name__\n",
    "    return name"
   ]
  },
  {
   "cell_type": "code",
   "execution_count": null,
   "metadata": {},
   "outputs": [],
   "source": [
    "from radioutils import radio_start\n",
    "#radio = radio_start()\n",
    "from si446x import Si446xRadio\n",
    "from si446x import get_config_wds, get_name_wds, wds_default_config\n",
    "radio=Si446xRadio(0)\n",
    "if (radio == None):\n",
    "    raise RuntimeError('radio_start: could not instantiate radio')\n",
    "radio.unshutdown()\n",
    "wds_default_config(0) # force alternate default config\n",
    "radio.write_config()\n",
    "radio.config_frr()"
   ]
  },
  {
   "cell_type": "raw",
   "metadata": {},
   "source": [
    "tagfuseargs.get_cmd_args()"
   ]
  },
  {
   "cell_type": "code",
   "execution_count": null,
   "metadata": {},
   "outputs": [],
   "source": [
    "from tagfuseargs import process_cmd_args, get_cmd_args\n",
    "sys.argv = ['tagfuse.py', '-s', '/home/pi/tag_store', '/home/pi/tags']\n",
    "process_cmd_args()\n",
    "get_cmd_args()"
   ]
  },
  {
   "cell_type": "code",
   "execution_count": null,
   "metadata": {},
   "outputs": [],
   "source": [
    "from TagFuseTree import TagFuseRootTree, TagFuseTagTree\n",
    "tree_root = TagFuseRootTree(radio)"
   ]
  },
  {
   "cell_type": "code",
   "execution_count": null,
   "metadata": {},
   "outputs": [],
   "source": [
    "get_cmd_args()"
   ]
  },
  {
   "cell_type": "code",
   "execution_count": null,
   "metadata": {
    "scrolled": true
   },
   "outputs": [],
   "source": [
    "handlerA = LocateNode(tree_root ,'/ffffffffffff/tag/sd/0/dblk')\n",
    "handlerA"
   ]
  },
  {
   "cell_type": "markdown",
   "metadata": {},
   "source": [
    "## Poll for Tags"
   ]
  },
  {
   "cell_type": "code",
   "execution_count": null,
   "metadata": {},
   "outputs": [],
   "source": [
    "STOP"
   ]
  },
  {
   "cell_type": "code",
   "execution_count": null,
   "metadata": {
    "scrolled": true
   },
   "outputs": [],
   "source": [
    "path='/'\n",
    "handler, path_list = LocateNode(tree_root, path)\n",
    "type(handler)"
   ]
  },
  {
   "cell_type": "code",
   "execution_count": null,
   "metadata": {
    "scrolled": true
   },
   "outputs": [],
   "source": [
    "taglist = handler.readdir(path_list, TagFuseTagTree)\n",
    "taglist"
   ]
  },
  {
   "cell_type": "code",
   "execution_count": null,
   "metadata": {
    "scrolled": true
   },
   "outputs": [],
   "source": [
    "tree_root"
   ]
  },
  {
   "cell_type": "code",
   "execution_count": null,
   "metadata": {
    "scrolled": true
   },
   "outputs": [],
   "source": [
    "for i in range(10):\n",
    "    print(handler.readdir(path_list, TagFuseTagTree))\n",
    "    time.sleep(1)"
   ]
  },
  {
   "cell_type": "markdown",
   "metadata": {},
   "source": [
    "## Get/Set RTC"
   ]
  },
  {
   "cell_type": "markdown",
   "metadata": {},
   "source": [
    "### st_mtime (tag_rtctime)\n",
    "```\n",
    "ls -l tags/a0b696b4fb29/tag/sys/rtc\n",
    "-rw-r--r-- 1 pi pi 0 Apr 15 00:23 tags/a0b696b4fb29/tag/sys/rtc\n",
    "```"
   ]
  },
  {
   "cell_type": "code",
   "execution_count": null,
   "metadata": {},
   "outputs": [],
   "source": [
    "STOP"
   ]
  },
  {
   "cell_type": "code",
   "execution_count": null,
   "metadata": {
    "scrolled": true
   },
   "outputs": [],
   "source": [
    "path='/ffffffffffff/tag/sys/rtc'\n",
    "handler, path_list = LocateNode(tree_root, path)\n",
    "type(handler)"
   ]
  },
  {
   "cell_type": "code",
   "execution_count": null,
   "metadata": {
    "scrolled": false
   },
   "outputs": [],
   "source": [
    "attrs = handler.getattr(path_list, True)\n",
    "attrs"
   ]
  },
  {
   "cell_type": "code",
   "execution_count": null,
   "metadata": {},
   "outputs": [],
   "source": [
    "for t in ['st_atime', 'st_mtime', 'st_ctime']:\n",
    "    print(t,time.ctime(int(attrs[t])))"
   ]
  },
  {
   "cell_type": "code",
   "execution_count": null,
   "metadata": {},
   "outputs": [],
   "source": [
    "handler.write(path_list,'0',0)"
   ]
  },
  {
   "cell_type": "code",
   "execution_count": null,
   "metadata": {
    "scrolled": true
   },
   "outputs": [],
   "source": [
    "for i in range(1):\n",
    "    attrs = handler.getattr(path_list, True)\n",
    "    time.sleep(.1)"
   ]
  },
  {
   "cell_type": "code",
   "execution_count": null,
   "metadata": {},
   "outputs": [],
   "source": [
    "attrs"
   ]
  },
  {
   "cell_type": "code",
   "execution_count": null,
   "metadata": {},
   "outputs": [],
   "source": [
    "timet=time.strptime('12 04 16', '%y %m %d')\n",
    "tt=time.mktime(timet)\n",
    "handler.utimens(path_list, [tt, tt])\n",
    "tt, timet"
   ]
  },
  {
   "cell_type": "markdown",
   "metadata": {},
   "source": [
    "## Examine Image Directory"
   ]
  },
  {
   "cell_type": "code",
   "execution_count": null,
   "metadata": {},
   "outputs": [],
   "source": [
    "STOP"
   ]
  },
  {
   "cell_type": "code",
   "execution_count": null,
   "metadata": {},
   "outputs": [],
   "source": [
    "path='/ffffffffffff/tag/sd/0/img'\n",
    "#path='/a0b696b4fb29/tag/sd/0/img'\n",
    "handler, path_list = LocateNode(tree_root, path)\n",
    "type(handler)"
   ]
  },
  {
   "cell_type": "code",
   "execution_count": null,
   "metadata": {
    "scrolled": false
   },
   "outputs": [],
   "source": [
    "img_list = handler.readdir(path_list, None)"
   ]
  },
  {
   "cell_type": "code",
   "execution_count": null,
   "metadata": {},
   "outputs": [],
   "source": [
    "for a in img_list:\n",
    "    print(a)"
   ]
  },
  {
   "cell_type": "code",
   "execution_count": null,
   "metadata": {},
   "outputs": [],
   "source": [
    "handler.radio"
   ]
  },
  {
   "cell_type": "markdown",
   "metadata": {},
   "source": [
    "Compare"
   ]
  },
  {
   "cell_type": "code",
   "execution_count": null,
   "metadata": {},
   "outputs": [],
   "source": [
    "for key in sorted(tag.keys()):\n",
    "  if tag[key] != rpi[key]:\n",
    "      print(hex(ord(key)))\n",
    "      print(hexlify(rpi[key]))\n",
    "      print(hexlify(tag[key]))"
   ]
  },
  {
   "cell_type": "markdown",
   "metadata": {},
   "source": [
    "## OTHER FUNCTIONS"
   ]
  },
  {
   "cell_type": "code",
   "execution_count": null,
   "metadata": {},
   "outputs": [],
   "source": [
    "STOP"
   ]
  },
  {
   "cell_type": "code",
   "execution_count": null,
   "metadata": {
    "scrolled": false
   },
   "outputs": [],
   "source": [
    "handler.radio.trace.display(handler.radio.trace.filter())"
   ]
  },
  {
   "cell_type": "code",
   "execution_count": null,
   "metadata": {},
   "outputs": [],
   "source": [
    "radio.get_clear_interrupts()"
   ]
  },
  {
   "cell_type": "code",
   "execution_count": null,
   "metadata": {
    "scrolled": true
   },
   "outputs": [],
   "source": [
    "for i in range(100):\n",
    "    print(radio.get_clear_interrupts())"
   ]
  },
  {
   "cell_type": "code",
   "execution_count": null,
   "metadata": {},
   "outputs": [],
   "source": [
    "radio.dump_radio()"
   ]
  },
  {
   "cell_type": "code",
   "execution_count": null,
   "metadata": {},
   "outputs": [],
   "source": [
    "help(radio)"
   ]
  },
  {
   "cell_type": "code",
   "execution_count": null,
   "metadata": {
    "scrolled": false
   },
   "outputs": [],
   "source": [
    "!ls"
   ]
  },
  {
   "cell_type": "code",
   "execution_count": null,
   "metadata": {},
   "outputs": [],
   "source": [
    "!stat nohup.out"
   ]
  },
  {
   "cell_type": "code",
   "execution_count": null,
   "metadata": {},
   "outputs": [],
   "source": [
    "print('hello')"
   ]
  },
  {
   "cell_type": "code",
   "execution_count": null,
   "metadata": {},
   "outputs": [],
   "source": []
  }
 ],
 "metadata": {
  "kernelspec": {
   "display_name": "Python 2",
   "language": "python",
   "name": "python2"
  },
  "language_info": {
   "codemirror_mode": {
    "name": "ipython",
    "version": 2
   },
   "file_extension": ".py",
   "mimetype": "text/x-python",
   "name": "python",
   "nbconvert_exporter": "python",
   "pygments_lexer": "ipython2",
   "version": "2.7.13"
  }
 },
 "nbformat": 4,
 "nbformat_minor": 2
}
