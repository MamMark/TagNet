{
 "cells": [
  {
   "cell_type": "markdown",
   "metadata": {},
   "source": [
    "# Tagfuse File System Feature Test"
   ]
  },
  {
   "cell_type": "markdown",
   "metadata": {},
   "source": [
    "This file contains a set of tests that verify the features of the Tag Fuse Filesystem."
   ]
  },
  {
   "cell_type": "markdown",
   "metadata": {},
   "source": [
    "## Prerequisites"
   ]
  },
  {
   "cell_type": "markdown",
   "metadata": {},
   "source": [
    "- Raspberry Pi with latest software (See ```01_RPi_Build.md``` for details on contructing and installing a new RPi Disk Image). Make sure that the lates TagNet Basestation Software is installed, too.\n",
    "- Tag with latest software (see ```?``` for details on constructing and installing a new Tag Image)"
   ]
  },
  {
   "cell_type": "markdown",
   "metadata": {},
   "source": [
    "## Initial State"
   ]
  },
  {
   "cell_type": "markdown",
   "metadata": {},
   "source": [
    "The following variables provide user environment control."
   ]
  },
  {
   "cell_type": "code",
   "execution_count": 13,
   "metadata": {},
   "outputs": [],
   "source": [
    "TREE_BASE    = '/home/pi/tags'\n",
    "nid='658bc8e5205c'\n",
    "nid='a0b696b4fb29'\n",
    "TAG_ID       = TREE_BASE + '/' + nid\n",
    "TAG_BASE     = TAG_ID + '/tag'\n",
    "IMAGE_BASE   = TAG_BASE + '/sd/0/img'\n",
    "DBLK_BASE    = TAG_BASE + '/sd/0/dblk'\n",
    "SYS_BASE     = TAG_BASE + '/sys'\n",
    "POLL_BASE    = TAG_BASE + '/poll'\n",
    "SPARSE_STORE = '/home/pi/Desktop'\n",
    "IMAGE_STORE  = '/mnt/neptune/tagbin'"
   ]
  },
  {
   "cell_type": "markdown",
   "metadata": {},
   "source": [
    "## NOTES / ISSUES\n",
    "- writing image when no room available gets stuck in a loop - very bad"
   ]
  },
  {
   "cell_type": "markdown",
   "metadata": {},
   "source": [
    "## Install Tagfuse Driver"
   ]
  },
  {
   "cell_type": "markdown",
   "metadata": {},
   "source": [
    "First, get the tagfuse driver running as a daemon"
   ]
  },
  {
   "cell_type": "code",
   "execution_count": 7,
   "metadata": {
    "scrolled": false
   },
   "outputs": [
    {
     "name": "stdout",
     "output_type": "stream",
     "text": [
      "TagNet Fuse Driver version: 0.2.2\n",
      "('mountpoint', '/home/pi/tags')\n",
      "('verbosity turned on', 1)\n",
      "('sparse files stored here', '/home/pi/Desktop')\n",
      "Si446x Driver Version: 0.3.7\n",
      "TagNet Driver Version 0.1.3\n",
      "loading sparsefile\n"
     ]
    }
   ],
   "source": [
    "!tagfuse -b -s $SPARSE_STORE $TREE_BASE"
   ]
  },
  {
   "cell_type": "markdown",
   "metadata": {},
   "source": [
    "Now look at the entire tree of information available in the tag"
   ]
  },
  {
   "cell_type": "code",
   "execution_count": 36,
   "metadata": {},
   "outputs": [
    {
     "name": "stdout",
     "output_type": "stream",
     "text": [
      "/home/pi/tags\n",
      "├── a0b696b4fb29\n",
      "│   └── tag\n",
      "│       ├── info\n",
      "│       │   └── sens\n",
      "│       │       └── gps\n",
      "│       │           ├── cmd\n",
      "│       │           └── xyz\n",
      "│       ├── poll\n",
      "│       │   ├── cnt\n",
      "│       │   └── ev\n",
      "│       ├── sd\n",
      "│       │   └── 0\n",
      "│       │       ├── dblk\n",
      "│       │       │   ├── byte\n",
      "│       │       │   ├── .committed\n",
      "│       │       │   ├── .last_rec\n",
      "│       │       │   ├── .last_sync\n",
      "│       │       │   ├── note\n",
      "│       │       │   └── .recnum\n",
      "│       │       ├── img\n",
      "│       │       └── panic\n",
      "│       │           ├── byte\n",
      "│       │           └── .count\n",
      "│       ├── sys\n",
      "│       │   ├── active\n",
      "│       │   ├── backup\n",
      "│       │   ├── golden\n",
      "│       │   │   └── 0.3.600\n",
      "│       │   ├── nib\n",
      "│       │   │   └── 255.255.65535\n",
      "│       │   └── running\n",
      "│       │       └── 0.3.600\n",
      "│       └── .test\n",
      "│           ├── drop\n",
      "│           ├── echo\n",
      "│           ├── ones\n",
      "│           ├── sum\n",
      "│           └── zeros\n",
      "├── ffffffffffff\n",
      "│   └── tag\n",
      "│       ├── info\n",
      "│       │   └── sens\n",
      "│       │       └── gps\n",
      "│       │           ├── cmd\n",
      "│       │           └── xyz\n",
      "│       ├── poll\n",
      "│       │   ├── cnt\n",
      "│       │   └── ev\n",
      "│       ├── sd\n",
      "│       │   └── 0\n",
      "│       │       ├── dblk\n",
      "│       │       │   ├── byte\n",
      "│       │       │   ├── .committed\n",
      "│       │       │   ├── .last_rec\n",
      "│       │       │   ├── .last_sync\n",
      "│       │       │   ├── note\n",
      "│       │       │   └── .recnum\n",
      "│       │       ├── img\n",
      "│       │       └── panic\n",
      "│       │           ├── byte\n",
      "│       │           └── .count\n",
      "│       ├── sys\n",
      "│       │   ├── active\n",
      "│       │   ├── backup\n",
      "│       │   ├── golden\n",
      "│       │   │   └── 0.3.600\n",
      "│       │   ├── nib\n",
      "│       │   │   └── 255.255.65535\n",
      "│       │   └── running\n",
      "│       │       └── 0.3.600\n",
      "│       └── .test\n",
      "│           ├── drop\n",
      "│           ├── echo\n",
      "│           ├── ones\n",
      "│           ├── sum\n",
      "│           └── zeros\n",
      "├── .poll\n",
      "│   ├── 658bc8e5205c\n",
      "│   └── 68656c70\n",
      "└── .test\n",
      "    ├── ones\n",
      "    ├── sum\n",
      "    └── zeros\n",
      "\n",
      "38 directories, 45 files\n"
     ]
    }
   ],
   "source": [
    "!tree -a $TREE_BASE\n",
    "#!tree -aJsD $TREE_BASE"
   ]
  },
  {
   "cell_type": "code",
   "execution_count": 12,
   "metadata": {},
   "outputs": [
    {
     "name": "stdout",
     "output_type": "stream",
     "text": [
      "total 4\r\n",
      "drwxr-x--x  6 pi pi    0 Dec 31  1969 .\r\n",
      "drwxr-xr-x 30 pi pi 4096 Jul 16 10:07 ..\r\n",
      "drwxr-x--x  3 pi pi    0 Dec 31  1969 a0b696b4fb29\r\n",
      "drwxr-x--x  3 pi pi    0 Dec 31  1969 ffffffffffff\r\n",
      "drwxr-x--x  4 pi pi    0 Dec 31  1969 .poll\r\n",
      "drwxr-x--x  6 pi pi    0 Dec 31  1969 .test\r\n"
     ]
    }
   ],
   "source": [
    "!ls -al $TREE_BASE"
   ]
  },
  {
   "cell_type": "markdown",
   "metadata": {},
   "source": [
    "## Examine the Dblk Area"
   ]
  },
  {
   "cell_type": "code",
   "execution_count": null,
   "metadata": {},
   "outputs": [],
   "source": [
    "#STOP"
   ]
  },
  {
   "cell_type": "code",
   "execution_count": 14,
   "metadata": {},
   "outputs": [
    {
     "name": "stdout",
     "output_type": "stream",
     "text": [
      "total 0\r\n",
      "drwxr-x--x 8 pi pi        0 Dec 31  1969 .\r\n",
      "drwxr-x--x 5 pi pi        0 Dec 31  1969 ..\r\n",
      "-r--r--r-- 1 pi pi 37618948 Jul 16 15:38 byte\r\n",
      "-r--r--r-- 1 pi pi 37619200 Jul 16 15:39 .committed\r\n",
      "-r--r--r-- 1 pi pi 37619028 Jul 16 15:39 .last_rec\r\n",
      "-r--r--r-- 1 pi pi 37615624 Jul 16 15:39 .last_sync\r\n",
      "-rw-rw---- 1 pi pi        0 Jul 16 15:38 note\r\n",
      "-r--r--r-- 1 pi pi    17287 Jul 16 15:38 .recnum\r\n"
     ]
    }
   ],
   "source": [
    "!ls -al $DBLK_BASE"
   ]
  },
  {
   "cell_type": "code",
   "execution_count": 15,
   "metadata": {},
   "outputs": [
    {
     "name": "stdout",
     "output_type": "stream",
     "text": [
      "37619856\r\n"
     ]
    }
   ],
   "source": [
    "!echo `stat -c '%s' $DBLK_BASE/.last_rec`"
   ]
  },
  {
   "cell_type": "code",
   "execution_count": 16,
   "metadata": {},
   "outputs": [
    {
     "name": "stdout",
     "output_type": "stream",
     "text": [
      "---  offset    recnum    rtime    len  dt  name\n",
      "---                      0.000000 2018/7/16 22:00 (0) UTC\n",
      "--- @37619788   17306 2469.170562  28   3  SYNC  prev: @37615624 (0x23df808)\n",
      "--- @37619816   17307 2469.193206  40   4  EVENT unk 7 4 0 4\n",
      "--- @37619856   17308 2469.193420  40   4  EVENT UNDOCKED 7 4292264376 4290646198 3821812\n",
      "--- @37619896   17309 2470.170257  40   4  EVENT GPS_GEO 132253456 5671 9000 0\n",
      "--- @37619936   17310 2470.170501  40   4  EVENT DOCKED 370489592 3074700518 2010 167964000\n",
      "--- @37619976   17311 2470.193603  40   4  EVENT UNDOCKED 7 4292264376 4290646198 3821812\n",
      "--- @37620016   17312 2471.170471  40   4  EVENT GPS_GEO 132253456 5671 10000 0\n",
      "--- @37620056   17313 2471.170715  40   4  EVENT DOCKED 370489592 3074700519 2010 167965000\n",
      "--- @37620096   17314 2471.193817  40   4  EVENT UNDOCKED 7 4292264376 4290646198 3821812\n",
      "--- @37620136   17315 2472.170745  40   4  EVENT GPS_GEO 132253456 5671 11000 0\n",
      "\n",
      "*** end of processing @37620176 (0x23e09d0),  processed: 10 records, 388 bytes\n",
      "*** reboots: 0, resyncs: 0, chksum_errs: 0, unk_rtypes: 0\n",
      "\n",
      "rtypes: {3: 1, 4: 9}\n",
      "mids:   {}\n"
     ]
    }
   ],
   "source": [
    "!tagdump -n 10 --net -j `stat -c '%s' $DBLK_BASE/.last_sync` $DBLK_BASE/byte"
   ]
  },
  {
   "cell_type": "code",
   "execution_count": null,
   "metadata": {},
   "outputs": [],
   "source": [
    "# !tagdump -j `stat -c '%s' $DBLK_BASE/.last_rec` $DBLK_BASE/byte"
   ]
  },
  {
   "cell_type": "markdown",
   "metadata": {},
   "source": [
    "## Write a note into the Dblk Area"
   ]
  },
  {
   "cell_type": "code",
   "execution_count": 17,
   "metadata": {},
   "outputs": [],
   "source": [
    "!echo 'this is a note' > $DBLK_BASE/note"
   ]
  },
  {
   "cell_type": "code",
   "execution_count": 18,
   "metadata": {},
   "outputs": [
    {
     "name": "stdout",
     "output_type": "stream",
     "text": [
      "-rw-rw---- 1 pi pi 1 Jul 16 15:39 /home/pi/tags/a0b696b4fb29/tag/sd/0/dblk/note\r\n"
     ]
    }
   ],
   "source": [
    "ls -l $DBLK_BASE/note"
   ]
  },
  {
   "cell_type": "code",
   "execution_count": 19,
   "metadata": {},
   "outputs": [],
   "source": [
    "!echo 'this is a second note' > $DBLK_BASE/note"
   ]
  },
  {
   "cell_type": "code",
   "execution_count": 20,
   "metadata": {},
   "outputs": [
    {
     "name": "stdout",
     "output_type": "stream",
     "text": [
      "-rw-rw---- 1 pi pi 2 Jul 16 15:39 /home/pi/tags/a0b696b4fb29/tag/sd/0/dblk/note\r\n"
     ]
    }
   ],
   "source": [
    "ls -l $DBLK_BASE/note"
   ]
  },
  {
   "cell_type": "markdown",
   "metadata": {},
   "source": [
    "## Extract a Panic Event"
   ]
  },
  {
   "cell_type": "code",
   "execution_count": null,
   "metadata": {},
   "outputs": [],
   "source": []
  },
  {
   "cell_type": "code",
   "execution_count": null,
   "metadata": {},
   "outputs": [],
   "source": []
  },
  {
   "cell_type": "markdown",
   "metadata": {},
   "source": [
    "## Get GPS Position"
   ]
  },
  {
   "cell_type": "code",
   "execution_count": null,
   "metadata": {},
   "outputs": [],
   "source": []
  },
  {
   "cell_type": "markdown",
   "metadata": {},
   "source": [
    "## Send Commands to control the GPS"
   ]
  },
  {
   "cell_type": "code",
   "execution_count": null,
   "metadata": {},
   "outputs": [],
   "source": []
  },
  {
   "cell_type": "markdown",
   "metadata": {},
   "source": [
    "## Examine Pending Events on the Tag"
   ]
  },
  {
   "cell_type": "code",
   "execution_count": 21,
   "metadata": {},
   "outputs": [
    {
     "name": "stdout",
     "output_type": "stream",
     "text": [
      "total 0\r\n",
      "-r--r--r-- 1 pi pi 3 Jul 16 15:40 cnt\r\n",
      "-r--r--r-- 1 pi pi 3 Jul 16 15:40 ev\r\n"
     ]
    }
   ],
   "source": [
    "!ls -l $POLL_BASE"
   ]
  },
  {
   "cell_type": "markdown",
   "metadata": {},
   "source": [
    "## Show the state of software currently installed on the tag"
   ]
  },
  {
   "cell_type": "code",
   "execution_count": 22,
   "metadata": {},
   "outputs": [
    {
     "name": "stdout",
     "output_type": "stream",
     "text": [
      "/home/pi/tags/a0b696b4fb29/tag/sys\n",
      "├── active\n",
      "├── backup\n",
      "├── golden\n",
      "│   └── 0.3.598\n",
      "├── nib\n",
      "│   └── 255.255.65535\n",
      "└── running\n",
      "    └── 0.3.598\n",
      "\n",
      "5 directories, 3 files\n"
     ]
    }
   ],
   "source": [
    "!tree $SYS_BASE"
   ]
  },
  {
   "cell_type": "markdown",
   "metadata": {},
   "source": [
    "## Change the state of software on the tag"
   ]
  },
  {
   "cell_type": "markdown",
   "metadata": {},
   "source": [
    "Check to see which software image is currently active (loaded into the Flash NIB space)"
   ]
  },
  {
   "cell_type": "code",
   "execution_count": 24,
   "metadata": {},
   "outputs": [],
   "source": [
    "!ls $SYS_BASE/active"
   ]
  },
  {
   "cell_type": "markdown",
   "metadata": {},
   "source": [
    "Set the active version NOTE: REBOOTS TAG"
   ]
  },
  {
   "cell_type": "code",
   "execution_count": 25,
   "metadata": {},
   "outputs": [
    {
     "name": "stdout",
     "output_type": "stream",
     "text": [
      "ln: failed to access '/home/pi/tags/a0b696b4fb29/tag/sd/0/img/0.3.461': No such file or directory\r\n"
     ]
    }
   ],
   "source": [
    "!ln $IMAGE_BASE/0.3.461 $SYS_BASE/active/0.3.461"
   ]
  },
  {
   "cell_type": "code",
   "execution_count": 26,
   "metadata": {},
   "outputs": [
    {
     "name": "stdout",
     "output_type": "stream",
     "text": [
      "total 0\r\n"
     ]
    }
   ],
   "source": [
    "!ls -l $SYS_BASE/active"
   ]
  },
  {
   "cell_type": "markdown",
   "metadata": {},
   "source": [
    "Try again with same version faile"
   ]
  },
  {
   "cell_type": "code",
   "execution_count": null,
   "metadata": {},
   "outputs": [],
   "source": [
    "!ln $IMAGE_BASE/0.3.460 $SYS_BASE/active/0.3.460"
   ]
  },
  {
   "cell_type": "markdown",
   "metadata": {},
   "source": [
    "Set the backup version"
   ]
  },
  {
   "cell_type": "code",
   "execution_count": null,
   "metadata": {},
   "outputs": [],
   "source": [
    "!ln $IMAGE_BASE/0.3.461 $SYS_BASE/backup/0.3.461"
   ]
  },
  {
   "cell_type": "code",
   "execution_count": null,
   "metadata": {},
   "outputs": [],
   "source": [
    "!ls $SYS_BASE/backup"
   ]
  },
  {
   "cell_type": "code",
   "execution_count": null,
   "metadata": {},
   "outputs": [],
   "source": [
    "!tree $SYS_BASE"
   ]
  },
  {
   "cell_type": "markdown",
   "metadata": {},
   "source": [
    "Reboot into the NIB"
   ]
  },
  {
   "cell_type": "markdown",
   "metadata": {},
   "source": [
    "Reboot into Golden"
   ]
  },
  {
   "cell_type": "markdown",
   "metadata": {},
   "source": [
    "## Load new Image onto Tag"
   ]
  },
  {
   "cell_type": "code",
   "execution_count": null,
   "metadata": {},
   "outputs": [],
   "source": [
    "#STOP"
   ]
  },
  {
   "cell_type": "markdown",
   "metadata": {},
   "source": [
    "Possible software images ready for loading are in the IMAGE_STORE directory"
   ]
  },
  {
   "cell_type": "code",
   "execution_count": 37,
   "metadata": {},
   "outputs": [
    {
     "name": "stdout",
     "output_type": "stream",
     "text": [
      "-rwxrwxrwx 1 pi devgrp  63188 May 29 23:51 /mnt/neptune/tagbin/0.3.461\r\n",
      "-rwxrwxrwx 1 pi devgrp  94164 Jun 28 10:30 /mnt/neptune/tagbin/0.3.574\r\n",
      "-rwxrwxrwx 1 pi devgrp  94900 Jul 16 15:54 /mnt/neptune/tagbin/0.3.599\r\n",
      "-rwxrwxrwx 1 pi devgrp  24212 Feb  8 21:58 /mnt/neptune/tagbin/blink464.bin\r\n",
      "-rwxrwxrwx 1 pi devgrp  20944 Jan 23 15:49 /mnt/neptune/tagbin/main2.bin\r\n",
      "-rwxrwxrwx 1 pi devgrp  45976 Jan 18 01:25 /mnt/neptune/tagbin/main386.bin\r\n",
      "-rwxrwxrwx 1 pi devgrp  47088 Feb  3 23:08 /mnt/neptune/tagbin/main442.bin\r\n",
      "-rwxrwxrwx 1 pi devgrp  47088 Feb  3 23:08 /mnt/neptune/tagbin/main443.bin\r\n",
      "-rwxrwxrwx 1 pi devgrp  48580 Feb 26 00:47 /mnt/neptune/tagbin/main496.bin\r\n",
      "-rwxrwxrwx 1 pi devgrp 927726 Jun 23 19:11 /mnt/neptune/tagbin/main566.bin\r\n",
      "-rwxrwxrwx 1 pi devgrp  20944 Feb 26 00:38 /mnt/neptune/tagbin/main.bin\r\n"
     ]
    }
   ],
   "source": [
    "!ls -l $IMAGE_STORE/*"
   ]
  },
  {
   "cell_type": "markdown",
   "metadata": {},
   "source": [
    "See what is currently in the tag's Image storage"
   ]
  },
  {
   "cell_type": "code",
   "execution_count": 28,
   "metadata": {},
   "outputs": [
    {
     "name": "stdout",
     "output_type": "stream",
     "text": [
      "total 0\r\n"
     ]
    }
   ],
   "source": [
    "!ls -l $IMAGE_BASE"
   ]
  },
  {
   "cell_type": "markdown",
   "metadata": {},
   "source": [
    "Now remove all images currently on the tag. NOTE: the active and backup images cannot be deleted (see later steps for how to find out which version is active)"
   ]
  },
  {
   "cell_type": "code",
   "execution_count": 29,
   "metadata": {},
   "outputs": [
    {
     "name": "stdout",
     "output_type": "stream",
     "text": [
      "rm: cannot remove '/home/pi/tags/a0b696b4fb29/tag/sd/0/img/*': No such file or directory\r\n"
     ]
    }
   ],
   "source": [
    "!rm $IMAGE_BASE/*"
   ]
  },
  {
   "cell_type": "markdown",
   "metadata": {},
   "source": [
    "Check the tag's Image storage again to verify"
   ]
  },
  {
   "cell_type": "code",
   "execution_count": 30,
   "metadata": {},
   "outputs": [
    {
     "name": "stdout",
     "output_type": "stream",
     "text": [
      "total 0\r\n"
     ]
    }
   ],
   "source": [
    "!ls -l $IMAGE_BASE"
   ]
  },
  {
   "cell_type": "markdown",
   "metadata": {},
   "source": [
    "Use `cp` to copy one of the software images in the IMAGE_STORE to the tag\n",
    "Monitor progress using pv"
   ]
  },
  {
   "cell_type": "code",
   "execution_count": 51,
   "metadata": {},
   "outputs": [
    {
     "name": "stdout",
     "output_type": "stream",
     "text": [
      "0\n",
      "pv: write failed: No such file or directory\n"
     ]
    }
   ],
   "source": [
    "version = '0.3.599'\n",
    "#!cp main386.bin $IMAGE_BASE/0.2.386 | pv\n",
    "!pv  -n $IMAGE_STORE/$version > $IMAGE_BASE/$version"
   ]
  },
  {
   "cell_type": "markdown",
   "metadata": {},
   "source": [
    "Check to see that image is now on the tag"
   ]
  },
  {
   "cell_type": "code",
   "execution_count": null,
   "metadata": {},
   "outputs": [],
   "source": [
    "!ls -l $IMAGE_BASE"
   ]
  },
  {
   "cell_type": "markdown",
   "metadata": {},
   "source": [
    "Load another image to the tag, this time using `dd`"
   ]
  },
  {
   "cell_type": "code",
   "execution_count": null,
   "metadata": {},
   "outputs": [],
   "source": [
    "!dd if=$IMAGE_STORE/main442.bin of=$IMAGE_BASE/0.2.442"
   ]
  },
  {
   "cell_type": "code",
   "execution_count": null,
   "metadata": {},
   "outputs": [],
   "source": [
    "!tree $IMAGE_BASE"
   ]
  },
  {
   "cell_type": "code",
   "execution_count": null,
   "metadata": {
    "scrolled": false
   },
   "outputs": [],
   "source": [
    "!dd if=$IMAGE_STORE/main443.bin of=$IMAGE_BASE/0.2.443"
   ]
  },
  {
   "cell_type": "code",
   "execution_count": null,
   "metadata": {},
   "outputs": [],
   "source": [
    "!ls -l $IMAGE_BASE"
   ]
  },
  {
   "cell_type": "code",
   "execution_count": null,
   "metadata": {
    "scrolled": false
   },
   "outputs": [],
   "source": [
    "!dd if==%IMAGE_STORE/blink464.bin of=$IMAGE_BASE/0.2.464"
   ]
  },
  {
   "cell_type": "code",
   "execution_count": null,
   "metadata": {},
   "outputs": [],
   "source": [
    "!ls -l $IMAGE_BASE"
   ]
  },
  {
   "cell_type": "markdown",
   "metadata": {},
   "source": [
    "Check for memory full error condition"
   ]
  },
  {
   "cell_type": "code",
   "execution_count": null,
   "metadata": {
    "scrolled": false
   },
   "outputs": [],
   "source": [
    "!dd if=$IMAGE_STORE/main496.bin of=$IMAGE_BASE/0.2.496"
   ]
  },
  {
   "cell_type": "code",
   "execution_count": null,
   "metadata": {},
   "outputs": [],
   "source": [
    "!ls -l $IMAGE_BASE"
   ]
  },
  {
   "cell_type": "markdown",
   "metadata": {},
   "source": [
    "## Stop the Fuse Driver"
   ]
  },
  {
   "cell_type": "code",
   "execution_count": null,
   "metadata": {},
   "outputs": [],
   "source": [
    "!fusermount -u ~/tags"
   ]
  },
  {
   "cell_type": "code",
   "execution_count": null,
   "metadata": {},
   "outputs": [],
   "source": []
  }
 ],
 "metadata": {
  "kernelspec": {
   "display_name": "Python 2",
   "language": "python",
   "name": "python2"
  },
  "language_info": {
   "codemirror_mode": {
    "name": "ipython",
    "version": 2
   },
   "file_extension": ".py",
   "mimetype": "text/x-python",
   "name": "python",
   "nbconvert_exporter": "python",
   "pygments_lexer": "ipython2",
   "version": "2.7.13"
  }
 },
 "nbformat": 4,
 "nbformat_minor": 2
}
