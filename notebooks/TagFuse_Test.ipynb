{
 "cells": [
  {
   "cell_type": "code",
   "execution_count": 37,
   "metadata": {},
   "outputs": [],
   "source": [
    "TREE_BASE    = '/home/pi/tags'\n",
    "TAG_BASE     = TREE_BASE + '/ffffffffffff/tag'\n",
    "IMAGE_BASE   = TAG_BASE + '/sd/0/img'\n",
    "DBLK_BASE    = TAG_BASE + '/sd/0/dblk'\n",
    "SYS_BASE     = TAG_BASE + '/sys'\n",
    "POLL_BASE    = TAG_BASE + '/poll'\n",
    "SPARSE_STORE = '/home/pi/tag_store'\n",
    "IMAGE_STORE  = '/mnt/Open/Tagnet/notebooks'"
   ]
  },
  {
   "cell_type": "markdown",
   "metadata": {},
   "source": [
    "## NOTES\n",
    "- writing image when no room available gets stuck in a loop - very bad"
   ]
  },
  {
   "cell_type": "markdown",
   "metadata": {},
   "source": [
    "# Using the Tagfuse File System Interface"
   ]
  },
  {
   "cell_type": "markdown",
   "metadata": {},
   "source": [
    "## Install Tagfuse Driver"
   ]
  },
  {
   "cell_type": "markdown",
   "metadata": {},
   "source": [
    "First, get the tagfuse driver running as a daemon"
   ]
  },
  {
   "cell_type": "code",
   "execution_count": 39,
   "metadata": {
    "scrolled": false
   },
   "outputs": [
    {
     "name": "stdout",
     "output_type": "stream",
     "text": [
      "('mountpoint', '/home/pi/tags')\n",
      "('verbosity turned on', 1)\n",
      "('sparse files stored here', '/home/pi/tag_store')\n",
      "*** tagfuse.py starting\n",
      "default encoding ascii\n",
      "*** tagfuse path:\n",
      "/usr/local/bin\n",
      "/usr/lib/python2.7\n",
      "/usr/lib/python2.7/plat-arm-linux-gnueabihf\n",
      "/usr/lib/python2.7/lib-tk\n",
      "/usr/lib/python2.7/lib-old\n",
      "/usr/lib/python2.7/lib-dynload\n",
      "/usr/local/lib/python2.7/dist-packages\n",
      "/usr/local/lib/python2.7/dist-packages/si446x-0.2.6-py2.7-linux-armv7l.egg\n",
      "/usr/local/lib/python2.7/dist-packages/txdbus-1.1.0-py2.7.egg\n",
      "/usr/local/lib/python2.7/dist-packages/tagnet-0.0.25-py2.7.egg\n",
      "/usr/local/lib/python2.7/dist-packages/uuid-1.30-py2.7.egg\n",
      "/usr/local/lib/python2.7/dist-packages/DateTime-4.2-py2.7.egg\n",
      "/usr/local/lib/python2.7/dist-packages/tagfuse-0.0.31-py2.7.egg\n",
      "/usr/local/lib/python2.7/dist-packages/chest-0.2.3-py2.7.egg\n",
      "/usr/local/lib/python2.7/dist-packages/HeapDict-1.0.0-py2.7.egg\n",
      "/usr/local/lib/python2.7/dist-packages/tagdump-0.2.12.dev12-py2.7.egg\n",
      "/usr/lib/python2.7/dist-packages\n",
      "/usr/lib/python2.7/dist-packages/PILcompat\n",
      "/usr/lib/python2.7/dist-packages/gtk-2.0\n",
      "('si446x version: ', '0.2.6')\n",
      "('tagnet: ', '/usr/local/bin/tagfuse', '/mnt/Open/TagNet/notebooks')\n",
      "tagnet driver version 0.0.25\n",
      "loading sparsefile\n",
      "*** TagFuseTree.py ending\n",
      "*** tagfuse.py ending\n",
      "tagfuse context (1L, 0L, 0)\n",
      "1000 1000\n",
      "1000 1000\n"
     ]
    }
   ],
   "source": [
    "!tagfuse -b -s $SPARSE_STORE $TREE_BASE"
   ]
  },
  {
   "cell_type": "markdown",
   "metadata": {},
   "source": [
    "Now look at the entire tree of information available in the tag"
   ]
  },
  {
   "cell_type": "code",
   "execution_count": 48,
   "metadata": {},
   "outputs": [
    {
     "name": "stdout",
     "output_type": "stream",
     "text": [
      "/home/pi/tags\n",
      "├── ffffffffffff\n",
      "│   └── tag\n",
      "│       ├── info\n",
      "│       │   └── sens\n",
      "│       │       └── gps\n",
      "│       │           ├── cmd\n",
      "│       │           └── xyz\n",
      "│       ├── poll\n",
      "│       │   ├── cnt\n",
      "│       │   └── ev\n",
      "│       ├── sd\n",
      "│       │   └── 0\n",
      "│       │       ├── dblk\n",
      "│       │       │   ├── byte\n",
      "│       │       │   ├── .committed\n",
      "│       │       │   ├── .last_rec\n",
      "│       │       │   ├── .last_sync\n",
      "│       │       │   ├── note\n",
      "│       │       │   └── .recnum\n",
      "│       │       ├── img\n",
      "│       │       │   ├── 0.2.386\n",
      "│       │       │   ├── 0.2.442\n",
      "│       │       │   └── 0.2.443\n",
      "│       │       └── panic\n",
      "│       │           └── byte\n",
      "│       │               ├── 0\n",
      "│       │               ├── 1\n",
      "│       │               ├── 2\n",
      "│       │               ├── 3\n",
      "│       │               └── 4\n",
      "│       └── sys\n",
      "│           ├── active\n",
      "│           │   └── 0.2.443\n",
      "│           ├── backup\n",
      "│           ├── golden\n",
      "│           │   └── 0.2.519\n",
      "│           ├── nib\n",
      "│           │   └── 0.2.386\n",
      "│           └── running\n",
      "│               └── 0.2.519\n",
      "└── .test\n",
      "    ├── ones\n",
      "    ├── sum\n",
      "    └── zeros\n",
      "\n",
      "19 directories, 25 files\n"
     ]
    }
   ],
   "source": [
    "!tree -a $TREE_BASE\n",
    "#!tree -aJsD $TREE_BASE"
   ]
  },
  {
   "cell_type": "markdown",
   "metadata": {},
   "source": [
    "## Examine the Dblk Area"
   ]
  },
  {
   "cell_type": "code",
   "execution_count": 4,
   "metadata": {},
   "outputs": [],
   "source": [
    "#STOP"
   ]
  },
  {
   "cell_type": "code",
   "execution_count": 54,
   "metadata": {},
   "outputs": [
    {
     "name": "stdout",
     "output_type": "stream",
     "text": [
      "total 0\r\n",
      "drwxr-x--x 8 pi pi        0 Mar 20 13:21 .\r\n",
      "drwxr-x--x 5 pi pi        0 Mar 20 13:21 ..\r\n",
      "-r--r--r-- 1 pi pi 38641632 Mar 20 21:48 byte\r\n",
      "-r--r--r-- 1 pi pi 38640128 Mar 20 21:48 .committed\r\n",
      "-r--r--r-- 1 pi pi 38641596 Mar 20 21:48 .last_rec\r\n",
      "-r--r--r-- 1 pi pi 38641596 Mar 20 21:48 .last_sync\r\n",
      "-rw-rw---- 1 pi pi        8 Mar 20 21:48 note\r\n",
      "-r--r--r-- 1 pi pi   502196 Mar 20 21:48 .recnum\r\n"
     ]
    }
   ],
   "source": [
    "!ls -al $DBLK_BASE"
   ]
  },
  {
   "cell_type": "code",
   "execution_count": 55,
   "metadata": {},
   "outputs": [
    {
     "name": "stdout",
     "output_type": "stream",
     "text": [
      "38641596\r\n"
     ]
    }
   ],
   "source": [
    "!echo `stat -c '%s' $DBLK_BASE/.last_rec`"
   ]
  },
  {
   "cell_type": "code",
   "execution_count": 57,
   "metadata": {},
   "outputs": [
    {
     "name": "stdout",
     "output_type": "stream",
     "text": [
      "--- offset  recnum  systime  len  type  name\n",
      "--- @38641596 502196 166541375   36     3  SYNC   prev: @38641560 (0x24d9f98)\n",
      "*** TF.read: buf len:  0\n",
      "*** TF.read: buf len:  0\n",
      "*** TF.read: buf len:  0\n",
      "^C\n",
      "\n",
      "\n",
      "*** user stop\n",
      "*** end of processing @38641632 (0x24d9fe0),  processed: 1 records, 36 bytes\n",
      "*** reboots: 0, resyncs: 0, chksum_errs: 0, unk_rtypes: 0\n",
      "\n",
      "dt_s:  {3: 1}\n",
      "mid_s: {}\n"
     ]
    }
   ],
   "source": [
    "!tagdump -n 10 --net -j `stat -c '%s' $DBLK_BASE/.last_sync` $DBLK_BASE/byte"
   ]
  },
  {
   "cell_type": "code",
   "execution_count": 8,
   "metadata": {},
   "outputs": [],
   "source": [
    "# !tagdump -j `stat -c '%s' $DBLK_BASE/.last_rec` $DBLK_BASE/byte"
   ]
  },
  {
   "cell_type": "markdown",
   "metadata": {},
   "source": [
    "## Write a note into the Dblk Area"
   ]
  },
  {
   "cell_type": "code",
   "execution_count": 58,
   "metadata": {},
   "outputs": [],
   "source": [
    "!echo 'this is a note' > $DBLK_BASE/note"
   ]
  },
  {
   "cell_type": "code",
   "execution_count": 59,
   "metadata": {},
   "outputs": [
    {
     "name": "stdout",
     "output_type": "stream",
     "text": [
      "-rw-rw---- 1 pi pi 9 Mar 20 21:50 /home/pi/tags/ffffffffffff/tag/sd/0/dblk/note\r\n"
     ]
    }
   ],
   "source": [
    "ls -l $DBLK_BASE/note"
   ]
  },
  {
   "cell_type": "code",
   "execution_count": 60,
   "metadata": {},
   "outputs": [],
   "source": [
    "!echo 'this is a second note' > $DBLK_BASE/note"
   ]
  },
  {
   "cell_type": "code",
   "execution_count": 61,
   "metadata": {},
   "outputs": [
    {
     "name": "stdout",
     "output_type": "stream",
     "text": [
      "-rw-rw---- 1 pi pi 10 Mar 20 21:50 /home/pi/tags/ffffffffffff/tag/sd/0/dblk/note\r\n"
     ]
    }
   ],
   "source": [
    "ls -l $DBLK_BASE/note"
   ]
  },
  {
   "cell_type": "markdown",
   "metadata": {},
   "source": [
    "## Extract a Panic Event"
   ]
  },
  {
   "cell_type": "code",
   "execution_count": null,
   "metadata": {},
   "outputs": [],
   "source": []
  },
  {
   "cell_type": "code",
   "execution_count": null,
   "metadata": {},
   "outputs": [],
   "source": []
  },
  {
   "cell_type": "markdown",
   "metadata": {},
   "source": [
    "## Get GPS Position"
   ]
  },
  {
   "cell_type": "code",
   "execution_count": null,
   "metadata": {},
   "outputs": [],
   "source": []
  },
  {
   "cell_type": "markdown",
   "metadata": {},
   "source": [
    "## Send Commands to control the GPS"
   ]
  },
  {
   "cell_type": "code",
   "execution_count": null,
   "metadata": {},
   "outputs": [],
   "source": []
  },
  {
   "cell_type": "markdown",
   "metadata": {},
   "source": [
    "## Examine Pending Events on the Tag"
   ]
  },
  {
   "cell_type": "code",
   "execution_count": 13,
   "metadata": {},
   "outputs": [
    {
     "name": "stdout",
     "output_type": "stream",
     "text": [
      "total 0\r\n",
      "-r--r--r-- 1 pi pi 0 Mar 19 01:37 cnt\r\n",
      "-r--r--r-- 1 pi pi 0 Mar 19 01:37 ev\r\n"
     ]
    }
   ],
   "source": [
    "!ls -l $POLL_BASE"
   ]
  },
  {
   "cell_type": "markdown",
   "metadata": {},
   "source": [
    "## Show the state of software currently installed on the tag"
   ]
  },
  {
   "cell_type": "code",
   "execution_count": 14,
   "metadata": {},
   "outputs": [
    {
     "name": "stdout",
     "output_type": "stream",
     "text": [
      "/home/pi/tags/ffffffffffff/tag/sys\n",
      "├── active\n",
      "│   └── 0.2.443\n",
      "├── backup\n",
      "├── golden\n",
      "│   └── 0.2.519\n",
      "├── nib\n",
      "│   └── 0.2.386\n",
      "└── running\n",
      "    └── 0.2.519\n",
      "\n",
      "5 directories, 4 files\n"
     ]
    }
   ],
   "source": [
    "!tree $SYS_BASE"
   ]
  },
  {
   "cell_type": "markdown",
   "metadata": {},
   "source": [
    "## Change the state of software on the tag"
   ]
  },
  {
   "cell_type": "markdown",
   "metadata": {},
   "source": [
    "Check to see which software image is currently active (loaded into the Flash NIB space)"
   ]
  },
  {
   "cell_type": "code",
   "execution_count": 15,
   "metadata": {},
   "outputs": [
    {
     "name": "stdout",
     "output_type": "stream",
     "text": [
      "0.2.443\r\n"
     ]
    }
   ],
   "source": [
    "!ls $SYS_BASE/active"
   ]
  },
  {
   "cell_type": "markdown",
   "metadata": {},
   "source": [
    "Set the active version NOTE: REBOOTS TAG"
   ]
  },
  {
   "cell_type": "code",
   "execution_count": 16,
   "metadata": {},
   "outputs": [
    {
     "name": "stdout",
     "output_type": "stream",
     "text": [
      "ln: failed to create hard link '/home/pi/tags/ffffffffffff/tag/sys/active/0.2.443': File exists\r\n"
     ]
    }
   ],
   "source": [
    "!ln $IMAGE_BASE/0.2.443 $SYS_BASE/active/0.2.443"
   ]
  },
  {
   "cell_type": "code",
   "execution_count": 17,
   "metadata": {},
   "outputs": [
    {
     "name": "stdout",
     "output_type": "stream",
     "text": [
      "total 0\r\n",
      "-rw-rw-r-- 1 pi pi 0 Mar 19 01:37 0.2.443\r\n"
     ]
    }
   ],
   "source": [
    "!ls -l $SYS_BASE/active"
   ]
  },
  {
   "cell_type": "markdown",
   "metadata": {},
   "source": [
    "Try again with same version faile"
   ]
  },
  {
   "cell_type": "code",
   "execution_count": 18,
   "metadata": {},
   "outputs": [
    {
     "name": "stdout",
     "output_type": "stream",
     "text": [
      "ln: failed to create hard link '/home/pi/tags/ffffffffffff/tag/sys/active/0.2.443': File exists\r\n"
     ]
    }
   ],
   "source": [
    "!ln $IMAGE_BASE/0.2.443 $SYS_BASE/active/0.2.443"
   ]
  },
  {
   "cell_type": "markdown",
   "metadata": {},
   "source": [
    "Set the backup version"
   ]
  },
  {
   "cell_type": "code",
   "execution_count": 19,
   "metadata": {},
   "outputs": [
    {
     "name": "stdout",
     "output_type": "stream",
     "text": [
      "ln: failed to access '/home/pi/tags/ffffffffffff/tag/sd/0/img/0.2.442': No such file or directory\r\n"
     ]
    }
   ],
   "source": [
    "!ln $IMAGE_BASE/0.2.442 $SYS_BASE/backup/0.2.442"
   ]
  },
  {
   "cell_type": "code",
   "execution_count": 20,
   "metadata": {},
   "outputs": [],
   "source": [
    "!ls $SYS_BASE/backup"
   ]
  },
  {
   "cell_type": "markdown",
   "metadata": {},
   "source": [
    "Reboot into the NIB"
   ]
  },
  {
   "cell_type": "markdown",
   "metadata": {},
   "source": [
    "Reboot into Golden"
   ]
  },
  {
   "cell_type": "markdown",
   "metadata": {},
   "source": [
    "## Load new Image onto Tag"
   ]
  },
  {
   "cell_type": "code",
   "execution_count": 21,
   "metadata": {},
   "outputs": [],
   "source": [
    "#STOP"
   ]
  },
  {
   "cell_type": "markdown",
   "metadata": {},
   "source": [
    "Possible software images ready for loading are in the IMAGE_STORE directory"
   ]
  },
  {
   "cell_type": "code",
   "execution_count": 22,
   "metadata": {},
   "outputs": [
    {
     "name": "stdout",
     "output_type": "stream",
     "text": [
      "-rwxr-xr-x 1 pi pi 24212 Feb  8 21:58 /mnt/Open/Tagnet/notebooks/blink464.bin\r\n",
      "-rwxr-xr-x 1 pi pi 20944 Jan 23 15:49 /mnt/Open/Tagnet/notebooks/main2.bin\r\n",
      "-rwxr-xr-x 1 pi pi 45976 Jan 18 01:25 /mnt/Open/Tagnet/notebooks/main386.bin\r\n",
      "-rwxr-xr-x 1 pi pi 47088 Feb  3 23:08 /mnt/Open/Tagnet/notebooks/main442.bin\r\n",
      "-rwxr-xr-x 1 pi pi 47088 Feb  3 23:08 /mnt/Open/Tagnet/notebooks/main443.bin\r\n",
      "-rwxr-xr-x 1 pi pi 48580 Feb 26 00:47 /mnt/Open/Tagnet/notebooks/main496.bin\r\n",
      "-rwxr-xr-x 1 pi pi 20944 Feb 26 00:38 /mnt/Open/Tagnet/notebooks/main.bin\r\n"
     ]
    }
   ],
   "source": [
    "!ls -l $IMAGE_STORE/*.bin"
   ]
  },
  {
   "cell_type": "markdown",
   "metadata": {},
   "source": [
    "See what is currently in the tag's Image storage"
   ]
  },
  {
   "cell_type": "code",
   "execution_count": 23,
   "metadata": {},
   "outputs": [
    {
     "name": "stdout",
     "output_type": "stream",
     "text": [
      "total 0\r\n",
      "-rw-rw-r-- 1 pi pi 0 Mar 19 01:37 0.2.386\r\n",
      "-rw-rw-r-- 1 pi pi 0 Mar 19 01:37 0.2.443\r\n"
     ]
    }
   ],
   "source": [
    "!ls -l $IMAGE_BASE"
   ]
  },
  {
   "cell_type": "markdown",
   "metadata": {},
   "source": [
    "Now remove all images currently on the tag. NOTE: the active and backup images cannot be deleted (see later steps for how to find out which version is active)"
   ]
  },
  {
   "cell_type": "code",
   "execution_count": 24,
   "metadata": {},
   "outputs": [],
   "source": [
    "!rm $IMAGE_BASE/*"
   ]
  },
  {
   "cell_type": "markdown",
   "metadata": {},
   "source": [
    "Check the tag's Image storage again to verify"
   ]
  },
  {
   "cell_type": "code",
   "execution_count": 25,
   "metadata": {},
   "outputs": [
    {
     "name": "stdout",
     "output_type": "stream",
     "text": [
      "total 0\r\n",
      "-rw-rw-r-- 1 pi pi 0 Mar 19 01:37 0.2.443\r\n"
     ]
    }
   ],
   "source": [
    "!ls -l $IMAGE_BASE"
   ]
  },
  {
   "cell_type": "markdown",
   "metadata": {},
   "source": [
    "Use `cp` to copy one of the software images in the IMAGE_STORE to the tag\n",
    "Monitor progress using pv"
   ]
  },
  {
   "cell_type": "code",
   "execution_count": 26,
   "metadata": {},
   "outputs": [],
   "source": [
    "#!cp main386.bin $IMAGE_BASE/0.2.386 | pv\n",
    "!cp $IMAGE_STORE/main386.bin $IMAGE_BASE/0.2.386"
   ]
  },
  {
   "cell_type": "markdown",
   "metadata": {},
   "source": [
    "Check to see that image is now on the tag"
   ]
  },
  {
   "cell_type": "code",
   "execution_count": 27,
   "metadata": {},
   "outputs": [
    {
     "name": "stdout",
     "output_type": "stream",
     "text": [
      "total 0\r\n",
      "-rw-rw-r-- 1 pi pi 45976 Mar 19 01:37 0.2.386\r\n",
      "-rw-rw-r-- 1 pi pi     0 Mar 19 01:37 0.2.443\r\n"
     ]
    }
   ],
   "source": [
    "!ls -l $IMAGE_BASE"
   ]
  },
  {
   "cell_type": "markdown",
   "metadata": {},
   "source": [
    "Load another image to the tag, this time using `dd`"
   ]
  },
  {
   "cell_type": "code",
   "execution_count": 28,
   "metadata": {},
   "outputs": [
    {
     "name": "stdout",
     "output_type": "stream",
     "text": [
      "91+1 records in\r\n",
      "91+1 records out\r\n",
      "47088 bytes (47 kB, 46 KiB) copied, 127.245 s, 0.4 kB/s\r\n"
     ]
    }
   ],
   "source": [
    "!dd if=$IMAGE_STORE/main442.bin of=$IMAGE_BASE/0.2.442"
   ]
  },
  {
   "cell_type": "code",
   "execution_count": null,
   "metadata": {},
   "outputs": [],
   "source": []
  },
  {
   "cell_type": "code",
   "execution_count": 29,
   "metadata": {
    "scrolled": false
   },
   "outputs": [
    {
     "name": "stdout",
     "output_type": "stream",
     "text": [
      "dd: writing to '/home/pi/tags/ffffffffffff/tag/sd/0/img/0.2.443': Software caused connection abort\r\n",
      "dd: closing output file '/home/pi/tags/ffffffffffff/tag/sd/0/img/0.2.443': Transport endpoint is not connected\r\n"
     ]
    }
   ],
   "source": [
    "!dd if=$IMAGE_STORE/main443.bin of=$IMAGE_BASE/0.2.443"
   ]
  },
  {
   "cell_type": "code",
   "execution_count": 30,
   "metadata": {},
   "outputs": [
    {
     "name": "stdout",
     "output_type": "stream",
     "text": [
      "ls: cannot access '/home/pi/tags/ffffffffffff/tag/sd/0/img': Transport endpoint is not connected\r\n"
     ]
    }
   ],
   "source": [
    "!ls -l $IMAGE_BASE"
   ]
  },
  {
   "cell_type": "code",
   "execution_count": 31,
   "metadata": {
    "scrolled": false
   },
   "outputs": [
    {
     "name": "stdout",
     "output_type": "stream",
     "text": [
      "dd: failed to open '=%IMAGE_STORE/blink464.bin': No such file or directory\r\n"
     ]
    }
   ],
   "source": [
    "!dd if==%IMAGE_STORE/blink464.bin of=$IMAGE_BASE/0.2.464"
   ]
  },
  {
   "cell_type": "code",
   "execution_count": 32,
   "metadata": {},
   "outputs": [
    {
     "name": "stdout",
     "output_type": "stream",
     "text": [
      "ls: cannot access '/home/pi/tags/ffffffffffff/tag/sd/0/img': Transport endpoint is not connected\r\n"
     ]
    }
   ],
   "source": [
    "!ls -l $IMAGE_BASE"
   ]
  },
  {
   "cell_type": "markdown",
   "metadata": {},
   "source": [
    "Check for memory full error condition"
   ]
  },
  {
   "cell_type": "code",
   "execution_count": 33,
   "metadata": {
    "scrolled": false
   },
   "outputs": [
    {
     "name": "stdout",
     "output_type": "stream",
     "text": [
      "dd: failed to open '/home/pi/tags/ffffffffffff/tag/sd/0/img/0.2.496': Transport endpoint is not connected\r\n"
     ]
    }
   ],
   "source": [
    "!dd if=$IMAGE_STORE/main496.bin of=$IMAGE_BASE/0.2.496"
   ]
  },
  {
   "cell_type": "code",
   "execution_count": 34,
   "metadata": {},
   "outputs": [
    {
     "name": "stdout",
     "output_type": "stream",
     "text": [
      "ls: cannot access '/home/pi/tags/ffffffffffff/tag/sd/0/img': Transport endpoint is not connected\r\n"
     ]
    }
   ],
   "source": [
    "!ls -l $IMAGE_BASE"
   ]
  },
  {
   "cell_type": "markdown",
   "metadata": {},
   "source": [
    "## Stop the Fuse Driver"
   ]
  },
  {
   "cell_type": "code",
   "execution_count": 35,
   "metadata": {},
   "outputs": [],
   "source": [
    "!fusermount -u ~/tags"
   ]
  },
  {
   "cell_type": "code",
   "execution_count": null,
   "metadata": {},
   "outputs": [],
   "source": []
  }
 ],
 "metadata": {
  "kernelspec": {
   "display_name": "Python 2",
   "language": "python",
   "name": "python2"
  },
  "language_info": {
   "codemirror_mode": {
    "name": "ipython",
    "version": 2
   },
   "file_extension": ".py",
   "mimetype": "text/x-python",
   "name": "python",
   "nbconvert_exporter": "python",
   "pygments_lexer": "ipython2",
   "version": "2.7.13"
  }
 },
 "nbformat": 4,
 "nbformat_minor": 2
}
