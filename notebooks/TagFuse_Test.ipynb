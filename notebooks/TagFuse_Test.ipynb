{
 "cells": [
  {
   "cell_type": "code",
   "execution_count": null,
   "metadata": {},
   "outputs": [],
   "source": [
    "%autosave 0"
   ]
  },
  {
   "cell_type": "code",
   "execution_count": null,
   "metadata": {},
   "outputs": [],
   "source": [
    "import subprocess\n",
    "from os import listdir\n",
    "from os.path import isfile, join\n",
    "from time import time, sleep"
   ]
  },
  {
   "cell_type": "markdown",
   "metadata": {},
   "source": [
    "# Tagfuse File System Feature Test"
   ]
  },
  {
   "cell_type": "markdown",
   "metadata": {},
   "source": [
    "This file contains a set of tests that verify the features of the Tag Fuse Filesystem."
   ]
  },
  {
   "cell_type": "markdown",
   "metadata": {},
   "source": [
    "## Prerequisites"
   ]
  },
  {
   "cell_type": "markdown",
   "metadata": {},
   "source": [
    "- Raspberry Pi with latest software (See ```01_RPi_Build.md``` for details on contructing and installing a new RPi Disk Image). Make sure that the lates TagNet Basestation Software is installed, too.\n",
    "- Tag with latest software (see ```?``` for details on constructing and installing a new Tag Image)"
   ]
  },
  {
   "cell_type": "markdown",
   "metadata": {},
   "source": [
    "### Verified Features\n",
    "- Polling for tags\n",
    "    - tested with two\n",
    "- Dblk read\n",
    "    - using ```tagdump```\n",
    "- Dlbk special files\n",
    "    - sizes reflect offsets of underlying record status"
   ]
  },
  {
   "cell_type": "markdown",
   "metadata": {},
   "source": [
    "### To be Tested\n",
    "- Panic verification\n",
    "    - Panic byte file read is working\n",
    "    - need to figure out if/how to erase\n",
    "- GPS XYZ value\n",
    "- GPS cmd\n",
    "    - has been used extensively, just need to add test\n",
    "- Poll count verification\n",
    "- Reboot using sys/{Active,Golden,Nib,Backup,Running}"
   ]
  },
  {
   "cell_type": "markdown",
   "metadata": {},
   "source": [
    "### Failed Tests"
   ]
  },
  {
   "cell_type": "markdown",
   "metadata": {},
   "source": [
    "- getattr\n",
    "    - rtc\n",
    "    - panic/{count, byte}\n",
    "    - test/{sum,zeros,ones}\n",
    "    - sys/{golden,nib}"
   ]
  },
  {
   "cell_type": "markdown",
   "metadata": {},
   "source": [
    "### Missing Features\n",
    "- Image filesize and timestamp metadata\n",
    "- Not all file timestamps are being set\n",
    "- Poll event identifiers\n",
    "- Date on GPS (designates acquisition time)"
   ]
  },
  {
   "cell_type": "markdown",
   "metadata": {},
   "source": [
    "## Initial State"
   ]
  },
  {
   "cell_type": "markdown",
   "metadata": {},
   "source": [
    "The following variables provide user environment control."
   ]
  },
  {
   "cell_type": "code",
   "execution_count": null,
   "metadata": {},
   "outputs": [],
   "source": [
    "nid='658bc8e5205c'\n",
    "#nid='a0b696b4fb29'"
   ]
  },
  {
   "cell_type": "code",
   "execution_count": null,
   "metadata": {},
   "outputs": [],
   "source": [
    "TREE_BASE       = '/home/pi/tags'\n",
    "TAG_ID          = TREE_BASE + '/' + nid\n",
    "TAG_BASE        = TAG_ID + '/tag'\n",
    "TAG_IMAGE_STORE = TAG_BASE + '/sd/0/img'\n",
    "DBLK_BASE       = TAG_BASE + '/sd/0/dblk'\n",
    "SYS_BASE        = TAG_BASE + '/sys'\n",
    "POLL_BASE       = TAG_BASE + '/poll'\n",
    "SPARSE_STORE    = '/home/pi/Desktop'\n",
    "BS_IMAGE_STORE  = '/mnt/neptune/tagbin'"
   ]
  },
  {
   "cell_type": "markdown",
   "metadata": {},
   "source": [
    "## NOTES / ISSUES\n",
    "- writing image when no room available gets stuck in a loop - very bad"
   ]
  },
  {
   "cell_type": "markdown",
   "metadata": {},
   "source": [
    "## Install Tagfuse Driver"
   ]
  },
  {
   "cell_type": "markdown",
   "metadata": {},
   "source": [
    "First, get the tagfuse driver running as a daemon. TagFuse can be started separately, just comment out these invocation below."
   ]
  },
  {
   "cell_type": "code",
   "execution_count": null,
   "metadata": {
    "scrolled": false
   },
   "outputs": [],
   "source": [
    "#!python ../tagfuse/tagfuse -b -s $SPARSE_STORE $TREE_BASE\n",
    "#!tagfuse -b -s $SPARSE_STORE $TREE_BASE"
   ]
  },
  {
   "cell_type": "markdown",
   "metadata": {},
   "source": [
    "Now look at the entire tree of information available in the tag"
   ]
  },
  {
   "cell_type": "code",
   "execution_count": null,
   "metadata": {
    "scrolled": false
   },
   "outputs": [],
   "source": [
    "!tree -a $TAG_ID\n",
    "#!tree -aJsD $TREE_BASE"
   ]
  },
  {
   "cell_type": "markdown",
   "metadata": {},
   "source": [
    "## Poll for Tags"
   ]
  },
  {
   "cell_type": "code",
   "execution_count": null,
   "metadata": {},
   "outputs": [],
   "source": [
    "!ls $TREE_BASE/.poll"
   ]
  },
  {
   "cell_type": "code",
   "execution_count": null,
   "metadata": {},
   "outputs": [],
   "source": [
    "!ls -al $TREE_BASE"
   ]
  },
  {
   "cell_type": "markdown",
   "metadata": {},
   "source": [
    "## Examine the Dblk Area"
   ]
  },
  {
   "cell_type": "code",
   "execution_count": null,
   "metadata": {},
   "outputs": [],
   "source": [
    "#STOP"
   ]
  },
  {
   "cell_type": "code",
   "execution_count": null,
   "metadata": {},
   "outputs": [],
   "source": [
    "!ls -al $DBLK_BASE"
   ]
  },
  {
   "cell_type": "code",
   "execution_count": null,
   "metadata": {},
   "outputs": [],
   "source": [
    "!echo `stat -c '%s' $DBLK_BASE/.last_rec`"
   ]
  },
  {
   "cell_type": "code",
   "execution_count": null,
   "metadata": {},
   "outputs": [],
   "source": [
    "!tagdump -n 10 --net -j `stat -c '%s' $DBLK_BASE/.last_sync` $DBLK_BASE/byte"
   ]
  },
  {
   "cell_type": "code",
   "execution_count": null,
   "metadata": {},
   "outputs": [],
   "source": [
    "# !tagdump -j `stat -c '%s' $DBLK_BASE/.last_rec` $DBLK_BASE/byte"
   ]
  },
  {
   "cell_type": "markdown",
   "metadata": {},
   "source": [
    "## Write a note into the Dblk Area"
   ]
  },
  {
   "cell_type": "code",
   "execution_count": null,
   "metadata": {},
   "outputs": [],
   "source": [
    "!echo 'this is a note' > $DBLK_BASE/note"
   ]
  },
  {
   "cell_type": "code",
   "execution_count": null,
   "metadata": {},
   "outputs": [],
   "source": [
    "ls -l $DBLK_BASE/note"
   ]
  },
  {
   "cell_type": "code",
   "execution_count": null,
   "metadata": {},
   "outputs": [],
   "source": [
    "!echo 'this is a second note' > $DBLK_BASE/note"
   ]
  },
  {
   "cell_type": "code",
   "execution_count": null,
   "metadata": {},
   "outputs": [],
   "source": [
    "ls -l $DBLK_BASE/note"
   ]
  },
  {
   "cell_type": "markdown",
   "metadata": {},
   "source": [
    "## Extract a Panic Event"
   ]
  },
  {
   "cell_type": "code",
   "execution_count": null,
   "metadata": {},
   "outputs": [],
   "source": []
  },
  {
   "cell_type": "code",
   "execution_count": null,
   "metadata": {},
   "outputs": [],
   "source": []
  },
  {
   "cell_type": "markdown",
   "metadata": {},
   "source": [
    "## Get GPS Position"
   ]
  },
  {
   "cell_type": "code",
   "execution_count": null,
   "metadata": {},
   "outputs": [],
   "source": []
  },
  {
   "cell_type": "markdown",
   "metadata": {},
   "source": [
    "## Send Commands to control the GPS"
   ]
  },
  {
   "cell_type": "code",
   "execution_count": null,
   "metadata": {},
   "outputs": [],
   "source": []
  },
  {
   "cell_type": "markdown",
   "metadata": {},
   "source": [
    "## Examine Pending Events on the Tag"
   ]
  },
  {
   "cell_type": "code",
   "execution_count": null,
   "metadata": {},
   "outputs": [],
   "source": [
    "!ls -l $POLL_BASE"
   ]
  },
  {
   "cell_type": "markdown",
   "metadata": {},
   "source": [
    "## Show the state of software currently installed on the tag"
   ]
  },
  {
   "cell_type": "code",
   "execution_count": null,
   "metadata": {},
   "outputs": [],
   "source": [
    "!tree $SYS_BASE"
   ]
  },
  {
   "cell_type": "markdown",
   "metadata": {},
   "source": [
    "## Show the currently active version"
   ]
  },
  {
   "cell_type": "code",
   "execution_count": null,
   "metadata": {},
   "outputs": [],
   "source": [
    "!ls -l $SYS_BASE/active"
   ]
  },
  {
   "cell_type": "markdown",
   "metadata": {},
   "source": [
    "## Show list of Images stored on Tag"
   ]
  },
  {
   "cell_type": "code",
   "execution_count": null,
   "metadata": {},
   "outputs": [],
   "source": [
    "!ls -l $TAG_IMAGE_STORE"
   ]
  },
  {
   "cell_type": "markdown",
   "metadata": {},
   "source": [
    "## Show list of Images stored on the Basestation"
   ]
  },
  {
   "cell_type": "code",
   "execution_count": null,
   "metadata": {},
   "outputs": [],
   "source": [
    "!ls -l $BS_IMAGE_STORE"
   ]
  },
  {
   "cell_type": "code",
   "execution_count": null,
   "metadata": {},
   "outputs": [],
   "source": [
    "cmd='ls ' + BS_IMAGE_STORE + '/*'\n",
    "basestation_image_list= [ f for f in subprocess.check_output(cmd, shell=True).split('\\n') if f]\n",
    "basestation_image_list"
   ]
  },
  {
   "cell_type": "markdown",
   "metadata": {},
   "source": [
    "## Exercise the Image Storage and Activation Logic"
   ]
  },
  {
   "cell_type": "markdown",
   "metadata": {},
   "source": [
    "Perform the following steps:\n",
    "1. Get Tag's currently active version and save it as original_vers\n",
    "2. Get list of available images to load (stored on basestation)\n",
    "3. Remove all images from Tag (should't be able to remove active image)\n",
    "4. Load three of the available images\n",
    "5. Set first of the newly loaded images as Active\n",
    "5. Set second of the newly loaded images as Backup\n",
    "5. Set third of the newly loaded images as Active\n",
    "6. Set orignal_vers image as Active"
   ]
  },
  {
   "cell_type": "markdown",
   "metadata": {},
   "source": [
    "### 1. Get currently active version"
   ]
  },
  {
   "cell_type": "code",
   "execution_count": null,
   "metadata": {},
   "outputs": [],
   "source": [
    "cmd='ls '+SYS_BASE+'/active'\n",
    "original_vers=subprocess.check_output(cmd, shell=True)[:-1]\n",
    "original_vers"
   ]
  },
  {
   "cell_type": "markdown",
   "metadata": {},
   "source": [
    "### 2. Get list of available images to load (stored on basestation)"
   ]
  },
  {
   "cell_type": "code",
   "execution_count": null,
   "metadata": {},
   "outputs": [],
   "source": [
    "basestation_image_list = [f for f in listdir(BS_IMAGE_STORE) if isfile(join(BS_IMAGE_STORE, f))\n",
    "                          and not f.startswith('.') and not f == original_vers]\n",
    "basestation_image_list"
   ]
  },
  {
   "cell_type": "markdown",
   "metadata": {},
   "source": [
    "### 3. Remove all images from Tag\n",
    "Note: should't be able to remove active image."
   ]
  },
  {
   "cell_type": "code",
   "execution_count": null,
   "metadata": {},
   "outputs": [],
   "source": [
    "!rm $TAG_IMAGE_STORE/*\n",
    "!ls -l $TAG_IMAGE_STORE"
   ]
  },
  {
   "cell_type": "markdown",
   "metadata": {},
   "source": [
    "### 4. Load three of the available images"
   ]
  },
  {
   "cell_type": "markdown",
   "metadata": {},
   "source": [
    "Use `cp` to copy one of the software images in the IMAGE_STORE to the tag\n",
    "Monitor progress using pv"
   ]
  },
  {
   "cell_type": "code",
   "execution_count": null,
   "metadata": {},
   "outputs": [],
   "source": [
    "import os\n",
    "import struct as pystruct\n",
    "IMAGE_INFO_SIG = 0x33275401\n",
    "IMAGE_META_OFFSET = 0x140\n",
    "IMAGE_INFO_DEFAULT = [IMAGE_INFO_SIG, 0x20000, (0x140*2)+0x1c, \n",
    "                      9999, 2, 0, \n",
    "                      0, \n",
    "                      99, 77, \n",
    "                      '\\00'  * 10]\n",
    "IMAGE_INFO_LEN = 2\n",
    "#\n",
    "# Struct created for accessing image info (little indian)\n",
    "# sig, image_start, imagelength, vector_chk, image_chk, im_build, im_minor, im_major, main_tree, aux_tree, build_time, im_rev, im_model = image_info\n",
    "#\n",
    "IMB_FIELDS = '<LLLHBBLBB10s'\n",
    "image_info_struct = pystruct.Struct(IMB_FIELDS)\n",
    "IMAGE_MIN_SIZE  =  (IMAGE_META_OFFSET + image_info_struct.size)"
   ]
  },
  {
   "cell_type": "code",
   "execution_count": null,
   "metadata": {},
   "outputs": [],
   "source": [
    "def info_check(filename):\n",
    "    with open(filename, 'rb') as infile:\n",
    "        if not infile:\n",
    "            return (NONE, NONE, NONE)\n",
    "        infile.seek(0, 2) # seek to the end\n",
    "        file_size = infile.tell()\n",
    "        if file_size < IMAGE_MIN_SIZE: raise RadioLoadException(\"input file too short\")\n",
    "        infile.seek(0, 0)    # seek to the beginnnig\n",
    "        # get image info from input file and sanity check\n",
    "        infile.seek(IMAGE_META_OFFSET) # seek to location of image info\n",
    "        image_info = image_info_struct.unpack(infile.read(image_info_struct.size))\n",
    "        print(\"file information\")\n",
    "        sig, image_start, imagelength, im_build, im_minor, im_major, image_chk, \\\n",
    "             im_rev, im_model, pad = image_info\n",
    "        pstr = \"  signature: 0x{:x}, start: 0x{:x}, length: 0x{:x}, image_chk: 0x{:x}\"\n",
    "        print(pstr.format(sig, image_start, imagelength, image_chk))\n",
    "        pstr = \"  version: ({}.{}.{}(0x{:x})), rev: {}, model: {}\"\n",
    "        print(pstr.format(im_major, im_minor, im_build, im_build, im_rev, im_model))\n",
    "        if sig != IMAGE_INFO_SIG: raise RadioLoadException(\"image metadata is invalid\")\n",
    "    return ((im_major, im_minor, im_build), imagelength)"
   ]
  },
  {
   "cell_type": "code",
   "execution_count": null,
   "metadata": {
    "scrolled": false
   },
   "outputs": [],
   "source": [
    "for i in range(3 if len(basestation_image_list) >= 3 \n",
    "               else len(basestation_image_list)):\n",
    "    version = basestation_image_list[i]\n",
    "    print(version)\n",
    "    info_check(os.path.join(BS_IMAGE_STORE, version))\n",
    "    !dd if=$BS_IMAGE_STORE/$version of=$TAG_IMAGE_STORE/$version status=progress"
   ]
  },
  {
   "cell_type": "markdown",
   "metadata": {},
   "source": [
    "### 5. Set first of the newly loaded images as Active"
   ]
  },
  {
   "cell_type": "markdown",
   "metadata": {},
   "source": [
    "Set the active version NOTE: REBOOTS TAG"
   ]
  },
  {
   "cell_type": "code",
   "execution_count": null,
   "metadata": {},
   "outputs": [],
   "source": [
    "version=basestation_image_list[0]\n",
    "!ln $TAG_IMAGE_STORE/$version $SYS_BASE/active/$version"
   ]
  },
  {
   "cell_type": "code",
   "execution_count": null,
   "metadata": {},
   "outputs": [],
   "source": [
    "sleep(5)"
   ]
  },
  {
   "cell_type": "code",
   "execution_count": null,
   "metadata": {},
   "outputs": [],
   "source": [
    "!ls -l $SYS_BASE/active"
   ]
  },
  {
   "cell_type": "markdown",
   "metadata": {},
   "source": [
    "Try again with same version should fail"
   ]
  },
  {
   "cell_type": "code",
   "execution_count": null,
   "metadata": {},
   "outputs": [],
   "source": [
    "version=basestation_image_list[2]\n",
    "!ln $TAG_IMAGE_STORE/$version $SYS_BASE/active/$version"
   ]
  },
  {
   "cell_type": "markdown",
   "metadata": {},
   "source": [
    "### 5. Set second of the newly loaded images as Backup"
   ]
  },
  {
   "cell_type": "code",
   "execution_count": null,
   "metadata": {},
   "outputs": [],
   "source": [
    "!ls -l $SYS_BASE/backup"
   ]
  },
  {
   "cell_type": "code",
   "execution_count": null,
   "metadata": {},
   "outputs": [],
   "source": [
    "version=basestation_image_list[1]\n",
    "!ln $TAG_IMAGE_STORE/$version $SYS_BASE/backup/$version"
   ]
  },
  {
   "cell_type": "code",
   "execution_count": null,
   "metadata": {},
   "outputs": [],
   "source": [
    "sleep(5)"
   ]
  },
  {
   "cell_type": "code",
   "execution_count": null,
   "metadata": {},
   "outputs": [],
   "source": [
    "!ls -l $SYS_BASE/backup"
   ]
  },
  {
   "cell_type": "markdown",
   "metadata": {},
   "source": [
    "### 5. Set third of the newly loaded images as Active"
   ]
  },
  {
   "cell_type": "code",
   "execution_count": null,
   "metadata": {},
   "outputs": [],
   "source": [
    "version=basestation_image_list[2]\n",
    "!ln $TAG_IMAGE_STORE/$version $SYS_BASE/active/$version"
   ]
  },
  {
   "cell_type": "code",
   "execution_count": null,
   "metadata": {},
   "outputs": [],
   "source": [
    "sleep(5)"
   ]
  },
  {
   "cell_type": "code",
   "execution_count": null,
   "metadata": {},
   "outputs": [],
   "source": [
    "!ls -l $SYS_BASE/active"
   ]
  },
  {
   "cell_type": "markdown",
   "metadata": {},
   "source": [
    "### 6. Set orignal_vers image as Active"
   ]
  },
  {
   "cell_type": "markdown",
   "metadata": {},
   "source": [
    "Set the backup version"
   ]
  },
  {
   "cell_type": "code",
   "execution_count": null,
   "metadata": {},
   "outputs": [],
   "source": [
    "!ln $TAG_IMAGE_STORE/$original_vers $SYS_BASE/active/$original_vers"
   ]
  },
  {
   "cell_type": "code",
   "execution_count": null,
   "metadata": {},
   "outputs": [],
   "source": [
    "!tree $SYS_BASE"
   ]
  },
  {
   "cell_type": "code",
   "execution_count": null,
   "metadata": {},
   "outputs": [],
   "source": [
    "!ls -l $TAG_IMAGE_STORE"
   ]
  },
  {
   "cell_type": "markdown",
   "metadata": {},
   "source": [
    "Reboot into the NIB"
   ]
  },
  {
   "cell_type": "markdown",
   "metadata": {},
   "source": [
    "Reboot into Golden"
   ]
  },
  {
   "cell_type": "markdown",
   "metadata": {},
   "source": [
    "## Stop the Fuse Driver"
   ]
  },
  {
   "cell_type": "code",
   "execution_count": null,
   "metadata": {},
   "outputs": [],
   "source": [
    "STOP"
   ]
  },
  {
   "cell_type": "code",
   "execution_count": null,
   "metadata": {},
   "outputs": [],
   "source": [
    "!fusermount -u ~/tags"
   ]
  }
 ],
 "metadata": {
  "kernelspec": {
   "display_name": "Python 2",
   "language": "python",
   "name": "python2"
  },
  "language_info": {
   "codemirror_mode": {
    "name": "ipython",
    "version": 2
   },
   "file_extension": ".py",
   "mimetype": "text/x-python",
   "name": "python",
   "nbconvert_exporter": "python",
   "pygments_lexer": "ipython2",
   "version": "2.7.13"
  }
 },
 "nbformat": 4,
 "nbformat_minor": 2
}
