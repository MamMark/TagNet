{
 "cells": [
  {
   "cell_type": "markdown",
   "metadata": {},
   "source": [
    "# Direct Radio Modem Test"
   ]
  },
  {
   "cell_type": "code",
   "execution_count": null,
   "metadata": {},
   "outputs": [],
   "source": [
    "%autosave 0"
   ]
  },
  {
   "cell_type": "code",
   "execution_count": null,
   "metadata": {},
   "outputs": [],
   "source": [
    "from __future__ import print_function\n",
    "from builtins import *                  # python3 types\n",
    "from time import sleep\n",
    "import struct as pystruct\n",
    "from binascii import hexlify\n",
    "import sys\n",
    "import os.path\n",
    "import datetime\n",
    "!umask 2"
   ]
  },
  {
   "cell_type": "code",
   "execution_count": null,
   "metadata": {},
   "outputs": [],
   "source": [
    "sys.path.insert(0,\"../tagnet\")\n",
    "from tagnet.tagmessages import TagMessage, TagPoll, TagGet, TagPut, TagDelete, TagHead\n",
    "from tagnet.tagnames import TagName\n",
    "from tagnet.tagtlv import TagTlv, TagTlvList, tlv_types"
   ]
  },
  {
   "cell_type": "code",
   "execution_count": null,
   "metadata": {},
   "outputs": [],
   "source": [
    "sys.path.insert(0,\"../tagfuse\")\n",
    "sys.path.insert(0,\"../si446x/\")\n",
    "from tagfuse.radioutils import payload2values, radio_receive_msg, radio_send_msg\n",
    "from tagfuse.radioutils import radio_start, radio_config, radio_show_config, radio_poll\n",
    "from tagfuse.radioutils import radio_get_rtctime, radio_set_rtctime"
   ]
  },
  {
   "cell_type": "code",
   "execution_count": null,
   "metadata": {},
   "outputs": [],
   "source": [
    "from tagfuse.tagfuseargs import process_cmd_args, get_cmd_args\n",
    "import tagfuse.tagfuseargs\n",
    "tagfuse.tagfuseargs.global_args\n",
    "tagfuse.tagfuseargs.global_args=None\n",
    "#sys.argv = ['tagfuse.py', '~/tags', '--disable_sparse']\n",
    "sys.argv = ['tagfuse.py', '/home/pi/tag_store']\n",
    "process_cmd_args()\n",
    "get_cmd_args()\n",
    "from tagfuse.TagFuseTree import TagFuseTagTree"
   ]
  },
  {
   "cell_type": "code",
   "execution_count": null,
   "metadata": {},
   "outputs": [],
   "source": [
    "sys.path"
   ]
  },
  {
   "cell_type": "code",
   "execution_count": null,
   "metadata": {},
   "outputs": [],
   "source": [
    "from tagfuse.myversion import __version__\n",
    "'tagfuse', __version__"
   ]
  },
  {
   "cell_type": "code",
   "execution_count": null,
   "metadata": {},
   "outputs": [],
   "source": [
    "print('Test Start Time: {}'.format(datetime.datetime.now()))\n",
    "#print('Si446x Radio Device Driver Version: {}'.format(si446x_device_version()))"
   ]
  },
  {
   "cell_type": "markdown",
   "metadata": {},
   "source": [
    "##  Start up Radio"
   ]
  },
  {
   "cell_type": "code",
   "execution_count": null,
   "metadata": {
    "scrolled": false
   },
   "outputs": [],
   "source": [
    "#radio = radio_start()\n",
    "from si446x import Si446xRadio\n",
    "from si446x import get_config_wds, get_name_wds, wds_default_config\n",
    "radio=Si446xRadio(0)\n",
    "if (radio == None):\n",
    "    raise RuntimeError('radio_start: could not instantiate radio')\n",
    "radio.unshutdown()\n",
    "wds_default_config(0) # set index to force alternate default config\n",
    "radio.write_config()\n",
    "radio.config_frr()"
   ]
  },
  {
   "cell_type": "code",
   "execution_count": null,
   "metadata": {
    "scrolled": true
   },
   "outputs": [],
   "source": [
    "radio_show_config(radio.dump_radio())"
   ]
  },
  {
   "cell_type": "code",
   "execution_count": null,
   "metadata": {},
   "outputs": [],
   "source": [
    "get_name_wds()"
   ]
  },
  {
   "cell_type": "code",
   "execution_count": null,
   "metadata": {},
   "outputs": [],
   "source": [
    "import RPi.GPIO as GPIO"
   ]
  },
  {
   "cell_type": "code",
   "execution_count": null,
   "metadata": {},
   "outputs": [],
   "source": [
    "GPIO.input(radio.gpio_cts)"
   ]
  },
  {
   "cell_type": "code",
   "execution_count": null,
   "metadata": {},
   "outputs": [],
   "source": [
    "#radio.spi.hard_cts"
   ]
  },
  {
   "cell_type": "markdown",
   "metadata": {},
   "source": [
    "### Set Defaults"
   ]
  },
  {
   "cell_type": "code",
   "execution_count": null,
   "metadata": {},
   "outputs": [],
   "source": [
    "# default paramters\n",
    "MAX_WAIT            = 1000\n",
    "MAX_RECV            = 2\n",
    "MAX_PAYLOAD         = 254\n",
    "MAX_RETRIES         = 3\n",
    "RADIO_POWER         = 20\n",
    "SHORT_DELAY         = 1"
   ]
  },
  {
   "cell_type": "markdown",
   "metadata": {},
   "source": [
    "## Send Packets"
   ]
  },
  {
   "cell_type": "code",
   "execution_count": null,
   "metadata": {},
   "outputs": [],
   "source": [
    "STOP\n"
   ]
  },
  {
   "cell_type": "code",
   "execution_count": null,
   "metadata": {},
   "outputs": [],
   "source": [
    "SEND_DELAY=.3\n",
    "pwr = 20\n",
    "msg = bytearray('0' + ('0123456789' * 25))\n",
    "msg[0] = len(msg) - 1"
   ]
  },
  {
   "cell_type": "code",
   "execution_count": null,
   "metadata": {},
   "outputs": [],
   "source": [
    "radio.set_property('PKT',0x0b,'\\x50')"
   ]
  },
  {
   "cell_type": "code",
   "execution_count": null,
   "metadata": {},
   "outputs": [],
   "source": [
    "radio.get_property('PKT',0x0b,2)"
   ]
  },
  {
   "cell_type": "code",
   "execution_count": null,
   "metadata": {
    "scrolled": false
   },
   "outputs": [],
   "source": [
    "radio_send_msg(radio, msg, pwr)\n",
    "radio_send_msg(radio, msg, pwr)"
   ]
  },
  {
   "cell_type": "code",
   "execution_count": null,
   "metadata": {
    "scrolled": true
   },
   "outputs": [],
   "source": [
    "radio.trace.display(radio.trace.filter(count=-36))"
   ]
  },
  {
   "cell_type": "code",
   "execution_count": null,
   "metadata": {
    "scrolled": true
   },
   "outputs": [],
   "source": [
    "bb = bytearray(1)\n",
    "bb[0] = 10\n",
    "radio.set_property('PKT',0x0b, bb)\n",
    "for i in range(0, 100):\n",
    "    msg[1] = i % 256\n",
    "    print(i, radio_send_msg(radio, msg, pwr))\n",
    "    sleep(SEND_DELAY)"
   ]
  },
  {
   "cell_type": "code",
   "execution_count": null,
   "metadata": {},
   "outputs": [],
   "source": [
    "radio.clear_interrupts()"
   ]
  },
  {
   "cell_type": "code",
   "execution_count": null,
   "metadata": {},
   "outputs": [],
   "source": [
    "for i in range(10):\n",
    "    radio.get_clear_interrupts()"
   ]
  },
  {
   "cell_type": "code",
   "execution_count": null,
   "metadata": {},
   "outputs": [],
   "source": [
    "for i in range(10):\n",
    "    radio.spi.response(9, None)"
   ]
  },
  {
   "cell_type": "code",
   "execution_count": null,
   "metadata": {},
   "outputs": [],
   "source": [
    "radio.get_clear_interrupts()"
   ]
  },
  {
   "cell_type": "code",
   "execution_count": null,
   "metadata": {},
   "outputs": [],
   "source": [
    "radio.spi.response(9, None)"
   ]
  },
  {
   "cell_type": "code",
   "execution_count": null,
   "metadata": {},
   "outputs": [],
   "source": [
    "radio.spi.hard_cts"
   ]
  },
  {
   "cell_type": "code",
   "execution_count": null,
   "metadata": {},
   "outputs": [],
   "source": [
    "import monotonic\n",
    "monotonic.micros()"
   ]
  },
  {
   "cell_type": "code",
   "execution_count": null,
   "metadata": {},
   "outputs": [],
   "source": [
    "import gc"
   ]
  },
  {
   "cell_type": "code",
   "execution_count": null,
   "metadata": {},
   "outputs": [],
   "source": [
    "gc.disable()\n",
    "for i in range(100):\n",
    "    radio.spi.spi.xfer2([0x20])\n",
    "    radio.spi.spi.xfer2([0x44, 0,0,0,0,0,0,0,0,0])\n",
    "    #monotonic.micros()\n",
    "gc.enable()"
   ]
  },
  {
   "cell_type": "code",
   "execution_count": null,
   "metadata": {},
   "outputs": [],
   "source": [
    "radio.spi.spi.xfer2([0x20])\n",
    "radio.spi.spi.xfer2([0x44, 0,0,0,0,0,0,0,0,0])\n",
    "radio.spi.spi.xfer2([0x20])\n",
    "radio.spi.spi.xfer2([0x44, 0,0,0,0,0,0,0,0,0])\n",
    "radio.spi.spi.xfer2([0x20])\n",
    "radio.spi.spi.xfer2([0x44, 0,0,0,0,0,0,0,0,0])\n",
    "radio.spi.spi.xfer2([0x20])\n",
    "radio.spi.spi.xfer2([0x44, 0,0,0,0,0,0,0,0,0])\n",
    "radio.spi.spi.xfer2([0x20])\n",
    "radio.spi.spi.xfer2([0x44, 0,0,0,0,0,0,0,0,0])\n",
    "radio.spi.spi.xfer2([0x20])\n",
    "radio.spi.spi.xfer2([0x44, 0,0,0,0,0,0,0,0,0])\n",
    "radio.spi.spi.xfer2([0x20])\n",
    "radio.spi.spi.xfer2([0x44, 0,0,0,0,0,0,0,0,0])\n",
    "radio.spi.spi.xfer2([0x20])\n",
    "radio.spi.spi.xfer2([0x44, 0,0,0,0,0,0,0,0,0])\n",
    "radio.spi.spi.xfer2([0x20])\n",
    "radio.spi.spi.xfer2([0x44, 0,0,0,0,0,0,0,0,0])\n",
    "radio.spi.spi.xfer2([0x20])\n",
    "radio.spi.spi.xfer2([0x44, 0,0,0,0,0,0,0,0,0])\n",
    "radio.spi.spi.xfer2([0x20])\n",
    "radio.spi.spi.xfer2([0x44, 0,0,0,0,0,0,0,0,0])\n",
    "radio.spi.spi.xfer2([0x20])\n",
    "radio.spi.spi.xfer2([0x44, 0,0,0,0,0,0,0,0,0])"
   ]
  },
  {
   "cell_type": "markdown",
   "metadata": {},
   "source": [
    "## Listen for packets"
   ]
  },
  {
   "cell_type": "code",
   "execution_count": null,
   "metadata": {
    "scrolled": false
   },
   "outputs": [],
   "source": [
    "import datetime\n",
    "fails = 0\n",
    "last = 0\n",
    "show_status = 10\n",
    "start = True\n",
    "msg = bytearray()\n",
    "for i in range(200000):\n",
    "    msg, rssi, status = radio_receive_msg(radio, MAX_RECV, 10000)\n",
    "    if msg:\n",
    "        if (((msg[0] + 1) != len(msg)) or (msg[1] != last % 256)):\n",
    "            last = msg[1] + 1\n",
    "            if start:\n",
    "                start = False\n",
    "            else:\n",
    "                fails += 1\n",
    "                print('{}, error, i:{}, fails:{}, rssi:{}, len:{}/{}, seq:{}, last:{}'.format(datetime.datetime.now(), i, fails, rssi, msg[0]+1, len(msg), msg[1], last), end='\\r')\n",
    "        else:\n",
    "            last += 1\n",
    "    else:\n",
    "        fails += 1\n",
    "        print('{}, tmout, i:{}, fails:{}'.format(datetime.datetime.now(), i, fails), end='\\r')\n",
    "        continue\n",
    "    if (i % show_status) == 0:\n",
    "        print('{}, status, i:{}, fails:{}, rssi:{}, len:{}, last:{}            '.format(datetime.datetime.now(), i, fails, rssi, len(msg), last % 256), end='\\r')\n",
    "print('{}, error, i:{}, fails:{}, rssi:{}, len:{}/{}, seq:{}, last:{}'.format(datetime.datetime.now(), i, fails, rssi, msg[0]+1, len(msg), msg[1], last), end='\\r')"
   ]
  },
  {
   "cell_type": "code",
   "execution_count": null,
   "metadata": {},
   "outputs": [],
   "source": [
    "radio_receive_msg(radio, MAX_RECV, 10)"
   ]
  },
  {
   "cell_type": "code",
   "execution_count": null,
   "metadata": {
    "scrolled": true
   },
   "outputs": [],
   "source": [
    "status"
   ]
  },
  {
   "cell_type": "code",
   "execution_count": null,
   "metadata": {},
   "outputs": [],
   "source": [
    "i, fails, len(msg), msg[0], last, msg[1], msg"
   ]
  },
  {
   "cell_type": "markdown",
   "metadata": {},
   "source": [
    "## Functions for Accessing Internal Radio State"
   ]
  },
  {
   "cell_type": "code",
   "execution_count": null,
   "metadata": {},
   "outputs": [],
   "source": [
    "STOP"
   ]
  },
  {
   "cell_type": "code",
   "execution_count": null,
   "metadata": {},
   "outputs": [],
   "source": [
    "from ipywidgets import interact, interactive, fixed, interact_manual\n",
    "import ipywidgets as widgets\n",
    "from si446xdef import *\n",
    "\n",
    "\n",
    "def si446x_device_group_fetch_and_decode(group):\n",
    "    gname = radio_config_group_ids.decoding[group]\n",
    "    g_s = radio_config_groups[radio_config_group_ids.build(gname)]\n",
    "    gid = radio_config_group_ids.build(gname)\n",
    "    p = si446x_device_get_property(radio, gname, 0, g_s.sizeof())\n",
    "    print(g_s, insert_space(p))\n",
    "    #print(gname, len(p), hexlify(p))\n",
    "    print(radio_display_structs[g_s](g_s, p))\n",
    "    return None\n",
    "\n",
    "\n",
    "def si446x_device_command_fetch_and_decode(cmd):\n",
    "    cname = radio_status_cmd_ids.decoding[cmd]\n",
    "    cfunc, cstr = radio_status_commands[radio_config_cmd_ids.build(cname)]\n",
    "#    print(cname, cmd)\n",
    "    if (cfunc):\n",
    "        cmd = cfunc(cname)\n",
    "        if (cmd):\n",
    "#            print(cfunc, hexlify(cmd), cstr)\n",
    "            radio.spi.command(cmd, cstr)\n",
    "            rsp = radio.spi.response(cstr.sizeof(), cstr.name)\n",
    "            if (rsp):\n",
    "#                print(cstr, radio_display_structs[cstr])\n",
    "                print(cstr, insert_space(rsp))\n",
    "                print(radio_display_structs[cstr](cstr, rsp))\n",
    "            else:\n",
    "                print('no response')\n",
    "        else:\n",
    "            print('no command')\n",
    "    else:\n",
    "        print('no function')\n",
    "    return None\n",
    "\n",
    "def si446x_device_get_property(radio, g_n, start, limit):\n",
    "    prop_x = 0\n",
    "    prop_b = bytearray()\n",
    "    while (prop_x < limit):\n",
    "        chunk_size = limit - prop_x\n",
    "        x = MAX_RADIO_RSP if (chunk_size >= MAX_RADIO_RSP) else chunk_size\n",
    "        rsp = radio.get_property(g_n, prop_x, x)\n",
    "        if (rsp):\n",
    "            prop_b += bytearray(rsp[:x])\n",
    "            prop_x += x\n",
    "        else:\n",
    "            return None\n",
    "    return prop_b"
   ]
  },
  {
   "cell_type": "markdown",
   "metadata": {},
   "source": [
    "## Interactive Group Properties"
   ]
  },
  {
   "cell_type": "code",
   "execution_count": null,
   "metadata": {
    "scrolled": true
   },
   "outputs": [],
   "source": [
    "interact(si446x_device_group_fetch_and_decode, group=radio_config_group_ids.encoding)"
   ]
  },
  {
   "cell_type": "markdown",
   "metadata": {},
   "source": [
    "## Interactive  Command Status Responses"
   ]
  },
  {
   "cell_type": "code",
   "execution_count": null,
   "metadata": {},
   "outputs": [],
   "source": [
    "interact(si446x_device_command_fetch_and_decode, cmd=radio_status_cmd_ids.encoding)"
   ]
  },
  {
   "cell_type": "code",
   "execution_count": null,
   "metadata": {},
   "outputs": [],
   "source": [
    "STOP"
   ]
  },
  {
   "cell_type": "code",
   "execution_count": null,
   "metadata": {},
   "outputs": [],
   "source": [
    "import time\n",
    "ix = 100\n",
    "tt = time.time()\n",
    "for i in range(ix): x = 0\n",
    "d_tt = time.time() - tt\n",
    "ct = time.clock()\n",
    "for i in range(ix): y = 0\n",
    "d_ct = time.clock() - ct\n",
    "d_ct/num_iters, d_tt/num_iters"
   ]
  },
  {
   "cell_type": "code",
   "execution_count": null,
   "metadata": {},
   "outputs": [],
   "source": [
    "import si446xcfg as cfg"
   ]
  },
  {
   "cell_type": "code",
   "execution_count": null,
   "metadata": {},
   "outputs": [],
   "source": [
    "help(cfg)"
   ]
  },
  {
   "cell_type": "code",
   "execution_count": null,
   "metadata": {},
   "outputs": [],
   "source": [
    "cfg.set_real_time()"
   ]
  },
  {
   "cell_type": "code",
   "execution_count": null,
   "metadata": {},
   "outputs": [],
   "source": [
    "p=radio.get_gpio()\n",
    "p"
   ]
  },
  {
   "cell_type": "code",
   "execution_count": null,
   "metadata": {},
   "outputs": [],
   "source": [
    "for k,v in p.iteritems():\n",
    "    try:\n",
    "        print(v.mode)\n",
    "    except:\n",
    "        continue"
   ]
  },
  {
   "cell_type": "code",
   "execution_count": null,
   "metadata": {},
   "outputs": [],
   "source": [
    "radio.config_gpio(gpio2='RX_STATE', gpio3='TX_STATE')"
   ]
  },
  {
   "cell_type": "code",
   "execution_count": null,
   "metadata": {},
   "outputs": [],
   "source": [
    "radio.config_gpio(gpio2='TX_STATE', gpio3='RX_STATE')"
   ]
  },
  {
   "cell_type": "code",
   "execution_count": null,
   "metadata": {},
   "outputs": [],
   "source": [
    "p.gpio2"
   ]
  },
  {
   "cell_type": "code",
   "execution_count": null,
   "metadata": {},
   "outputs": [],
   "source": [
    "p['gpio2']"
   ]
  },
  {
   "cell_type": "code",
   "execution_count": null,
   "metadata": {},
   "outputs": [],
   "source": []
  }
 ],
 "metadata": {
  "kernelspec": {
   "display_name": "Python 2",
   "language": "python",
   "name": "python2"
  },
  "language_info": {
   "codemirror_mode": {
    "name": "ipython",
    "version": 2
   },
   "file_extension": ".py",
   "mimetype": "text/x-python",
   "name": "python",
   "nbconvert_exporter": "python",
   "pygments_lexer": "ipython2",
   "version": "2.7.13"
  }
 },
 "nbformat": 4,
 "nbformat_minor": 2
}
