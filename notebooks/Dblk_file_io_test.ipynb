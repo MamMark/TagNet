{
 "cells": [
  {
   "cell_type": "code",
   "execution_count": null,
   "metadata": {},
   "outputs": [],
   "source": [
    "import os\n",
    "from binascii import hexlify\n",
    "from time import sleep\n",
    "import datetime"
   ]
  },
  {
   "cell_type": "code",
   "execution_count": null,
   "metadata": {},
   "outputs": [],
   "source": [
    "import tagcore"
   ]
  },
  {
   "cell_type": "code",
   "execution_count": null,
   "metadata": {},
   "outputs": [],
   "source": [
    "import tagnet"
   ]
  },
  {
   "cell_type": "code",
   "execution_count": null,
   "metadata": {},
   "outputs": [],
   "source": [
    "from tagdump import tagdump as td"
   ]
  },
  {
   "cell_type": "code",
   "execution_count": null,
   "metadata": {},
   "outputs": [],
   "source": [
    "tagdir       = '/home/pi/tags/1fbcd99fd29f'\n",
    "dblkdir      = tagdir+'/tag/sd/0/dblk' \n",
    "dblkbyte     = dblkdir+'/byte' \n",
    "dblkresync   = dblkdir+'/.resync'\n",
    "dblklastsync = dblkdir+'/.last_sync'\n",
    "dblkrecnum   = dblkdir+'/.recnum'"
   ]
  },
  {
   "cell_type": "code",
   "execution_count": null,
   "metadata": {},
   "outputs": [],
   "source": [
    "!pwd"
   ]
  },
  {
   "cell_type": "code",
   "execution_count": null,
   "metadata": {},
   "outputs": [],
   "source": [
    "def int32(x):\n",
    "  if x>0xFFFFFFFF:\n",
    "    raise OverflowError\n",
    "  if x>0x7FFFFFFF:\n",
    "    x=int(0x100000000-x)\n",
    "    if x<2147483648:\n",
    "      return -x\n",
    "    else:\n",
    "      return -2147483648\n",
    "  return x"
   ]
  },
  {
   "cell_type": "code",
   "execution_count": null,
   "metadata": {},
   "outputs": [],
   "source": [
    "def round_to_word(a):\n",
    "    return ((a-(a%4)) if (a%4) else (a))"
   ]
  },
  {
   "cell_type": "code",
   "execution_count": null,
   "metadata": {},
   "outputs": [],
   "source": [
    "def get_file_size(fn):\n",
    "    ret=!stat  -c '%s' $fn\n",
    "    offset=int(ret[0])\n",
    "    int32(offset)\n",
    "    return offset"
   ]
  },
  {
   "cell_type": "code",
   "execution_count": null,
   "metadata": {},
   "outputs": [],
   "source": [
    "def err_by_value(val):\n",
    "    for e in tagnet.tlv_errors:\n",
    "        if e.value == val: break\n",
    "    return e.name"
   ]
  },
  {
   "cell_type": "code",
   "execution_count": null,
   "metadata": {},
   "outputs": [],
   "source": [
    "def size_to_err(pos):\n",
    "    ipos = int32(pos)\n",
    "    if ipos < 0:\n",
    "        print('error', -ipos, err_by_value(-ipos))\n",
    "        return -ipos\n",
    "    return ipos"
   ]
  },
  {
   "cell_type": "code",
   "execution_count": null,
   "metadata": {},
   "outputs": [],
   "source": [
    "def resync(fname, offset):\n",
    "    !truncate -s $offset $fname\n",
    "    limit = 1\n",
    "    while (limit < 100):\n",
    "        offset = get_file_size(dblkresync)\n",
    "        if (offset):\n",
    "            #print('=', limit, offset)\n",
    "            return offset, limit\n",
    "        limit += 1\n",
    "        #print('.', limit, offset)\n",
    "    return -1, 0"
   ]
  },
  {
   "cell_type": "code",
   "execution_count": null,
   "metadata": {},
   "outputs": [],
   "source": [
    "def record_check(fn, offset):\n",
    "    os.lseek(fn, offset, os.SEEK_SET)\n",
    "    hdr=tagcore.core_headers.obj_dt_hdr()\n",
    "    buf=bytearray(os.read(fn, len(hdr)))\n",
    "    if len(buf) < len(hdr): return 0\n",
    "    hdr.set(buf)\n",
    "    rlen=hdr['len'].val\n",
    "    rtype  = hdr['type'].val\n",
    "    recnum = hdr['recnum'].val\n",
    "    recsum = hdr['recsum'].val\n",
    "    rt = hdr['rt']\n",
    "    dlen = rlen - len(hdr)\n",
    "    if (dlen > 0):\n",
    "        buf.extend(os.read(fn, dlen))\n",
    "    chksum = sum(bytearray(buf)[:rlen])\n",
    "    chksum -= (recsum & 0xff00) >> 8\n",
    "    chksum -= (recsum & 0x00ff)\n",
    "    chksum &= 0xffff                # force to 16 bits vs. 16 bit recsum\n",
    "    if (chksum != recsum):\n",
    "        print('checksum error, expected: {:x}, got: {:x}'.format(chksum, recsum))\n",
    "        print('.'.join(['{:02x}'.format(a) for a in buf[:20]]))\n",
    "    else:\n",
    "        dt = datetime.datetime(rt['year'].val, rt['mon'].val, rt['day'].val, rt['hr'].val, rt['min'].val, rt['sec'].val, rt['sub_sec'].val)\n",
    "        print('{}: {}, len: {}, offset: {}, recnum: {}, recsum: {:x}/{:x}'.format(tagcore.dt_defs.dt_name(rtype),dt.isoformat(),rlen,offset,recnum,recsum,chksum))\n",
    "        print('.'.join(['{:02x}'.format(a) for a in buf]))\n",
    "    return round_to_word(rlen)"
   ]
  },
  {
   "cell_type": "code",
   "execution_count": null,
   "metadata": {},
   "outputs": [],
   "source": [
    "def sync_check(fn, offset, display=False):\n",
    "    os.lseek(fn, offset, os.SEEK_SET)\n",
    "    sync=tagcore.core_headers.obj_dt_sync()\n",
    "    buf=bytearray(os.read(fn, len(sync)))\n",
    "    sync.set(buf)\n",
    "    rlen   = sync['hdr']['len'].val\n",
    "    rtype  = sync['hdr']['type'].val\n",
    "    recnum = sync['hdr']['recnum'].val\n",
    "    recsum = sync['hdr']['recsum'].val\n",
    "    rt = sync['hdr']['rt']\n",
    "    dt = datetime.datetime(rt['year'].val, rt['mon'].val, rt['day'].val, rt['hr'].val, rt['min'].val, rt['sec'].val, rt['sub_sec'].val)\n",
    "    prev_sync = sync['prev_sync'].val\n",
    "    dlen = rlen - len(sync)\n",
    "    if (dlen > 0):\n",
    "        buf.extend(os.read(fn, dlen))\n",
    "    chksum = sum(bytearray(buf)[:rlen])\n",
    "    chksum -= (recsum & 0xff00) >> 8\n",
    "    chksum -= (recsum & 0x00ff)\n",
    "    chksum &= 0xffff                # force to 16 bits vs. 16 bit recsum\n",
    "    if (display):\n",
    "        print('{}: {}, len: {}, offset/prev: {}/{}, recnum: {}, recsum: {:x}/{:x}'.format(\n",
    "            tagcore.dt_defs.dt_name(rtype),\n",
    "            dt.isoformat(),\n",
    "            rlen,\n",
    "            offset,\n",
    "            prev_sync,\n",
    "            recnum,\n",
    "            recsum,\n",
    "            chksum))\n",
    "        print('.'.join(['{:02x}'.format(a) for a in buf]))\n",
    "    if (chksum != recsum):\n",
    "        print('checksum error, expected: {:x}, got: {:x}'.format(chksum, recsum))\n",
    "    return prev_sync"
   ]
  },
  {
   "cell_type": "markdown",
   "metadata": {},
   "source": [
    "# Find Tags"
   ]
  },
  {
   "cell_type": "code",
   "execution_count": null,
   "metadata": {
    "scrolled": true
   },
   "outputs": [],
   "source": [
    "!rm -f /home/pi/tags/.poll/found/*\n",
    "!ls /home/pi/tags/.poll/new5"
   ]
  },
  {
   "cell_type": "markdown",
   "metadata": {},
   "source": [
    "# Dblk Info"
   ]
  },
  {
   "cell_type": "code",
   "execution_count": null,
   "metadata": {},
   "outputs": [],
   "source": [
    "dblk_fn=os.open(dblkbyte, os.O_RDWR)"
   ]
  },
  {
   "cell_type": "code",
   "execution_count": null,
   "metadata": {},
   "outputs": [],
   "source": [
    "!ls -al $dblkbyte"
   ]
  },
  {
   "cell_type": "code",
   "execution_count": null,
   "metadata": {},
   "outputs": [],
   "source": [
    "!ls -al $dblkdir/.recnum"
   ]
  },
  {
   "cell_type": "code",
   "execution_count": null,
   "metadata": {},
   "outputs": [],
   "source": [
    "!ls -al $dblkrecnum"
   ]
  },
  {
   "cell_type": "code",
   "execution_count": null,
   "metadata": {},
   "outputs": [],
   "source": [
    "!ls -al $dblkdir/.last_sync"
   ]
  },
  {
   "cell_type": "code",
   "execution_count": null,
   "metadata": {},
   "outputs": [],
   "source": [
    "ret=!stat  -c '%s' $dblkdir/.last_sync\n",
    "sync_offset=int(ret[0])\n",
    "sync_offset"
   ]
  },
  {
   "cell_type": "code",
   "execution_count": null,
   "metadata": {},
   "outputs": [],
   "source": [
    "record_check(dblk_fn, sync_offset)"
   ]
  },
  {
   "cell_type": "code",
   "execution_count": null,
   "metadata": {},
   "outputs": [],
   "source": [
    "sync_check(dblk_fn, sync_offset)"
   ]
  },
  {
   "cell_type": "markdown",
   "metadata": {},
   "source": [
    "# Find sync record"
   ]
  },
  {
   "cell_type": "code",
   "execution_count": null,
   "metadata": {},
   "outputs": [],
   "source": [
    "STOP"
   ]
  },
  {
   "cell_type": "code",
   "execution_count": null,
   "metadata": {},
   "outputs": [],
   "source": [
    "!ls -al $dblkdir/byte"
   ]
  },
  {
   "cell_type": "code",
   "execution_count": null,
   "metadata": {},
   "outputs": [],
   "source": [
    "!truncate -s 190976 $dblkdir/.resync"
   ]
  },
  {
   "cell_type": "code",
   "execution_count": null,
   "metadata": {},
   "outputs": [],
   "source": [
    "!truncate -s $sync_offset $dblkdir/.resync\n",
    "!ls -al $dblkdir/.resync"
   ]
  },
  {
   "cell_type": "code",
   "execution_count": null,
   "metadata": {},
   "outputs": [],
   "source": [
    "!ls -al $dblkdir/.resync"
   ]
  },
  {
   "cell_type": "code",
   "execution_count": null,
   "metadata": {},
   "outputs": [],
   "source": [
    "ret=!stat  -c '%s' $dblkdir/.resync\n",
    "resync_offset=int(ret[0])\n",
    "int32(resync_offset)"
   ]
  },
  {
   "cell_type": "code",
   "execution_count": null,
   "metadata": {},
   "outputs": [],
   "source": [
    "record_check(dblk_fn, resync_offset)"
   ]
  },
  {
   "cell_type": "code",
   "execution_count": null,
   "metadata": {},
   "outputs": [],
   "source": [
    "sync_check(dblk_fn, resync_offset)"
   ]
  },
  {
   "cell_type": "markdown",
   "metadata": {},
   "source": [
    "# Verify consecutive sync records"
   ]
  },
  {
   "cell_type": "code",
   "execution_count": null,
   "metadata": {},
   "outputs": [],
   "source": [
    "ret=!stat  -c '%s' $dblklastsync\n",
    "offset=int(ret[0])\n",
    "int32(offset)"
   ]
  },
  {
   "cell_type": "code",
   "execution_count": null,
   "metadata": {
    "scrolled": true
   },
   "outputs": [],
   "source": [
    "#offset=get_file_size(dblkresync)\n",
    "offset = 512\n",
    "last_offset = 0\n",
    "start=datetime.datetime.now()\n",
    "print(start)\n",
    "for i in range(2000):\n",
    "    rtime = datetime.datetime.now()\n",
    "    offset, limit = resync(dblkresync, offset)\n",
    "    ttime = datetime.datetime.now() - rtime\n",
    "    offset = int32(offset)\n",
    "    if offset <= 0: break\n",
    "    try:\n",
    "        previous = sync_check(dblk_fn, offset)\n",
    "        delta = offset - previous if () else 0\n",
    "        print('*** {:4}[{:2}], {:4}bps, {:8} : {}'.format(i,\n",
    "                                                          limit,\n",
    "                                                          round((delta*8)/ttime.total_seconds(),2),\n",
    "                                                          offset, previous))\n",
    "        if (i) and (previous != last_offset): print('missed sync, previous: {}, last: {}'.format(previous, last_offset))\n",
    "    except OSError:\n",
    "        if offset: print(offset)\n",
    "        sleep(1)\n",
    "    last_offset = offset\n",
    "    offset += 4\n",
    "    #print('loop',offset)\n",
    "print('total {} seconds, {} iterations, eof: {}, resync: {}, error: {}'.format(\n",
    "                                                        round((datetime.datetime.now()-start).total_seconds(),1),\n",
    "                                                        i,\n",
    "                                                        get_file_size(dblkbyte),\n",
    "                                                        get_file_size(dblkresync),\n",
    "                                                        err_by_value(-offset)))"
   ]
  },
  {
   "cell_type": "code",
   "execution_count": null,
   "metadata": {},
   "outputs": [],
   "source": [
    "sync_check(dblk_fn, 8864, display=True)"
   ]
  },
  {
   "cell_type": "code",
   "execution_count": null,
   "metadata": {
    "scrolled": true
   },
   "outputs": [],
   "source": [
    "offset = get_file_size(dblklastsync)\n",
    "#offset = 460340\n",
    "for i in range(100):\n",
    "    if offset >= get_file_size(dblkbyte):\n",
    "        sleep(1)\n",
    "        print('offset: {}, eof: {}, last_sync: {}'.format(offset, get_file_size(dblkbyte), get_file_size(dblklastsync)))\n",
    "        continue\n",
    "    try:\n",
    "        offset += record_check(dblk_fn, offset)\n",
    "        print('*** count: {}, offset: {}, mod512: {}'.format(i, offset, offset % 512))\n",
    "    except OSError:\n",
    "        sleep(1)\n",
    "        print('offset: {}, eof: {}, last_sync: {}'.format(offset, get_file_size(dblkbyte), get_file_size(dblklastsync)))\n",
    "print('done')"
   ]
  },
  {
   "cell_type": "code",
   "execution_count": null,
   "metadata": {
    "scrolled": true
   },
   "outputs": [],
   "source": [
    "offset = get_file_size(dblklastsync)\n",
    "while (True):\n",
    "    offset = sync_check(dblk_fn, offset, display=True)    "
   ]
  },
  {
   "cell_type": "code",
   "execution_count": null,
   "metadata": {},
   "outputs": [],
   "source": [
    "STOP"
   ]
  },
  {
   "cell_type": "markdown",
   "metadata": {},
   "source": [
    "# Search for Sync records from file using tagdump"
   ]
  },
  {
   "cell_type": "code",
   "execution_count": null,
   "metadata": {},
   "outputs": [],
   "source": [
    "!dd if=$dblkbyte of=tempdata status=progress"
   ]
  },
  {
   "cell_type": "code",
   "execution_count": null,
   "metadata": {},
   "outputs": [],
   "source": [
    "infile  = td.TagFile(open('tempdata'))"
   ]
  },
  {
   "cell_type": "code",
   "execution_count": null,
   "metadata": {
    "scrolled": true
   },
   "outputs": [],
   "source": [
    "td.resync(infile, 0)"
   ]
  },
  {
   "cell_type": "code",
   "execution_count": null,
   "metadata": {},
   "outputs": [],
   "source": [
    "offset = 0\n",
    "while (True):\n",
    "    print(offset)\n",
    "    offset = td.resync(infile, offset)"
   ]
  },
  {
   "cell_type": "markdown",
   "metadata": {},
   "source": [
    "# Search for Sync records from remote tag using tagdump"
   ]
  },
  {
   "cell_type": "code",
   "execution_count": null,
   "metadata": {},
   "outputs": [],
   "source": [
    "infile  = td.TagFile(open(dblkbyte), net_io = True)"
   ]
  },
  {
   "cell_type": "code",
   "execution_count": null,
   "metadata": {
    "scrolled": true
   },
   "outputs": [],
   "source": [
    "td.resync(infile, 0)"
   ]
  },
  {
   "cell_type": "code",
   "execution_count": null,
   "metadata": {},
   "outputs": [],
   "source": [
    "td.get_record(infile)"
   ]
  },
  {
   "cell_type": "code",
   "execution_count": null,
   "metadata": {
    "scrolled": false
   },
   "outputs": [],
   "source": [
    "offset = 0\n",
    "while (True):\n",
    "    print(offset)\n",
    "    offset = td.resync(infile, offset) + 4\n",
    "    rec = td.get_record(infile)\n",
    "    print(rec)"
   ]
  },
  {
   "cell_type": "code",
   "execution_count": null,
   "metadata": {},
   "outputs": [],
   "source": [
    "get_file_size(dblkresync)"
   ]
  },
  {
   "cell_type": "code",
   "execution_count": null,
   "metadata": {},
   "outputs": [],
   "source": [
    "get_file_size(dblklastsync)"
   ]
  },
  {
   "cell_type": "markdown",
   "metadata": {},
   "source": [
    "# Read records from remote tag using Tagdump"
   ]
  },
  {
   "cell_type": "code",
   "execution_count": null,
   "metadata": {},
   "outputs": [],
   "source": [
    "infile  = td.TagFile(open(dblkbyte), net_io = True)"
   ]
  },
  {
   "cell_type": "code",
   "execution_count": null,
   "metadata": {
    "scrolled": true
   },
   "outputs": [],
   "source": [
    "td.resync(infile, 0)"
   ]
  },
  {
   "cell_type": "code",
   "execution_count": null,
   "metadata": {
    "scrolled": true
   },
   "outputs": [],
   "source": [
    "offset = 0\n",
    "while (True):\n",
    "    offset = size_to_err(get_file_size(dblkresync))\n",
    "    print(offset)\n",
    "    if (offset > get_file_size(dblkbyte)):\n",
    "        break\n",
    "    offset += 4\n",
    "    offset = size_to_err(td.resync(infile, offset))\n",
    "    print(td.get_record(infile))"
   ]
  },
  {
   "cell_type": "code",
   "execution_count": null,
   "metadata": {},
   "outputs": [],
   "source": []
  },
  {
   "cell_type": "markdown",
   "metadata": {},
   "source": [
    "# Other"
   ]
  },
  {
   "cell_type": "code",
   "execution_count": null,
   "metadata": {},
   "outputs": [],
   "source": [
    "STOP"
   ]
  },
  {
   "cell_type": "code",
   "execution_count": null,
   "metadata": {},
   "outputs": [],
   "source": [
    "i=4294967295\n",
    "int32(i)"
   ]
  },
  {
   "cell_type": "code",
   "execution_count": null,
   "metadata": {},
   "outputs": [],
   "source": [
    "int32()"
   ]
  },
  {
   "cell_type": "code",
   "execution_count": null,
   "metadata": {},
   "outputs": [],
   "source": [
    "!ls"
   ]
  },
  {
   "cell_type": "code",
   "execution_count": null,
   "metadata": {
    "scrolled": true
   },
   "outputs": [],
   "source": [
    "help(tagcore)"
   ]
  },
  {
   "cell_type": "code",
   "execution_count": null,
   "metadata": {},
   "outputs": [],
   "source": [
    "help(tagcore.core_headers)"
   ]
  },
  {
   "cell_type": "code",
   "execution_count": null,
   "metadata": {},
   "outputs": [],
   "source": [
    "!ls /tmp"
   ]
  },
  {
   "cell_type": "code",
   "execution_count": null,
   "metadata": {},
   "outputs": [],
   "source": []
  }
 ],
 "metadata": {
  "kernelspec": {
   "display_name": "Python 2",
   "language": "python",
   "name": "python2"
  },
  "language_info": {
   "codemirror_mode": {
    "name": "ipython",
    "version": 2
   },
   "file_extension": ".py",
   "mimetype": "text/x-python",
   "name": "python",
   "nbconvert_exporter": "python",
   "pygments_lexer": "ipython2",
   "version": "2.7.13"
  }
 },
 "nbformat": 4,
 "nbformat_minor": 2
}
