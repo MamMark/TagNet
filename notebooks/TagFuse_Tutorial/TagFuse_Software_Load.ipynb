{
 "cells": [
  {
   "cell_type": "code",
   "execution_count": 1,
   "metadata": {},
   "outputs": [
    {
     "data": {
      "application/javascript": [
       "IPython.notebook.set_autosave_interval(0)"
      ]
     },
     "metadata": {},
     "output_type": "display_data"
    },
    {
     "name": "stdout",
     "output_type": "stream",
     "text": [
      "Autosave disabled\n"
     ]
    }
   ],
   "source": [
    "%autosave 0"
   ]
  },
  {
   "cell_type": "code",
   "execution_count": 49,
   "metadata": {},
   "outputs": [],
   "source": [
    "import subprocess\n",
    "from os import listdir\n",
    "from os.path import isfile, join\n",
    "from time import time, sleep\n",
    "from binascii import hexlify"
   ]
  },
  {
   "cell_type": "code",
   "execution_count": 35,
   "metadata": {},
   "outputs": [],
   "source": [
    "import tagcore"
   ]
  },
  {
   "cell_type": "markdown",
   "metadata": {},
   "source": [
    "# Tagfuse File System Feature Test"
   ]
  },
  {
   "cell_type": "markdown",
   "metadata": {},
   "source": [
    "This file contains a set of tests that verify the features of the Tag Fuse Filesystem."
   ]
  },
  {
   "cell_type": "markdown",
   "metadata": {},
   "source": [
    "## Prerequisites"
   ]
  },
  {
   "cell_type": "markdown",
   "metadata": {},
   "source": [
    "- Raspberry Pi with latest software (See ```01_RPi_Build.md``` for details on contructing and installing a new RPi Disk Image). Make sure that the lates TagNet Basestation Software is installed, too.\n",
    "- Tag with latest software (see ```?``` for details on constructing and installing a new Tag Image)"
   ]
  },
  {
   "cell_type": "markdown",
   "metadata": {},
   "source": [
    "### Verified Features\n",
    "- Polling for tags\n",
    "    - tested with two\n",
    "- Dblk read\n",
    "    - using ```tagdump```\n",
    "- Dlbk special files\n",
    "    - sizes reflect offsets of underlying record status"
   ]
  },
  {
   "cell_type": "markdown",
   "metadata": {},
   "source": [
    "### To be Tested\n",
    "- Panic verification\n",
    "    - Panic byte file read is working\n",
    "    - need to figure out if/how to erase\n",
    "- GPS XYZ value\n",
    "- GPS cmd\n",
    "    - has been used extensively, just need to add test\n",
    "- Poll count verification\n",
    "- Reboot using sys/{Active,Golden,Nib,Backup,Running}"
   ]
  },
  {
   "cell_type": "markdown",
   "metadata": {},
   "source": [
    "### Failed Tests"
   ]
  },
  {
   "cell_type": "markdown",
   "metadata": {},
   "source": [
    "- getattr\n",
    "    - rtc\n",
    "    - panic/{count, byte}\n",
    "    - test/{sum,zeros,ones}\n",
    "    - sys/{golden,nib}"
   ]
  },
  {
   "cell_type": "markdown",
   "metadata": {},
   "source": [
    "### Missing Features\n",
    "- Image filesize and timestamp metadata\n",
    "- Not all file timestamps are being set\n",
    "- Poll event identifiers\n",
    "- Date on GPS (designates acquisition time)"
   ]
  },
  {
   "cell_type": "markdown",
   "metadata": {},
   "source": [
    "## Initial State"
   ]
  },
  {
   "cell_type": "markdown",
   "metadata": {},
   "source": [
    "The following variables provide user environment control."
   ]
  },
  {
   "cell_type": "code",
   "execution_count": 4,
   "metadata": {},
   "outputs": [],
   "source": [
    "nid='1fbcd99fd29f'\n",
    "#nid='658bc8e5205c'\n",
    "#nid='a0b696b4fb29'"
   ]
  },
  {
   "cell_type": "code",
   "execution_count": 14,
   "metadata": {},
   "outputs": [],
   "source": [
    "TREE_BASE       = '/home/pi/tags/'\n",
    "TAG_BASE        = TREE_BASE + nid + '/tag'\n",
    "TAG_SYS_BASE    = TAG_BASE + '/sys'\n",
    "TAG_IMAGE_STORE = TAG_BASE + '/sd/0/img'\n",
    "SPARSE_STORE    = '/home/pi/Desktop'\n",
    "BS_IMAGE_STORE  = '/mnt/neptune/tagbin/test'"
   ]
  },
  {
   "cell_type": "markdown",
   "metadata": {},
   "source": [
    "## NOTES / ISSUES\n",
    "- writing image when no room available gets stuck in a loop - very bad"
   ]
  },
  {
   "cell_type": "markdown",
   "metadata": {},
   "source": [
    "## Show list of Images stored on the Basestation"
   ]
  },
  {
   "cell_type": "code",
   "execution_count": 18,
   "metadata": {},
   "outputs": [
    {
     "name": "stdout",
     "output_type": "stream",
     "text": [
      "total 312\r\n",
      "drwxrwxrwx 2 pi devgrp      0 Nov 16 15:21 \u001b[0m\u001b[34;42m.\u001b[0m/\r\n",
      "drwxrwxrwx 2 pi devgrp      0 Nov 16 15:15 \u001b[34;42m..\u001b[0m/\r\n",
      "-rwxrwxrwx 1 pi devgrp 102484 Nov 16 15:19 \u001b[01;32m0.4.303\u001b[0m*\r\n",
      "-rwxrwxrwx 1 pi devgrp 102484 Nov 16 15:20 \u001b[01;32m0.4.304\u001b[0m*\r\n",
      "-rwxrwxrwx 1 pi devgrp 102484 Nov 16 15:21 \u001b[01;32m0.4.305\u001b[0m*\r\n"
     ]
    }
   ],
   "source": [
    "ls -al $BS_IMAGE_STORE"
   ]
  },
  {
   "cell_type": "code",
   "execution_count": 23,
   "metadata": {},
   "outputs": [
    {
     "data": {
      "text/plain": [
       "['/mnt/neptune/tagbin/test/0.4.303',\n",
       " '/mnt/neptune/tagbin/test/0.4.304',\n",
       " '/mnt/neptune/tagbin/test/0.4.305']"
      ]
     },
     "execution_count": 23,
     "metadata": {},
     "output_type": "execute_result"
    }
   ],
   "source": [
    "cmd='ls ' + BS_IMAGE_STORE + '/*'\n",
    "basestation_image_list= [ f for f in subprocess.check_output(cmd, shell=True).split('\\n') if f]\n",
    "basestation_image_list"
   ]
  },
  {
   "cell_type": "markdown",
   "metadata": {},
   "source": [
    "## Show Images on Tag"
   ]
  },
  {
   "cell_type": "code",
   "execution_count": 19,
   "metadata": {},
   "outputs": [
    {
     "name": "stdout",
     "output_type": "stream",
     "text": [
      "total 0\r\n",
      "drwxr-x--x 4 pi pi 0 Dec 31  1969 \u001b[0m\u001b[01;34m.\u001b[0m/\r\n",
      "drwxr-x--x 6 pi pi 0 Dec 31  1969 \u001b[01;34m..\u001b[0m/\r\n",
      "-rw-rw-r-- 1 pi pi 0 Nov 16 15:35 0.4.270\r\n",
      "-rw-rw-r-- 1 pi pi 0 Nov 16 15:35 0.4.274\r\n"
     ]
    }
   ],
   "source": [
    "ls -al $TAG_IMAGE_STORE"
   ]
  },
  {
   "cell_type": "markdown",
   "metadata": {},
   "source": [
    "## Show the state of software currently installed on the tag"
   ]
  },
  {
   "cell_type": "code",
   "execution_count": 20,
   "metadata": {},
   "outputs": [
    {
     "name": "stdout",
     "output_type": "stream",
     "text": [
      "/home/pi/tags/1fbcd99fd29f/tag/sys\n",
      "├── active\n",
      "│   └── 0.4.270\n",
      "├── backup\n",
      "├── golden\n",
      "│   └── 0.4.302\n",
      "├── nib\n",
      "│   └── 0.4.270\n",
      "├── rtc\n",
      "└── running\n",
      "    └── 0.4.302\n",
      "\n",
      "5 directories, 5 files\n"
     ]
    }
   ],
   "source": [
    "!tree $TAG_SYS_BASE"
   ]
  },
  {
   "cell_type": "markdown",
   "metadata": {},
   "source": [
    "## Exercise the Image Storage and Activation Logic"
   ]
  },
  {
   "cell_type": "markdown",
   "metadata": {},
   "source": [
    "Perform the following steps:\n",
    "1. Get Tag's currently active version and save it as original_vers\n",
    "2. Get list of available images to load (stored on basestation)\n",
    "3. Remove all images from Tag (should't be able to remove active image)\n",
    "4. Load three of the available images\n",
    "5. Set first of the newly loaded images as Active\n",
    "5. Set second of the newly loaded images as Backup\n",
    "5. Set third of the newly loaded images as Active\n",
    "6. Set orignal_vers image as Active"
   ]
  },
  {
   "cell_type": "markdown",
   "metadata": {},
   "source": [
    "### 1. Get currently active version"
   ]
  },
  {
   "cell_type": "code",
   "execution_count": 25,
   "metadata": {},
   "outputs": [
    {
     "data": {
      "text/plain": [
       "'0.4.270'"
      ]
     },
     "execution_count": 25,
     "metadata": {},
     "output_type": "execute_result"
    }
   ],
   "source": [
    "cmd='ls '+TAG_SYS_BASE+'/active'\n",
    "original_vers=subprocess.check_output(cmd, shell=True)[:-1]\n",
    "original_vers"
   ]
  },
  {
   "cell_type": "markdown",
   "metadata": {},
   "source": [
    "### 2. Get list of available images to load (stored on basestation)"
   ]
  },
  {
   "cell_type": "code",
   "execution_count": 26,
   "metadata": {},
   "outputs": [
    {
     "data": {
      "text/plain": [
       "['0.4.303', '0.4.304', '0.4.305']"
      ]
     },
     "execution_count": 26,
     "metadata": {},
     "output_type": "execute_result"
    }
   ],
   "source": [
    "basestation_image_list = [f for f in listdir(BS_IMAGE_STORE) if isfile(join(BS_IMAGE_STORE, f))\n",
    "                          and not f.startswith('.') and not f == original_vers]\n",
    "basestation_image_list"
   ]
  },
  {
   "cell_type": "markdown",
   "metadata": {},
   "source": [
    "### 3. Remove all images from Tag\n",
    "Note: should't be able to remove active image."
   ]
  },
  {
   "cell_type": "code",
   "execution_count": 27,
   "metadata": {},
   "outputs": [
    {
     "name": "stdout",
     "output_type": "stream",
     "text": [
      "total 0\r\n",
      "-rw-rw-r-- 1 pi pi 0 Nov 16 15:38 0.4.270\r\n"
     ]
    }
   ],
   "source": [
    "!rm $TAG_IMAGE_STORE/*\n",
    "!ls -l $TAG_IMAGE_STORE"
   ]
  },
  {
   "cell_type": "markdown",
   "metadata": {},
   "source": [
    "### 4. Load three of the available images"
   ]
  },
  {
   "cell_type": "markdown",
   "metadata": {},
   "source": [
    "Use `cp` to copy one of the software images in the IMAGE_STORE to the tag\n",
    "Monitor progress using pv"
   ]
  },
  {
   "cell_type": "code",
   "execution_count": 28,
   "metadata": {},
   "outputs": [],
   "source": [
    "import os\n",
    "import struct as pystruct\n",
    "IMAGE_INFO_SIG = 0x33275401\n",
    "IMAGE_META_OFFSET = 0x140\n",
    "IMAGE_INFO_DEFAULT = [IMAGE_INFO_SIG, 0x20000, (0x140*2)+0x1c, \n",
    "                      9999, 2, 0, \n",
    "                      0, \n",
    "                      99, 77, \n",
    "                      '\\00'  * 10]\n",
    "IMAGE_INFO_LEN = 2\n",
    "#\n",
    "# Struct created for accessing image info (little indian)\n",
    "# sig, image_start, imagelength, vector_chk, image_chk, im_build, im_minor, im_major, main_tree, aux_tree, build_time, im_rev, im_model = image_info\n",
    "#\n",
    "IMB_FIELDS = '<LLLHBBLBB10s'\n",
    "image_info_struct = pystruct.Struct(IMB_FIELDS)\n",
    "IMAGE_MIN_SIZE  =  (IMAGE_META_OFFSET + image_info_struct.size)"
   ]
  },
  {
   "cell_type": "code",
   "execution_count": 59,
   "metadata": {},
   "outputs": [],
   "source": [
    "def info_check(filename):\n",
    "    image_info_obj = tagcore.core_headers.obj_image_info()\n",
    "    with open(filename, 'rb') as infile:\n",
    "        if not infile:\n",
    "            return (NONE, NONE, NONE)\n",
    "        infile.seek(0, 2) # seek to the end\n",
    "        file_size = infile.tell()\n",
    "        if file_size < IMAGE_MIN_SIZE: raise RadioLoadException(\"input file too short\")\n",
    "        infile.seek(0, 0)    # seek to the beginnnig\n",
    "        # get image info from input file and sanity check\n",
    "        infile.seek(IMAGE_META_OFFSET) # seek to location of image info\n",
    "        buf = infile.read(len(image_info_obj))\n",
    "        print(len(buf), hexlify(buf))\n",
    "        image_info = image_info_obj.set(buf)\n",
    "        print(image_info)\n",
    "#        print(\"file information\")\n",
    "#        sig, image_start, imagelength, im_build, im_minor, im_major, image_chk, \\\n",
    "#             im_rev, im_model, pad = image_info\n",
    "#        pstr = \"  signature: 0x{:x}, start: 0x{:x}, length: 0x{:x}, image_chk: 0x{:x}\"\n",
    "#        print(pstr.format(sig, image_start, imagelength, image_chk))\n",
    "#        pstr = \"  version: ({}.{}.{}(0x{:x})), rev: {}, model: {}\"\n",
    "#        print(pstr.format(im_major, im_minor, im_build, im_build, im_rev, im_model))\n",
    "        if image_info['basic']['sig'] != IMAGE_INFO_SIG: raise RadioLoadException(\"image metadata is invalid\")\n",
    "    return ((im_major, im_minor, im_build), imagelength)"
   ]
  },
  {
   "cell_type": "code",
   "execution_count": 60,
   "metadata": {},
   "outputs": [
    {
     "name": "stdout",
     "output_type": "stream",
     "text": [
      "0.4.303\n",
      "(34, '0154273300000200549001002f010400e8e4ae000101000000000000000000002a01')\n"
     ]
    },
    {
     "ename": "error",
     "evalue": "unpack requires a string argument of length 1",
     "output_type": "error",
     "traceback": [
      "\u001b[0;31m\u001b[0m",
      "\u001b[0;31merror\u001b[0mTraceback (most recent call last)",
      "\u001b[0;32m<ipython-input-60-15650f5066a2>\u001b[0m in \u001b[0;36m<module>\u001b[0;34m()\u001b[0m\n\u001b[1;32m      3\u001b[0m     \u001b[0mversion\u001b[0m \u001b[0;34m=\u001b[0m \u001b[0mbasestation_image_list\u001b[0m\u001b[0;34m[\u001b[0m\u001b[0mi\u001b[0m\u001b[0;34m]\u001b[0m\u001b[0;34m\u001b[0m\u001b[0m\n\u001b[1;32m      4\u001b[0m     \u001b[0;32mprint\u001b[0m\u001b[0;34m(\u001b[0m\u001b[0mversion\u001b[0m\u001b[0;34m)\u001b[0m\u001b[0;34m\u001b[0m\u001b[0m\n\u001b[0;32m----> 5\u001b[0;31m     \u001b[0minfo_check\u001b[0m\u001b[0;34m(\u001b[0m\u001b[0mos\u001b[0m\u001b[0;34m.\u001b[0m\u001b[0mpath\u001b[0m\u001b[0;34m.\u001b[0m\u001b[0mjoin\u001b[0m\u001b[0;34m(\u001b[0m\u001b[0mBS_IMAGE_STORE\u001b[0m\u001b[0;34m,\u001b[0m \u001b[0mversion\u001b[0m\u001b[0;34m)\u001b[0m\u001b[0;34m)\u001b[0m\u001b[0;34m\u001b[0m\u001b[0m\n\u001b[0m",
      "\u001b[0;32m<ipython-input-59-2d2385a2cea2>\u001b[0m in \u001b[0;36minfo_check\u001b[0;34m(filename)\u001b[0m\n\u001b[1;32m     12\u001b[0m         \u001b[0mbuf\u001b[0m \u001b[0;34m=\u001b[0m \u001b[0minfile\u001b[0m\u001b[0;34m.\u001b[0m\u001b[0mread\u001b[0m\u001b[0;34m(\u001b[0m\u001b[0mlen\u001b[0m\u001b[0;34m(\u001b[0m\u001b[0mimage_info_obj\u001b[0m\u001b[0;34m)\u001b[0m\u001b[0;34m)\u001b[0m\u001b[0;34m\u001b[0m\u001b[0m\n\u001b[1;32m     13\u001b[0m         \u001b[0;32mprint\u001b[0m\u001b[0;34m(\u001b[0m\u001b[0mlen\u001b[0m\u001b[0;34m(\u001b[0m\u001b[0mbuf\u001b[0m\u001b[0;34m)\u001b[0m\u001b[0;34m,\u001b[0m \u001b[0mhexlify\u001b[0m\u001b[0;34m(\u001b[0m\u001b[0mbuf\u001b[0m\u001b[0;34m)\u001b[0m\u001b[0;34m)\u001b[0m\u001b[0;34m\u001b[0m\u001b[0m\n\u001b[0;32m---> 14\u001b[0;31m         \u001b[0mimage_info\u001b[0m \u001b[0;34m=\u001b[0m \u001b[0mimage_info_obj\u001b[0m\u001b[0;34m.\u001b[0m\u001b[0mset\u001b[0m\u001b[0;34m(\u001b[0m\u001b[0mbuf\u001b[0m\u001b[0;34m)\u001b[0m\u001b[0;34m\u001b[0m\u001b[0m\n\u001b[0m\u001b[1;32m     15\u001b[0m         \u001b[0;32mprint\u001b[0m\u001b[0;34m(\u001b[0m\u001b[0mimage_info\u001b[0m\u001b[0;34m)\u001b[0m\u001b[0;34m\u001b[0m\u001b[0m\n\u001b[1;32m     16\u001b[0m \u001b[0;31m#        print(\"file information\")\u001b[0m\u001b[0;34m\u001b[0m\u001b[0;34m\u001b[0m\u001b[0m\n",
      "\u001b[0;32m/mnt/neptune/mm/tools/utils/tagcore/tagcore/base_objs.pyc\u001b[0m in \u001b[0;36mset\u001b[0;34m(self, buf)\u001b[0m\n\u001b[1;32m    107\u001b[0m         \u001b[0mconsumed\u001b[0m \u001b[0;34m=\u001b[0m \u001b[0;36m0\u001b[0m\u001b[0;34m\u001b[0m\u001b[0m\n\u001b[1;32m    108\u001b[0m         \u001b[0;32mfor\u001b[0m \u001b[0mkey\u001b[0m\u001b[0;34m,\u001b[0m \u001b[0mv_obj\u001b[0m \u001b[0;32min\u001b[0m \u001b[0mself\u001b[0m\u001b[0;34m.\u001b[0m\u001b[0miteritems\u001b[0m\u001b[0;34m(\u001b[0m\u001b[0;34m)\u001b[0m\u001b[0;34m:\u001b[0m\u001b[0;34m\u001b[0m\u001b[0m\n\u001b[0;32m--> 109\u001b[0;31m             \u001b[0mconsumed\u001b[0m \u001b[0;34m+=\u001b[0m \u001b[0mv_obj\u001b[0m\u001b[0;34m.\u001b[0m\u001b[0mset\u001b[0m\u001b[0;34m(\u001b[0m\u001b[0mbuf\u001b[0m\u001b[0;34m[\u001b[0m\u001b[0mconsumed\u001b[0m\u001b[0;34m:\u001b[0m\u001b[0;34m]\u001b[0m\u001b[0;34m)\u001b[0m\u001b[0;34m\u001b[0m\u001b[0m\n\u001b[0m\u001b[1;32m    110\u001b[0m         \u001b[0;32mreturn\u001b[0m \u001b[0mconsumed\u001b[0m\u001b[0;34m\u001b[0m\u001b[0m\n\u001b[1;32m    111\u001b[0m \u001b[0;34m\u001b[0m\u001b[0m\n",
      "\u001b[0;32m/mnt/neptune/mm/tools/utils/tagcore/tagcore/base_objs.pyc\u001b[0m in \u001b[0;36mset\u001b[0;34m(self, buf)\u001b[0m\n\u001b[1;32m    202\u001b[0m                 \u001b[0;34m(\u001b[0m\u001b[0;34m'tlv_len'\u001b[0m\u001b[0;34m,\u001b[0m  \u001b[0matom\u001b[0m\u001b[0;34m(\u001b[0m\u001b[0;34m(\u001b[0m\u001b[0;34m'<B'\u001b[0m\u001b[0;34m,\u001b[0m \u001b[0;34m'{}'\u001b[0m\u001b[0;34m)\u001b[0m\u001b[0;34m)\u001b[0m\u001b[0;34m)\u001b[0m\u001b[0;34m,\u001b[0m\u001b[0;34m\u001b[0m\u001b[0m\n\u001b[1;32m    203\u001b[0m             ])))\n\u001b[0;32m--> 204\u001b[0;31m             \u001b[0mtlv_consumed\u001b[0m \u001b[0;34m+=\u001b[0m \u001b[0mtlv\u001b[0m\u001b[0;34m.\u001b[0m\u001b[0mset\u001b[0m\u001b[0;34m(\u001b[0m\u001b[0mbuf\u001b[0m\u001b[0;34m[\u001b[0m\u001b[0mconsumed\u001b[0m\u001b[0;34m+\u001b[0m\u001b[0mtlv_consumed\u001b[0m\u001b[0;34m:\u001b[0m\u001b[0;34m]\u001b[0m\u001b[0;34m)\u001b[0m\u001b[0;34m\u001b[0m\u001b[0m\n\u001b[0m\u001b[1;32m    205\u001b[0m             \u001b[0mtlv_type\u001b[0m \u001b[0;34m=\u001b[0m \u001b[0mtlv\u001b[0m\u001b[0;34m[\u001b[0m\u001b[0;34m'tlv_type'\u001b[0m\u001b[0;34m]\u001b[0m\u001b[0;34m.\u001b[0m\u001b[0mval\u001b[0m\u001b[0;34m\u001b[0m\u001b[0m\n\u001b[1;32m    206\u001b[0m             \u001b[0;32mif\u001b[0m \u001b[0mtlv_type\u001b[0m \u001b[0;34m==\u001b[0m \u001b[0;36m0\u001b[0m\u001b[0;34m:\u001b[0m\u001b[0;34m\u001b[0m\u001b[0m\n",
      "\u001b[0;32m/mnt/neptune/mm/tools/utils/tagcore/tagcore/base_objs.pyc\u001b[0m in \u001b[0;36mset\u001b[0;34m(self, buf)\u001b[0m\n\u001b[1;32m    139\u001b[0m         \u001b[0;31m# First collect T & L... V is done manually\u001b[0m\u001b[0;34m\u001b[0m\u001b[0;34m\u001b[0m\u001b[0m\n\u001b[1;32m    140\u001b[0m         \u001b[0;31m#\u001b[0m\u001b[0;34m\u001b[0m\u001b[0;34m\u001b[0m\u001b[0m\n\u001b[0;32m--> 141\u001b[0;31m         \u001b[0mself\u001b[0m\u001b[0;34m.\u001b[0m\u001b[0mtlv_hdr_len\u001b[0m \u001b[0;34m=\u001b[0m \u001b[0msuper\u001b[0m\u001b[0;34m(\u001b[0m\u001b[0mtlv_aggie\u001b[0m\u001b[0;34m,\u001b[0m \u001b[0mself\u001b[0m\u001b[0;34m)\u001b[0m\u001b[0;34m.\u001b[0m\u001b[0mset\u001b[0m\u001b[0;34m(\u001b[0m\u001b[0mbuf\u001b[0m\u001b[0;34m)\u001b[0m\u001b[0;34m\u001b[0m\u001b[0m\n\u001b[0m\u001b[1;32m    142\u001b[0m         \u001b[0mtlv_type\u001b[0m \u001b[0;34m=\u001b[0m \u001b[0mself\u001b[0m\u001b[0;34m[\u001b[0m\u001b[0;34m'tlv_type'\u001b[0m\u001b[0;34m]\u001b[0m\u001b[0;34m.\u001b[0m\u001b[0mval\u001b[0m\u001b[0;34m\u001b[0m\u001b[0m\n\u001b[1;32m    143\u001b[0m         \u001b[0mtlv_len\u001b[0m \u001b[0;34m=\u001b[0m \u001b[0mself\u001b[0m\u001b[0;34m[\u001b[0m\u001b[0;34m'tlv_len'\u001b[0m\u001b[0;34m]\u001b[0m\u001b[0;34m.\u001b[0m\u001b[0mval\u001b[0m\u001b[0;34m\u001b[0m\u001b[0m\n",
      "\u001b[0;32m/mnt/neptune/mm/tools/utils/tagcore/tagcore/base_objs.pyc\u001b[0m in \u001b[0;36mset\u001b[0;34m(self, buf)\u001b[0m\n\u001b[1;32m    107\u001b[0m         \u001b[0mconsumed\u001b[0m \u001b[0;34m=\u001b[0m \u001b[0;36m0\u001b[0m\u001b[0;34m\u001b[0m\u001b[0m\n\u001b[1;32m    108\u001b[0m         \u001b[0;32mfor\u001b[0m \u001b[0mkey\u001b[0m\u001b[0;34m,\u001b[0m \u001b[0mv_obj\u001b[0m \u001b[0;32min\u001b[0m \u001b[0mself\u001b[0m\u001b[0;34m.\u001b[0m\u001b[0miteritems\u001b[0m\u001b[0;34m(\u001b[0m\u001b[0;34m)\u001b[0m\u001b[0;34m:\u001b[0m\u001b[0;34m\u001b[0m\u001b[0m\n\u001b[0;32m--> 109\u001b[0;31m             \u001b[0mconsumed\u001b[0m \u001b[0;34m+=\u001b[0m \u001b[0mv_obj\u001b[0m\u001b[0;34m.\u001b[0m\u001b[0mset\u001b[0m\u001b[0;34m(\u001b[0m\u001b[0mbuf\u001b[0m\u001b[0;34m[\u001b[0m\u001b[0mconsumed\u001b[0m\u001b[0;34m:\u001b[0m\u001b[0;34m]\u001b[0m\u001b[0;34m)\u001b[0m\u001b[0;34m\u001b[0m\u001b[0m\n\u001b[0m\u001b[1;32m    110\u001b[0m         \u001b[0;32mreturn\u001b[0m \u001b[0mconsumed\u001b[0m\u001b[0;34m\u001b[0m\u001b[0m\n\u001b[1;32m    111\u001b[0m \u001b[0;34m\u001b[0m\u001b[0m\n",
      "\u001b[0;32m/mnt/neptune/mm/tools/utils/tagcore/tagcore/base_objs.pyc\u001b[0m in \u001b[0;36mset\u001b[0;34m(self, buf)\u001b[0m\n\u001b[1;32m     64\u001b[0m         \u001b[0;32mreturn\u001b[0m \u001b[0mthe\u001b[0m \u001b[0mnumber\u001b[0m \u001b[0mof\u001b[0m \u001b[0mbytes\u001b[0m \u001b[0;34m(\u001b[0m\u001b[0msize\u001b[0m\u001b[0;34m)\u001b[0m \u001b[0mconsumed\u001b[0m\u001b[0;34m\u001b[0m\u001b[0m\n\u001b[1;32m     65\u001b[0m         '''\n\u001b[0;32m---> 66\u001b[0;31m         \u001b[0mself\u001b[0m\u001b[0;34m.\u001b[0m\u001b[0mval\u001b[0m \u001b[0;34m=\u001b[0m \u001b[0mself\u001b[0m\u001b[0;34m.\u001b[0m\u001b[0ms_rec\u001b[0m\u001b[0;34m.\u001b[0m\u001b[0munpack\u001b[0m\u001b[0;34m(\u001b[0m\u001b[0mbuf\u001b[0m\u001b[0;34m[\u001b[0m\u001b[0;34m:\u001b[0m\u001b[0mself\u001b[0m\u001b[0;34m.\u001b[0m\u001b[0ms_rec\u001b[0m\u001b[0;34m.\u001b[0m\u001b[0msize\u001b[0m\u001b[0;34m]\u001b[0m\u001b[0;34m)\u001b[0m\u001b[0;34m[\u001b[0m\u001b[0;36m0\u001b[0m\u001b[0;34m]\u001b[0m\u001b[0;34m\u001b[0m\u001b[0m\n\u001b[0m\u001b[1;32m     67\u001b[0m         \u001b[0;32mreturn\u001b[0m \u001b[0mself\u001b[0m\u001b[0;34m.\u001b[0m\u001b[0ms_rec\u001b[0m\u001b[0;34m.\u001b[0m\u001b[0msize\u001b[0m\u001b[0;34m\u001b[0m\u001b[0m\n\u001b[1;32m     68\u001b[0m \u001b[0;34m\u001b[0m\u001b[0m\n",
      "\u001b[0;31merror\u001b[0m: unpack requires a string argument of length 1"
     ]
    }
   ],
   "source": [
    "for i in range(3 if len(basestation_image_list) >= 3 \n",
    "               else len(basestation_image_list)):\n",
    "    version = basestation_image_list[i]\n",
    "    print(version)\n",
    "    info_check(os.path.join(BS_IMAGE_STORE, version))"
   ]
  },
  {
   "cell_type": "code",
   "execution_count": 30,
   "metadata": {
    "scrolled": false
   },
   "outputs": [
    {
     "name": "stdout",
     "output_type": "stream",
     "text": [
      "0.4.303\n",
      "file information\n",
      "  signature: 0x33275401, start: 0x20000, length: 0x19054, image_chk: 0xaee4e8\n",
      "  version: (0.4.303(0x12f)), rev: 1, model: 1\n",
      "dd: writing to '/home/pi/tags/1fbcd99fd29f/tag/sd/0/img/0.4.303': No such file or directory\n",
      "1+0 records in\n",
      "0+1 records out\n",
      "435 bytes copied, 6.06016 s, 0.1 kB/s\n",
      "0.4.304\n",
      "file information\n",
      "  signature: 0x33275401, start: 0x20000, length: 0x19054, image_chk: 0xaee4e8\n",
      "  version: (0.4.303(0x12f)), rev: 1, model: 1\n",
      "dd: writing to '/home/pi/tags/1fbcd99fd29f/tag/sd/0/img/0.4.304': No such file or directory\n",
      "1+0 records in\n",
      "0+0 records out\n",
      "0 bytes copied, 1.62847 s, 0.0 kB/s\n",
      "0.4.305\n",
      "file information\n",
      "  signature: 0x33275401, start: 0x20000, length: 0x19054, image_chk: 0xaee4e9\n",
      "  version: (0.4.305(0x131)), rev: 1, model: 1\n",
      "dd: writing to '/home/pi/tags/1fbcd99fd29f/tag/sd/0/img/0.4.305': No such file or directory\n",
      "1+0 records in\n",
      "0+0 records out\n",
      "0 bytes copied, 3.97473 s, 0.0 kB/s\n"
     ]
    }
   ],
   "source": [
    "for i in range(3 if len(basestation_image_list) >= 3 \n",
    "               else len(basestation_image_list)):\n",
    "    version = basestation_image_list[i]\n",
    "    print(version)\n",
    "    info_check(os.path.join(BS_IMAGE_STORE, version))\n",
    "    !dd if=$BS_IMAGE_STORE/$version of=$TAG_IMAGE_STORE/$version status=progress"
   ]
  },
  {
   "cell_type": "markdown",
   "metadata": {},
   "source": [
    "### 5. Set first of the newly loaded images as Active"
   ]
  },
  {
   "cell_type": "markdown",
   "metadata": {},
   "source": [
    "Set the active version NOTE: REBOOTS TAG"
   ]
  },
  {
   "cell_type": "code",
   "execution_count": null,
   "metadata": {},
   "outputs": [],
   "source": [
    "version=basestation_image_list[0]\n",
    "!ln $TAG_IMAGE_STORE/$version $SYS_BASE/active/$version"
   ]
  },
  {
   "cell_type": "code",
   "execution_count": null,
   "metadata": {},
   "outputs": [],
   "source": [
    "sleep(5)"
   ]
  },
  {
   "cell_type": "code",
   "execution_count": null,
   "metadata": {},
   "outputs": [],
   "source": [
    "!ls -l $SYS_BASE/active"
   ]
  },
  {
   "cell_type": "markdown",
   "metadata": {},
   "source": [
    "Try again with same version should fail"
   ]
  },
  {
   "cell_type": "code",
   "execution_count": null,
   "metadata": {},
   "outputs": [],
   "source": [
    "version=basestation_image_list[2]\n",
    "!ln $TAG_IMAGE_STORE/$version $SYS_BASE/active/$version"
   ]
  },
  {
   "cell_type": "markdown",
   "metadata": {},
   "source": [
    "### 5. Set second of the newly loaded images as Backup"
   ]
  },
  {
   "cell_type": "code",
   "execution_count": null,
   "metadata": {},
   "outputs": [],
   "source": [
    "!ls -l $SYS_BASE/backup"
   ]
  },
  {
   "cell_type": "code",
   "execution_count": null,
   "metadata": {},
   "outputs": [],
   "source": [
    "version=basestation_image_list[1]\n",
    "!ln $TAG_IMAGE_STORE/$version $SYS_BASE/backup/$version"
   ]
  },
  {
   "cell_type": "code",
   "execution_count": null,
   "metadata": {},
   "outputs": [],
   "source": [
    "sleep(5)"
   ]
  },
  {
   "cell_type": "code",
   "execution_count": null,
   "metadata": {},
   "outputs": [],
   "source": [
    "!ls -l $SYS_BASE/backup"
   ]
  },
  {
   "cell_type": "markdown",
   "metadata": {},
   "source": [
    "### 5. Set third of the newly loaded images as Active"
   ]
  },
  {
   "cell_type": "code",
   "execution_count": null,
   "metadata": {},
   "outputs": [],
   "source": [
    "version=basestation_image_list[2]\n",
    "!ln $TAG_IMAGE_STORE/$version $SYS_BASE/active/$version"
   ]
  },
  {
   "cell_type": "code",
   "execution_count": null,
   "metadata": {},
   "outputs": [],
   "source": [
    "sleep(5)"
   ]
  },
  {
   "cell_type": "code",
   "execution_count": null,
   "metadata": {},
   "outputs": [],
   "source": [
    "!ls -l $SYS_BASE/active"
   ]
  },
  {
   "cell_type": "markdown",
   "metadata": {},
   "source": [
    "### 6. Set orignal_vers image as Active"
   ]
  },
  {
   "cell_type": "markdown",
   "metadata": {},
   "source": [
    "Set the backup version"
   ]
  },
  {
   "cell_type": "code",
   "execution_count": null,
   "metadata": {},
   "outputs": [],
   "source": [
    "!ln $TAG_IMAGE_STORE/$original_vers $SYS_BASE/active/$original_vers"
   ]
  },
  {
   "cell_type": "code",
   "execution_count": null,
   "metadata": {},
   "outputs": [],
   "source": [
    "!tree $SYS_BASE"
   ]
  },
  {
   "cell_type": "code",
   "execution_count": null,
   "metadata": {},
   "outputs": [],
   "source": [
    "!ls -l $TAG_IMAGE_STORE"
   ]
  },
  {
   "cell_type": "markdown",
   "metadata": {},
   "source": [
    "Reboot into the NIB"
   ]
  },
  {
   "cell_type": "markdown",
   "metadata": {},
   "source": [
    "Reboot into Golden"
   ]
  },
  {
   "cell_type": "markdown",
   "metadata": {},
   "source": [
    "## Stop the Fuse Driver"
   ]
  },
  {
   "cell_type": "code",
   "execution_count": null,
   "metadata": {},
   "outputs": [],
   "source": [
    "STOP"
   ]
  },
  {
   "cell_type": "code",
   "execution_count": null,
   "metadata": {},
   "outputs": [],
   "source": [
    "!fusermount -u ~/tags"
   ]
  },
  {
   "cell_type": "code",
   "execution_count": null,
   "metadata": {},
   "outputs": [],
   "source": []
  },
  {
   "cell_type": "code",
   "execution_count": 37,
   "metadata": {},
   "outputs": [
    {
     "name": "stdout",
     "output_type": "stream",
     "text": [
      "Help on package tagcore:\n",
      "\n",
      "NAME\n",
      "    tagcore\n",
      "\n",
      "FILE\n",
      "    /mnt/neptune/mm/tools/utils/tagcore/tagcore/__init__.py\n",
      "\n",
      "DESCRIPTION\n",
      "    tagcore: utility and common routines for many tag things\n",
      "    @author:   Eric B. Decker\n",
      "\n",
      "PACKAGE CONTENTS\n",
      "    base_objs\n",
      "    core_emitters\n",
      "    core_headers\n",
      "    core_populate\n",
      "    core_rev\n",
      "    dt_defs\n",
      "    gps_mon\n",
      "    imageinfo\n",
      "    influxtest\n",
      "    json_emitters\n",
      "    misc_utils\n",
      "    net_emitters\n",
      "    net_headers\n",
      "    net_populate\n",
      "    panic_headers\n",
      "    sirf_defs\n",
      "    sirf_emitters\n",
      "    sirf_headers\n",
      "    sirf_populate\n",
      "    tagfile\n",
      "\n",
      "SUBMODULES\n",
      "    __init__\n",
      "\n",
      "FUNCTIONS\n",
      "    buf_str(buf)\n",
      "        Convert buffer into its display bytes\n",
      "    \n",
      "    dump_buf(buf, pre='', desc='rec:  ')\n",
      "    \n",
      "    obj_dt_hdr()\n",
      "\n",
      "DATA\n",
      "    CORE_MINOR = 92\n",
      "    CORE_REV = 21\n",
      "    __all__ = ['CORE_REV', 'CORE_MINOR', 'buf_str', 'dump_buf', 'obj_dt_hd...\n",
      "    __version__ = '0.4.5rc92'\n",
      "\n",
      "VERSION\n",
      "    0.4.5rc92\n",
      "\n",
      "\n"
     ]
    }
   ],
   "source": [
    "help(tagcore)"
   ]
  },
  {
   "cell_type": "code",
   "execution_count": 40,
   "metadata": {},
   "outputs": [],
   "source": [
    "image_info_obj = tagcore.core_headers.obj_image_info()"
   ]
  },
  {
   "cell_type": "code",
   "execution_count": 44,
   "metadata": {},
   "outputs": [
    {
     "data": {
      "text/plain": [
       "34"
      ]
     },
     "execution_count": 44,
     "metadata": {},
     "output_type": "execute_result"
    }
   ],
   "source": [
    "len(image_info_obj)"
   ]
  },
  {
   "cell_type": "code",
   "execution_count": 41,
   "metadata": {
    "scrolled": true
   },
   "outputs": [
    {
     "name": "stdout",
     "output_type": "stream",
     "text": [
      "Help on aggie in module tagcore.base_objs object:\n",
      "\n",
      "class aggie(collections.OrderedDict)\n",
      " |  aggie: aggregation node.\n",
      " |  takes one parameter a dictionary of key -> {atom | aggie}\n",
      " |  \n",
      " |  Method resolution order:\n",
      " |      aggie\n",
      " |      collections.OrderedDict\n",
      " |      __builtin__.dict\n",
      " |      __builtin__.object\n",
      " |  \n",
      " |  Methods defined here:\n",
      " |  \n",
      " |  __init__(self, a_dict)\n",
      " |  \n",
      " |  __len__(self)\n",
      " |  \n",
      " |  __repr__(self)\n",
      " |  \n",
      " |  build(self)\n",
      " |  \n",
      " |  set(self, buf)\n",
      " |  \n",
      " |  ----------------------------------------------------------------------\n",
      " |  Methods inherited from collections.OrderedDict:\n",
      " |  \n",
      " |  __delitem__(self, key, dict_delitem=<slot wrapper '__delitem__' of 'dict' objects>)\n",
      " |      od.__delitem__(y) <==> del od[y]\n",
      " |  \n",
      " |  __eq__(self, other)\n",
      " |      od.__eq__(y) <==> od==y.  Comparison to another OD is order-sensitive\n",
      " |      while comparison to a regular mapping is order-insensitive.\n",
      " |  \n",
      " |  __iter__(self)\n",
      " |      od.__iter__() <==> iter(od)\n",
      " |  \n",
      " |  __ne__(self, other)\n",
      " |      od.__ne__(y) <==> od!=y\n",
      " |  \n",
      " |  __reduce__(self)\n",
      " |      Return state information for pickling\n",
      " |  \n",
      " |  __reversed__(self)\n",
      " |      od.__reversed__() <==> reversed(od)\n",
      " |  \n",
      " |  __setitem__(self, key, value, dict_setitem=<slot wrapper '__setitem__' of 'dict' objects>)\n",
      " |      od.__setitem__(i, y) <==> od[i]=y\n",
      " |  \n",
      " |  clear(self)\n",
      " |      od.clear() -> None.  Remove all items from od.\n",
      " |  \n",
      " |  copy(self)\n",
      " |      od.copy() -> a shallow copy of od\n",
      " |  \n",
      " |  items(self)\n",
      " |      od.items() -> list of (key, value) pairs in od\n",
      " |  \n",
      " |  iteritems(self)\n",
      " |      od.iteritems -> an iterator over the (key, value) pairs in od\n",
      " |  \n",
      " |  iterkeys(self)\n",
      " |      od.iterkeys() -> an iterator over the keys in od\n",
      " |  \n",
      " |  itervalues(self)\n",
      " |      od.itervalues -> an iterator over the values in od\n",
      " |  \n",
      " |  keys(self)\n",
      " |      od.keys() -> list of keys in od\n",
      " |  \n",
      " |  pop(self, key, default=<object object>)\n",
      " |      od.pop(k[,d]) -> v, remove specified key and return the corresponding\n",
      " |      value.  If key is not found, d is returned if given, otherwise KeyError\n",
      " |      is raised.\n",
      " |  \n",
      " |  popitem(self, last=True)\n",
      " |      od.popitem() -> (k, v), return and remove a (key, value) pair.\n",
      " |      Pairs are returned in LIFO order if last is true or FIFO order if false.\n",
      " |  \n",
      " |  setdefault(self, key, default=None)\n",
      " |      od.setdefault(k[,d]) -> od.get(k,d), also set od[k]=d if k not in od\n",
      " |  \n",
      " |  update(*args, **kwds)\n",
      " |      D.update([E, ]**F) -> None.  Update D from mapping/iterable E and F.\n",
      " |      If E present and has a .keys() method, does:     for k in E: D[k] = E[k]\n",
      " |      If E present and lacks .keys() method, does:     for (k, v) in E: D[k] = v\n",
      " |      In either case, this is followed by: for k, v in F.items(): D[k] = v\n",
      " |  \n",
      " |  values(self)\n",
      " |      od.values() -> list of values in od\n",
      " |  \n",
      " |  viewitems(self)\n",
      " |      od.viewitems() -> a set-like object providing a view on od's items\n",
      " |  \n",
      " |  viewkeys(self)\n",
      " |      od.viewkeys() -> a set-like object providing a view on od's keys\n",
      " |  \n",
      " |  viewvalues(self)\n",
      " |      od.viewvalues() -> an object providing a view on od's values\n",
      " |  \n",
      " |  ----------------------------------------------------------------------\n",
      " |  Class methods inherited from collections.OrderedDict:\n",
      " |  \n",
      " |  fromkeys(cls, iterable, value=None) from __builtin__.type\n",
      " |      OD.fromkeys(S[, v]) -> New ordered dictionary with keys from S.\n",
      " |      If not specified, the value defaults to None.\n",
      " |  \n",
      " |  ----------------------------------------------------------------------\n",
      " |  Data descriptors inherited from collections.OrderedDict:\n",
      " |  \n",
      " |  __dict__\n",
      " |      dictionary for instance variables (if defined)\n",
      " |  \n",
      " |  __weakref__\n",
      " |      list of weak references to the object (if defined)\n",
      " |  \n",
      " |  ----------------------------------------------------------------------\n",
      " |  Methods inherited from __builtin__.dict:\n",
      " |  \n",
      " |  __cmp__(...)\n",
      " |      x.__cmp__(y) <==> cmp(x,y)\n",
      " |  \n",
      " |  __contains__(...)\n",
      " |      D.__contains__(k) -> True if D has a key k, else False\n",
      " |  \n",
      " |  __ge__(...)\n",
      " |      x.__ge__(y) <==> x>=y\n",
      " |  \n",
      " |  __getattribute__(...)\n",
      " |      x.__getattribute__('name') <==> x.name\n",
      " |  \n",
      " |  __getitem__(...)\n",
      " |      x.__getitem__(y) <==> x[y]\n",
      " |  \n",
      " |  __gt__(...)\n",
      " |      x.__gt__(y) <==> x>y\n",
      " |  \n",
      " |  __le__(...)\n",
      " |      x.__le__(y) <==> x<=y\n",
      " |  \n",
      " |  __lt__(...)\n",
      " |      x.__lt__(y) <==> x<y\n",
      " |  \n",
      " |  __sizeof__(...)\n",
      " |      D.__sizeof__() -> size of D in memory, in bytes\n",
      " |  \n",
      " |  get(...)\n",
      " |      D.get(k[,d]) -> D[k] if k in D, else d.  d defaults to None.\n",
      " |  \n",
      " |  has_key(...)\n",
      " |      D.has_key(k) -> True if D has a key k, else False\n",
      " |  \n",
      " |  ----------------------------------------------------------------------\n",
      " |  Data and other attributes inherited from __builtin__.dict:\n",
      " |  \n",
      " |  __hash__ = None\n",
      " |  \n",
      " |  __new__ = <built-in method __new__ of type object>\n",
      " |      T.__new__(S, ...) -> a new object with type S, a subtype of T\n",
      "\n"
     ]
    }
   ],
   "source": [
    "help(image_info_obj)"
   ]
  },
  {
   "cell_type": "code",
   "execution_count": null,
   "metadata": {},
   "outputs": [],
   "source": []
  }
 ],
 "metadata": {
  "kernelspec": {
   "display_name": "Python 2",
   "language": "python",
   "name": "python2"
  },
  "language_info": {
   "codemirror_mode": {
    "name": "ipython",
    "version": 2
   },
   "file_extension": ".py",
   "mimetype": "text/x-python",
   "name": "python",
   "nbconvert_exporter": "python",
   "pygments_lexer": "ipython2",
   "version": "2.7.13"
  }
 },
 "nbformat": 4,
 "nbformat_minor": 2
}
