{
 "cells": [
  {
   "cell_type": "code",
   "execution_count": 1,
   "metadata": {},
   "outputs": [],
   "source": [
    "import os\n",
    "from binascii import hexlify\n",
    "from time import sleep\n",
    "import datetime"
   ]
  },
  {
   "cell_type": "code",
   "execution_count": 2,
   "metadata": {},
   "outputs": [],
   "source": [
    "import io"
   ]
  },
  {
   "cell_type": "code",
   "execution_count": 3,
   "metadata": {},
   "outputs": [],
   "source": [
    "tagdir       = '/home/pi/tags/1fbcd99fd29f/tag'\n",
    "testdir      = tagdir+'/.test'\n",
    "zerofile     = testdir+'/zero'\n",
    "onesfile     = testdir+'/ones'\n",
    "echofile     = testdir+'/echo'"
   ]
  },
  {
   "cell_type": "code",
   "execution_count": 4,
   "metadata": {},
   "outputs": [
    {
     "name": "stdout",
     "output_type": "stream",
     "text": [
      "TagNet Driver Version 0.2.1\n"
     ]
    }
   ],
   "source": [
    "import tagnet"
   ]
  },
  {
   "cell_type": "code",
   "execution_count": 5,
   "metadata": {},
   "outputs": [
    {
     "name": "stdout",
     "output_type": "stream",
     "text": [
      "/mnt/neptune/TagNet/notebooks/TagFuse_Tutorial\r\n"
     ]
    }
   ],
   "source": [
    "!pwd"
   ]
  },
  {
   "cell_type": "code",
   "execution_count": 6,
   "metadata": {},
   "outputs": [],
   "source": [
    "def int32(x):\n",
    "  if x>0xFFFFFFFF:\n",
    "    raise OverflowError\n",
    "  if x>0x7FFFFFFF:\n",
    "    x=int(0x100000000-x)\n",
    "    if x<2147483648:\n",
    "      return -x\n",
    "    else:\n",
    "      return -2147483648\n",
    "  return x"
   ]
  },
  {
   "cell_type": "code",
   "execution_count": 7,
   "metadata": {},
   "outputs": [],
   "source": [
    "def round_to_word(a):\n",
    "    return ((a-(a%4)) if (a%4) else (a))"
   ]
  },
  {
   "cell_type": "code",
   "execution_count": 8,
   "metadata": {},
   "outputs": [],
   "source": [
    "def get_file_size(fn):\n",
    "    ret=!stat  -c '%s' $fn\n",
    "    offset=int(ret[0])\n",
    "    int32(offset)\n",
    "    return offset"
   ]
  },
  {
   "cell_type": "code",
   "execution_count": 9,
   "metadata": {},
   "outputs": [],
   "source": [
    "def err_by_value(val):\n",
    "    for e in tagnet.tlv_errors:\n",
    "        if e.value == val: break\n",
    "    return e.name"
   ]
  },
  {
   "cell_type": "code",
   "execution_count": 10,
   "metadata": {},
   "outputs": [],
   "source": [
    "def size_to_err(pos):\n",
    "    ipos = int32(pos)\n",
    "    if ipos < 0:\n",
    "        print('error', -ipos, err_by_value(-ipos))\n",
    "        return -ipos\n",
    "    return ipos"
   ]
  },
  {
   "cell_type": "markdown",
   "metadata": {},
   "source": [
    "#  Show Test Directory contents"
   ]
  },
  {
   "cell_type": "code",
   "execution_count": 11,
   "metadata": {},
   "outputs": [
    {
     "name": "stdout",
     "output_type": "stream",
     "text": [
      "total 0\r\n",
      "drwxr-x--x 10 pi pi   0 Dec 31  1969 .\r\n",
      "drwxr-x--x  8 pi pi   0 Dec 31  1969 ..\r\n",
      "-rw-rw--w-  1 pi pi   0 Nov 16 14:35 drop\r\n",
      "-rw-rw--w-  1 pi pi   0 Nov 16 14:35 echo\r\n",
      "-rw-rw-r--  1 pi pi  40 Nov 16 14:35 ones\r\n",
      "-rw-rw--w-  1 pi pi 179 Nov 16 14:35 rssi\r\n",
      "-rw-rw--w-  1 pi pi 155 Nov 16 14:35 rx_rssi\r\n",
      "-rw-rw-r--  1 pi pi   0 Dec 31  1969 sum\r\n",
      "-rw-rw--w-  1 pi pi   0 Dec 31  1969 tx_pwr\r\n",
      "-rw-rw-r--  1 pi pi  10 Nov 16 14:35 zero\r\n"
     ]
    }
   ],
   "source": [
    "!ls -al $testdir"
   ]
  },
  {
   "cell_type": "markdown",
   "metadata": {},
   "source": [
    "# Run Tests on Zero and Ones Byte Streams\n",
    "\n",
    "Use hexdump to verify the data (it automatically compares to remove duplicate lines).\n",
    "\n",
    "NOTE: hexdump uses buffered file system, so tagfuse read will be for 512"
   ]
  },
  {
   "cell_type": "code",
   "execution_count": 12,
   "metadata": {},
   "outputs": [],
   "source": [
    "!truncate --size 0 $zerofile"
   ]
  },
  {
   "cell_type": "code",
   "execution_count": 13,
   "metadata": {
    "scrolled": true
   },
   "outputs": [
    {
     "name": "stdout",
     "output_type": "stream",
     "text": [
      "-rw-rw-r-- 1 pi pi 0 Nov 16 14:35 /home/pi/tags/1fbcd99fd29f/tag/.test/zero\r\n"
     ]
    }
   ],
   "source": [
    "!ls -al $zerofile"
   ]
  },
  {
   "cell_type": "code",
   "execution_count": 14,
   "metadata": {},
   "outputs": [
    {
     "name": "stdout",
     "output_type": "stream",
     "text": [
      "0000000 0000 0000 0000 0000 0000 0000 0000 0000\n",
      "*\n",
      "0001400\n"
     ]
    }
   ],
   "source": [
    "!hexdump -n 5120 $zerofile"
   ]
  },
  {
   "cell_type": "code",
   "execution_count": 15,
   "metadata": {},
   "outputs": [
    {
     "name": "stdout",
     "output_type": "stream",
     "text": [
      "-rw-rw-r-- 1 pi pi 6080 Nov 16 14:36 /home/pi/tags/1fbcd99fd29f/tag/.test/zero\r\n"
     ]
    }
   ],
   "source": [
    "!ls -al $zerofile"
   ]
  },
  {
   "cell_type": "code",
   "execution_count": 16,
   "metadata": {},
   "outputs": [],
   "source": [
    "!truncate --size 0 $onesfile"
   ]
  },
  {
   "cell_type": "code",
   "execution_count": 17,
   "metadata": {
    "scrolled": true
   },
   "outputs": [
    {
     "name": "stdout",
     "output_type": "stream",
     "text": [
      "-rw-rw-r-- 1 pi pi 0 Nov 16 14:36 /home/pi/tags/1fbcd99fd29f/tag/.test/ones\r\n"
     ]
    }
   ],
   "source": [
    "!ls -al $onesfile"
   ]
  },
  {
   "cell_type": "code",
   "execution_count": 18,
   "metadata": {},
   "outputs": [
    {
     "name": "stdout",
     "output_type": "stream",
     "text": [
      "0000000 ffff ffff ffff ffff ffff ffff ffff ffff\n",
      "*\n",
      "0001400\n"
     ]
    }
   ],
   "source": [
    "!hexdump -n 5120 $onesfile"
   ]
  },
  {
   "cell_type": "code",
   "execution_count": 19,
   "metadata": {},
   "outputs": [
    {
     "name": "stdout",
     "output_type": "stream",
     "text": [
      "-rw-rw-r-- 1 pi pi 6400 Nov 16 14:37 /home/pi/tags/1fbcd99fd29f/tag/.test/ones\r\n"
     ]
    }
   ],
   "source": [
    "!ls -al $onesfile"
   ]
  },
  {
   "cell_type": "markdown",
   "metadata": {},
   "source": [
    "#  Test Write Zero and Ones to Tags"
   ]
  },
  {
   "cell_type": "markdown",
   "metadata": {},
   "source": [
    "## Start with zeros files"
   ]
  },
  {
   "cell_type": "code",
   "execution_count": 20,
   "metadata": {},
   "outputs": [],
   "source": [
    "!truncate --size 0 $zerofile"
   ]
  },
  {
   "cell_type": "code",
   "execution_count": 21,
   "metadata": {},
   "outputs": [
    {
     "name": "stdout",
     "output_type": "stream",
     "text": [
      "-rw-rw-r-- 1 pi pi 0 Nov 16 14:37 /home/pi/tags/1fbcd99fd29f/tag/.test/zero\r\n"
     ]
    }
   ],
   "source": [
    "!ls -al $zerofile"
   ]
  },
  {
   "cell_type": "code",
   "execution_count": 22,
   "metadata": {},
   "outputs": [],
   "source": [
    "fn = io.FileIO(zerofile, 'w+b')"
   ]
  },
  {
   "cell_type": "code",
   "execution_count": 23,
   "metadata": {},
   "outputs": [
    {
     "data": {
      "text/plain": [
       "10L"
      ]
     },
     "execution_count": 23,
     "metadata": {},
     "output_type": "execute_result"
    }
   ],
   "source": [
    "fn.write('\\x00' * 10)"
   ]
  },
  {
   "cell_type": "code",
   "execution_count": 24,
   "metadata": {},
   "outputs": [
    {
     "name": "stdout",
     "output_type": "stream",
     "text": [
      "-rw-rw-r-- 1 pi pi 20 Nov 16 14:37 /home/pi/tags/1fbcd99fd29f/tag/.test/zero\r\n"
     ]
    }
   ],
   "source": [
    "!ls -al $zerofile"
   ]
  },
  {
   "cell_type": "code",
   "execution_count": 25,
   "metadata": {},
   "outputs": [],
   "source": [
    "fn.close()"
   ]
  },
  {
   "cell_type": "code",
   "execution_count": 26,
   "metadata": {},
   "outputs": [
    {
     "name": "stdout",
     "output_type": "stream",
     "text": [
      "-rw-rw-r-- 1 pi pi 20 Nov 16 14:37 /home/pi/tags/1fbcd99fd29f/tag/.test/zero\r\n"
     ]
    }
   ],
   "source": [
    "!ls -al $zerofile"
   ]
  },
  {
   "cell_type": "markdown",
   "metadata": {},
   "source": [
    "## repeat for ones files"
   ]
  },
  {
   "cell_type": "code",
   "execution_count": 27,
   "metadata": {},
   "outputs": [],
   "source": [
    "!truncate --size 0 $onesfile"
   ]
  },
  {
   "cell_type": "code",
   "execution_count": 28,
   "metadata": {},
   "outputs": [
    {
     "name": "stdout",
     "output_type": "stream",
     "text": [
      "-rw-rw-r-- 1 pi pi 0 Nov 16 14:37 /home/pi/tags/1fbcd99fd29f/tag/.test/ones\r\n"
     ]
    }
   ],
   "source": [
    "!ls -al $onesfile"
   ]
  },
  {
   "cell_type": "code",
   "execution_count": 29,
   "metadata": {},
   "outputs": [],
   "source": [
    "fn = io.FileIO(onesfile, 'w+b')"
   ]
  },
  {
   "cell_type": "code",
   "execution_count": 30,
   "metadata": {},
   "outputs": [
    {
     "data": {
      "text/plain": [
       "0L"
      ]
     },
     "execution_count": 30,
     "metadata": {},
     "output_type": "execute_result"
    }
   ],
   "source": [
    "fn.write('\\x00' * 10)"
   ]
  },
  {
   "cell_type": "code",
   "execution_count": 31,
   "metadata": {},
   "outputs": [
    {
     "name": "stdout",
     "output_type": "stream",
     "text": [
      "-rw-rw-r-- 1 pi pi 40 Nov 16 14:37 /home/pi/tags/1fbcd99fd29f/tag/.test/ones\r\n"
     ]
    }
   ],
   "source": [
    "!ls -al $onesfile"
   ]
  },
  {
   "cell_type": "code",
   "execution_count": 32,
   "metadata": {},
   "outputs": [],
   "source": [
    "fn.close()"
   ]
  },
  {
   "cell_type": "code",
   "execution_count": 33,
   "metadata": {},
   "outputs": [
    {
     "name": "stdout",
     "output_type": "stream",
     "text": [
      "-rw-rw-r-- 1 pi pi 40 Nov 16 14:37 /home/pi/tags/1fbcd99fd29f/tag/.test/ones\r\n"
     ]
    }
   ],
   "source": [
    "!ls -al $onesfile"
   ]
  },
  {
   "cell_type": "markdown",
   "metadata": {},
   "source": [
    "# Run Echo Test\n",
    "\n",
    "First, write the echo pattern to the tag, then read it back n times."
   ]
  },
  {
   "cell_type": "code",
   "execution_count": 34,
   "metadata": {},
   "outputs": [],
   "source": [
    "!echo 'new string of data' > $echofile"
   ]
  },
  {
   "cell_type": "code",
   "execution_count": 35,
   "metadata": {},
   "outputs": [
    {
     "name": "stdout",
     "output_type": "stream",
     "text": [
      "-rw-rw--w- 1 pi pi 0 Nov 16 14:37 /home/pi/tags/1fbcd99fd29f/tag/.test/echo\r\n"
     ]
    }
   ],
   "source": [
    "!ls -al $echofile"
   ]
  },
  {
   "cell_type": "code",
   "execution_count": 36,
   "metadata": {},
   "outputs": [
    {
     "name": "stdout",
     "output_type": "stream",
     "text": [
      "00000000  6e 65 77 20 73 74 72 69  6e 67 20 6f 66 20 64 61  |new string of da|\r\n",
      "00000010  74 61 0a 6e 65 77 20 73  74 72 69 6e 67 20 6f 66  |ta.new string of|\r\n",
      "00000020  20 64 61 74 61 0a 6e 65  77 20 73 74 72 69 6e 67  | data.new string|\r\n",
      "00000030  20 6f 66 20 64 61 74 61  0a 6e 65 77 20 73 74 72  | of data.new str|\r\n",
      "00000040  69 6e 67 20 6f 66 20 64  61 74 61 0a 6e 65 77 20  |ing of data.new |\r\n",
      "00000050  73 74 72 69 6e 67 20 6f  66 20 64 61 74 61 0a 6e  |string of data.n|\r\n",
      "00000060  65 77 20 73 74 72 69 6e  67 20 6f 66 20 64 61 74  |ew string of dat|\r\n",
      "00000070  61 0a 6e 65 77 20 73 74  72 69 6e 67 20 6f 66 20  |a.new string of |\r\n",
      "00000080  64 61 74 61 0a 6e 65 77  20 73 74 72 69 6e 67 20  |data.new string |\r\n",
      "00000090  6f 66 20 64 61 74 61 0a  6e 65 77 20 73 74 72 69  |of data.new stri|\r\n",
      "000000a0  6e 67 20 6f 66 20 64 61  74 61 0a 6e 65 77 20 73  |ng of data.new s|\r\n",
      "000000b0  74 72 69 6e 67 20 6f 66  20 64 61 74 61 0a 6e 65  |tring of data.ne|\r\n",
      "000000c0  77 20 73 74 72 69 6e 67  20 6f 66 20 64 61 74 61  |w string of data|\r\n",
      "000000d0  0a 6e 65 77 20 73 74 72  69 6e 67 20 6f 66 20 64  |.new string of d|\r\n",
      "000000e0  61 74 61 0a 6e 65 77 20  73 74 72 69 6e 67 20 6f  |ata.new string o|\r\n",
      "000000f0  66 20 64 61 74 61 0a 6e  65 77 20 73 74 72 69 6e  |f data.new strin|\r\n",
      "00000100  67 20 6f 66 20 64 61 74  61 0a 6e 65 77 20 73 74  |g of data.new st|\r\n",
      "00000110  72 69 6e 67 20 6f 66 20  64 61 74 61 0a 6e 65 77  |ring of data.new|\r\n",
      "00000120  20 73 74 72 69 6e 67 20  6f 66 20 64 61 74 61 0a  | string of data.|\r\n",
      "00000130  6e 65 77 20 73 74 72 69  6e 67 20 6f 66 20 64 61  |new string of da|\r\n",
      "00000140  74 61 0a 6e 65 77 20 73  74 72 69 6e 67 20 6f 66  |ta.new string of|\r\n",
      "00000150  20 64 61 74 61 0a 6e 65  77 20 73 74 72 69 6e 67  | data.new string|\r\n",
      "00000160  20 6f 66 20 64 61 74 61  0a 6e 65 77 20 73 74 72  | of data.new str|\r\n",
      "00000170  69 6e 67 20 6f 66 20 64  61 74 61 0a 6e 65 77 20  |ing of data.new |\r\n",
      "00000180  73 74 72 69 6e 67 20 6f  66 20 64 61 74 61 0a 6e  |string of data.n|\r\n",
      "00000190  65 77 20 73 74 72 69 6e  67 20 6f 66 20 64 61 74  |ew string of dat|\r\n",
      "000001a0  61 0a 6e 65 77 20 73 74  72 69 6e 67 20 6f 66 20  |a.new string of |\r\n",
      "000001b0  64 61 74 61 0a 6e 65 77  20 73 74 72 69 6e 67 20  |data.new string |\r\n",
      "000001c0  6f 66 20 64 61 74 61 0a  6e 65 77 20 73 74 72 69  |of data.new stri|\r\n",
      "000001d0  6e 67 20 6f 66 20 64 61  74 61 0a 6e 65 77 20 73  |ng of data.new s|\r\n",
      "000001e0  74 72 69 6e 67 20 6f 66  20 64 61 74 61 0a 6e 65  |tring of data.ne|\r\n",
      "000001f0  77 20 73 74 72 69 6e 67  20 6f 66 20 64 61 74 61  |w string of data|\r\n",
      "00000200\r\n"
     ]
    }
   ],
   "source": [
    "!hexdump -C -n 512 $echofile"
   ]
  },
  {
   "cell_type": "code",
   "execution_count": 37,
   "metadata": {},
   "outputs": [
    {
     "name": "stdout",
     "output_type": "stream",
     "text": [
      "-rw-rw--w- 1 pi pi 626 Nov 16 14:37 /home/pi/tags/1fbcd99fd29f/tag/.test/echo\r\n"
     ]
    }
   ],
   "source": [
    "!ls -al $echofile"
   ]
  },
  {
   "cell_type": "code",
   "execution_count": 38,
   "metadata": {},
   "outputs": [],
   "source": [
    "!truncate --size 0 $echofile"
   ]
  },
  {
   "cell_type": "code",
   "execution_count": 39,
   "metadata": {},
   "outputs": [
    {
     "name": "stdout",
     "output_type": "stream",
     "text": [
      "-rw-rw--w- 1 pi pi 0 Nov 16 14:37 /home/pi/tags/1fbcd99fd29f/tag/.test/echo\r\n"
     ]
    }
   ],
   "source": [
    "!ls -al $echofile"
   ]
  },
  {
   "cell_type": "code",
   "execution_count": 53,
   "metadata": {},
   "outputs": [
    {
     "name": "stdout",
     "output_type": "stream",
     "text": [
      "00000000: 6e65 7720 7374 7269 6e67 206f 6620 6461 7461 0a  new string of data.\r\n",
      "00000013: 6e65 7720 7374 7269 6e67 206f 6620 6461 7461 0a  new string of data.\r\n",
      "00000026: 6e65 7720 7374 7269 6e67 206f 6620 6461 7461 0a  new string of data.\r\n",
      "00000039: 6e65 7720 7374 7269 6e67 206f 6620 6461 7461 0a  new string of data.\r\n",
      "0000004c: 6e65 7720 7374 7269 6e67 206f 6620 6461 7461 0a  new string of data.\r\n",
      "0000005f: 6e65 7720 7374 7269 6e67 206f 6620 6461 7461 0a  new string of data.\r\n",
      "00000072: 6e65 7720 7374 7269 6e67 206f 6620 6461 7461 0a  new string of data.\r\n",
      "00000085: 6e65 7720 7374 7269 6e67 206f 6620 6461 7461 0a  new string of data.\r\n",
      "00000098: 6e65 7720 7374 7269 6e67 206f 6620 6461 7461 0a  new string of data.\r\n",
      "000000ab: 6e65 7720 7374 7269 6e67 206f 6620 6461 7461 0a  new string of data.\r\n",
      "000000be: 6e65 7720 7374 7269 6e67 206f 6620 6461 7461 0a  new string of data.\r\n",
      "000000d1: 6e65 7720 7374 7269 6e67 206f 6620 6461 7461 0a  new string of data.\r\n",
      "000000e4: 6e65 7720 7374 7269 6e67 206f 6620 6461 7461 0a  new string of data.\r\n",
      "000000f7: 6e65 7720 7374 7269 6e67 206f 6620 6461 7461 0a  new string of data.\r\n",
      "0000010a: 6e65 7720 7374 7269 6e67 206f 6620 6461 7461 0a  new string of data.\r\n",
      "0000011d: 6e65 7720 7374 7269 6e67 206f 6620 6461 7461 0a  new string of data.\r\n",
      "00000130: 6e65 7720 7374 7269 6e67 206f 6620 6461 7461 0a  new string of data.\r\n",
      "00000143: 6e65 7720 7374 7269 6e67 206f 6620 6461 7461 0a  new string of data.\r\n",
      "00000156: 6e65 7720 7374 7269 6e67 206f 6620 6461 7461 0a  new string of data.\r\n",
      "00000169: 6e65 7720 7374 7269 6e67 206f 6620 6461 7461 0a  new string of data.\r\n",
      "0000017c: 6e65 7720 7374 7269 6e67 206f 6620 6461 7461 0a  new string of data.\r\n",
      "0000018f: 6e65 7720 7374 7269 6e67 206f 6620 6461 7461 0a  new string of data.\r\n",
      "000001a2: 6e65 7720 7374 7269 6e67 206f 6620 6461 7461 0a  new string of data.\r\n",
      "000001b5: 6e65 7720 7374 7269 6e67 206f 6620 6461 7461 0a  new string of data.\r\n",
      "000001c8: 6e65 7720 7374 7269 6e67 206f 6620 6461 7461 0a  new string of data.\r\n",
      "000001db: 6e65 7720 7374 7269 6e67 206f 6620 6461 7461 0a  new string of data.\r\n",
      "000001ee: 6e65 7720 7374 7269 6e67 206f 6620 6461 7461     new string of data\r\n"
     ]
    }
   ],
   "source": [
    "!xxd -l 512 -c 19 $echofile"
   ]
  },
  {
   "cell_type": "code",
   "execution_count": 54,
   "metadata": {},
   "outputs": [
    {
     "name": "stdout",
     "output_type": "stream",
     "text": [
      "-rw-rw--w- 1 pi pi 1706 Nov 16 14:39 /home/pi/tags/1fbcd99fd29f/tag/.test/echo\r\n"
     ]
    }
   ],
   "source": [
    "!ls -al $echofile"
   ]
  },
  {
   "cell_type": "code",
   "execution_count": 42,
   "metadata": {},
   "outputs": [],
   "source": [
    "fn = io.FileIO(echofile, 'w+b')"
   ]
  },
  {
   "cell_type": "code",
   "execution_count": 43,
   "metadata": {},
   "outputs": [
    {
     "data": {
      "text/plain": [
       "'new string'"
      ]
     },
     "execution_count": 43,
     "metadata": {},
     "output_type": "execute_result"
    }
   ],
   "source": [
    "fn.read(10)"
   ]
  },
  {
   "cell_type": "code",
   "execution_count": 44,
   "metadata": {},
   "outputs": [
    {
     "data": {
      "text/plain": [
       "10L"
      ]
     },
     "execution_count": 44,
     "metadata": {},
     "output_type": "execute_result"
    }
   ],
   "source": [
    "fn.tell()"
   ]
  },
  {
   "cell_type": "code",
   "execution_count": 45,
   "metadata": {},
   "outputs": [
    {
     "name": "stdout",
     "output_type": "stream",
     "text": [
      "-rw-rw--w- 1 pi pi 10 Nov 16 14:37 /home/pi/tags/1fbcd99fd29f/tag/.test/echo\r\n"
     ]
    }
   ],
   "source": [
    "!ls -al $echofile"
   ]
  },
  {
   "cell_type": "code",
   "execution_count": 46,
   "metadata": {},
   "outputs": [
    {
     "data": {
      "text/plain": [
       "0"
      ]
     },
     "execution_count": 46,
     "metadata": {},
     "output_type": "execute_result"
    }
   ],
   "source": [
    "fn.truncate(0)"
   ]
  },
  {
   "cell_type": "code",
   "execution_count": 47,
   "metadata": {},
   "outputs": [
    {
     "name": "stdout",
     "output_type": "stream",
     "text": [
      "-rw-rw--w- 1 pi pi 0 Nov 16 14:37 /home/pi/tags/1fbcd99fd29f/tag/.test/echo\r\n"
     ]
    }
   ],
   "source": [
    "!ls -al $echofile"
   ]
  },
  {
   "cell_type": "code",
   "execution_count": 48,
   "metadata": {},
   "outputs": [],
   "source": [
    "fn.close()"
   ]
  },
  {
   "cell_type": "code",
   "execution_count": null,
   "metadata": {},
   "outputs": [],
   "source": []
  }
 ],
 "metadata": {
  "kernelspec": {
   "display_name": "Python 2",
   "language": "python",
   "name": "python2"
  },
  "language_info": {
   "codemirror_mode": {
    "name": "ipython",
    "version": 2
   },
   "file_extension": ".py",
   "mimetype": "text/x-python",
   "name": "python",
   "nbconvert_exporter": "python",
   "pygments_lexer": "ipython2",
   "version": "2.7.13"
  }
 },
 "nbformat": 4,
 "nbformat_minor": 2
}
