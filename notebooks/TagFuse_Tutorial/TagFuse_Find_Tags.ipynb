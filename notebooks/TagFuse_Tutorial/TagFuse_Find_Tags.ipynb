{
 "cells": [
  {
   "cell_type": "code",
   "execution_count": 1,
   "metadata": {},
   "outputs": [],
   "source": [
    "import os\n",
    "from binascii import hexlify\n",
    "from time import sleep\n",
    "import datetime"
   ]
  },
  {
   "cell_type": "code",
   "execution_count": 2,
   "metadata": {},
   "outputs": [],
   "source": [
    "basedir      = '/home/pi/tags'\n",
    "tagdir       = basedir+'/1fbcd99fd29f'\n",
    "dblkdir      = tagdir+'/tag/sd/0/dblk' \n",
    "dblkbyte     = dblkdir+'/byte' \n",
    "dblkresync   = dblkdir+'/.resync'\n",
    "dblklastsync = dblkdir+'/.last_sync'\n",
    "dblkrecnum   = dblkdir+'/.recnum'"
   ]
  },
  {
   "cell_type": "code",
   "execution_count": 3,
   "metadata": {},
   "outputs": [
    {
     "name": "stdout",
     "output_type": "stream",
     "text": [
      "/mnt/neptune/TagNet/notebooks/TagFuse_Tutorial\r\n"
     ]
    }
   ],
   "source": [
    "!pwd"
   ]
  },
  {
   "cell_type": "markdown",
   "metadata": {},
   "source": [
    "# Find Tags"
   ]
  },
  {
   "cell_type": "code",
   "execution_count": 4,
   "metadata": {
    "scrolled": true
   },
   "outputs": [
    {
     "name": "stdout",
     "output_type": "stream",
     "text": [
      "/home/pi/tags/.poll\r\n",
      "├── known\r\n",
      "└── new\r\n",
      "\r\n",
      "2 directories, 0 files\r\n"
     ]
    }
   ],
   "source": [
    "!rm -f $basedir/.poll/known/*\n",
    "!rm -f $basedir/.poll/new/*\n",
    "!tree $basedir/.poll"
   ]
  },
  {
   "cell_type": "code",
   "execution_count": 15,
   "metadata": {
    "scrolled": true
   },
   "outputs": [
    {
     "name": "stdout",
     "output_type": "stream",
     "text": [
      "Tue Mar 12 11:23:48 PDT 2019\n",
      "/home/pi/tags/.poll\n",
      "├── known\n",
      "│   ├── 1fbcd99fd29f\n",
      "│   └── 658bc8e5205c\n",
      "└── new\n",
      "    └── 658bc8e5205c\n",
      "\n",
      "2 directories, 3 files\n",
      "Tue Mar 12 11:25:06 PDT 2019\n"
     ]
    }
   ],
   "source": [
    "!date\n",
    "!touch -d \"now+5minute\" $basedir/.poll/new\n",
    "!tree $basedir/.poll\n",
    "!date"
   ]
  },
  {
   "cell_type": "code",
   "execution_count": 16,
   "metadata": {},
   "outputs": [
    {
     "name": "stdout",
     "output_type": "stream",
     "text": [
      "Tue Mar 12 11:55:51 PDT 2019\n",
      "/home/pi/tags/.poll\n",
      "├── known\n",
      "│   ├── 1fbcd99fd29f\n",
      "│   └── 658bc8e5205c\n",
      "└── new\n",
      "\n",
      "2 directories, 2 files\n",
      "Tue Mar 12 11:56:02 PDT 2019\n"
     ]
    }
   ],
   "source": [
    "!date\n",
    "!touch -d \"now+10second\" $basedir/.poll/new\n",
    "!tree $basedir/.poll\n",
    "!date"
   ]
  },
  {
   "cell_type": "code",
   "execution_count": 7,
   "metadata": {},
   "outputs": [
    {
     "name": "stdout",
     "output_type": "stream",
     "text": [
      "  File: /home/pi/tags/.poll/known\r\n",
      "  Size: 0         \tBlocks: 0          IO Block: 512    directory\r\n",
      "Device: 22h/34d\tInode: 3           Links: 2\r\n",
      "Access: (0751/drwxr-x--x)  Uid: ( 1000/      pi)   Gid: ( 1000/      pi)\r\n",
      "Access: 1969-12-31 15:59:59.000000000 -0800\r\n",
      "Modify: 1969-12-31 15:59:59.000000000 -0800\r\n",
      "Change: 2019-03-11 10:55:32.549650907 -0700\r\n",
      " Birth: -\r\n"
     ]
    }
   ],
   "source": [
    "!rm -f $basedir/.poll/known/*\n",
    "!stat $basedir/.poll/known"
   ]
  },
  {
   "cell_type": "code",
   "execution_count": 13,
   "metadata": {},
   "outputs": [
    {
     "name": "stdout",
     "output_type": "stream",
     "text": [
      "Mon Mar 11 11:08:21 PDT 2019\n",
      "/home/pi/tags/.poll\n",
      "├── known\n",
      "└── new\n",
      "\n",
      "2 directories, 0 files\n",
      "Mon Mar 11 11:08:31 PDT 2019\n"
     ]
    }
   ],
   "source": [
    "!date\n",
    "!touch -d \"now+10second\" $basedir/.poll/new\n",
    "!tree $basedir/.poll\n",
    "!date"
   ]
  },
  {
   "cell_type": "code",
   "execution_count": 9,
   "metadata": {},
   "outputs": [
    {
     "name": "stdout",
     "output_type": "stream",
     "text": [
      "total 0\n",
      "drwxr-x--x 4 pi pi 0 Dec 31  1969 .\n",
      "drwxr-x--x 6 pi pi 0 Dec 31  1969 ..\n",
      "drwxr-x--x 2 pi pi 0 Dec 31  1969 known\n",
      "drwxr-x--x 2 pi pi 0 Mar 11 11:06 new\n",
      "total 0\n",
      "drwxr-x--x 2 pi pi 0 Dec 31  1969 .\n",
      "drwxr-x--x 4 pi pi 0 Dec 31  1969 ..\n",
      "total 0\n",
      "drwxr-x--x 2 pi pi 0 Mar 11 11:06 .\n",
      "drwxr-x--x 4 pi pi 0 Dec 31  1969 ..\n"
     ]
    }
   ],
   "source": [
    "!ls -al $basedir/.poll/\n",
    "!ls -al $basedir/.poll/known\n",
    "!ls -al $basedir/.poll/new"
   ]
  },
  {
   "cell_type": "code",
   "execution_count": 10,
   "metadata": {},
   "outputs": [
    {
     "name": "stdout",
     "output_type": "stream",
     "text": [
      "stat: cannot stat '/home/pi/tags/.poll/known/1fbcd99fd29f': No such file or directory\r\n"
     ]
    }
   ],
   "source": [
    "!stat $basedir/.poll/known/1fbcd99fd29f"
   ]
  },
  {
   "cell_type": "code",
   "execution_count": 11,
   "metadata": {},
   "outputs": [
    {
     "name": "stdout",
     "output_type": "stream",
     "text": [
      "/home/pi/tags/.poll\r\n",
      "├── [drwxr-x--x           0 Dec 31  1969]  known\r\n",
      "└── [drwxr-x--x           0 Mar 11 11:06]  new\r\n",
      "\r\n",
      "2 directories, 0 files\r\n"
     ]
    }
   ],
   "source": [
    "!tree -p -s -D $basedir/.poll"
   ]
  },
  {
   "cell_type": "code",
   "execution_count": null,
   "metadata": {},
   "outputs": [],
   "source": []
  },
  {
   "cell_type": "code",
   "execution_count": null,
   "metadata": {},
   "outputs": [],
   "source": []
  }
 ],
 "metadata": {
  "kernelspec": {
   "display_name": "Python 2",
   "language": "python",
   "name": "python2"
  },
  "language_info": {
   "codemirror_mode": {
    "name": "ipython",
    "version": 2
   },
   "file_extension": ".py",
   "mimetype": "text/x-python",
   "name": "python",
   "nbconvert_exporter": "python",
   "pygments_lexer": "ipython2",
   "version": "2.7.13"
  }
 },
 "nbformat": 4,
 "nbformat_minor": 2
}
