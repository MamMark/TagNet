{
 "cells": [
  {
   "cell_type": "code",
   "execution_count": 1,
   "metadata": {},
   "outputs": [],
   "source": [
    "import os\n",
    "from binascii import hexlify\n",
    "from time import sleep\n",
    "import datetime"
   ]
  },
  {
   "cell_type": "code",
   "execution_count": 2,
   "metadata": {},
   "outputs": [],
   "source": [
    "basedir      = '/home/pi/tags'\n",
    "tagdir       = basedir+'/1fbcd99fd29f'\n",
    "dblkdir      = tagdir+'/tag/sd/0/dblk' \n",
    "dblkbyte     = dblkdir+'/byte' \n",
    "dblkresync   = dblkdir+'/.resync'\n",
    "dblklastsync = dblkdir+'/.last_sync'\n",
    "dblkrecnum   = dblkdir+'/.recnum'"
   ]
  },
  {
   "cell_type": "code",
   "execution_count": 3,
   "metadata": {},
   "outputs": [
    {
     "name": "stdout",
     "output_type": "stream",
     "text": [
      "/mnt/neptune/TagNet/notebooks/TagFuse_Tutorial\r\n"
     ]
    }
   ],
   "source": [
    "!pwd"
   ]
  },
  {
   "cell_type": "markdown",
   "metadata": {},
   "source": [
    "# Find Tags"
   ]
  },
  {
   "cell_type": "code",
   "execution_count": 4,
   "metadata": {
    "scrolled": true
   },
   "outputs": [
    {
     "name": "stdout",
     "output_type": "stream",
     "text": [
      "/home/pi/tags/.poll\r\n",
      "├── known\r\n",
      "└── new\r\n",
      "\r\n",
      "2 directories, 0 files\r\n"
     ]
    }
   ],
   "source": [
    "!rm -f $basedir/.poll/known/*\n",
    "!rm -f $basedir/.poll/new/*\n",
    "!tree $basedir/.poll"
   ]
  },
  {
   "cell_type": "code",
   "execution_count": 12,
   "metadata": {
    "scrolled": true
   },
   "outputs": [
    {
     "name": "stdout",
     "output_type": "stream",
     "text": [
      "Tue Nov 13 14:13:22 PST 2018\n",
      "/home/pi/tags/.poll\n",
      "├── known\n",
      "│   └── 1fbcd99fd29f\n",
      "└── new\n",
      "\n",
      "2 directories, 1 file\n",
      "Tue Nov 13 14:18:24 PST 2018\n"
     ]
    }
   ],
   "source": [
    "!date\n",
    "!touch -d \"now+5minute\" $basedir/.poll/new\n",
    "!tree $basedir/.poll\n",
    "!date"
   ]
  },
  {
   "cell_type": "code",
   "execution_count": 6,
   "metadata": {},
   "outputs": [
    {
     "name": "stdout",
     "output_type": "stream",
     "text": [
      "Tue Nov 13 13:59:39 PST 2018\n",
      "/home/pi/tags/.poll\n",
      "├── known\n",
      "│   └── 1fbcd99fd29f\n",
      "└── new\n",
      "\n",
      "2 directories, 1 file\n",
      "Tue Nov 13 13:59:50 PST 2018\n"
     ]
    }
   ],
   "source": [
    "!date\n",
    "!touch -d \"now+10second\" $basedir/.poll/new\n",
    "!tree $basedir/.poll\n",
    "!date"
   ]
  },
  {
   "cell_type": "code",
   "execution_count": 7,
   "metadata": {},
   "outputs": [
    {
     "name": "stdout",
     "output_type": "stream",
     "text": [
      "  File: /home/pi/tags/.poll/known\r\n",
      "  Size: 0         \tBlocks: 0          IO Block: 512    directory\r\n",
      "Device: 21h/33d\tInode: 3           Links: 2\r\n",
      "Access: (0751/drwxr-x--x)  Uid: ( 1000/      pi)   Gid: ( 1000/      pi)\r\n",
      "Access: 1969-12-31 15:59:59.000000000 -0800\r\n",
      "Modify: 2018-11-13 13:59:49.902990102 -0800\r\n",
      "Change: 2018-11-13 12:00:44.740461111 -0800\r\n",
      " Birth: -\r\n"
     ]
    }
   ],
   "source": [
    "!rm -f $basedir/.poll/known/*\n",
    "!stat $basedir/.poll/known"
   ]
  },
  {
   "cell_type": "code",
   "execution_count": 8,
   "metadata": {},
   "outputs": [
    {
     "name": "stdout",
     "output_type": "stream",
     "text": [
      "Tue Nov 13 13:59:50 PST 2018\n",
      "/home/pi/tags/.poll\n",
      "├── known\n",
      "│   └── 1fbcd99fd29f\n",
      "└── new\n",
      "    └── 1fbcd99fd29f\n",
      "\n",
      "2 directories, 2 files\n",
      "Tue Nov 13 13:59:56 PST 2018\n"
     ]
    }
   ],
   "source": [
    "!date\n",
    "!touch -d \"now+10second\" $basedir/.poll/new\n",
    "!tree $basedir/.poll\n",
    "!date"
   ]
  },
  {
   "cell_type": "code",
   "execution_count": 9,
   "metadata": {},
   "outputs": [
    {
     "name": "stdout",
     "output_type": "stream",
     "text": [
      "total 0\n",
      "drwxr-x--x 4 pi pi 0 Dec 31  1969 .\n",
      "drwxr-x--x 9 pi pi 0 Dec 31  1969 ..\n",
      "drwxr-x--x 3 pi pi 0 Nov 13 13:59 known\n",
      "drwxr-x--x 3 pi pi 0 Nov 13 13:59 new\n",
      "total 0\n",
      "drwxr-x--x 3 pi pi 0 Nov 13 13:59 .\n",
      "drwxr-x--x 4 pi pi 0 Dec 31  1969 ..\n",
      "-r--r--r-- 1 pi pi 0 Nov 13 13:59 1fbcd99fd29f\n",
      "total 0\n",
      "drwxr-x--x 3 pi pi 0 Nov 13 13:59 .\n",
      "drwxr-x--x 4 pi pi 0 Dec 31  1969 ..\n",
      "-r--r--r-- 1 pi pi 0 Nov 13 13:59 1fbcd99fd29f\n"
     ]
    }
   ],
   "source": [
    "!ls -al $basedir/.poll/\n",
    "!ls -al $basedir/.poll/known\n",
    "!ls -al $basedir/.poll/new"
   ]
  },
  {
   "cell_type": "code",
   "execution_count": 10,
   "metadata": {},
   "outputs": [
    {
     "name": "stdout",
     "output_type": "stream",
     "text": [
      "  File: /home/pi/tags/.poll/known/1fbcd99fd29f\r\n",
      "  Size: 0         \tBlocks: 0          IO Block: 512    regular empty file\r\n",
      "Device: 21h/33d\tInode: 47          Links: 1\r\n",
      "Access: (0444/-r--r--r--)  Uid: ( 1000/      pi)   Gid: ( 1000/      pi)\r\n",
      "Access: 2018-11-13 13:59:57.974793910 -0800\r\n",
      "Modify: 2018-11-13 13:59:56.480433940 -0800\r\n",
      "Change: 2018-11-13 13:59:56.480151891 -0800\r\n",
      " Birth: -\r\n"
     ]
    }
   ],
   "source": [
    "!stat $basedir/.poll/known/1fbcd99fd29f"
   ]
  },
  {
   "cell_type": "code",
   "execution_count": 11,
   "metadata": {},
   "outputs": [
    {
     "name": "stdout",
     "output_type": "stream",
     "text": [
      "/home/pi/tags/.poll\n",
      "├── [drwxr-x--x           0 Nov 13 13:59]  known\n",
      "│   └── [-r--r--r--           0 Nov 13 13:59]  1fbcd99fd29f\n",
      "└── [drwxr-x--x           0 Nov 13 13:59]  new\n",
      "    └── [-r--r--r--           0 Nov 13 13:59]  1fbcd99fd29f\n",
      "\n",
      "2 directories, 2 files\n"
     ]
    }
   ],
   "source": [
    "!tree -p -s -D $basedir/.poll"
   ]
  }
 ],
 "metadata": {
  "kernelspec": {
   "display_name": "Python 2",
   "language": "python",
   "name": "python2"
  },
  "language_info": {
   "codemirror_mode": {
    "name": "ipython",
    "version": 2
   },
   "file_extension": ".py",
   "mimetype": "text/x-python",
   "name": "python",
   "nbconvert_exporter": "python",
   "pygments_lexer": "ipython2",
   "version": "2.7.13"
  }
 },
 "nbformat": 4,
 "nbformat_minor": 2
}
