{
 "cells": [
  {
   "cell_type": "code",
   "execution_count": 1,
   "metadata": {},
   "outputs": [],
   "source": [
    "import os\n",
    "from binascii import hexlify\n",
    "from time import sleep\n",
    "import datetime"
   ]
  },
  {
   "cell_type": "code",
   "execution_count": 2,
   "metadata": {},
   "outputs": [
    {
     "name": "stdout",
     "output_type": "stream",
     "text": [
      "TagNet Driver Version 0.2.1\n"
     ]
    }
   ],
   "source": [
    "import tagnet"
   ]
  },
  {
   "cell_type": "code",
   "execution_count": 3,
   "metadata": {},
   "outputs": [
    {
     "name": "stdout",
     "output_type": "stream",
     "text": [
      "### influxdb host: localhost, port: 8086, user: root, password: root, dbname: test\n",
      "### influxdb failed to respond to ping\n"
     ]
    }
   ],
   "source": [
    "from tagdump import tagdump as td"
   ]
  },
  {
   "cell_type": "code",
   "execution_count": 4,
   "metadata": {},
   "outputs": [],
   "source": [
    "tempfile     = 'tempdata'\n",
    "tagdir       = '/home/pi/tags/1fbcd99fd29f'\n",
    "dblkdir      = tagdir+'/tag/sd/0/dblk' \n",
    "dblkbyte     = dblkdir+'/byte' \n",
    "dblkresync   = dblkdir+'/.resync'\n",
    "dblklastsync = dblkdir+'/.last_sync'\n",
    "dblkrecnum   = dblkdir+'/.recnum'"
   ]
  },
  {
   "cell_type": "code",
   "execution_count": 5,
   "metadata": {},
   "outputs": [
    {
     "name": "stdout",
     "output_type": "stream",
     "text": [
      "/mnt/neptune/TagNet/notebooks/TagFuse_Tutorial\r\n"
     ]
    }
   ],
   "source": [
    "!pwd"
   ]
  },
  {
   "cell_type": "code",
   "execution_count": 6,
   "metadata": {},
   "outputs": [],
   "source": [
    "def int32(x):\n",
    "  if x>0xFFFFFFFF:\n",
    "    raise OverflowError\n",
    "  if x>0x7FFFFFFF:\n",
    "    x=int(0x100000000-x)\n",
    "    if x<2147483648:\n",
    "      return -x\n",
    "    else:\n",
    "      return -2147483648\n",
    "  return x"
   ]
  },
  {
   "cell_type": "code",
   "execution_count": 7,
   "metadata": {},
   "outputs": [],
   "source": [
    "def round_to_word(a):\n",
    "    return ((a-(a%4)) if (a%4) else (a))"
   ]
  },
  {
   "cell_type": "code",
   "execution_count": 8,
   "metadata": {},
   "outputs": [],
   "source": [
    "def get_file_size(fn):\n",
    "    ret=!stat  -c '%s' $fn\n",
    "    offset=int(ret[0])\n",
    "    int32(offset)\n",
    "    return offset"
   ]
  },
  {
   "cell_type": "code",
   "execution_count": 9,
   "metadata": {},
   "outputs": [],
   "source": [
    "def err_by_value(val):\n",
    "    for e in tagnet.tlv_errors:\n",
    "        if e.value == val: break\n",
    "    return e.name"
   ]
  },
  {
   "cell_type": "code",
   "execution_count": 10,
   "metadata": {},
   "outputs": [],
   "source": [
    "def size_to_err(pos):\n",
    "    ipos = int32(pos)\n",
    "    if ipos < 0:\n",
    "        print('error', -ipos, err_by_value(-ipos))\n",
    "        return -ipos\n",
    "    return ipos"
   ]
  },
  {
   "cell_type": "markdown",
   "metadata": {},
   "source": [
    "# Search for Sync records from file"
   ]
  },
  {
   "cell_type": "code",
   "execution_count": 11,
   "metadata": {},
   "outputs": [
    {
     "name": "stdout",
     "output_type": "stream",
     "text": [
      "92160 bytes (92 kB, 90 KiB) copied, 1.00933 s, 91.3 kB/s\n",
      "100+0 records in\n",
      "100+0 records out\n",
      "102400 bytes (102 kB, 100 KiB) copied, 1.27343 s, 80.4 kB/s\n"
     ]
    }
   ],
   "source": [
    "!dd count=100 bs=1k if=$dblkbyte of=tempdata status=progress"
   ]
  },
  {
   "cell_type": "code",
   "execution_count": 12,
   "metadata": {},
   "outputs": [],
   "source": [
    "infile  = td.TagFile(open(tempfile))"
   ]
  },
  {
   "cell_type": "code",
   "execution_count": 13,
   "metadata": {
    "scrolled": true
   },
   "outputs": [
    {
     "data": {
      "text/plain": [
       "512"
      ]
     },
     "execution_count": 13,
     "metadata": {},
     "output_type": "execute_result"
    }
   ],
   "source": [
    "td.resync(infile, 0)"
   ]
  },
  {
   "cell_type": "code",
   "execution_count": 14,
   "metadata": {
    "scrolled": true
   },
   "outputs": [
    {
     "name": "stdout",
     "output_type": "stream",
     "text": [
      "(0, 512)\n",
      "(1, 4328)\n",
      "(2, 6596)\n",
      "(3, 8864)\n",
      "(4, 11092)\n",
      "(5, 13400)\n",
      "(6, 15628)\n",
      "(7, 17816)\n",
      "(8, 20044)\n",
      "(9, 22232)\n",
      "(10, 24460)\n",
      "(11, 26648)\n",
      "(12, 28876)\n",
      "(13, 31104)\n",
      "(14, 33292)\n",
      "(15, 35520)\n",
      "(16, 37708)\n",
      "(17, 39936)\n",
      "(18, 44036)\n",
      "(19, 46304)\n",
      "(20, 46332)\n",
      "(21, 46360)\n",
      "(22, 46908)\n",
      "(23, 47456)\n",
      "(24, 47484)\n",
      "(25, 47512)\n",
      "(26, 47540)\n",
      "(27, 47568)\n",
      "(28, 47596)\n",
      "(29, 48704)\n",
      "(30, 48732)\n",
      "(31, 48760)\n",
      "(32, 48788)\n",
      "(33, 48816)\n",
      "(34, 48844)\n",
      "(35, 51512)\n",
      "(36, 51540)\n",
      "(37, 51568)\n",
      "(38, 51596)\n",
      "(39, 51624)\n",
      "(40, 51652)\n",
      "(41, 54120)\n",
      "(42, 54148)\n",
      "(43, 54176)\n",
      "(44, 54204)\n",
      "(45, 54232)\n",
      "(46, 54260)\n",
      "(47, 54568)\n",
      "(48, 54596)\n",
      "(49, 54624)\n",
      "(50, 54652)\n",
      "(51, 54680)\n",
      "(52, 54708)\n",
      "(53, 55016)\n",
      "(54, 55044)\n",
      "(55, 55072)\n",
      "(56, 55100)\n",
      "(57, 55368)\n",
      "(58, 55396)\n",
      "(59, 55424)\n",
      "(60, 55452)\n",
      "(61, 55480)\n",
      "(62, 55508)\n",
      "(63, 55776)\n",
      "(64, 55804)\n",
      "(65, 55832)\n",
      "(66, 56316)\n",
      "(67, 59936)\n",
      "(68, 64012)\n",
      "(69, 67912)\n",
      "(70, 71748)\n",
      "(71, 75808)\n",
      "(72, 79348)\n",
      "(73, 82952)\n",
      "(74, 83740)\n",
      "(75, 83768)\n",
      "(76, 83796)\n",
      "(77, 83824)\n",
      "(78, 83852)\n",
      "(79, 83920)\n",
      "(80, 86148)\n",
      "(81, 86176)\n",
      "(82, 86204)\n",
      "(83, 88032)\n",
      "(84, 88060)\n",
      "(85, 88088)\n",
      "(86, 88116)\n",
      "(87, 88464)\n",
      "(88, 88492)\n",
      "(89, 88520)\n",
      "(90, 88548)\n",
      "(91, 88576)\n",
      "(92, 88604)\n",
      "(93, 88912)\n",
      "(94, 88940)\n",
      "(95, 89288)\n",
      "(96, 89316)\n",
      "(97, 89344)\n",
      "(98, 89896)\n",
      "(99, 90004)\n"
     ]
    }
   ],
   "source": [
    "offset = 0\n",
    "for i in range(100):\n",
    "    try:\n",
    "        offset = td.resync(infile, offset)\n",
    "    except:\n",
    "        break\n",
    "    print(i, offset)\n",
    "    offset += 4"
   ]
  },
  {
   "cell_type": "markdown",
   "metadata": {},
   "source": [
    "# Search for Sync records from remote tag"
   ]
  },
  {
   "cell_type": "code",
   "execution_count": 15,
   "metadata": {},
   "outputs": [],
   "source": [
    "infile  = td.TagFile(open(dblkbyte), net_io = True)"
   ]
  },
  {
   "cell_type": "code",
   "execution_count": 16,
   "metadata": {
    "scrolled": true
   },
   "outputs": [
    {
     "data": {
      "text/plain": [
       "512L"
      ]
     },
     "execution_count": 16,
     "metadata": {},
     "output_type": "execute_result"
    }
   ],
   "source": [
    "td.resync(infile, 0)"
   ]
  },
  {
   "cell_type": "code",
   "execution_count": 17,
   "metadata": {},
   "outputs": [
    {
     "data": {
      "text/plain": [
       "(512L,\n",
       " len: 28  type: 7  hdr_crc8: 204  recnum: 1  [rt: sub_sec: 8272  sec: 12  min: 5  hr: 22  dow: 4  day: 9  mon: 11  year: 2018]\n",
       "   recsum: 0x0534,\n",
       " bytearray(b'\\x1c\\x00\\x07\\xcc\\x01\\x00\\x00\\x00P \\x0c\\x05\\x16\\x04\\t\\x0b\\xe2\\x074\\x05\\x00\\x00\\x00\\x00\\xef\\x00\\xdf\\xde'))"
      ]
     },
     "execution_count": 17,
     "metadata": {},
     "output_type": "execute_result"
    }
   ],
   "source": [
    "td.get_record(infile)"
   ]
  },
  {
   "cell_type": "code",
   "execution_count": 18,
   "metadata": {
    "scrolled": true
   },
   "outputs": [
    {
     "name": "stdout",
     "output_type": "stream",
     "text": [
      "(0, (512L, len: 28  type: 7  hdr_crc8: 204  recnum: 1  [rt: sub_sec: 8272  sec: 12  min: 5  hr: 22  dow: 4  day: 9  mon: 11  year: 2018]\n",
      "  recsum: 0x0534, bytearray(b'\\x1c\\x00\\x07\\xcc\\x01\\x00\\x00\\x00P \\x0c\\x05\\x16\\x04\\t\\x0b\\xe2\\x074\\x05\\x00\\x00\\x00\\x00\\xef\\x00\\xdf\\xde')))\n",
      "(1, (4328L, len: 28  type: 3  hdr_crc8: 230  recnum: 84  [rt: sub_sec: 12661  sec: 14  min: 10  hr: 22  dow: 4  day: 9  mon: 11  year: 2018]\n",
      "  recsum: 0x05dc, bytearray(b'\\x1c\\x00\\x03\\xe6T\\x00\\x00\\x00u1\\x0e\\n\\x16\\x04\\t\\x0b\\xe2\\x07\\xdc\\x05\\x00\\x02\\x00\\x00\\xef\\x00\\xdf\\xde')))\n",
      "(2, (6596L, len: 28  type: 3  hdr_crc8: 216  recnum: 141  [rt: sub_sec: 12661  sec: 14  min: 15  hr: 22  dow: 4  day: 9  mon: 11  year: 2018]\n",
      "  recsum: 0x0702, bytearray(b'\\x1c\\x00\\x03\\xd8\\x8d\\x00\\x00\\x00u1\\x0e\\x0f\\x16\\x04\\t\\x0b\\xe2\\x07\\x02\\x07\\xe8\\x10\\x00\\x00\\xef\\x00\\xdf\\xde')))\n",
      "(3, (8864L, len: 28  type: 3  hdr_crc8: 125  recnum: 198  [rt: sub_sec: 12661  sec: 14  min: 20  hr: 22  dow: 4  day: 9  mon: 11  year: 2018]\n",
      "  recsum: 0x06ca, bytearray(b'\\x1c\\x00\\x03}\\xc6\\x00\\x00\\x00u1\\x0e\\x14\\x16\\x04\\t\\x0b\\xe2\\x07\\xca\\x06\\xc4\\x19\\x00\\x00\\xef\\x00\\xdf\\xde')))\n",
      "(4, (11092L, len: 28  type: 3  hdr_crc8: 142  recnum: 254  [rt: sub_sec: 12661  sec: 14  min: 25  hr: 22  dow: 4  day: 9  mon: 11  year: 2018]\n",
      "  recsum: 0x06fd, bytearray(b'\\x1c\\x00\\x03\\x8e\\xfe\\x00\\x00\\x00u1\\x0e\\x19\\x16\\x04\\t\\x0b\\xe2\\x07\\xfd\\x06\\xa0\"\\x00\\x00\\xef\\x00\\xdf\\xde')))\n",
      "(5, (13400L, len: 28  type: 3  hdr_crc8: 111  recnum: 312  [rt: sub_sec: 12661  sec: 14  min: 30  hr: 22  dow: 4  day: 9  mon: 11  year: 2018]\n",
      "  recsum: 0x05db, bytearray(b'\\x1c\\x00\\x03o8\\x01\\x00\\x00u1\\x0e\\x1e\\x16\\x04\\t\\x0b\\xe2\\x07\\xdb\\x05T+\\x00\\x00\\xef\\x00\\xdf\\xde')))\n",
      "(6, (15628L, len: 28  type: 3  hdr_crc8: 143  recnum: 368  [rt: sub_sec: 12661  sec: 14  min: 35  hr: 22  dow: 4  day: 9  mon: 11  year: 2018]\n",
      "  recsum: 0x0645, bytearray(b'\\x1c\\x00\\x03\\x8fp\\x01\\x00\\x00u1\\x0e#\\x16\\x04\\t\\x0b\\xe2\\x07E\\x06X4\\x00\\x00\\xef\\x00\\xdf\\xde')))\n",
      "(7, (17816L, len: 28  type: 3  hdr_crc8: 250  recnum: 423  [rt: sub_sec: 12661  sec: 14  min: 40  hr: 22  dow: 4  day: 9  mon: 11  year: 2018]\n",
      "  recsum: 0x06a9, bytearray(b'\\x1c\\x00\\x03\\xfa\\xa7\\x01\\x00\\x00u1\\x0e(\\x16\\x04\\t\\x0b\\xe2\\x07\\xa9\\x06\\x0c=\\x00\\x00\\xef\\x00\\xdf\\xde')))\n",
      "(8, (20044L, len: 28  type: 3  hdr_crc8: 12  recnum: 479  [rt: sub_sec: 12661  sec: 14  min: 45  hr: 22  dow: 4  day: 9  mon: 11  year: 2018]\n",
      "  recsum: 0x068c, bytearray(b'\\x1c\\x00\\x03\\x0c\\xdf\\x01\\x00\\x00u1\\x0e-\\x16\\x04\\t\\x0b\\xe2\\x07\\x8c\\x06\\x98E\\x00\\x00\\xef\\x00\\xdf\\xde')))\n",
      "(9, (22232L, len: 28  type: 3  hdr_crc8: 115  recnum: 534  [rt: sub_sec: 12661  sec: 14  min: 50  hr: 22  dow: 4  day: 9  mon: 11  year: 2018]\n",
      "  recsum: 0x05ed, bytearray(b'\\x1c\\x00\\x03s\\x16\\x02\\x00\\x00u1\\x0e2\\x16\\x04\\t\\x0b\\xe2\\x07\\xed\\x05LN\\x00\\x00\\xef\\x00\\xdf\\xde')))\n"
     ]
    }
   ],
   "source": [
    "offset = 0\n",
    "for i in range(10):\n",
    "    offset += 4\n",
    "    offset = size_to_err(td.resync(infile, offset))\n",
    "    print(i, td.get_record(infile))"
   ]
  },
  {
   "cell_type": "code",
   "execution_count": 19,
   "metadata": {},
   "outputs": [
    {
     "data": {
      "text/plain": [
       "22232"
      ]
     },
     "execution_count": 19,
     "metadata": {},
     "output_type": "execute_result"
    }
   ],
   "source": [
    "get_file_size(dblkresync)"
   ]
  },
  {
   "cell_type": "code",
   "execution_count": 20,
   "metadata": {},
   "outputs": [
    {
     "data": {
      "text/plain": [
       "944320"
      ]
     },
     "execution_count": 20,
     "metadata": {},
     "output_type": "execute_result"
    }
   ],
   "source": [
    "get_file_size(dblklastsync)"
   ]
  },
  {
   "cell_type": "code",
   "execution_count": null,
   "metadata": {},
   "outputs": [],
   "source": []
  },
  {
   "cell_type": "markdown",
   "metadata": {},
   "source": [
    "# Compare Syncs between file and network"
   ]
  },
  {
   "cell_type": "code",
   "execution_count": 21,
   "metadata": {},
   "outputs": [],
   "source": [
    "diskfile = td.TagFile(open(tempfile))\n",
    "netfile  = td.TagFile(open(dblkbyte), net_io = True)"
   ]
  },
  {
   "cell_type": "code",
   "execution_count": 24,
   "metadata": {},
   "outputs": [
    {
     "data": {
      "text/plain": [
       "102400"
      ]
     },
     "execution_count": 24,
     "metadata": {},
     "output_type": "execute_result"
    }
   ],
   "source": [
    "get_file_size(tempfile)"
   ]
  },
  {
   "cell_type": "code",
   "execution_count": 22,
   "metadata": {},
   "outputs": [
    {
     "name": "stdout",
     "output_type": "stream",
     "text": [
      "(0, 51200, 51512, 51512L)\n",
      "(1, 51516, 51540, 51540L)\n",
      "(2, 51544, 51568, 51568L)\n",
      "(3, 51572, 51596, 51596L)\n",
      "(4, 51600, 51624, 51624L)\n",
      "(5, 51628, 51652, 51652L)\n",
      "(6, 51656, 54120, 54120L)\n",
      "(7, 54124, 54148, 54148L)\n",
      "(8, 54152, 54176, 54176L)\n",
      "(9, 54180, 54204, 54204L)\n"
     ]
    }
   ],
   "source": [
    "offset = get_file_size(tempfile) / 2\n",
    "for i in range(10):\n",
    "    disk_off = td.resync(diskfile, offset)\n",
    "    net_off = td.resync(netfile, offset)\n",
    "    print(i, offset, disk_off, net_off)\n",
    "    if net_off != disk_off:\n",
    "        print('*** ERROR disk: (), net: {}'.format(disk_off, net_off))\n",
    "    offset = disk_off + 4"
   ]
  },
  {
   "cell_type": "code",
   "execution_count": 25,
   "metadata": {},
   "outputs": [
    {
     "data": {
      "text/plain": [
       "102400L"
      ]
     },
     "execution_count": 25,
     "metadata": {},
     "output_type": "execute_result"
    }
   ],
   "source": [
    "diskfile.seek(0,2)\n",
    "diskfile.tell()"
   ]
  },
  {
   "cell_type": "code",
   "execution_count": 28,
   "metadata": {},
   "outputs": [
    {
     "data": {
      "text/plain": [
       "945668L"
      ]
     },
     "execution_count": 28,
     "metadata": {},
     "output_type": "execute_result"
    }
   ],
   "source": [
    "netfile.seek(0,2)\n",
    "netfile.tell()"
   ]
  },
  {
   "cell_type": "code",
   "execution_count": null,
   "metadata": {},
   "outputs": [],
   "source": []
  }
 ],
 "metadata": {
  "kernelspec": {
   "display_name": "Python 2",
   "language": "python",
   "name": "python2"
  },
  "language_info": {
   "codemirror_mode": {
    "name": "ipython",
    "version": 2
   },
   "file_extension": ".py",
   "mimetype": "text/x-python",
   "name": "python",
   "nbconvert_exporter": "python",
   "pygments_lexer": "ipython2",
   "version": "2.7.13"
  }
 },
 "nbformat": 4,
 "nbformat_minor": 2
}
