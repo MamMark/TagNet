{
 "cells": [
  {
   "cell_type": "code",
   "execution_count": 1,
   "metadata": {},
   "outputs": [],
   "source": [
    "import os\n",
    "from binascii import hexlify\n",
    "from time import sleep\n",
    "import datetime"
   ]
  },
  {
   "cell_type": "code",
   "execution_count": 2,
   "metadata": {},
   "outputs": [],
   "source": [
    "import tagcore"
   ]
  },
  {
   "cell_type": "code",
   "execution_count": 3,
   "metadata": {},
   "outputs": [
    {
     "name": "stdout",
     "output_type": "stream",
     "text": [
      "TagNet Driver Version 0.2.1\n"
     ]
    }
   ],
   "source": [
    "import tagnet"
   ]
  },
  {
   "cell_type": "code",
   "execution_count": 33,
   "metadata": {},
   "outputs": [],
   "source": [
    "tagdir       = '/home/pi/tags/1fbcd99fd29f'\n",
    "dblkdir      = tagdir+'/tag/sd/0/dblk' \n",
    "dblkbyte     = dblkdir+'/byte' \n",
    "dblkresync   = dblkdir+'/.resync'\n",
    "dblklastsync = dblkdir+'/.last_sync'\n",
    "dblkrecnum   = dblkdir+'/.recnum'\n",
    "dblkcommitted= dblkdir+'/.committed'"
   ]
  },
  {
   "cell_type": "code",
   "execution_count": 5,
   "metadata": {},
   "outputs": [
    {
     "name": "stdout",
     "output_type": "stream",
     "text": [
      "/mnt/neptune/TagNet/notebooks\r\n"
     ]
    }
   ],
   "source": [
    "!pwd"
   ]
  },
  {
   "cell_type": "code",
   "execution_count": 6,
   "metadata": {},
   "outputs": [],
   "source": [
    "def int32(x):\n",
    "  if x>0xFFFFFFFF:\n",
    "    raise OverflowError\n",
    "  if x>0x7FFFFFFF:\n",
    "    x=int(0x100000000-x)\n",
    "    if x<2147483648:\n",
    "      return -x\n",
    "    else:\n",
    "      return -2147483648\n",
    "  return x"
   ]
  },
  {
   "cell_type": "code",
   "execution_count": 7,
   "metadata": {},
   "outputs": [],
   "source": [
    "def round_to_word(a):\n",
    "    return ((a-(a%4)) if (a%4) else (a))"
   ]
  },
  {
   "cell_type": "code",
   "execution_count": 8,
   "metadata": {},
   "outputs": [],
   "source": [
    "def get_file_size(fn):\n",
    "    ret=!stat  -c '%s' $fn\n",
    "    offset=int(ret[0])\n",
    "    int32(offset)\n",
    "    return offset"
   ]
  },
  {
   "cell_type": "code",
   "execution_count": 9,
   "metadata": {},
   "outputs": [],
   "source": [
    "def err_by_value(val):\n",
    "    for e in tagnet.tlv_errors:\n",
    "        if e.value == val: break\n",
    "    return e.name"
   ]
  },
  {
   "cell_type": "code",
   "execution_count": 10,
   "metadata": {},
   "outputs": [],
   "source": [
    "def size_to_err(pos):\n",
    "    ipos = int32(pos)\n",
    "    if ipos < 0:\n",
    "        print('error', -ipos, err_by_value(-ipos))\n",
    "        return -ipos\n",
    "    return ipos"
   ]
  },
  {
   "cell_type": "code",
   "execution_count": 11,
   "metadata": {},
   "outputs": [],
   "source": [
    "def resync(fname, offset):\n",
    "    !truncate -s $offset $fname\n",
    "    limit = 1\n",
    "    while (limit < 100):\n",
    "        offset = get_file_size(dblkresync)\n",
    "        if (offset):\n",
    "            #print('=', limit, offset)\n",
    "            return offset, limit\n",
    "        limit += 1\n",
    "        #print('.', limit, offset)\n",
    "    return -1, 0"
   ]
  },
  {
   "cell_type": "code",
   "execution_count": 12,
   "metadata": {},
   "outputs": [],
   "source": [
    "def record_check(fn, offset):\n",
    "    os.lseek(fn, offset, os.SEEK_SET)\n",
    "    hdr=tagcore.core_headers.obj_dt_hdr()\n",
    "    buf=bytearray(os.read(fn, len(hdr)))\n",
    "    if len(buf) < len(hdr): return 0\n",
    "    hdr.set(buf)\n",
    "    rlen=hdr['len'].val\n",
    "    rtype  = hdr['type'].val\n",
    "    recnum = hdr['recnum'].val\n",
    "    recsum = hdr['recsum'].val\n",
    "    rt = hdr['rt']\n",
    "    dlen = rlen - len(hdr)\n",
    "    if (dlen > 0):\n",
    "        buf.extend(os.read(fn, dlen))\n",
    "    chksum = sum(bytearray(buf)[:rlen])\n",
    "    chksum -= (recsum & 0xff00) >> 8\n",
    "    chksum -= (recsum & 0x00ff)\n",
    "    chksum &= 0xffff                # force to 16 bits vs. 16 bit recsum\n",
    "    if (chksum != recsum):\n",
    "        print('checksum error, expected: {:x}, got: {:x}'.format(chksum, recsum))\n",
    "        print('.'.join(['{:02x}'.format(a) for a in buf[:20]]))\n",
    "    else:\n",
    "        dt = datetime.datetime(rt['year'].val, rt['mon'].val, rt['day'].val, rt['hr'].val, rt['min'].val, rt['sec'].val, rt['sub_sec'].val)\n",
    "        print('{}: {}, len: {}, offset: {}, recnum: {}, recsum: {:x}/{:x}'.format(tagcore.dt_defs.dt_name(rtype),dt.isoformat(),rlen,offset,recnum,recsum,chksum))\n",
    "        print('.'.join(['{:02x}'.format(a) for a in buf]))\n",
    "    return round_to_word(rlen)"
   ]
  },
  {
   "cell_type": "code",
   "execution_count": 13,
   "metadata": {},
   "outputs": [],
   "source": [
    "def sync_check(fn, offset, display=False):\n",
    "    os.lseek(fn, offset, os.SEEK_SET)\n",
    "    sync=tagcore.core_headers.obj_dt_sync()\n",
    "    buf=bytearray(os.read(fn, len(sync)))\n",
    "    sync.set(buf)\n",
    "    rlen   = sync['hdr']['len'].val\n",
    "    rtype  = sync['hdr']['type'].val\n",
    "    recnum = sync['hdr']['recnum'].val\n",
    "    recsum = sync['hdr']['recsum'].val\n",
    "    rt = sync['hdr']['rt']\n",
    "    dt = datetime.datetime(rt['year'].val, rt['mon'].val, rt['day'].val, rt['hr'].val, rt['min'].val, rt['sec'].val, rt['sub_sec'].val)\n",
    "    prev_sync = sync['prev_sync'].val\n",
    "    dlen = rlen - len(sync)\n",
    "    if (dlen > 0):\n",
    "        buf.extend(os.read(fn, dlen))\n",
    "    chksum = sum(bytearray(buf)[:rlen])\n",
    "    chksum -= (recsum & 0xff00) >> 8\n",
    "    chksum -= (recsum & 0x00ff)\n",
    "    chksum &= 0xffff                # force to 16 bits vs. 16 bit recsum\n",
    "    if (display):\n",
    "        print('{}: {}, len: {}, offset/prev: {}/{}, recnum: {}, recsum: {:x}/{:x}'.format(\n",
    "            tagcore.dt_defs.dt_name(rtype),\n",
    "            dt.isoformat(),\n",
    "            rlen,\n",
    "            offset,\n",
    "            prev_sync,\n",
    "            recnum,\n",
    "            recsum,\n",
    "            chksum))\n",
    "        print('.'.join(['{:02x}'.format(a) for a in buf]))\n",
    "    if (chksum != recsum):\n",
    "        print('checksum error, expected: {:x}, got: {:x}'.format(chksum, recsum))\n",
    "    return prev_sync"
   ]
  },
  {
   "cell_type": "markdown",
   "metadata": {},
   "source": [
    "# Dblk Info"
   ]
  },
  {
   "cell_type": "code",
   "execution_count": 14,
   "metadata": {},
   "outputs": [],
   "source": [
    "dblk_fn=os.open(dblkbyte, os.O_RDWR)"
   ]
  },
  {
   "cell_type": "code",
   "execution_count": 15,
   "metadata": {},
   "outputs": [
    {
     "name": "stdout",
     "output_type": "stream",
     "text": [
      "-r--r--r-- 1 pi pi 908192 Nov 13 12:39 /home/pi/tags/1fbcd99fd29f/tag/sd/0/dblk/byte\r\n"
     ]
    }
   ],
   "source": [
    "!ls -al $dblkbyte"
   ]
  },
  {
   "cell_type": "code",
   "execution_count": 16,
   "metadata": {},
   "outputs": [
    {
     "name": "stdout",
     "output_type": "stream",
     "text": [
      "-rw-rw-r-- 1 pi pi 22387 Nov 13 12:39 /home/pi/tags/1fbcd99fd29f/tag/sd/0/dblk/.recnum\r\n"
     ]
    }
   ],
   "source": [
    "!ls -al $dblkdir/.recnum"
   ]
  },
  {
   "cell_type": "code",
   "execution_count": 17,
   "metadata": {},
   "outputs": [
    {
     "name": "stdout",
     "output_type": "stream",
     "text": [
      "-rw-rw-r-- 1 pi pi 22387 Nov 13 12:39 /home/pi/tags/1fbcd99fd29f/tag/sd/0/dblk/.recnum\r\n"
     ]
    }
   ],
   "source": [
    "!ls -al $dblkrecnum"
   ]
  },
  {
   "cell_type": "code",
   "execution_count": 18,
   "metadata": {},
   "outputs": [
    {
     "name": "stdout",
     "output_type": "stream",
     "text": [
      "-r--r--r-- 1 pi pi 907604 Nov 13 12:39 /home/pi/tags/1fbcd99fd29f/tag/sd/0/dblk/.last_sync\r\n"
     ]
    }
   ],
   "source": [
    "!ls -al $dblkdir/.last_sync"
   ]
  },
  {
   "cell_type": "code",
   "execution_count": 19,
   "metadata": {},
   "outputs": [
    {
     "data": {
      "text/plain": [
       "907604"
      ]
     },
     "execution_count": 19,
     "metadata": {},
     "output_type": "execute_result"
    }
   ],
   "source": [
    "ret=!stat  -c '%s' $dblkdir/.last_sync\n",
    "sync_offset=int(ret[0])\n",
    "sync_offset"
   ]
  },
  {
   "cell_type": "code",
   "execution_count": 20,
   "metadata": {},
   "outputs": [
    {
     "name": "stdout",
     "output_type": "stream",
     "text": [
      "dt/3: 2018-11-13T20:32:45.015195, len: 28, offset: 907604, recnum: 22373, recsum: 761/761\n",
      "1c.00.03.8c.65.57.00.00.5b.3b.2d.20.14.01.0d.0b.e2.07.61.07.78.d0.0d.00.ef.00.df.de\n"
     ]
    },
    {
     "data": {
      "text/plain": [
       "28"
      ]
     },
     "execution_count": 20,
     "metadata": {},
     "output_type": "execute_result"
    }
   ],
   "source": [
    "record_check(dblk_fn, sync_offset)"
   ]
  },
  {
   "cell_type": "code",
   "execution_count": 21,
   "metadata": {},
   "outputs": [
    {
     "data": {
      "text/plain": [
       "905336"
      ]
     },
     "execution_count": 21,
     "metadata": {},
     "output_type": "execute_result"
    }
   ],
   "source": [
    "sync_check(dblk_fn, sync_offset)"
   ]
  },
  {
   "cell_type": "markdown",
   "metadata": {},
   "source": [
    "# Find sync record"
   ]
  },
  {
   "cell_type": "code",
   "execution_count": 23,
   "metadata": {},
   "outputs": [
    {
     "name": "stdout",
     "output_type": "stream",
     "text": [
      "/home/pi/tags/1fbcd99fd29f/tag/sd/0/dblk\n",
      "├── [-r--r--r--      908352 Nov 13 12:39]  byte\n",
      "├── [-r--r--r--      907776 Nov 13 12:39]  .committed\n",
      "├── [drwxr-x--x           0 Dec 31  1969]  filter\n",
      "│   ├── [drwxr-x--x           0 Dec 31  1969]  exclude\n",
      "│   │   └── [drwxr-x--x           0 Dec 31  1969]  DT_EVENT\n",
      "│   └── [drwxr-x--x           0 Dec 31  1969]  include\n",
      "│       └── [drwxr-x--x           0 Dec 31  1969]  DT_EVENT\n",
      "├── [-r--r--r--      908312 Nov 13 12:39]  .last_rec\n",
      "├── [-r--r--r--      907604 Nov 13 12:39]  .last_sync\n",
      "├── [-rw-rw----           0 Nov 13 12:39]  note\n",
      "├── [-r--r--r--           0 Dec 31  1969]  .offset\n",
      "├── [-rw-rw-r--       22391 Nov 13 12:39]  .recnum\n",
      "├── [-rw-rw-r--  4294967282 Nov 13 12:39]  .resync\n",
      "└── [-r--r--r--           0 Dec 31  1969]  .size\n",
      "\n",
      "5 directories, 9 files\n"
     ]
    }
   ],
   "source": [
    "!tree -p -s -D -a $dblkdir"
   ]
  },
  {
   "cell_type": "code",
   "execution_count": 24,
   "metadata": {},
   "outputs": [],
   "source": [
    "!truncate -s 190976 $dblkdir/.resync"
   ]
  },
  {
   "cell_type": "code",
   "execution_count": 25,
   "metadata": {},
   "outputs": [
    {
     "name": "stdout",
     "output_type": "stream",
     "text": [
      "-rw-rw-r-- 1 pi pi 907604 Nov 13 12:39 /home/pi/tags/1fbcd99fd29f/tag/sd/0/dblk/.resync\r\n"
     ]
    }
   ],
   "source": [
    "!truncate -s $sync_offset $dblkdir/.resync\n",
    "!ls -al $dblkdir/.resync"
   ]
  },
  {
   "cell_type": "code",
   "execution_count": 26,
   "metadata": {},
   "outputs": [
    {
     "name": "stdout",
     "output_type": "stream",
     "text": [
      "-rw-rw-r-- 1 pi pi 907604 Nov 13 12:39 /home/pi/tags/1fbcd99fd29f/tag/sd/0/dblk/.resync\r\n"
     ]
    }
   ],
   "source": [
    "!ls -al $dblkdir/.resync"
   ]
  },
  {
   "cell_type": "code",
   "execution_count": 27,
   "metadata": {},
   "outputs": [],
   "source": [
    "resync_offset = get_file_size(dblkresync)"
   ]
  },
  {
   "cell_type": "code",
   "execution_count": 28,
   "metadata": {},
   "outputs": [
    {
     "name": "stdout",
     "output_type": "stream",
     "text": [
      "dt/3: 2018-11-13T20:32:45.015195, len: 28, offset: 907604, recnum: 22373, recsum: 761/761\n",
      "1c.00.03.8c.65.57.00.00.5b.3b.2d.20.14.01.0d.0b.e2.07.61.07.78.d0.0d.00.ef.00.df.de\n"
     ]
    },
    {
     "data": {
      "text/plain": [
       "28"
      ]
     },
     "execution_count": 28,
     "metadata": {},
     "output_type": "execute_result"
    }
   ],
   "source": [
    "record_check(dblk_fn, resync_offset)"
   ]
  },
  {
   "cell_type": "code",
   "execution_count": 29,
   "metadata": {},
   "outputs": [
    {
     "data": {
      "text/plain": [
       "905336"
      ]
     },
     "execution_count": 29,
     "metadata": {},
     "output_type": "execute_result"
    }
   ],
   "source": [
    "sync_check(dblk_fn, resync_offset)"
   ]
  },
  {
   "cell_type": "markdown",
   "metadata": {},
   "source": [
    "# Verify consecutive sync records"
   ]
  },
  {
   "cell_type": "code",
   "execution_count": 37,
   "metadata": {},
   "outputs": [
    {
     "data": {
      "text/plain": [
       "907776"
      ]
     },
     "execution_count": 37,
     "metadata": {},
     "output_type": "execute_result"
    }
   ],
   "source": [
    "offset = get_file_size(dblkcommitted)\n",
    "offset"
   ]
  },
  {
   "cell_type": "code",
   "execution_count": 39,
   "metadata": {
    "scrolled": true
   },
   "outputs": [
    {
     "name": "stdout",
     "output_type": "stream",
     "text": [
      "2018-11-13 12:41:59.574971\n",
      "total 2.9 seconds, 0 iterations, eof: 909552, resync: 4294967282, error: EODATA\n"
     ]
    }
   ],
   "source": [
    "#offset=get_file_size(dblkresync)\n",
    "last_offset = 0\n",
    "start=datetime.datetime.now()\n",
    "print(start)\n",
    "for i in range(2000):\n",
    "    rtime = datetime.datetime.now()\n",
    "    offset, limit = resync(dblkresync, offset)\n",
    "    ttime = datetime.datetime.now() - rtime\n",
    "    offset = int32(offset)\n",
    "    if offset <= 0: break\n",
    "    try:\n",
    "        previous = sync_check(dblk_fn, offset)\n",
    "        delta = offset - previous if () else 0\n",
    "        print('*** {:4}[{:2}], {:4}bps, {:8} : {}'.format(i,\n",
    "                                                          limit,\n",
    "                                                          round((delta*8)/ttime.total_seconds(),2),\n",
    "                                                          offset, previous))\n",
    "        if (i) and (previous != last_offset): print('missed sync, previous: {}, last: {}'.format(previous, last_offset))\n",
    "    except OSError:\n",
    "        if offset: print(offset)\n",
    "        sleep(1)\n",
    "    last_offset = offset\n",
    "    offset += 4\n",
    "    #print('loop',offset)\n",
    "print('total {} seconds, {} iterations, eof: {}, resync: {}, error: {}'.format(\n",
    "                                                        round((datetime.datetime.now()-start).total_seconds(),1),\n",
    "                                                        i,\n",
    "                                                        get_file_size(dblkbyte),\n",
    "                                                        get_file_size(dblkresync),\n",
    "                                                        err_by_value(-offset)))"
   ]
  },
  {
   "cell_type": "code",
   "execution_count": 47,
   "metadata": {},
   "outputs": [
    {
     "data": {
      "text/plain": [
       "(912316, 912464, 22494)"
      ]
     },
     "execution_count": 47,
     "metadata": {},
     "output_type": "execute_result"
    }
   ],
   "source": [
    "get_file_size(dblklastsync), get_file_size(dblkbyte), get_file_size(dblkrecnum)"
   ]
  },
  {
   "cell_type": "code",
   "execution_count": 48,
   "metadata": {},
   "outputs": [],
   "source": [
    "offset = get_file_size(dblklastsync)\n",
    "#offset = 460340"
   ]
  },
  {
   "cell_type": "code",
   "execution_count": 49,
   "metadata": {
    "scrolled": true
   },
   "outputs": [
    {
     "name": "stdout",
     "output_type": "stream",
     "text": [
      "dt/3: 2018-11-13T20:42:45.015195, len: 28, offset: 912316, recnum: 22491, recsum: 804/804\n",
      "1c.00.03.e5.db.57.00.00.5b.3b.2d.2a.14.01.0d.0b.e2.07.04.08.30.e2.0d.00.ef.00.df.de\n",
      "*** count: 0, offset: 912344, mod512: 472\n",
      "dt/4: 2018-11-13T20:42:47.024334, len: 40, offset: 912344, recnum: 22492, recsum: 44e/44e\n",
      "28.00.04.ca.dc.57.00.00.0e.5f.2f.2a.14.01.0d.0b.e2.07.4e.04.44.00.00.00.00.00.00.00.01.00.00.00.00.00.00.00.04.00.00.00\n",
      "*** count: 1, offset: 912384, mod512: 0\n",
      "dt/4: 2018-11-13T20:42:53.024296, len: 40, offset: 912384, recnum: 22493, recsum: 4a5/4a5\n",
      "28.00.04.41.dd.57.00.00.e8.5e.35.2a.14.01.0d.0b.e2.07.a5.04.44.00.00.00.00.00.00.00.01.00.00.00.00.00.00.00.04.00.00.00\n",
      "*** count: 2, offset: 912424, mod512: 40\n",
      "dt/4: 2018-11-13T20:42:58.025283, len: 40, offset: 912424, recnum: 22494, recsum: 536/536\n",
      "28.00.04.f0.de.57.00.00.c3.62.3a.2a.14.01.0d.0b.e2.07.36.05.42.00.00.00.00.00.00.00.00.00.00.00.00.00.00.00.04.00.00.00\n",
      "*** count: 3, offset: 912464, mod512: 80\n",
      "dt/4: 2018-11-13T20:43:05.024377, len: 40, offset: 912464, recnum: 22495, recsum: 3cc/3cc\n",
      "28.00.04.43.df.57.00.00.39.5f.05.2b.14.01.0d.0b.e2.07.cc.03.44.00.00.00.00.00.00.00.01.00.00.00.00.00.00.00.04.00.00.00\n",
      "*** count: 4, offset: 912504, mod512: 120\n",
      "dt/4: 2018-11-13T20:43:10.025164, len: 40, offset: 912504, recnum: 22496, recsum: 3f1/3f1\n",
      "28.00.04.4f.e0.57.00.00.4c.62.0a.2b.14.01.0d.0b.e2.07.f1.03.42.00.00.00.00.00.00.00.00.00.00.00.00.00.00.00.04.00.00.00\n",
      "*** count: 5, offset: 912544, mod512: 160\n",
      "dt/4: 2018-11-13T20:43:16.025114, len: 40, offset: 912544, recnum: 22497, recsum: 3f7/3f7\n",
      "28.00.04.80.e1.57.00.00.1a.62.10.2b.14.01.0d.0b.e2.07.f7.03.42.00.00.00.00.00.00.00.00.00.00.00.00.00.00.00.04.00.00.00\n",
      "*** count: 6, offset: 912584, mod512: 200\n",
      "dt/4: 2018-11-13T20:43:22.024375, len: 40, offset: 912584, recnum: 22498, recsum: 44f/44f\n",
      "28.00.04.b4.e2.57.00.00.37.5f.16.2b.14.01.0d.0b.e2.07.4f.04.44.00.00.00.00.00.00.00.01.00.00.00.00.00.00.00.04.00.00.00\n",
      "*** count: 7, offset: 912624, mod512: 240\n",
      "dt/4: 2018-11-13T20:43:28.024348, len: 40, offset: 912624, recnum: 22499, recsum: 3c4/3c4\n",
      "28.00.04.3d.e3.57.00.00.1c.5f.1c.2b.14.01.0d.0b.e2.07.c4.03.44.00.00.00.00.00.00.00.01.00.00.00.00.00.00.00.04.00.00.00\n",
      "*** count: 8, offset: 912664, mod512: 280\n",
      "dt/4: 2018-11-13T20:43:32.024303, len: 40, offset: 912664, recnum: 22500, recsum: 5aa/5aa\n",
      "28.00.04.bf.e4.57.00.00.ef.5e.20.2b.14.01.0d.0b.e2.07.aa.05.25.00.00.00.25.00.00.00.37.14.00.00.1e.14.00.00.0f.00.00.00\n",
      "*** count: 9, offset: 912704, mod512: 320\n",
      "dt/4: 2018-11-13T20:43:34.024462, len: 40, offset: 912704, recnum: 22501, recsum: 409/409\n",
      "28.00.04.08.e5.57.00.00.8e.5f.22.2b.14.01.0d.0b.e2.07.09.04.44.00.00.00.00.00.00.00.01.00.00.00.00.00.00.00.04.00.00.00\n",
      "*** count: 10, offset: 912744, mod512: 360\n",
      "dt/4: 2018-11-13T20:43:39.025228, len: 40, offset: 912744, recnum: 22502, recsum: 481/481\n",
      "28.00.04.7c.e6.57.00.00.8c.62.27.2b.14.01.0d.0b.e2.07.81.04.42.00.00.00.00.00.00.00.00.00.00.00.00.00.00.00.04.00.00.00\n",
      "*** count: 11, offset: 912784, mod512: 400\n",
      "offset: 912784, eof: 912824, last_sync: 912316\n",
      "dt/4: 2018-11-13T20:43:45.025135, len: 40, offset: 912784, recnum: 22503, recsum: 3df/3df\n",
      "28.00.04.30.e7.57.00.00.2f.62.2d.2b.14.01.0d.0b.e2.07.df.03.42.00.00.00.00.00.00.00.00.00.00.00.00.00.00.00.04.00.00.00\n",
      "*** count: 13, offset: 912824, mod512: 440\n",
      "offset: 912824, eof: 912864, last_sync: 912316\n",
      "dt/4: 2018-11-13T20:43:51.024342, len: 40, offset: 912824, recnum: 22504, recsum: 3db/3db\n",
      "28.00.04.3e.e8.57.00.00.16.5f.33.2b.14.01.0d.0b.e2.07.db.03.44.00.00.00.00.00.00.00.01.00.00.00.00.00.00.00.04.00.00.00\n",
      "*** count: 15, offset: 912864, mod512: 480\n",
      "offset: 912864, eof: 912864, last_sync: 912316\n",
      "offset: 912864, eof: 912904, last_sync: 912316\n",
      "dt/4: 2018-11-13T20:43:57.024372, len: 40, offset: 912864, recnum: 22505, recsum: 458/458\n",
      "28.00.04.96.e9.57.00.00.34.5f.39.2b.14.01.0d.0b.e2.07.58.04.44.00.00.00.00.00.00.00.01.00.00.00.00.00.00.00.04.00.00.00\n",
      "*** count: 18, offset: 912904, mod512: 8\n",
      "offset: 912904, eof: 912944, last_sync: 912316\n",
      "dt/4: 2018-11-13T20:44:02.025075, len: 40, offset: 912904, recnum: 22506, recsum: 51f/51f\n",
      "28.00.04.d4.ea.57.00.00.f3.61.02.2c.14.01.0d.0b.e2.07.1f.05.42.00.00.00.00.00.00.00.00.00.00.00.00.00.00.00.04.00.00.00\n",
      "*** count: 20, offset: 912944, mod512: 48\n"
     ]
    },
    {
     "ename": "KeyboardInterrupt",
     "evalue": "",
     "output_type": "error",
     "traceback": [
      "\u001b[0;31m\u001b[0m",
      "\u001b[0;31mKeyboardInterrupt\u001b[0mTraceback (most recent call last)",
      "\u001b[0;32m<ipython-input-49-0a763ca91bfc>\u001b[0m in \u001b[0;36m<module>\u001b[0;34m()\u001b[0m\n\u001b[1;32m      1\u001b[0m \u001b[0;32mfor\u001b[0m \u001b[0mi\u001b[0m \u001b[0;32min\u001b[0m \u001b[0mrange\u001b[0m\u001b[0;34m(\u001b[0m\u001b[0;36m100\u001b[0m\u001b[0;34m)\u001b[0m\u001b[0;34m:\u001b[0m\u001b[0;34m\u001b[0m\u001b[0m\n\u001b[1;32m      2\u001b[0m     \u001b[0;32mif\u001b[0m \u001b[0moffset\u001b[0m \u001b[0;34m>=\u001b[0m \u001b[0mget_file_size\u001b[0m\u001b[0;34m(\u001b[0m\u001b[0mdblkbyte\u001b[0m\u001b[0;34m)\u001b[0m\u001b[0;34m:\u001b[0m\u001b[0;34m\u001b[0m\u001b[0m\n\u001b[0;32m----> 3\u001b[0;31m         \u001b[0msleep\u001b[0m\u001b[0;34m(\u001b[0m\u001b[0;36m1\u001b[0m\u001b[0;34m)\u001b[0m\u001b[0;34m\u001b[0m\u001b[0m\n\u001b[0m\u001b[1;32m      4\u001b[0m         \u001b[0;32mprint\u001b[0m\u001b[0;34m(\u001b[0m\u001b[0;34m'offset: {}, eof: {}, last_sync: {}'\u001b[0m\u001b[0;34m.\u001b[0m\u001b[0mformat\u001b[0m\u001b[0;34m(\u001b[0m\u001b[0moffset\u001b[0m\u001b[0;34m,\u001b[0m \u001b[0mget_file_size\u001b[0m\u001b[0;34m(\u001b[0m\u001b[0mdblkbyte\u001b[0m\u001b[0;34m)\u001b[0m\u001b[0;34m,\u001b[0m \u001b[0mget_file_size\u001b[0m\u001b[0;34m(\u001b[0m\u001b[0mdblklastsync\u001b[0m\u001b[0;34m)\u001b[0m\u001b[0;34m)\u001b[0m\u001b[0;34m)\u001b[0m\u001b[0;34m\u001b[0m\u001b[0m\n\u001b[1;32m      5\u001b[0m         \u001b[0;32mcontinue\u001b[0m\u001b[0;34m\u001b[0m\u001b[0m\n",
      "\u001b[0;31mKeyboardInterrupt\u001b[0m: "
     ]
    }
   ],
   "source": [
    "for i in range(100):\n",
    "    if offset >= get_file_size(dblkbyte):\n",
    "        sleep(1)\n",
    "        print('offset: {}, eof: {}, last_sync: {}'.format(offset, get_file_size(dblkbyte), get_file_size(dblklastsync)))\n",
    "        continue\n",
    "    try:\n",
    "        offset += record_check(dblk_fn, offset)\n",
    "        print('*** count: {}, offset: {}, mod512: {}'.format(i, offset, offset % 512))\n",
    "    except OSError:\n",
    "        sleep(1)\n",
    "        print('offset: {}, eof: {}, last_sync: {}'.format(offset, get_file_size(dblkbyte), get_file_size(dblklastsync)))\n",
    "print('done')"
   ]
  },
  {
   "cell_type": "code",
   "execution_count": null,
   "metadata": {
    "scrolled": true
   },
   "outputs": [],
   "source": [
    "offset = get_file_size(dblklastsync)\n",
    "while (True):\n",
    "    offset = sync_check(dblk_fn, offset, display=True)    "
   ]
  },
  {
   "cell_type": "markdown",
   "metadata": {},
   "source": [
    "# Other"
   ]
  },
  {
   "cell_type": "code",
   "execution_count": null,
   "metadata": {},
   "outputs": [],
   "source": [
    "STOP"
   ]
  },
  {
   "cell_type": "code",
   "execution_count": null,
   "metadata": {},
   "outputs": [],
   "source": [
    "i=4294967295\n",
    "int32(i)"
   ]
  },
  {
   "cell_type": "code",
   "execution_count": null,
   "metadata": {},
   "outputs": [],
   "source": [
    "int32()"
   ]
  },
  {
   "cell_type": "code",
   "execution_count": null,
   "metadata": {},
   "outputs": [],
   "source": [
    "!ls"
   ]
  },
  {
   "cell_type": "code",
   "execution_count": null,
   "metadata": {
    "scrolled": true
   },
   "outputs": [],
   "source": [
    "help(tagcore)"
   ]
  },
  {
   "cell_type": "code",
   "execution_count": null,
   "metadata": {},
   "outputs": [],
   "source": [
    "help(tagcore.core_headers)"
   ]
  },
  {
   "cell_type": "code",
   "execution_count": null,
   "metadata": {},
   "outputs": [],
   "source": [
    "!ls /tmp"
   ]
  },
  {
   "cell_type": "code",
   "execution_count": null,
   "metadata": {},
   "outputs": [],
   "source": []
  }
 ],
 "metadata": {
  "kernelspec": {
   "display_name": "Python 2",
   "language": "python",
   "name": "python2"
  },
  "language_info": {
   "codemirror_mode": {
    "name": "ipython",
    "version": 2
   },
   "file_extension": ".py",
   "mimetype": "text/x-python",
   "name": "python",
   "nbconvert_exporter": "python",
   "pygments_lexer": "ipython2",
   "version": "2.7.13"
  }
 },
 "nbformat": 4,
 "nbformat_minor": 2
}
