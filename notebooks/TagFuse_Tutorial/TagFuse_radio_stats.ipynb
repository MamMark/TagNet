{
 "cells": [
  {
   "cell_type": "code",
   "execution_count": 1,
   "metadata": {},
   "outputs": [],
   "source": [
    "import os\n",
    "from binascii import hexlify\n",
    "from time import sleep\n",
    "import datetime"
   ]
  },
  {
   "cell_type": "code",
   "execution_count": 2,
   "metadata": {},
   "outputs": [],
   "source": [
    "import json\n",
    "import struct\n",
    "from binascii import hexlify, unhexlify"
   ]
  },
  {
   "cell_type": "code",
   "execution_count": 3,
   "metadata": {},
   "outputs": [
    {
     "name": "stdout",
     "output_type": "stream",
     "text": [
      "TagNet Driver Version 0.2.1\n"
     ]
    }
   ],
   "source": [
    "import tagnet\n",
    "import tagcore"
   ]
  },
  {
   "cell_type": "code",
   "execution_count": 4,
   "metadata": {},
   "outputs": [],
   "source": [
    "tagdir       = '/home/pi/tags/1fbcd99fd29f/tag'\n",
    "statsfile    = tagdir+'/radio/stats'"
   ]
  },
  {
   "cell_type": "code",
   "execution_count": 5,
   "metadata": {},
   "outputs": [
    {
     "name": "stdout",
     "output_type": "stream",
     "text": [
      "/mnt/neptune/TagNet/notebooks/TagFuse_Tutorial\r\n"
     ]
    }
   ],
   "source": [
    "!pwd"
   ]
  },
  {
   "cell_type": "markdown",
   "metadata": {},
   "source": [
    "# Display radio statistics"
   ]
  },
  {
   "cell_type": "code",
   "execution_count": 6,
   "metadata": {},
   "outputs": [],
   "source": [
    "radio_stats = open(statsfile)\n",
    "raw_stats = str(json.loads(radio_stats.read())[0]['block'])\n",
    "len(raw_stats), raw_stats\n",
    "stats_buf = unhexlify(raw_stats)"
   ]
  },
  {
   "cell_type": "code",
   "execution_count": 7,
   "metadata": {},
   "outputs": [],
   "source": [
    "radio_stats = tagcore.net_headers.obj_radio_stats()"
   ]
  },
  {
   "cell_type": "code",
   "execution_count": 8,
   "metadata": {
    "scrolled": true
   },
   "outputs": [
    {
     "data": {
      "text/plain": [
       "rc_readys: 17889  tx_packets: 21  tx_reports: 21  rx_packets: 28  rx_reports: 22  tx_timeouts: 0  tx_underruns: 0  rx_bad_crcs: 0  rx_timeouts: 0  rx_inv_syncs: 6  rx_errors: 0  rx_overruns: 0  rx_active_overrun: 0  rx_crc_overruns: 0  rx_crc_packet_rx: 0  nops: 22  unshuts: 1  channel: 0  tx_power: 0  tx_ff_index: 35  rx_ff_index: 32  rc_signal: 0  tx_signal: 0  tx_error: 0  send_tries: 1  send_wait_time: 45  send_max_wait: 1575  last_rssi: 220  min_rssi: 0  max_rssi: 220"
      ]
     },
     "execution_count": 8,
     "metadata": {},
     "output_type": "execute_result"
    }
   ],
   "source": [
    "radio_stats.set(stats_buf)\n",
    "radio_stats"
   ]
  },
  {
   "cell_type": "markdown",
   "metadata": {},
   "source": [
    "# Other ways to access radio statistics"
   ]
  },
  {
   "cell_type": "markdown",
   "metadata": {},
   "source": [
    "```\n",
    "typedef struct si446x_stats {\n",
    "0  uint32_t                          rc_readys;\n",
    "1  uint32_t                          tx_packets;\n",
    "2  uint32_t                          tx_reports;\n",
    "3  uint32_t                          rx_packets;\n",
    "4  uint32_t                          rx_reports;\n",
    "\n",
    "5  uint16_t                          tx_timeouts;\n",
    "6  uint16_t                          tx_underruns;    // tx active, fifo underrun, oops\n",
    "\n",
    "7  uint16_t                          rx_bad_crcs;     /* active to crc_flush */\n",
    "8  uint16_t                          rx_timeouts;\n",
    "9  uint16_t                          rx_inv_syncs;\n",
    "0  uint16_t                          rx_errors;\n",
    "\n",
    "1  uint16_t                          rx_overruns;     // inbound overuns, hw\n",
    "2  uint16_t                          rx_active_overruns; // active fifo overrun\n",
    "3  uint16_t                          rx_crc_overruns;    // crc_flush fifo overrun\n",
    "\n",
    "4  uint16_t                          rx_crc_packet_rx;   // crc_flush packet_rx, weird\n",
    "\n",
    "5  uint16_t                          nops;\n",
    "6  uint16_t                          unshuts;\n",
    "7  uint8_t                           channel;         // current channel setting\n",
    "8  uint8_t                           tx_power;        // current power setting\n",
    "9  uint8_t                           tx_ff_index;     // msg offset for fifo write\n",
    "0  uint8_t                           rx_ff_index;     // msg offset for fifo read\n",
    "1  bool                              rc_signal;       // signal command complete\n",
    "2  bool                              tx_signal;       // signal transmit complete\n",
    "3  error_t                           tx_error;        // last tx error\n",
    "4  uint8_t                           send_tries;      // flag to track send msg retry\n",
    "5  uint32_t                          send_wait_time;  // send message time to wait\n",
    "6  uint32_t                          send_max_wait;   // max wait time to send\n",
    "7  uint8_t                           last_rssi;       // last received value\n",
    "8  uint8_t                           min_rssi;        // minimum received value\n",
    "9  uint8_t                           max_rssi;        // maximum received value\n",
    "} si446x_stats_t;\n",
    "```"
   ]
  },
  {
   "cell_type": "code",
   "execution_count": 9,
   "metadata": {},
   "outputs": [],
   "source": [
    "strct_s = '<IIIIIHHHHHHHHHHHHBBBBBBBBIIBBB'"
   ]
  },
  {
   "cell_type": "code",
   "execution_count": 10,
   "metadata": {},
   "outputs": [
    {
     "name": "stdout",
     "output_type": "stream",
     "text": [
      "unshuts: 1, packets tx/rx: 21/28, tx to/und: 0/0, rx crc/to/sync/err/ovr: 0/0/6/0/0, rssi last/min/max: 220/0/220\n"
     ]
    }
   ],
   "source": [
    "ss = struct.Struct(strct_s)\n",
    "x = ss.unpack(stats_buf[:ss.size])\n",
    "st = 'unshuts: {}, packets tx/rx: {}/{}, tx to/und: {}/{}, rx crc/to/sync/err/ovr: {}/{}/{}/{}/{}, rssi last/min/max: {}/{}/{}'\n",
    "print(st.format(x[16],x[1],x[3],x[5],x[6],x[7],x[8],x[9],x[10],x[11],x[27],x[28],x[29]))"
   ]
  },
  {
   "cell_type": "code",
   "execution_count": null,
   "metadata": {},
   "outputs": [],
   "source": []
  }
 ],
 "metadata": {
  "kernelspec": {
   "display_name": "Python 2",
   "language": "python",
   "name": "python2"
  },
  "language_info": {
   "codemirror_mode": {
    "name": "ipython",
    "version": 2
   },
   "file_extension": ".py",
   "mimetype": "text/x-python",
   "name": "python",
   "nbconvert_exporter": "python",
   "pygments_lexer": "ipython2",
   "version": "2.7.13"
  }
 },
 "nbformat": 4,
 "nbformat_minor": 2
}
