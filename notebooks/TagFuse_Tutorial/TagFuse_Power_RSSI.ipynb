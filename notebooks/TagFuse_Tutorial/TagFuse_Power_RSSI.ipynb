{
 "cells": [
  {
   "cell_type": "code",
   "execution_count": 25,
   "metadata": {},
   "outputs": [],
   "source": [
    "import os\n",
    "from binascii import hexlify\n",
    "from time import sleep\n",
    "import datetime"
   ]
  },
  {
   "cell_type": "code",
   "execution_count": 26,
   "metadata": {},
   "outputs": [],
   "source": [
    "import tagcore"
   ]
  },
  {
   "cell_type": "code",
   "execution_count": 27,
   "metadata": {},
   "outputs": [],
   "source": [
    "import tagnet"
   ]
  },
  {
   "cell_type": "code",
   "execution_count": 28,
   "metadata": {},
   "outputs": [],
   "source": [
    "from tagdump import tagdump as td"
   ]
  },
  {
   "cell_type": "code",
   "execution_count": 1,
   "metadata": {},
   "outputs": [],
   "source": [
    "basedir      = '/home/pi/tags'\n",
    "tagdir       = basedir+'/1fbcd99fd29f'\n",
    "#tagdir       = basedir+'/658bc8e5205c'\n",
    "TEST_TREE    = tagdir+'/tag/.test' "
   ]
  },
  {
   "cell_type": "code",
   "execution_count": 2,
   "metadata": {},
   "outputs": [
    {
     "name": "stdout",
     "output_type": "stream",
     "text": [
      "/mnt/neptune/TagNet/notebooks/TagFuse_Tutorial\r\n"
     ]
    }
   ],
   "source": [
    "!pwd"
   ]
  },
  {
   "cell_type": "markdown",
   "metadata": {},
   "source": [
    "# Power and RSSI"
   ]
  },
  {
   "cell_type": "code",
   "execution_count": 3,
   "metadata": {
    "scrolled": true
   },
   "outputs": [
    {
     "name": "stdout",
     "output_type": "stream",
     "text": [
      "/home/pi/tags/.test\r\n",
      "├── [-rw-rw-rw-           0 Dec 31  1969]  echo\r\n",
      "├── [-r--r--r--           0 Dec 31  1969]  ones\r\n",
      "├── [--w--w--w-           0 Dec 31  1969]  sum\r\n",
      "├── [-rw-rw--w-          20 Mar 12 11:35]  tx_pwr\r\n",
      "└── [-r--r--r--           0 Dec 31  1969]  zero\r\n",
      "\r\n",
      "0 directories, 5 files\r\n"
     ]
    }
   ],
   "source": [
    "!tree -p -s -D /home/pi/tags/.test"
   ]
  },
  {
   "cell_type": "code",
   "execution_count": 4,
   "metadata": {},
   "outputs": [
    {
     "name": "stdout",
     "output_type": "stream",
     "text": [
      "/home/pi/tags/1fbcd99fd29f/tag/.test\r\n",
      "├── [-rw-rw--w-           0 Mar 12 11:35]  drop\r\n",
      "├── [-rw-rw--w-           0 Mar 12 11:35]  echo\r\n",
      "├── [-rw-rw-r--           0 Mar 12 11:35]  ones\r\n",
      "├── [-rw-rw--w-         201 Mar 12 11:35]  rssi\r\n",
      "├── [-rw-rw--w-         167 Mar 12 11:35]  rx_rssi\r\n",
      "├── [-rw-rw-r--           0 Dec 31  1969]  sum\r\n",
      "├── [-rw-rw--w-           0 Dec 31  1969]  tx_pwr\r\n",
      "└── [-rw-rw-r--           0 Mar 12 11:35]  zero\r\n",
      "\r\n",
      "0 directories, 8 files\r\n"
     ]
    }
   ],
   "source": [
    "!tree -p -s -D $TEST_TREE"
   ]
  },
  {
   "cell_type": "markdown",
   "metadata": {},
   "source": [
    "## Adjust Local Transmit Power"
   ]
  },
  {
   "cell_type": "code",
   "execution_count": 5,
   "metadata": {},
   "outputs": [
    {
     "name": "stdout",
     "output_type": "stream",
     "text": [
      "-rw-rw--w- 1 pi pi  0 Dec 31  1969 /home/pi/tags/1fbcd99fd29f/tag/.test/tx_pwr\r\n",
      "-rw-rw--w- 1 pi pi 20 Mar 12 11:35 /home/pi/tags/.test/tx_pwr\r\n"
     ]
    }
   ],
   "source": [
    "!ls -al /home/pi/tags/.test/tx_pwr $TEST_TREE/tx_pwr"
   ]
  },
  {
   "cell_type": "code",
   "execution_count": 6,
   "metadata": {},
   "outputs": [],
   "source": [
    "!truncate -s 2 /home/pi/tags/.test/tx_pwr"
   ]
  },
  {
   "cell_type": "code",
   "execution_count": 7,
   "metadata": {},
   "outputs": [
    {
     "name": "stdout",
     "output_type": "stream",
     "text": [
      "-rw-rw--w- 1 pi pi 200 Mar 12 11:36 /home/pi/tags/1fbcd99fd29f/tag/.test/rssi\r\n",
      "-rw-rw--w- 1 pi pi   2 Mar 12 11:36 /home/pi/tags/.test/tx_pwr\r\n"
     ]
    }
   ],
   "source": [
    "!ls -al /home/pi/tags/.test/tx_pwr $TEST_TREE/rssi"
   ]
  },
  {
   "cell_type": "code",
   "execution_count": 8,
   "metadata": {},
   "outputs": [],
   "source": [
    "!truncate -s 30 /home/pi/tags/.test/tx_pwr"
   ]
  },
  {
   "cell_type": "code",
   "execution_count": 9,
   "metadata": {},
   "outputs": [
    {
     "name": "stdout",
     "output_type": "stream",
     "text": [
      "-rw-rw--w- 1 pi pi 200 Mar 12 11:36 /home/pi/tags/1fbcd99fd29f/tag/.test/rssi\r\n",
      "-rw-rw--w- 1 pi pi  30 Mar 12 11:36 /home/pi/tags/.test/tx_pwr\r\n"
     ]
    }
   ],
   "source": [
    "!ls -al /home/pi/tags/.test/tx_pwr $TEST_TREE/rssi"
   ]
  },
  {
   "cell_type": "code",
   "execution_count": 10,
   "metadata": {},
   "outputs": [],
   "source": [
    "!truncate -s 127 /home/pi/tags/.test/tx_pwr"
   ]
  },
  {
   "cell_type": "code",
   "execution_count": 11,
   "metadata": {},
   "outputs": [
    {
     "name": "stdout",
     "output_type": "stream",
     "text": [
      "-rw-rw--w- 1 pi pi 201 Mar 12 11:36 /home/pi/tags/1fbcd99fd29f/tag/.test/rssi\r\n",
      "-rw-rw--w- 1 pi pi 127 Mar 12 11:36 /home/pi/tags/.test/tx_pwr\r\n"
     ]
    }
   ],
   "source": [
    "!ls -al /home/pi/tags/.test/tx_pwr $TEST_TREE/rssi"
   ]
  },
  {
   "cell_type": "markdown",
   "metadata": {},
   "source": [
    "## Adjust Remote Transmit Power"
   ]
  },
  {
   "cell_type": "code",
   "execution_count": 12,
   "metadata": {},
   "outputs": [
    {
     "name": "stdout",
     "output_type": "stream",
     "text": [
      "-rw-rw--w- 1 pi pi 201 Mar 12 11:36 //home/pi/tags/1fbcd99fd29f/tag/.test/rssi\r\n"
     ]
    }
   ],
   "source": [
    "!ls -al /$TEST_TREE/rssi"
   ]
  },
  {
   "cell_type": "code",
   "execution_count": 13,
   "metadata": {},
   "outputs": [],
   "source": [
    "!truncate -s 3 $TEST_TREE/tx_pwr"
   ]
  },
  {
   "cell_type": "code",
   "execution_count": 14,
   "metadata": {},
   "outputs": [
    {
     "name": "stdout",
     "output_type": "stream",
     "text": [
      "-rw-rw--w- 1 pi pi 140 Mar 12 11:36 /home/pi/tags/1fbcd99fd29f/tag/.test/rx_rssi\r\n",
      "-rw-rw--w- 1 pi pi   3 Mar 12 11:36 /home/pi/tags/1fbcd99fd29f/tag/.test/tx_pwr\r\n"
     ]
    }
   ],
   "source": [
    "!ls -al $TEST_TREE/tx_pwr $TEST_TREE/rx_rssi"
   ]
  },
  {
   "cell_type": "code",
   "execution_count": 15,
   "metadata": {},
   "outputs": [],
   "source": [
    "!truncate -s 30 $TEST_TREE/tx_pwr"
   ]
  },
  {
   "cell_type": "code",
   "execution_count": 16,
   "metadata": {},
   "outputs": [
    {
     "name": "stdout",
     "output_type": "stream",
     "text": [
      "-rw-rw--w- 1 pi pi 140 Mar 12 11:36 /home/pi/tags/1fbcd99fd29f/tag/.test/rx_rssi\r\n",
      "-rw-rw--w- 1 pi pi  30 Mar 12 11:36 /home/pi/tags/1fbcd99fd29f/tag/.test/tx_pwr\r\n"
     ]
    }
   ],
   "source": [
    "!ls -al $TEST_TREE/tx_pwr $TEST_TREE/rx_rssi"
   ]
  },
  {
   "cell_type": "code",
   "execution_count": 17,
   "metadata": {},
   "outputs": [],
   "source": [
    "!truncate -s 110 $TEST_TREE/tx_pwr"
   ]
  },
  {
   "cell_type": "code",
   "execution_count": 18,
   "metadata": {},
   "outputs": [
    {
     "name": "stdout",
     "output_type": "stream",
     "text": [
      "-rw-rw--w- 1 pi pi 178 Mar 12 11:36 /home/pi/tags/1fbcd99fd29f/tag/.test/rx_rssi\r\n",
      "-rw-rw--w- 1 pi pi 110 Mar 12 11:36 /home/pi/tags/1fbcd99fd29f/tag/.test/tx_pwr\r\n"
     ]
    }
   ],
   "source": [
    "!ls -al $TEST_TREE/tx_pwr $TEST_TREE/rx_rssi"
   ]
  },
  {
   "cell_type": "code",
   "execution_count": 19,
   "metadata": {},
   "outputs": [],
   "source": [
    "!truncate -s 250 $TEST_TREE/tx_pwr"
   ]
  },
  {
   "cell_type": "code",
   "execution_count": 20,
   "metadata": {},
   "outputs": [
    {
     "name": "stdout",
     "output_type": "stream",
     "text": [
      "-rw-rw--w- 1 pi pi 190 Mar 12 11:36 /home/pi/tags/1fbcd99fd29f/tag/.test/rx_rssi\r\n",
      "-rw-rw--w- 1 pi pi 250 Mar 12 11:36 /home/pi/tags/1fbcd99fd29f/tag/.test/tx_pwr\r\n"
     ]
    }
   ],
   "source": [
    "!ls -al $TEST_TREE/tx_pwr $TEST_TREE/rx_rssi"
   ]
  },
  {
   "cell_type": "code",
   "execution_count": null,
   "metadata": {},
   "outputs": [],
   "source": []
  },
  {
   "cell_type": "code",
   "execution_count": null,
   "metadata": {},
   "outputs": [],
   "source": []
  }
 ],
 "metadata": {
  "kernelspec": {
   "display_name": "Python 2",
   "language": "python",
   "name": "python2"
  },
  "language_info": {
   "codemirror_mode": {
    "name": "ipython",
    "version": 2
   },
   "file_extension": ".py",
   "mimetype": "text/x-python",
   "name": "python",
   "nbconvert_exporter": "python",
   "pygments_lexer": "ipython2",
   "version": "2.7.13"
  }
 },
 "nbformat": 4,
 "nbformat_minor": 2
}
