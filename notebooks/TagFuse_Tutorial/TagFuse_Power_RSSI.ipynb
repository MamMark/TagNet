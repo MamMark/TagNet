{
 "cells": [
  {
   "cell_type": "code",
   "execution_count": 1,
   "metadata": {},
   "outputs": [],
   "source": [
    "import os\n",
    "from binascii import hexlify\n",
    "from time import sleep\n",
    "import datetime"
   ]
  },
  {
   "cell_type": "code",
   "execution_count": 2,
   "metadata": {},
   "outputs": [],
   "source": [
    "import tagcore"
   ]
  },
  {
   "cell_type": "code",
   "execution_count": 3,
   "metadata": {},
   "outputs": [
    {
     "name": "stdout",
     "output_type": "stream",
     "text": [
      "TagNet Driver Version 0.2.1\n"
     ]
    }
   ],
   "source": [
    "import tagnet"
   ]
  },
  {
   "cell_type": "code",
   "execution_count": 4,
   "metadata": {},
   "outputs": [
    {
     "name": "stdout",
     "output_type": "stream",
     "text": [
      "### influxdb host: localhost, port: 8086, user: root, password: root, dbname: test\n",
      "### influxdb failed to respond to ping\n"
     ]
    }
   ],
   "source": [
    "from tagdump import tagdump as td"
   ]
  },
  {
   "cell_type": "code",
   "execution_count": 5,
   "metadata": {},
   "outputs": [],
   "source": [
    "basedir      = '/home/pi/tags'\n",
    "tagdir       = basedir+'/1fbcd99fd29f'\n",
    "dblkdir      = tagdir+'/tag/sd/0/dblk' \n",
    "dblkbyte     = dblkdir+'/byte' \n",
    "dblkresync   = dblkdir+'/.resync'\n",
    "dblklastsync = dblkdir+'/.last_sync'\n",
    "dblkrecnum   = dblkdir+'/.recnum'"
   ]
  },
  {
   "cell_type": "code",
   "execution_count": 6,
   "metadata": {},
   "outputs": [
    {
     "name": "stdout",
     "output_type": "stream",
     "text": [
      "/mnt/neptune/TagNet/notebooks\r\n"
     ]
    }
   ],
   "source": [
    "!pwd"
   ]
  },
  {
   "cell_type": "markdown",
   "metadata": {},
   "source": [
    "# Power and RSSI"
   ]
  },
  {
   "cell_type": "code",
   "execution_count": 7,
   "metadata": {
    "scrolled": true
   },
   "outputs": [
    {
     "name": "stdout",
     "output_type": "stream",
     "text": [
      "/home/pi/tags/.test\r\n",
      "├── [-rw-rw-rw-           6 Dec 31  1969]  echo\r\n",
      "├── [-r--r--r--           0 Dec 31  1969]  ones\r\n",
      "├── [--w--w--w-           0 Dec 31  1969]  sum\r\n",
      "├── [-rw-rw--w-         125 Nov 13 12:22]  tx_pwr\r\n",
      "└── [-r--r--r--           0 Dec 31  1969]  zeros\r\n",
      "\r\n",
      "0 directories, 5 files\r\n"
     ]
    }
   ],
   "source": [
    "!tree -p -s -D /home/pi/tags/.test"
   ]
  },
  {
   "cell_type": "code",
   "execution_count": 8,
   "metadata": {},
   "outputs": [
    {
     "name": "stdout",
     "output_type": "stream",
     "text": [
      "/home/pi/tags/1fbcd99fd29f/tag/.test\r\n",
      "├── [-rw-rw--w-           0 Nov 13 12:22]  drop\r\n",
      "├── [-rw-rw--w-           0 Nov 13 12:22]  echo\r\n",
      "├── [-rw-rw-r--           0 Nov 13 12:22]  ones\r\n",
      "├── [-rw-rw--w-         191 Nov 13 12:22]  rssi\r\n",
      "├── [-rw-rw--w-         165 Nov 13 12:22]  rx_rssi\r\n",
      "├── [-rw-rw-r--           0 Dec 31  1969]  sum\r\n",
      "├── [-rw-rw--w-         250 Nov 13 12:22]  tx_pwr\r\n",
      "└── [-rw-rw-r--           0 Dec 31  1969]  zeros\r\n",
      "\r\n",
      "0 directories, 8 files\r\n"
     ]
    }
   ],
   "source": [
    "!tree -p -s -D /home/pi/tags/1fbcd99fd29f/tag/.test"
   ]
  },
  {
   "cell_type": "markdown",
   "metadata": {},
   "source": [
    "## Adjust Local Transmit Power"
   ]
  },
  {
   "cell_type": "code",
   "execution_count": 9,
   "metadata": {},
   "outputs": [
    {
     "name": "stdout",
     "output_type": "stream",
     "text": [
      "-rw-rw--w- 1 pi pi 250 Nov 13 12:22 /home/pi/tags/1fbcd99fd29f/tag/.test/tx_pwr\r\n",
      "-rw-rw--w- 1 pi pi 125 Nov 13 12:22 /home/pi/tags/.test/tx_pwr\r\n"
     ]
    }
   ],
   "source": [
    "!ls -al /home/pi/tags/.test/tx_pwr /home/pi/tags/1fbcd99fd29f/tag/.test/tx_pwr"
   ]
  },
  {
   "cell_type": "code",
   "execution_count": 10,
   "metadata": {},
   "outputs": [],
   "source": [
    "!truncate -s 2 /home/pi/tags/.test/tx_pwr"
   ]
  },
  {
   "cell_type": "code",
   "execution_count": 11,
   "metadata": {},
   "outputs": [
    {
     "name": "stdout",
     "output_type": "stream",
     "text": [
      "-rw-rw--w- 1 pi pi 191 Nov 13 12:22 /home/pi/tags/1fbcd99fd29f/tag/.test/rssi\r\n",
      "-rw-rw--w- 1 pi pi   2 Nov 13 12:22 /home/pi/tags/.test/tx_pwr\r\n"
     ]
    }
   ],
   "source": [
    "!ls -al /home/pi/tags/.test/tx_pwr /home/pi/tags/1fbcd99fd29f/tag/.test/rssi"
   ]
  },
  {
   "cell_type": "code",
   "execution_count": 12,
   "metadata": {},
   "outputs": [],
   "source": [
    "!truncate -s 30 /home/pi/tags/.test/tx_pwr"
   ]
  },
  {
   "cell_type": "code",
   "execution_count": 13,
   "metadata": {},
   "outputs": [
    {
     "name": "stdout",
     "output_type": "stream",
     "text": [
      "-rw-rw--w- 1 pi pi 191 Nov 13 12:22 /home/pi/tags/1fbcd99fd29f/tag/.test/rssi\r\n",
      "-rw-rw--w- 1 pi pi  30 Nov 13 12:22 /home/pi/tags/.test/tx_pwr\r\n"
     ]
    }
   ],
   "source": [
    "!ls -al /home/pi/tags/.test/tx_pwr /home/pi/tags/1fbcd99fd29f/tag/.test/rssi"
   ]
  },
  {
   "cell_type": "code",
   "execution_count": 14,
   "metadata": {},
   "outputs": [],
   "source": [
    "!truncate -s 125 /home/pi/tags/.test/tx_pwr"
   ]
  },
  {
   "cell_type": "code",
   "execution_count": 15,
   "metadata": {},
   "outputs": [
    {
     "name": "stdout",
     "output_type": "stream",
     "text": [
      "-rw-rw--w- 1 pi pi 192 Nov 13 12:22 /home/pi/tags/1fbcd99fd29f/tag/.test/rssi\r\n",
      "-rw-rw--w- 1 pi pi 125 Nov 13 12:22 /home/pi/tags/.test/tx_pwr\r\n"
     ]
    }
   ],
   "source": [
    "!ls -al /home/pi/tags/.test/tx_pwr /home/pi/tags/1fbcd99fd29f/tag/.test/rssi"
   ]
  },
  {
   "cell_type": "markdown",
   "metadata": {},
   "source": [
    "## Adjust Remote Transmit Power"
   ]
  },
  {
   "cell_type": "code",
   "execution_count": 16,
   "metadata": {},
   "outputs": [
    {
     "name": "stdout",
     "output_type": "stream",
     "text": [
      "-rw-rw--w- 1 pi pi 192 Nov 13 12:22 /home/pi/tags/1fbcd99fd29f/tag/.test/rssi\r\n"
     ]
    }
   ],
   "source": [
    "!ls -al /home/pi/tags/1fbcd99fd29f/tag/.test/rssi"
   ]
  },
  {
   "cell_type": "code",
   "execution_count": 17,
   "metadata": {},
   "outputs": [],
   "source": [
    "!truncate -s 3 /home/pi/tags/1fbcd99fd29f/tag/.test/tx_pwr"
   ]
  },
  {
   "cell_type": "code",
   "execution_count": 18,
   "metadata": {},
   "outputs": [
    {
     "name": "stdout",
     "output_type": "stream",
     "text": [
      "-rw-rw--w- 1 pi pi 121 Nov 13 12:22 /home/pi/tags/1fbcd99fd29f/tag/.test/rx_rssi\r\n",
      "-rw-rw--w- 1 pi pi   3 Nov 13 12:22 /home/pi/tags/1fbcd99fd29f/tag/.test/tx_pwr\r\n"
     ]
    }
   ],
   "source": [
    "!ls -al /home/pi/tags/1fbcd99fd29f/tag/.test/tx_pwr /home/pi/tags/1fbcd99fd29f/tag/.test/rx_rssi"
   ]
  },
  {
   "cell_type": "code",
   "execution_count": 19,
   "metadata": {},
   "outputs": [],
   "source": [
    "!truncate -s 30 /home/pi/tags/1fbcd99fd29f/tag/.test/tx_pwr"
   ]
  },
  {
   "cell_type": "code",
   "execution_count": 20,
   "metadata": {},
   "outputs": [
    {
     "name": "stdout",
     "output_type": "stream",
     "text": [
      "-rw-rw--w- 1 pi pi 149 Nov 13 12:22 /home/pi/tags/1fbcd99fd29f/tag/.test/rx_rssi\r\n",
      "-rw-rw--w- 1 pi pi  30 Nov 13 12:22 /home/pi/tags/1fbcd99fd29f/tag/.test/tx_pwr\r\n"
     ]
    }
   ],
   "source": [
    "!ls -al /home/pi/tags/1fbcd99fd29f/tag/.test/tx_pwr /home/pi/tags/1fbcd99fd29f/tag/.test/rx_rssi"
   ]
  },
  {
   "cell_type": "code",
   "execution_count": 21,
   "metadata": {},
   "outputs": [],
   "source": [
    "!truncate -s 110 /home/pi/tags/1fbcd99fd29f/tag/.test/tx_pwr"
   ]
  },
  {
   "cell_type": "code",
   "execution_count": 22,
   "metadata": {},
   "outputs": [
    {
     "name": "stdout",
     "output_type": "stream",
     "text": [
      "-rw-rw--w- 1 pi pi 151 Nov 13 12:22 /home/pi/tags/1fbcd99fd29f/tag/.test/rx_rssi\r\n",
      "-rw-rw--w- 1 pi pi 110 Nov 13 12:22 /home/pi/tags/1fbcd99fd29f/tag/.test/tx_pwr\r\n"
     ]
    }
   ],
   "source": [
    "!ls -al /home/pi/tags/1fbcd99fd29f/tag/.test/tx_pwr /home/pi/tags/1fbcd99fd29f/tag/.test/rx_rssi"
   ]
  },
  {
   "cell_type": "code",
   "execution_count": 23,
   "metadata": {},
   "outputs": [],
   "source": [
    "!truncate -s 250 /home/pi/tags/1fbcd99fd29f/tag/.test/tx_pwr"
   ]
  },
  {
   "cell_type": "code",
   "execution_count": 24,
   "metadata": {},
   "outputs": [
    {
     "name": "stdout",
     "output_type": "stream",
     "text": [
      "-rw-rw--w- 1 pi pi 160 Nov 13 12:22 /home/pi/tags/1fbcd99fd29f/tag/.test/rx_rssi\r\n",
      "-rw-rw--w- 1 pi pi 250 Nov 13 12:22 /home/pi/tags/1fbcd99fd29f/tag/.test/tx_pwr\r\n"
     ]
    }
   ],
   "source": [
    "!ls -al /home/pi/tags/1fbcd99fd29f/tag/.test/tx_pwr /home/pi/tags/1fbcd99fd29f/tag/.test/rx_rssi"
   ]
  }
 ],
 "metadata": {
  "kernelspec": {
   "display_name": "Python 2",
   "language": "python",
   "name": "python2"
  },
  "language_info": {
   "codemirror_mode": {
    "name": "ipython",
    "version": 2
   },
   "file_extension": ".py",
   "mimetype": "text/x-python",
   "name": "python",
   "nbconvert_exporter": "python",
   "pygments_lexer": "ipython2",
   "version": "2.7.13"
  }
 },
 "nbformat": 4,
 "nbformat_minor": 2
}
