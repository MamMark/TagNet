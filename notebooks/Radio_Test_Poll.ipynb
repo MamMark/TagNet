{
 "cells": [
  {
   "cell_type": "markdown",
   "metadata": {},
   "source": [
    "# Direct Radio Poll Test"
   ]
  },
  {
   "cell_type": "code",
   "execution_count": null,
   "metadata": {},
   "outputs": [],
   "source": [
    "%autosave 0"
   ]
  },
  {
   "cell_type": "code",
   "execution_count": null,
   "metadata": {},
   "outputs": [],
   "source": [
    "from __future__ import print_function\n",
    "from builtins import *                  # python3 types\n",
    "from time import sleep\n",
    "import struct as pystruct\n",
    "from binascii import hexlify\n",
    "import sys\n",
    "import os.path\n",
    "import datetime"
   ]
  },
  {
   "cell_type": "code",
   "execution_count": null,
   "metadata": {},
   "outputs": [],
   "source": [
    "sys.path.insert(0,\"../tagnet\")\n",
    "from tagnet.tagmessages import TagMessage, TagPoll, TagGet, TagPut, TagDelete, TagHead\n",
    "from tagnet.tagnames import TagName\n",
    "from tagnet.tagtlv import TagTlv, TagTlvList, tlv_types"
   ]
  },
  {
   "cell_type": "code",
   "execution_count": null,
   "metadata": {},
   "outputs": [],
   "source": [
    "sys.path.insert(0,\"../tagfuse\")\n",
    "sys.path.insert(0,\"../si446x/\")\n",
    "from tagfuse.radioutils import payload2values, radio_receive_msg, radio_send_msg\n",
    "from tagfuse.radioutils import radio_start, radio_config, radio_show_config"
   ]
  },
  {
   "cell_type": "code",
   "execution_count": null,
   "metadata": {},
   "outputs": [],
   "source": [
    "sys.path"
   ]
  },
  {
   "cell_type": "code",
   "execution_count": null,
   "metadata": {},
   "outputs": [],
   "source": [
    "from tagfuse.tagfuseargs import __version__\n",
    "'tagfuse', __version__"
   ]
  },
  {
   "cell_type": "code",
   "execution_count": null,
   "metadata": {},
   "outputs": [],
   "source": [
    "print('Test Start Time: {}'.format(datetime.datetime.now()))\n",
    "#print('Si446x Radio Device Driver Version: {}'.format(si446x_device_version()))"
   ]
  },
  {
   "cell_type": "markdown",
   "metadata": {},
   "source": [
    "##  Start up Radio"
   ]
  },
  {
   "cell_type": "code",
   "execution_count": null,
   "metadata": {
    "scrolled": true
   },
   "outputs": [],
   "source": [
    "radio = radio_start()"
   ]
  },
  {
   "cell_type": "code",
   "execution_count": null,
   "metadata": {
    "scrolled": true
   },
   "outputs": [],
   "source": [
    "radio_show_config(radio.dump_radio())"
   ]
  },
  {
   "cell_type": "markdown",
   "metadata": {},
   "source": [
    "### Set Defaults"
   ]
  },
  {
   "cell_type": "code",
   "execution_count": null,
   "metadata": {},
   "outputs": [],
   "source": [
    "# default paramters\n",
    "MAX_WAIT            = 1\n",
    "MAX_RECV            = 255\n",
    "MAX_PAYLOAD         = 254\n",
    "MAX_RETRIES         = 10\n",
    "RADIO_POWER         = 10\n",
    "SHORT_DELAY         = 1"
   ]
  },
  {
   "cell_type": "markdown",
   "metadata": {},
   "source": [
    "### Poll for Tags"
   ]
  },
  {
   "cell_type": "code",
   "execution_count": null,
   "metadata": {},
   "outputs": [],
   "source": [
    "STOP\n"
   ]
  },
  {
   "cell_type": "code",
   "execution_count": null,
   "metadata": {},
   "outputs": [],
   "source": [
    "def send_poll():\n",
    "    req_obj = TagPoll() # sends time, slot_time, slot_count, node_id, node_name\n",
    "    req_msg = req_obj.build()\n",
    "    return radio_send_msg(radio, req_msg, RADIO_POWER)"
   ]
  },
  {
   "cell_type": "code",
   "execution_count": null,
   "metadata": {},
   "outputs": [],
   "source": [
    "send_poll()"
   ]
  },
  {
   "cell_type": "code",
   "execution_count": null,
   "metadata": {},
   "outputs": [],
   "source": [
    "from datetime import datetime\n",
    "from uuid import getnode as get_mac\n",
    "import platform\n",
    "slot_time=100\n",
    "slot_count=10\n",
    "pl = TagTlvList([\n",
    "    #[(tlv_types.TIME,datetime.now()),])\n",
    "                         (tlv_types.INTEGER,slot_time),\n",
    "                         (tlv_types.INTEGER,slot_count),\n",
    "                         (tlv_types.NODE_ID, get_mac()),\n",
    "                         (tlv_types.NODE_NAME, platform.node())])\n",
    "type(pl), pl"
   ]
  },
  {
   "cell_type": "code",
   "execution_count": null,
   "metadata": {},
   "outputs": [],
   "source": [
    "TagTlv(tlv_types.TIME,0)"
   ]
  },
  {
   "cell_type": "code",
   "execution_count": null,
   "metadata": {},
   "outputs": [],
   "source": [
    "def poll_for_tags():\n",
    "    req_obj = TagPoll() # sends time, slot_time, slot_count, node_id, node_name\n",
    "    req_msg = req_obj.build()\n",
    "    sstatus = radio_send_msg(radio, req_msg, RADIO_POWER)\n",
    "    rsp_msg, rssi, rstatus = radio_receive_msg(radio, MAX_RECV, 3)\n",
    "    if rsp_msg:\n",
    "        #        print(hexlify(rsp_msg))\n",
    "        rsp_obj = TagMessage(rsp_msg)\n",
    "        #        print(rsp_obj.header.options.param.error_code)\n",
    "        #        print(rsp_obj.payload)\n",
    "        # print(rsp_obj.header, rsp_obj.name)\n",
    "        if rsp_obj.payload:\n",
    "            return rsp_obj.payload, rssi, sstatus, rstatus\n",
    "        return none, rssi, sstatus, rstatus\n",
    "    return None, None, sstatus, rstatus"
   ]
  },
  {
   "cell_type": "code",
   "execution_count": null,
   "metadata": {
    "scrolled": true
   },
   "outputs": [],
   "source": [
    "payload, rssi, sstatus, rstatus = poll_for_tags()\n",
    "payload, rssi"
   ]
  },
  {
   "cell_type": "code",
   "execution_count": null,
   "metadata": {
    "scrolled": true
   },
   "outputs": [],
   "source": [
    "for i in range(10000):\n",
    "    payload, rssi, sstatus, rstatus = poll_for_tags()\n",
    "    print(payload, rssi)"
   ]
  },
  {
   "cell_type": "code",
   "execution_count": null,
   "metadata": {},
   "outputs": [],
   "source": [
    "import platform\n",
    "platform.node()"
   ]
  },
  {
   "cell_type": "code",
   "execution_count": null,
   "metadata": {},
   "outputs": [],
   "source": [
    "TagTlv(tlv_types)"
   ]
  },
  {
   "cell_type": "code",
   "execution_count": null,
   "metadata": {},
   "outputs": [],
   "source": [
    "rssi, payload"
   ]
  },
  {
   "cell_type": "code",
   "execution_count": null,
   "metadata": {
    "scrolled": true
   },
   "outputs": [],
   "source": [
    "'send', sstatus, 'receive', rstatus"
   ]
  },
  {
   "cell_type": "code",
   "execution_count": null,
   "metadata": {
    "scrolled": true
   },
   "outputs": [],
   "source": [
    "sstatus = radio_send_msg(radio, req_msg, RADIO_POWER)"
   ]
  },
  {
   "cell_type": "code",
   "execution_count": null,
   "metadata": {
    "scrolled": true
   },
   "outputs": [],
   "source": [
    "rsp_msg, rssi, rstatus = radio_receive_msg(radio, MAX_RECV, MAX_WAIT)\n",
    "rsp_msg, rssi"
   ]
  },
  {
   "cell_type": "code",
   "execution_count": null,
   "metadata": {
    "scrolled": false
   },
   "outputs": [],
   "source": [
    "radio.trace.display(radio.trace.filter(count=-10))"
   ]
  },
  {
   "cell_type": "markdown",
   "metadata": {},
   "source": [
    "## Get Tag's RSSI value"
   ]
  },
  {
   "cell_type": "code",
   "execution_count": null,
   "metadata": {},
   "outputs": [],
   "source": [
    "STOP"
   ]
  },
  {
   "cell_type": "code",
   "execution_count": null,
   "metadata": {},
   "outputs": [],
   "source": [
    "def tag_get_rssi():\n",
    "    name = TagName([TagTlv(tlv_types.NODE_ID, -1),\n",
    "                            TagTlv('tag'),\n",
    "                            TagTlv('.test'),\n",
    "                            TagTlv('rssi'),\n",
    "                             ])\n",
    "    req_obj = TagGet(name)\n",
    "    req_msg = req_obj.build()\n",
    "    sstatus = radio_send_msg(radio, req_msg, RADIO_POWER)\n",
    "    rsp_msg, rssi, rstatus = radio_receive_msg(radio, MAX_RECV, 3)\n",
    "    if rsp_msg:\n",
    "        #        print(hexlify(rsp_msg))\n",
    "        rsp_obj = TagMessage(rsp_msg)\n",
    "        #        print(rsp_obj.header.options.param.error_code)\n",
    "        #        print(rsp_obj.payload)\n",
    "        # print(rsp_obj.header, rsp_obj.name)\n",
    "        if rsp_obj.payload:\n",
    "            return rsp_obj.payload[0].value(), rssi, sstatus, rstatus\n",
    "        return none, rssi, sstatus, rstatus\n",
    "    return None, None, sstatus, rstatus"
   ]
  },
  {
   "cell_type": "code",
   "execution_count": null,
   "metadata": {
    "scrolled": false
   },
   "outputs": [],
   "source": [
    "tag_get_rssi()"
   ]
  },
  {
   "cell_type": "code",
   "execution_count": null,
   "metadata": {
    "scrolled": true
   },
   "outputs": [],
   "source": [
    "RADIO_POWER=2\n",
    "for z in range(100):\n",
    "    for RADIO_POWER in range(1,122,10):\n",
    "        for i in range(2):\n",
    "            remote_rssi, rssi, _, _ = tag_get_rssi()\n",
    "            if rssi == -1:\n",
    "                break\n",
    "            print('{:>4}.{:<4} power: {:3},   rssi l/r:  {:4>}/{:<4}'.format(z,i, RADIO_POWER, rssi, remote_rssi))"
   ]
  },
  {
   "cell_type": "markdown",
   "metadata": {},
   "source": [
    "## Get Tag's Transmit Power value"
   ]
  },
  {
   "cell_type": "code",
   "execution_count": null,
   "metadata": {},
   "outputs": [],
   "source": [
    "STOP"
   ]
  },
  {
   "cell_type": "code",
   "execution_count": null,
   "metadata": {},
   "outputs": [],
   "source": [
    "def tag_get_power():\n",
    "    name = TagName([TagTlv(tlv_types.NODE_ID, -1),\n",
    "                            TagTlv('tag'),\n",
    "                            TagTlv('.test'),\n",
    "                            TagTlv('tx_pwr'),\n",
    "                             ])\n",
    "    req_obj = TagGet(name)\n",
    "    req_msg = req_obj.build()\n",
    "    sstatus = radio_send_msg(radio, req_msg, RADIO_POWER)\n",
    "    rsp_msg, rssi, rstatus = radio_receive_msg(radio, MAX_RECV, 3)\n",
    "    if rsp_msg:\n",
    "        #        print(hexlify(rsp_msg))\n",
    "        rsp_obj = TagMessage(rsp_msg)\n",
    "        #        print(rsp_obj.header.options.param.error_code)\n",
    "        #        print(rsp_obj.payload)\n",
    "        print(rsp_obj.header, rsp_obj.name)\n",
    "        if rsp_obj.payload:\n",
    "            print(rsp_obj.payload)\n",
    "        return rsp_obj.payload[0].value(), rssi, sstatus, rstatus\n",
    "    return None, None, sstatus, rstatus"
   ]
  },
  {
   "cell_type": "code",
   "execution_count": null,
   "metadata": {
    "scrolled": true
   },
   "outputs": [],
   "source": [
    "tag_get_power()"
   ]
  },
  {
   "cell_type": "code",
   "execution_count": null,
   "metadata": {
    "scrolled": true
   },
   "outputs": [],
   "source": [
    "radio.spi.trace.display(radio.spi.trace.filter(count=-100))"
   ]
  },
  {
   "cell_type": "markdown",
   "metadata": {},
   "source": [
    "## Set Tag's Transmit Power value"
   ]
  },
  {
   "cell_type": "code",
   "execution_count": null,
   "metadata": {},
   "outputs": [],
   "source": [
    "STOP"
   ]
  },
  {
   "cell_type": "code",
   "execution_count": null,
   "metadata": {},
   "outputs": [],
   "source": [
    "def tag_set_power(power):\n",
    "    name = TagName([TagTlv(tlv_types.NODE_ID, -1),\n",
    "                            TagTlv('tag'),\n",
    "                            TagTlv('.test'),\n",
    "                            TagTlv('tx_pwr'),\n",
    "                             ])\n",
    "    req_obj = TagPut(name, pl=TagTlvList([TagTlv(tlv_types.INTEGER, power)]))\n",
    "    req_msg = req_obj.build()\n",
    "    sstatus = radio_send_msg(radio, req_msg, RADIO_POWER)\n",
    "    rsp_msg, rssi, rstatus = radio_receive_msg(radio, MAX_RECV, 3)\n",
    "    if rsp_msg:\n",
    "        #        print(hexlify(rsp_msg))\n",
    "        rsp_obj = TagMessage(rsp_msg)\n",
    "        #        print(rsp_obj.header.options.param.error_code)\n",
    "        #        print(rsp_obj.payload)\n",
    "        #print(rsp_obj.header, rsp_obj.name)\n",
    "        #if rsp_obj.payload:\n",
    "        #    print(rsp_obj.payload)\n",
    "        return rsp_obj.payload, rssi, sstatus, rstatus\n",
    "    return None, None, sstatus, rstatus"
   ]
  },
  {
   "cell_type": "code",
   "execution_count": null,
   "metadata": {
    "scrolled": true
   },
   "outputs": [],
   "source": [
    "for z in range(10000):\n",
    "    for TAG_RADIO_POWER in range(1,128,10):\n",
    "        for i in range(6):\n",
    "            _, rssi, _, _ = tag_set_power(TAG_RADIO_POWER)\n",
    "            tag_rssi, rssi, _, _ = tag_get_rssi()\n",
    "            if rssi == -1:\n",
    "                break\n",
    "            print('{:>4}.{:<4} power: {:3},   rssi l/r:  {:4>}/{:<4}'.format(z,i, TAG_RADIO_POWER, rssi, tag_rssi))"
   ]
  },
  {
   "cell_type": "code",
   "execution_count": null,
   "metadata": {},
   "outputs": [],
   "source": [
    "TAG_RADIO_POWER=255"
   ]
  },
  {
   "cell_type": "code",
   "execution_count": null,
   "metadata": {
    "scrolled": true
   },
   "outputs": [],
   "source": [
    "tag_set_power(TAG_RADIO_POWER)"
   ]
  },
  {
   "cell_type": "code",
   "execution_count": null,
   "metadata": {
    "scrolled": true
   },
   "outputs": [],
   "source": [
    "radio.spi.trace.display(radio.spi.trace.filter(count=-100))"
   ]
  },
  {
   "cell_type": "markdown",
   "metadata": {},
   "source": [
    "### Write Zeros"
   ]
  },
  {
   "cell_type": "code",
   "execution_count": null,
   "metadata": {},
   "outputs": [],
   "source": [
    "STOP"
   ]
  },
  {
   "cell_type": "code",
   "execution_count": null,
   "metadata": {},
   "outputs": [],
   "source": [
    "#<node_id>   \"tag\"  \"test\"   \"zero\"   \"byte\"\n",
    "def read_test_bytes(testfile, pos, num):\n",
    "    zero_byte_name = TagName([TagTlv(tlv_types.NODE_ID, -1),\n",
    "                            TagTlv('tag'),\n",
    "                            TagTlv('.test'),\n",
    "                            TagTlv(testfile),\n",
    "                            TagTlv('byte'),\n",
    "                            TagTlv(tlv_types.OFFSET, pos),\n",
    "                            TagTlv(tlv_types.SIZE, num),\n",
    "                             ])\n",
    "    get_zero_byte = TagGet(zero_byte_name)\n",
    "#    print(get_gps_xyz.name)\n",
    "    req_msg = get_zero_byte.build()\n",
    "    radio_send_msg(radio, req_msg, RADIO_POWER);\n",
    "    rsp_msg, rssi, status = radio_receive_msg(radio, MAX_RECV, MAX_WAIT)\n",
    "    if rsp_msg:\n",
    "#        print(hexlify(rsp_msg))\n",
    "        rsp_obj = TagMessage(rsp_msg)\n",
    "#        print(rsp_obj.header.options.param.error_code)\n",
    "#        print(rsp_obj.payload)\n",
    "        if rsp_obj.payload:\n",
    "            error, offset, amt, block = payload2values(rsp_obj.payload,\n",
    "                                  [tlv_types.ERROR,\n",
    "                                   tlv_types.OFFSET,\n",
    "                                   tlv_types.SIZE,\n",
    "                                   tlv_types.BLOCK,\n",
    "                                  ])\n",
    "            seta = set(block)\n",
    "            # print(seta)\n",
    "            if (len(seta) > 1):\n",
    "                print('check error', seta, amt, hexlify(block))\n",
    "                amt = 0\n",
    "            return error, offset, amt, block\n",
    "        else:\n",
    "            print(\"{}\".format(rsp_obj.header.options.param.error_code))\n",
    "#    else:\n",
    "#        print('TIMEOUT')\n",
    "    return None"
   ]
  },
  {
   "cell_type": "code",
   "execution_count": null,
   "metadata": {
    "scrolled": true
   },
   "outputs": [],
   "source": [
    "start = datetime.datetime.now()\n",
    "for x in range(1,1000):\n",
    "    for y in range(1,10):\n",
    "        sleep(SHORT_DELAY)\n",
    "        return_values = read_test_bytes('zero', 1, 1)\n",
    "        if return_values:\n",
    "            error, offset, amt, block = return_values\n",
    "            # print('error: {}'.format(error))\n",
    "            if error and error is not tlv_errors.SUCCESS:\n",
    "                print(\"\\r{} {}\".format(datetime.now() - start, error), end=\"\")\n",
    "                continue\n",
    "            print('got bytes, len: {}, count: {}, offset: {}'.format(len(block),\n",
    "                                                                    amt,\n",
    "                                                                    offset))\n",
    "        else:\n",
    "            print('timeout')\n",
    "            \n",
    "print(\"\\ntime:{}\".format(datetime.now() - start))"
   ]
  },
  {
   "cell_type": "markdown",
   "metadata": {},
   "source": [
    "## Listen for packets"
   ]
  },
  {
   "cell_type": "code",
   "execution_count": null,
   "metadata": {
    "scrolled": true
   },
   "outputs": [],
   "source": [
    "for i in range(200000):\n",
    "    rsp_msg, rssi, status = radio_receive_msg(radio, MAX_RECV, 3000)\n",
    "    if rsp_msg:\n",
    "        print(datetime.datetime.now(), rssi, len(rsp_msg), hexlify(rsp_msg))\n",
    "        #rsp_obj = TagMessage(rsp_msg)\n",
    "        #        print(rsp_obj.header.options.param.error_code)\n",
    "        #        print(rsp_obj.payload)\n",
    "        #if rsp_obj.payload:\n",
    "        #    print(rsp_obj.header, rsp_obj.name, rsp_obj.payload)"
   ]
  },
  {
   "cell_type": "markdown",
   "metadata": {},
   "source": [
    "## Get Chip Status"
   ]
  },
  {
   "cell_type": "code",
   "execution_count": null,
   "metadata": {},
   "outputs": [],
   "source": [
    "STOP"
   ]
  },
  {
   "cell_type": "code",
   "execution_count": null,
   "metadata": {},
   "outputs": [],
   "source": [
    "print(radio.get_chip_status())"
   ]
  },
  {
   "cell_type": "markdown",
   "metadata": {},
   "source": [
    "## Interactive Group Properties"
   ]
  },
  {
   "cell_type": "code",
   "execution_count": null,
   "metadata": {},
   "outputs": [],
   "source": [
    "STOP"
   ]
  },
  {
   "cell_type": "code",
   "execution_count": null,
   "metadata": {
    "scrolled": true
   },
   "outputs": [],
   "source": [
    "interact(si446x_device_group_fetch_and_decode, group=radio_config_group_ids.encoding)"
   ]
  },
  {
   "cell_type": "markdown",
   "metadata": {},
   "source": [
    "## Interactive  Command Status Responses"
   ]
  },
  {
   "cell_type": "code",
   "execution_count": null,
   "metadata": {},
   "outputs": [],
   "source": [
    "interact(si446x_device_command_fetch_and_decode, cmd=radio_status_cmd_ids.encoding)"
   ]
  },
  {
   "cell_type": "code",
   "execution_count": null,
   "metadata": {},
   "outputs": [],
   "source": [
    "from datetime import datetime\n",
    "datetime.now()"
   ]
  },
  {
   "cell_type": "code",
   "execution_count": null,
   "metadata": {},
   "outputs": [],
   "source": []
  }
 ],
 "metadata": {
  "kernelspec": {
   "display_name": "Python 2",
   "language": "python",
   "name": "python2"
  },
  "language_info": {
   "codemirror_mode": {
    "name": "ipython",
    "version": 2
   },
   "file_extension": ".py",
   "mimetype": "text/x-python",
   "name": "python",
   "nbconvert_exporter": "python",
   "pygments_lexer": "ipython2",
   "version": "2.7.13"
  }
 },
 "nbformat": 4,
 "nbformat_minor": 2
}
