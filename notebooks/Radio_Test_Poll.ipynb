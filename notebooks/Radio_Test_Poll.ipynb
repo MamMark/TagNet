{
 "cells": [
  {
   "cell_type": "markdown",
   "metadata": {},
   "source": [
    "# Direct Radio Poll Test"
   ]
  },
  {
   "cell_type": "code",
   "execution_count": null,
   "metadata": {},
   "outputs": [],
   "source": [
    "%autosave 0"
   ]
  },
  {
   "cell_type": "code",
   "execution_count": null,
   "metadata": {},
   "outputs": [],
   "source": [
    "from __future__ import print_function\n",
    "from builtins import *                  # python3 types\n",
    "from time import sleep\n",
    "import struct as pystruct\n",
    "from binascii import hexlify\n",
    "import sys\n",
    "import os.path\n",
    "import datetime"
   ]
  },
  {
   "cell_type": "code",
   "execution_count": null,
   "metadata": {},
   "outputs": [],
   "source": [
    "sys.path.insert(0,\"../tagnet\")\n",
    "from tagnet.tagmessages import TagMessage, TagPoll, TagGet, TagPut, TagDelete, TagHead\n",
    "from tagnet.tagnames import TagName\n",
    "from tagnet.tagtlv import TagTlv, TagTlvList, tlv_types"
   ]
  },
  {
   "cell_type": "code",
   "execution_count": null,
   "metadata": {},
   "outputs": [],
   "source": [
    "sys.path.insert(0,\"../tagfuse\")\n",
    "sys.path.insert(0,\"../si446x/\")\n",
    "from tagfuse.radioutils import payload2values, radio_receive_msg, radio_send_msg\n",
    "from tagfuse.radioutils import radio_start, radio_config, radio_show_config, radio_poll\n",
    "from tagfuse.radioutils import radio_get_rtctime, radio_set_rtctime"
   ]
  },
  {
   "cell_type": "code",
   "execution_count": null,
   "metadata": {},
   "outputs": [],
   "source": [
    "from tagfuse.tagfuseargs import process_cmd_args, get_cmd_args\n",
    "import tagfuse.tagfuseargs\n",
    "tagfuse.tagfuseargs.global_args\n",
    "tagfuse.tagfuseargs.global_args=None\n",
    "#sys.argv = ['tagfuse.py', '~/tags', '--disable_sparse']\n",
    "sys.argv = ['tagfuse.py', '/home/pi/tag_store']\n",
    "process_cmd_args()\n",
    "get_cmd_args()\n",
    "from tagfuse.TagFuseTree import TagFuseTagTree"
   ]
  },
  {
   "cell_type": "code",
   "execution_count": null,
   "metadata": {},
   "outputs": [],
   "source": [
    "sys.path"
   ]
  },
  {
   "cell_type": "code",
   "execution_count": null,
   "metadata": {},
   "outputs": [],
   "source": [
    "from tagfuse.tagfuseargs import __version__\n",
    "'tagfuse', __version__"
   ]
  },
  {
   "cell_type": "code",
   "execution_count": null,
   "metadata": {},
   "outputs": [],
   "source": [
    "print('Test Start Time: {}'.format(datetime.datetime.now()))\n",
    "#print('Si446x Radio Device Driver Version: {}'.format(si446x_device_version()))"
   ]
  },
  {
   "cell_type": "markdown",
   "metadata": {},
   "source": [
    "##  Start up Radio"
   ]
  },
  {
   "cell_type": "code",
   "execution_count": null,
   "metadata": {
    "scrolled": true
   },
   "outputs": [],
   "source": [
    "#radio = radio_start()\n",
    "from si446x import Si446xRadio\n",
    "from si446x import get_config_wds, get_name_wds, wds_default_config\n",
    "radio=Si446xRadio(0)\n",
    "if (radio == None):\n",
    "    raise RuntimeError('radio_start: could not instantiate radio')\n",
    "radio.unshutdown()\n",
    "wds_default_config(0) # force alternate default config\n",
    "radio.write_config()\n",
    "radio.config_frr()"
   ]
  },
  {
   "cell_type": "code",
   "execution_count": null,
   "metadata": {},
   "outputs": [],
   "source": [
    "get_name_wds()"
   ]
  },
  {
   "cell_type": "code",
   "execution_count": null,
   "metadata": {
    "scrolled": true
   },
   "outputs": [],
   "source": [
    "radio_show_config(radio.dump_radio())"
   ]
  },
  {
   "cell_type": "markdown",
   "metadata": {},
   "source": [
    "### Set Defaults"
   ]
  },
  {
   "cell_type": "code",
   "execution_count": null,
   "metadata": {},
   "outputs": [],
   "source": [
    "# default paramters\n",
    "MAX_WAIT            = 1\n",
    "MAX_RECV            = 2\n",
    "MAX_PAYLOAD         = 254\n",
    "MAX_RETRIES         = 3\n",
    "RADIO_POWER         = 20\n",
    "SHORT_DELAY         = 1"
   ]
  },
  {
   "cell_type": "markdown",
   "metadata": {},
   "source": [
    "### Poll for Tags"
   ]
  },
  {
   "cell_type": "code",
   "execution_count": null,
   "metadata": {},
   "outputs": [],
   "source": [
    "STOP\n"
   ]
  },
  {
   "cell_type": "code",
   "execution_count": null,
   "metadata": {
    "scrolled": true
   },
   "outputs": [],
   "source": [
    "radio_poll(radio)"
   ]
  },
  {
   "cell_type": "code",
   "execution_count": null,
   "metadata": {
    "scrolled": false
   },
   "outputs": [],
   "source": [
    "errors = 0\n",
    "for i in range(20):\n",
    "    poll_list = radio_poll(radio)\n",
    "    if not poll_list:\n",
    "        errors += 1\n",
    "    #print(payload, rssi)\n",
    "    if poll_list and (i % 2) == 0:\n",
    "        for k,v in poll_list.iteritems():\n",
    "            print(i, errors, k, v, '    ', end='\\r')\n",
    "print('errors', errors)"
   ]
  },
  {
   "cell_type": "code",
   "execution_count": null,
   "metadata": {},
   "outputs": [],
   "source": [
    "import platform\n",
    "platform.node()"
   ]
  },
  {
   "cell_type": "code",
   "execution_count": null,
   "metadata": {},
   "outputs": [],
   "source": [
    "TagTlv(tlv_types)"
   ]
  },
  {
   "cell_type": "code",
   "execution_count": null,
   "metadata": {},
   "outputs": [],
   "source": [
    "rssi, payload"
   ]
  },
  {
   "cell_type": "code",
   "execution_count": null,
   "metadata": {
    "scrolled": true
   },
   "outputs": [],
   "source": [
    "'send', sstatus, 'receive', rstatus"
   ]
  },
  {
   "cell_type": "code",
   "execution_count": null,
   "metadata": {
    "scrolled": false
   },
   "outputs": [],
   "source": [
    "radio.trace.display(radio.trace.filter(count=-10))"
   ]
  },
  {
   "cell_type": "markdown",
   "metadata": {},
   "source": [
    "## Tag UTC Time"
   ]
  },
  {
   "cell_type": "code",
   "execution_count": null,
   "metadata": {},
   "outputs": [],
   "source": [
    "STOP"
   ]
  },
  {
   "cell_type": "code",
   "execution_count": null,
   "metadata": {
    "scrolled": false
   },
   "outputs": [],
   "source": [
    "params = radio_get_rtctime(radio)\n",
    "params[0]"
   ]
  },
  {
   "cell_type": "code",
   "execution_count": null,
   "metadata": {},
   "outputs": [],
   "source": [
    "ut = datetime.datetime.utcnow()\n",
    "radio_set_rtctime(radio, ut)\n",
    "ut"
   ]
  },
  {
   "cell_type": "markdown",
   "metadata": {},
   "source": [
    "## Listen for packets"
   ]
  },
  {
   "cell_type": "code",
   "execution_count": null,
   "metadata": {},
   "outputs": [],
   "source": [
    "def show_name(name):\n",
    "    name_str = ''\n",
    "    for i in range(len(name)):\n",
    "        tlv = name[i]\n",
    "        if tlv.tlv_type() is tlv_types.NODE_ID:\n",
    "            name_str += '/' + hexlify(name[i].value())\n",
    "        else:\n",
    "            name_str += '/' + name[i].value()\n",
    "        \n",
    "    return name_str"
   ]
  },
  {
   "cell_type": "code",
   "execution_count": null,
   "metadata": {},
   "outputs": [],
   "source": [
    "def show_payload(payload):\n",
    "    load_str = '({}) '.format(len(obj.payload))\n",
    "    for tlv in payload:\n",
    "        if tlv.tlv_type() is tlv_types.NODE_ID:\n",
    "            load_str += 'node(' + hexlify(tlv.value()) + ')'\n",
    "        else:\n",
    "            load_str += ', ' + str(tlv.value())\n",
    "    return load_str"
   ]
  },
  {
   "cell_type": "code",
   "execution_count": null,
   "metadata": {
    "scrolled": true
   },
   "outputs": [],
   "source": [
    "msgs = []\n",
    "errors = 0\n",
    "for i in range(200000):\n",
    "    msg, rssi, status = radio_receive_msg(radio, MAX_RECV, .4)\n",
    "    if msg:\n",
    "        msgs.append((msg, rssi, datetime.datetime.now()))\n",
    "    elif msgs:\n",
    "        print('---')\n",
    "        for msg, rssi, dtm in msgs:\n",
    "            if len(msg) < 4:\n",
    "                print('*** runt', len(msg), hexlify(msg))\n",
    "            #info = '({}) {}, {}, {}. {}\\n'.format(errors, datetime.datetime.now(), rssi, len(msg), hexlify(msg[:16]))\n",
    "            obj = TagMessage(msg)\n",
    "            #if obj and obj.payload:\n",
    "                #info += '{}: {}\\n'.format('Rsp' if obj.header.options.response else 'Req', show_name(obj.name))\n",
    "                #info += '{}\\n'.format(show_payload(obj.payload))\n",
    "            #print(info)\n",
    "            print('{} {} [r:{}, l:{}] {}: {}'.format(\n",
    "                                                'Rsp' if obj.header.options.response else 'Req',\n",
    "                                                dtm,\n",
    "                                                rssi,\n",
    "                                                len(msg),\n",
    "                                                show_name(obj.name),\n",
    "                                                show_payload(obj.payload) if obj and obj.payload else None,\n",
    "                                                ))\n",
    "        msgs = []"
   ]
  },
  {
   "cell_type": "code",
   "execution_count": null,
   "metadata": {},
   "outputs": [],
   "source": [
    "hexlify(msg), len(msg)"
   ]
  },
  {
   "cell_type": "code",
   "execution_count": null,
   "metadata": {
    "scrolled": true
   },
   "outputs": [],
   "source": [
    "status"
   ]
  },
  {
   "cell_type": "code",
   "execution_count": null,
   "metadata": {},
   "outputs": [],
   "source": [
    "status[-1]"
   ]
  },
  {
   "cell_type": "code",
   "execution_count": null,
   "metadata": {},
   "outputs": [],
   "source": [
    "for k,v in rsp_obj.header.iteritems():\n",
    "    print(k,v)"
   ]
  },
  {
   "cell_type": "markdown",
   "metadata": {},
   "source": [
    "## Get Chip Status"
   ]
  },
  {
   "cell_type": "code",
   "execution_count": null,
   "metadata": {},
   "outputs": [],
   "source": [
    "rsp_obj.header.options.response"
   ]
  },
  {
   "cell_type": "code",
   "execution_count": null,
   "metadata": {},
   "outputs": [],
   "source": [
    "STOP"
   ]
  },
  {
   "cell_type": "code",
   "execution_count": null,
   "metadata": {},
   "outputs": [],
   "source": [
    "print(radio.get_chip_status())"
   ]
  },
  {
   "cell_type": "code",
   "execution_count": null,
   "metadata": {},
   "outputs": [],
   "source": []
  }
 ],
 "metadata": {
  "kernelspec": {
   "display_name": "Python 2",
   "language": "python",
   "name": "python2"
  },
  "language_info": {
   "codemirror_mode": {
    "name": "ipython",
    "version": 2
   },
   "file_extension": ".py",
   "mimetype": "text/x-python",
   "name": "python",
   "nbconvert_exporter": "python",
   "pygments_lexer": "ipython2",
   "version": "2.7.13"
  }
 },
 "nbformat": 4,
 "nbformat_minor": 2
}
