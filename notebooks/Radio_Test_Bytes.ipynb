{
 "cells": [
  {
   "cell_type": "markdown",
   "metadata": {},
   "source": [
    "# Direct Radio Access to Test Byte Files"
   ]
  },
  {
   "cell_type": "code",
   "execution_count": null,
   "metadata": {},
   "outputs": [],
   "source": [
    "%autosave 0"
   ]
  },
  {
   "cell_type": "code",
   "execution_count": null,
   "metadata": {},
   "outputs": [],
   "source": [
    "from __future__ import print_function\n",
    "from builtins import *                  # python3 types\n",
    "from time import sleep\n",
    "import struct as pystruct\n",
    "from binascii import hexlify\n",
    "import sys\n",
    "import os.path\n",
    "import datetime"
   ]
  },
  {
   "cell_type": "code",
   "execution_count": null,
   "metadata": {},
   "outputs": [],
   "source": [
    "sys.path.insert(0,\"../../tagnet\")\n",
    "from tagnet.tagmessages import TagMessage, TagPoll, TagGet, TagPut, TagDelete, TagHead\n",
    "from tagnet.tagnames import TagName\n",
    "from tagnet.tagtlv import TagTlv, TagTlvList, tlv_types, TlvListBadException"
   ]
  },
  {
   "cell_type": "code",
   "execution_count": null,
   "metadata": {},
   "outputs": [],
   "source": [
    "sys.path.insert(0,\"../../tagfuse\")\n",
    "from tagfuse.radioutils import payload2values, radio_receive_msg, radio_send_msg\n",
    "from tagfuse.radioutils import radio_start, radio_config, radio_show_config"
   ]
  },
  {
   "cell_type": "code",
   "execution_count": null,
   "metadata": {},
   "outputs": [],
   "source": [
    "from tagfuse.tagfuseargs import __version__\n",
    "'tagfuse', __version__"
   ]
  },
  {
   "cell_type": "code",
   "execution_count": null,
   "metadata": {},
   "outputs": [],
   "source": [
    "print('Test Start Time: {}'.format(datetime.datetime.now()))\n",
    "#print('Si446x Radio Device Driver Version: {}'.format(si446x_device_version()))"
   ]
  },
  {
   "cell_type": "markdown",
   "metadata": {},
   "source": [
    "##  Start up Radio"
   ]
  },
  {
   "cell_type": "code",
   "execution_count": null,
   "metadata": {
    "scrolled": true
   },
   "outputs": [],
   "source": [
    "radio = radio_start()"
   ]
  },
  {
   "cell_type": "code",
   "execution_count": null,
   "metadata": {
    "scrolled": true
   },
   "outputs": [],
   "source": [
    "radio_show_config(radio.dump_radio())"
   ]
  },
  {
   "cell_type": "markdown",
   "metadata": {},
   "source": [
    "### Set Defaults"
   ]
  },
  {
   "cell_type": "code",
   "execution_count": null,
   "metadata": {},
   "outputs": [],
   "source": [
    "# default paramters\n",
    "MAX_WAIT            = 1\n",
    "MAX_RECV            = 255\n",
    "MAX_PAYLOAD         = 254\n",
    "MAX_RETRIES         = 3\n",
    "RADIO_POWER         = 10\n",
    "SHORT_DELAY         = 1"
   ]
  },
  {
   "cell_type": "markdown",
   "metadata": {},
   "source": [
    "# Common Routines"
   ]
  },
  {
   "cell_type": "code",
   "execution_count": null,
   "metadata": {},
   "outputs": [],
   "source": [
    "def tag_get_rssi():\n",
    "    name = TagName([TagTlv(tlv_types.NODE_ID, -1),\n",
    "                            TagTlv('tag'),\n",
    "                            TagTlv('.test'),\n",
    "                            TagTlv('rssi'),\n",
    "                             ])\n",
    "    req_obj = TagGet(name)\n",
    "    req_msg = req_obj.build()\n",
    "    sstatus = radio_send_msg(radio, req_msg, RADIO_POWER)\n",
    "    rsp_msg, rssi, rstatus = radio_receive_msg(radio, MAX_RECV, 3)\n",
    "    if rsp_msg:\n",
    "        #        print(hexlify(rsp_msg))\n",
    "        rsp_obj = TagMessage(rsp_msg)\n",
    "        #        print(rsp_obj.header.options.param.error_code)\n",
    "        #        print(rsp_obj.payload)\n",
    "        # print(rsp_obj.header, rsp_obj.name)\n",
    "        if rsp_obj.payload:\n",
    "            return rsp_obj.payload[0].value(), rssi, sstatus, rstatus\n",
    "        return None, rssi, sstatus, rstatus\n",
    "    return None, None, sstatus, rstatus"
   ]
  },
  {
   "cell_type": "code",
   "execution_count": null,
   "metadata": {},
   "outputs": [],
   "source": [
    "def tag_get_power():\n",
    "    name = TagName([TagTlv(tlv_types.NODE_ID, -1),\n",
    "                            TagTlv('tag'),\n",
    "                            TagTlv('.test'),\n",
    "                            TagTlv('tx_pwr'),\n",
    "                             ])\n",
    "    req_obj = TagGet(name)\n",
    "    req_msg = req_obj.build()\n",
    "    sstatus = radio_send_msg(radio, req_msg, RADIO_POWER)\n",
    "    rsp_msg, rssi, rstatus = radio_receive_msg(radio, MAX_RECV, 3)\n",
    "    if rsp_msg:\n",
    "        #        print(hexlify(rsp_msg))\n",
    "        rsp_obj = TagMessage(rsp_msg)\n",
    "        #        print(rsp_obj.header.options.param.error_code)\n",
    "        #        print(rsp_obj.payload)\n",
    "        print(rsp_obj.header, rsp_obj.name)\n",
    "        if rsp_obj.payload:\n",
    "            print(rsp_obj.payload)\n",
    "        return rsp_obj.payload[0].value(), rssi, sstatus, rstatus\n",
    "    return None, None, sstatus, rstatus"
   ]
  },
  {
   "cell_type": "code",
   "execution_count": null,
   "metadata": {},
   "outputs": [],
   "source": [
    "def tag_set_power(power):\n",
    "    name = TagName([TagTlv(tlv_types.NODE_ID, -1),\n",
    "                            TagTlv('tag'),\n",
    "                            TagTlv('.test'),\n",
    "                            TagTlv('tx_pwr'),\n",
    "                             ])\n",
    "    req_obj = TagPut(name, pl=TagTlvList([TagTlv(tlv_types.INTEGER, power)]))\n",
    "    req_msg = req_obj.build()\n",
    "    sstatus = radio_send_msg(radio, req_msg, RADIO_POWER)\n",
    "    rsp_msg, rssi, rstatus = radio_receive_msg(radio, MAX_RECV, 3)\n",
    "    if rsp_msg:\n",
    "        #        print(hexlify(rsp_msg))\n",
    "        rsp_obj = TagMessage(rsp_msg)\n",
    "        #        print(rsp_obj.header.options.param.error_code)\n",
    "        #        print(rsp_obj.payload)\n",
    "        #print(rsp_obj.header, rsp_obj.name)\n",
    "        #if rsp_obj.payload:\n",
    "        #    print(rsp_obj.payload)\n",
    "        return rsp_obj.payload, rssi, sstatus, rstatus\n",
    "    return None, None, sstatus, rstatus"
   ]
  },
  {
   "cell_type": "code",
   "execution_count": null,
   "metadata": {},
   "outputs": [],
   "source": [
    "def test_write_bytes(TestByteName, buf):\n",
    "    name = TagName([TagTlv(tlv_types.NODE_ID, -1),\n",
    "                          TagTlv('tag'),\n",
    "                          TagTlv('.test'),\n",
    "                          TagTlv(TestByteName),\n",
    "                          TagTlv('byte'),\n",
    "                          TagTlv(tlv_types.OFFSET, 0),\n",
    "                          TagTlv(tlv_types.SIZE, len(buf)),\n",
    "                             ])\n",
    "    req_obj = TagPut(name, pl=buf)\n",
    "    req_msg = req_obj.build()\n",
    "    sstatus = radio_send_msg(radio, req_msg, RADIO_POWER)\n",
    "    rsp_msg, rssi, rstatus = radio_receive_msg(radio, MAX_RECV, 3)\n",
    "    if rsp_msg:\n",
    "        #        print(hexlify(rsp_msg))\n",
    "        rsp_obj = TagMessage(rsp_msg)\n",
    "        #        print(rsp_obj.header.options.param.error_code)\n",
    "        #        print(rsp_obj.payload)\n",
    "        # print(rsp_obj.header, rsp_obj.name)\n",
    "        if rsp_obj.payload:\n",
    "            return rsp_obj.payload[0].value(), rssi, sstatus, rstatus\n",
    "        return none, rssi, sstatus, rstatus\n",
    "    return None, None, sstatus, rstatus"
   ]
  },
  {
   "cell_type": "code",
   "execution_count": null,
   "metadata": {},
   "outputs": [],
   "source": [
    "#<node_id>   \"tag\"  \"test\"   \"zero\"   \"byte\"\n",
    "def read_test_bytes(testfile, pos, num):\n",
    "    zero_byte_name = TagName([TagTlv(tlv_types.NODE_ID, -1),\n",
    "                            TagTlv('tag'),\n",
    "                            TagTlv('.test'),\n",
    "                            TagTlv(testfile),\n",
    "                            TagTlv('byte'),\n",
    "                            TagTlv(tlv_types.OFFSET, pos),\n",
    "                            TagTlv(tlv_types.SIZE, num),\n",
    "                             ])\n",
    "    get_zero_byte = TagGet(zero_byte_name)\n",
    "#    print(get_gps_xyz.name)\n",
    "    req_msg = get_zero_byte.build()\n",
    "    radio_send_msg(radio, req_msg, RADIO_POWER);\n",
    "    rsp_msg, rssi, status = radio_receive_msg(radio, MAX_RECV, MAX_WAIT)\n",
    "    if rsp_msg:\n",
    "#        print(hexlify(rsp_msg))\n",
    "        rsp_obj = TagMessage(rsp_msg)\n",
    "#        print(rsp_obj.header.options.param.error_code)\n",
    "#        print(rsp_obj.payload)\n",
    "        if rsp_obj.payload:\n",
    "            error, offset, amt, block = payload2values(rsp_obj.payload,\n",
    "                                  [tlv_types.ERROR,\n",
    "                                   tlv_types.OFFSET,\n",
    "                                   tlv_types.SIZE,\n",
    "                                   tlv_types.BLOCK,\n",
    "                                  ])\n",
    "            seta = set(block)\n",
    "            # print(seta)\n",
    "            if (len(seta) > 1):\n",
    "                print('check error', seta, amt, hexlify(block))\n",
    "                amt = 0\n",
    "            return error, offset, amt, block\n",
    "        else:\n",
    "            print(\"{}\".format(rsp_obj.header.options.param.error_code))\n",
    "#    else:\n",
    "#        print('TIMEOUT')\n",
    "    return None"
   ]
  },
  {
   "cell_type": "markdown",
   "metadata": {},
   "source": [
    "### Read Test Bytes "
   ]
  },
  {
   "cell_type": "code",
   "execution_count": null,
   "metadata": {},
   "outputs": [],
   "source": [
    "STOP\n"
   ]
  },
  {
   "cell_type": "code",
   "execution_count": null,
   "metadata": {},
   "outputs": [],
   "source": [
    "TestByteName = 'echo'"
   ]
  },
  {
   "cell_type": "code",
   "execution_count": null,
   "metadata": {},
   "outputs": [],
   "source": [
    "test_byte_name = TagName([TagTlv(tlv_types.NODE_ID, -1),\n",
    "                            TagTlv('tag'),\n",
    "                            TagTlv('.test'),\n",
    "                            TagTlv(TestByteName),\n",
    "                            TagTlv('byte'),\n",
    "                            TagTlv(tlv_types.OFFSET, 1),\n",
    "                            TagTlv(tlv_types.SIZE, 200),\n",
    "                             ])"
   ]
  },
  {
   "cell_type": "code",
   "execution_count": null,
   "metadata": {},
   "outputs": [],
   "source": [
    "req_obj = TagGet(test_byte_name)\n",
    "#    print(get_gps_xyz.name)\n",
    "req_msg = req_obj.build()"
   ]
  },
  {
   "cell_type": "code",
   "execution_count": null,
   "metadata": {},
   "outputs": [],
   "source": [
    "len(req_msg), req_obj.header, req_obj.name, req_obj.payload"
   ]
  },
  {
   "cell_type": "code",
   "execution_count": null,
   "metadata": {
    "scrolled": false
   },
   "outputs": [],
   "source": [
    "sstatus = radio_send_msg(radio, req_msg, RADIO_POWER)\n",
    "rsp_msg, rssi, rstatus = radio_receive_msg(radio, MAX_RECV, MAX_WAIT)\n",
    "len(rsp_msg), rssi"
   ]
  },
  {
   "cell_type": "code",
   "execution_count": null,
   "metadata": {},
   "outputs": [],
   "source": [
    "if rsp_msg:\n",
    "    #        print(hexlify(rsp_msg))\n",
    "    rsp_obj = TagMessage(rsp_msg)\n",
    "    #        print(rsp_obj.header.options.param.error_code)\n",
    "    #        print(rsp_obj.payload)\n",
    "    if rsp_obj.payload:\n",
    "        print(len(rsp_msg), rsp_obj.header, rsp_obj.name, rsp_obj.payload)"
   ]
  },
  {
   "cell_type": "code",
   "execution_count": null,
   "metadata": {},
   "outputs": [],
   "source": [
    "rsp_obj.payload[1].value()"
   ]
  },
  {
   "cell_type": "code",
   "execution_count": null,
   "metadata": {
    "scrolled": true
   },
   "outputs": [],
   "source": [
    "sstatus, rstatus"
   ]
  },
  {
   "cell_type": "code",
   "execution_count": null,
   "metadata": {
    "scrolled": false
   },
   "outputs": [],
   "source": [
    "sstatus = radio_send_msg(radio, req_msg, RADIO_POWER)"
   ]
  },
  {
   "cell_type": "code",
   "execution_count": null,
   "metadata": {
    "scrolled": true
   },
   "outputs": [],
   "source": [
    "rsp_msg, rssi, rstatus = radio_receive_msg(radio, MAX_RECV, MAX_WAIT)\n",
    "rsp_msg, rssi"
   ]
  },
  {
   "cell_type": "code",
   "execution_count": null,
   "metadata": {},
   "outputs": [],
   "source": [
    "for x in range(10):\n",
    "    print(datetime.datetime.now())\n",
    "    sstatus = radio_send_msg(radio, req_msg, RADIO_POWER)\n",
    "    #print(sstatus)\n",
    "    print(datetime.datetime.now())\n",
    "    rsp_msg, rssi, status = radio_receive_msg(radio, MAX_RECV, MAX_WAIT)\n",
    "    print(rssi, len(rsp_msg))\n",
    "    print(rstatus)"
   ]
  },
  {
   "cell_type": "code",
   "execution_count": null,
   "metadata": {
    "scrolled": true
   },
   "outputs": [],
   "source": [
    "for z in range(10000):\n",
    "    for RADIO_POWER in [1,10,20,30]:\n",
    "        for i in range(10):\n",
    "            rstatus = radio_send_msg(radio, req_msg, RADIO_POWER);\n",
    "            rsp_msg, rssi, sstatus = radio_receive_msg(radio, MAX_RECV, MAX_WAIT)\n",
    "            if rssi == -1:\n",
    "                break\n",
    "            rsp_obj = TagMessage(rsp_msg)\n",
    "            print(rsp_obj.payload)"
   ]
  },
  {
   "cell_type": "code",
   "execution_count": null,
   "metadata": {
    "scrolled": true
   },
   "outputs": [],
   "source": [
    "radio.spi.trace.display(radio.spi.trace.filter(count=-10))"
   ]
  },
  {
   "cell_type": "markdown",
   "metadata": {},
   "source": [
    "### Write Test Bytes "
   ]
  },
  {
   "cell_type": "code",
   "execution_count": null,
   "metadata": {},
   "outputs": [],
   "source": [
    "STOP\n"
   ]
  },
  {
   "cell_type": "code",
   "execution_count": null,
   "metadata": {
    "scrolled": true
   },
   "outputs": [],
   "source": [
    "amt, rssi, sstatus, rstatus = test_write_bytes('echo', bytearray('0123456789' * 20))"
   ]
  },
  {
   "cell_type": "code",
   "execution_count": null,
   "metadata": {
    "scrolled": true
   },
   "outputs": [],
   "source": [
    "'send', sstatus, 'receive', rstatus"
   ]
  },
  {
   "cell_type": "code",
   "execution_count": null,
   "metadata": {
    "scrolled": true
   },
   "outputs": [],
   "source": [
    "sstatus = radio_send_msg(radio, req_msg, RADIO_POWER)"
   ]
  },
  {
   "cell_type": "code",
   "execution_count": null,
   "metadata": {},
   "outputs": [],
   "source": [
    "sstatus"
   ]
  },
  {
   "cell_type": "code",
   "execution_count": null,
   "metadata": {
    "scrolled": true
   },
   "outputs": [],
   "source": [
    "rsp_msg, rssi, rstatus = radio_receive_msg(radio, MAX_RECV, MAX_WAIT)\n",
    "rsp_msg, rssi"
   ]
  },
  {
   "cell_type": "code",
   "execution_count": null,
   "metadata": {
    "scrolled": false
   },
   "outputs": [],
   "source": [
    "radio.trace.display(radio.trace.filter(count=-10))"
   ]
  },
  {
   "cell_type": "code",
   "execution_count": null,
   "metadata": {},
   "outputs": [],
   "source": [
    "a,b,c = sstatus[6:9]"
   ]
  },
  {
   "cell_type": "code",
   "execution_count": null,
   "metadata": {},
   "outputs": [],
   "source": [
    "a.items()[0][1]"
   ]
  },
  {
   "cell_type": "markdown",
   "metadata": {},
   "source": [
    "## Get Tag's RSSI value"
   ]
  },
  {
   "cell_type": "code",
   "execution_count": null,
   "metadata": {},
   "outputs": [],
   "source": [
    "STOP"
   ]
  },
  {
   "cell_type": "code",
   "execution_count": null,
   "metadata": {
    "scrolled": true
   },
   "outputs": [],
   "source": [
    "tag_get_rssi()"
   ]
  },
  {
   "cell_type": "code",
   "execution_count": null,
   "metadata": {
    "scrolled": true
   },
   "outputs": [],
   "source": [
    "RADIO_POWER=2\n",
    "for z in range(100):\n",
    "    for RADIO_POWER in range(1,122,10):\n",
    "        for i in range(2):\n",
    "            remote_rssi, rssi, _, _ = tag_get_rssi()\n",
    "            if rssi == -1:\n",
    "                break\n",
    "            print('{:>4}.{:<4} power: {:3},   rssi l/r:  {:4>}/{:<4}'.format(z,i, RADIO_POWER, rssi, remote_rssi))"
   ]
  },
  {
   "cell_type": "markdown",
   "metadata": {},
   "source": [
    "## Plot BaseStation Power vs Radio RSSI"
   ]
  },
  {
   "cell_type": "code",
   "execution_count": null,
   "metadata": {
    "scrolled": false
   },
   "outputs": [],
   "source": [
    "import matplotlib.pyplot as plt  \n",
    "import numpy as np \n",
    "\n",
    "rssi_pts = []\n",
    "pwr_pts = []\n",
    "errors = 0\n",
    "for RADIO_POWER in range(1,49,1):\n",
    "    try:\n",
    "        remote_rssi, rssi, _, _ = tag_get_rssi()\n",
    "    except TlvListBadException:\n",
    "        errors += 1\n",
    "    rssi_pts.append(remote_rssi)\n",
    "    pwr_pts.append(RADIO_POWER)\n",
    "    #print('power: {:3},   rssi l/r:  {:4>}/{:<4}'.format(TAG_RADIO_POWER, rssi, tag_rssi))\n",
    "plt.plot(pwr_pts, rssi_pts)\n",
    "plt.show()"
   ]
  },
  {
   "cell_type": "markdown",
   "metadata": {},
   "source": [
    "## Get Tag's Transmit Power value"
   ]
  },
  {
   "cell_type": "code",
   "execution_count": null,
   "metadata": {},
   "outputs": [],
   "source": [
    "STOP"
   ]
  },
  {
   "cell_type": "code",
   "execution_count": null,
   "metadata": {
    "scrolled": true
   },
   "outputs": [],
   "source": [
    "tag_get_power()"
   ]
  },
  {
   "cell_type": "code",
   "execution_count": null,
   "metadata": {},
   "outputs": [],
   "source": [
    "radio.spi.trace.display(radio.spi.trace.filter(count=-100))"
   ]
  },
  {
   "cell_type": "markdown",
   "metadata": {},
   "source": [
    "## Set Tag's Transmit Power value"
   ]
  },
  {
   "cell_type": "code",
   "execution_count": null,
   "metadata": {},
   "outputs": [],
   "source": [
    "STOP"
   ]
  },
  {
   "cell_type": "code",
   "execution_count": null,
   "metadata": {
    "scrolled": true
   },
   "outputs": [],
   "source": [
    "errors = 0\n",
    "for z in range(10000):\n",
    "    for TAG_RADIO_POWER in range(2,256,1):\n",
    "        for i in range(6):\n",
    "            try:\n",
    "                _, rssi, _, _ = tag_set_power(TAG_RADIO_POWER)\n",
    "                tag_rssi, rssi, _, _ = tag_get_rssi()\n",
    "            except TlvListBadException:\n",
    "                errors += 1    \n",
    "            if rssi == -1:\n",
    "                break\n",
    "            print('e: {}, {:>4}.{:<4} power: {:3},   rssi l/r:  {:4>}/{:<4}'.format(errors, z,i, TAG_RADIO_POWER, rssi, tag_rssi))"
   ]
  },
  {
   "cell_type": "code",
   "execution_count": null,
   "metadata": {},
   "outputs": [],
   "source": [
    "TAG_RADIO_POWER=10"
   ]
  },
  {
   "cell_type": "code",
   "execution_count": null,
   "metadata": {},
   "outputs": [],
   "source": [
    "RADIO_POWER         = 15"
   ]
  },
  {
   "cell_type": "code",
   "execution_count": null,
   "metadata": {
    "scrolled": true
   },
   "outputs": [],
   "source": [
    "tag_set_power(TAG_RADIO_POWER)"
   ]
  },
  {
   "cell_type": "code",
   "execution_count": null,
   "metadata": {
    "scrolled": true
   },
   "outputs": [],
   "source": [
    "radio.spi.trace.display(radio.spi.trace.filter(count=-100))"
   ]
  },
  {
   "cell_type": "markdown",
   "metadata": {},
   "source": [
    "## Plot Radio TX Power vs Basestation RSSI"
   ]
  },
  {
   "cell_type": "code",
   "execution_count": null,
   "metadata": {
    "scrolled": true
   },
   "outputs": [],
   "source": [
    "import matplotlib.pyplot as plt  \n",
    "import numpy as np \n",
    "RADIO_POWER = 15\n",
    "rssi_pts = []\n",
    "pwr_pts = []\n",
    "errors = 0\n",
    "for TAG_RADIO_POWER in range(5,256,1):\n",
    "    try:\n",
    "        _, rssi, _, _ = tag_set_power(TAG_RADIO_POWER)\n",
    "        tag_rssi, rssi, _, _ = tag_get_rssi()\n",
    "    except TlvListBadException:\n",
    "        errors += 1\n",
    "    rssi_pts.append(rssi)\n",
    "    pwr_pts.append(TAG_RADIO_POWER)\n",
    "    #print('power: {:3},   rssi l/r:  {:4>}/{:<4}'.format(TAG_RADIO_POWER, rssi, tag_rssi))\n",
    "plt.plot(pwr_pts, rssi_pts)\n",
    "plt.show()"
   ]
  },
  {
   "cell_type": "code",
   "execution_count": null,
   "metadata": {},
   "outputs": [],
   "source": [
    "plt.show()"
   ]
  },
  {
   "cell_type": "markdown",
   "metadata": {},
   "source": [
    "### Write Zeros"
   ]
  },
  {
   "cell_type": "code",
   "execution_count": null,
   "metadata": {},
   "outputs": [],
   "source": [
    "STOP"
   ]
  },
  {
   "cell_type": "code",
   "execution_count": null,
   "metadata": {
    "scrolled": true
   },
   "outputs": [],
   "source": [
    "start = datetime.datetime.now()\n",
    "for x in range(1,1000):\n",
    "    for y in range(1,10):\n",
    "        sleep(SHORT_DELAY)\n",
    "        return_values = read_test_bytes('zero', 1, 1)\n",
    "        if return_values:\n",
    "            error, offset, amt, block = return_values\n",
    "            # print('error: {}'.format(error))\n",
    "            if error and error is not tlv_errors.SUCCESS:\n",
    "                print(\"\\r{} {}\".format(datetime.now() - start, error), end=\"\")\n",
    "                continue\n",
    "            print('got bytes, len: {}, count: {}, offset: {}'.format(len(block),\n",
    "                                                                    amt,\n",
    "                                                                    offset))\n",
    "        else:\n",
    "            print('timeout')\n",
    "            \n",
    "print(\"\\ntime:{}\".format(datetime.now() - start))"
   ]
  },
  {
   "cell_type": "markdown",
   "metadata": {},
   "source": [
    "## Listen for packets"
   ]
  },
  {
   "cell_type": "code",
   "execution_count": null,
   "metadata": {
    "scrolled": true
   },
   "outputs": [],
   "source": [
    "for i in range(200000):\n",
    "    rsp_msg, rssi, status = radio_receive_msg(radio, MAX_RECV, 3000)\n",
    "    if rsp_msg:\n",
    "        print(datetime.datetime.now(), rssi, len(rsp_msg), hexlify(rsp_msg))\n",
    "        #rsp_obj = TagMessage(rsp_msg)\n",
    "        #        print(rsp_obj.header.options.param.error_code)\n",
    "        #        print(rsp_obj.payload)\n",
    "        #if rsp_obj.payload:\n",
    "        #    print(rsp_obj.header, rsp_obj.name, rsp_obj.payload)"
   ]
  },
  {
   "cell_type": "markdown",
   "metadata": {},
   "source": [
    "## Get Chip Status"
   ]
  },
  {
   "cell_type": "code",
   "execution_count": null,
   "metadata": {},
   "outputs": [],
   "source": [
    "STOP"
   ]
  },
  {
   "cell_type": "code",
   "execution_count": null,
   "metadata": {},
   "outputs": [],
   "source": [
    "print(radio.get_chip_status())"
   ]
  },
  {
   "cell_type": "markdown",
   "metadata": {},
   "source": [
    "## Interactive Group Properties"
   ]
  },
  {
   "cell_type": "code",
   "execution_count": null,
   "metadata": {},
   "outputs": [],
   "source": [
    "STOP"
   ]
  },
  {
   "cell_type": "code",
   "execution_count": null,
   "metadata": {
    "scrolled": true
   },
   "outputs": [],
   "source": [
    "interact(si446x_device_group_fetch_and_decode, group=radio_config_group_ids.encoding)"
   ]
  },
  {
   "cell_type": "markdown",
   "metadata": {},
   "source": [
    "## Interactive  Command Status Responses"
   ]
  },
  {
   "cell_type": "code",
   "execution_count": null,
   "metadata": {},
   "outputs": [],
   "source": [
    "interact(si446x_device_command_fetch_and_decode, cmd=radio_status_cmd_ids.encoding)"
   ]
  },
  {
   "cell_type": "code",
   "execution_count": null,
   "metadata": {},
   "outputs": [],
   "source": [
    "from datetime import datetime\n",
    "datetime.now()"
   ]
  },
  {
   "cell_type": "code",
   "execution_count": null,
   "metadata": {},
   "outputs": [],
   "source": []
  }
 ],
 "metadata": {
  "kernelspec": {
   "display_name": "Python 2",
   "language": "python",
   "name": "python2"
  },
  "language_info": {
   "codemirror_mode": {
    "name": "ipython",
    "version": 2
   },
   "file_extension": ".py",
   "mimetype": "text/x-python",
   "name": "python",
   "nbconvert_exporter": "python",
   "pygments_lexer": "ipython2",
   "version": "2.7.13"
  }
 },
 "nbformat": 4,
 "nbformat_minor": 2
}
