{
 "cells": [
  {
   "cell_type": "markdown",
   "metadata": {},
   "source": [
    "# Si446x Device Direct Access TagNet Poll"
   ]
  },
  {
   "cell_type": "code",
   "execution_count": null,
   "metadata": {
    "scrolled": true
   },
   "outputs": [],
   "source": [
    "!pwd\n",
    "%autosave 0\n",
    "import sys\n",
    "sys.path.append(\"../si446x/si446x\")\n",
    "%run '../si446x/si446x/notebooks/si446x_Device_Layer.ipynb'"
   ]
  },
  {
   "cell_type": "code",
   "execution_count": null,
   "metadata": {
    "collapsed": true
   },
   "outputs": [],
   "source": [
    "import sys\n",
    "sys.path.append(\"../tagnet/tagnet\")\n",
    "from tagmessages import TagMessage, TagPoll, TagGet\n",
    "from tagnames import TagName\n",
    "from tagtlv import TagTlv, tlv_types\n",
    "tm = TagMessage(TagName('/tag/poll'))"
   ]
  },
  {
   "cell_type": "code",
   "execution_count": null,
   "metadata": {},
   "outputs": [],
   "source": [
    "import datetime\n",
    "print('Test Start Time: {}'.format(datetime.datetime.now()))\n",
    "print('Si446x Radio Device Driver Version: {}'.format(si446x_device_version()))"
   ]
  },
  {
   "cell_type": "markdown",
   "metadata": {},
   "source": [
    "##  Start up Radio"
   ]
  },
  {
   "cell_type": "code",
   "execution_count": null,
   "metadata": {
    "scrolled": true
   },
   "outputs": [],
   "source": [
    "radio = si446x_device_start_radio()"
   ]
  },
  {
   "cell_type": "code",
   "execution_count": null,
   "metadata": {
    "scrolled": true
   },
   "outputs": [],
   "source": [
    "si446x_device_show_config(radio.dump_radio())"
   ]
  },
  {
   "cell_type": "code",
   "execution_count": null,
   "metadata": {
    "collapsed": true
   },
   "outputs": [],
   "source": []
  },
  {
   "cell_type": "markdown",
   "metadata": {},
   "source": [
    "## Check for Command Error"
   ]
  },
  {
   "cell_type": "code",
   "execution_count": null,
   "metadata": {
    "collapsed": true
   },
   "outputs": [],
   "source": [
    "status = radio.get_chip_status()\n",
    "if (status.chip_pend.CMD_ERROR):\n",
    "    print(status)"
   ]
  },
  {
   "cell_type": "markdown",
   "metadata": {},
   "source": [
    "##  Configure Radio"
   ]
  },
  {
   "cell_type": "code",
   "execution_count": null,
   "metadata": {
    "scrolled": true
   },
   "outputs": [],
   "source": [
    "config = si446x_device_config_radio(radio)\n",
    "\n",
    "si446x_device_show_config(radio.dump_radio())\n",
    "total = 0\n",
    "print('\\n=== const config strings:')\n",
    "for s in config:\n",
    "    print((hexlify(s)))\n",
    "    total += len(s) - 4\n",
    "print('\\n total: {}'.format(total))"
   ]
  },
  {
   "cell_type": "markdown",
   "metadata": {},
   "source": [
    "## Get Chip Status"
   ]
  },
  {
   "cell_type": "code",
   "execution_count": null,
   "metadata": {},
   "outputs": [],
   "source": [
    "print(radio.get_chip_status())"
   ]
  },
  {
   "cell_type": "markdown",
   "metadata": {},
   "source": [
    "## Interactive Group Properties"
   ]
  },
  {
   "cell_type": "code",
   "execution_count": null,
   "metadata": {
    "scrolled": true
   },
   "outputs": [],
   "source": [
    "interact(si446x_device_group_fetch_and_decode, group=radio_config_group_ids.encoding)"
   ]
  },
  {
   "cell_type": "markdown",
   "metadata": {},
   "source": [
    "## Interactive  Command Status Responses"
   ]
  },
  {
   "cell_type": "code",
   "execution_count": null,
   "metadata": {},
   "outputs": [],
   "source": [
    "interact(si446x_device_command_fetch_and_decode, cmd=radio_status_cmd_ids.encoding)"
   ]
  },
  {
   "cell_type": "markdown",
   "metadata": {},
   "source": [
    "## Map position calculation"
   ]
  },
  {
   "cell_type": "code",
   "execution_count": null,
   "metadata": {
    "collapsed": true
   },
   "outputs": [],
   "source": [
    "import pyproj\n",
    "import struct"
   ]
  },
  {
   "cell_type": "code",
   "execution_count": null,
   "metadata": {},
   "outputs": [],
   "source": [
    "# Example position data, should be somewhere in Germany\n",
    "x = 652954.1006\n",
    "y = 4774619.7919\n",
    "z = -2217647.7937\n",
    "\n",
    "ecef = pyproj.Proj(proj='geocent', ellps='WGS84', datum='WGS84')\n",
    "lla = pyproj.Proj(proj='latlong', ellps='WGS84', datum='WGS84')\n",
    "\n",
    "def conv_xyz_to_lat(x, y, z):\n",
    "    lon, lat, alt = pyproj.transform(ecef, lla, x, y, z, radians=True)\n",
    "    return lat, lon, alt\n",
    "\n",
    "def payload_to_lat(byte_range):\n",
    "    lat, lon, alt = conv_xyz_to_lat(struct.unpack('>LLL', bytearray(byte_range)))\n",
    "    return lat, lon, alt"
   ]
  },
  {
   "cell_type": "code",
   "execution_count": null,
   "metadata": {
    "collapsed": true
   },
   "outputs": [],
   "source": []
  },
  {
   "cell_type": "markdown",
   "metadata": {},
   "source": [
    "## Transmit TagNet Poll Request"
   ]
  },
  {
   "cell_type": "code",
   "execution_count": null,
   "metadata": {},
   "outputs": [],
   "source": [
    "from binascii import hexlify\n",
    "tp = TagPoll()\n",
    "print(tp.name)\n",
    "print(tp.payload)\n",
    "poll_msg = tp.build()\n",
    "print(len(poll_msg),hexlify(poll_msg))"
   ]
  },
  {
   "cell_type": "code",
   "execution_count": null,
   "metadata": {},
   "outputs": [],
   "source": [
    "xn = TagName('/tag/info/') + TagTlv(tlv_types.NODE_ID, -1)\\\n",
    "         + TagTlv('sens') + TagTlv('gps') + TagTlv('xyz')\n",
    "xg = TagGet(xn)\n",
    "xyz_msg = xg.build()\n",
    "print(xg.name)\n",
    "print(xg.header)\n",
    "print(len(xyz_msg),hexlify(xyz_msg))"
   ]
  },
  {
   "cell_type": "code",
   "execution_count": null,
   "metadata": {
    "scrolled": true
   },
   "outputs": [],
   "source": [
    "from __future__ import print_function\n",
    "from time import sleep\n",
    "from datetime import datetime\n",
    "\n",
    "\n",
    "num         = 1\n",
    "MAX_WAIT    = 20\n",
    "MAX_RECV    = 256\n",
    "\n",
    "mj_r        = range(num)\n",
    "th_r        = range(40,41,5)              # fifo threshold setting (min,max,opt): 1,64,40\n",
    "pw_r        = [1]\n",
    "#pw_r        = [1 << i for i in range(2)] # power amp setting (min, max,opt): 1,127,10\n",
    "delay       = .01\n",
    "\n",
    "prp         = bytearray(1)\n",
    "\n",
    "xcnt        = 0\n",
    "rcnt        = 0\n",
    "pstr        = ''\n",
    "\n",
    "rssi        = 0\n",
    "\n",
    "radio.trace._enable()\n",
    "\n",
    "prp[0] = 0x22\n",
    "radio.set_property('MODEM', 0x4c, prp) \n",
    "\n",
    "start = datetime.now()\n",
    "print(start)\n",
    "req_msg = xyz_msg\n",
    "\n",
    "for rep in range(num):\n",
    "    for thresh in th_r:\n",
    "        prp[0]=thresh\n",
    "        radio.set_property('PKT', 0x0b, prp)  # set tx fifo threshhold\n",
    "        for pwr in pw_r:\n",
    "            if (pwr > 127): pwr = 127\n",
    "#            req_msg = xyz_msg if (req_msg == poll_msg) else poll_msg\n",
    "            l = si446x_device_send_msg(radio, req_msg, pwr)\n",
    "            rmsg, rssi, status = si446x_device_receive_msg(radio, MAX_RECV, MAX_WAIT)\n",
    "            xcnt += 1\n",
    "            if (rmsg):\n",
    "                rcnt += 1\n",
    "                last_len = len(pstr) if (pstr) else 0\n",
    "                pstr = '{}, xc/rc:{}/{}, l:{}, t:{}, lp:{}, lr:{}, rsp:{}..{}'.format(\n",
    "                           datetime.now(), xcnt, rcnt, len(rmsg), thresh,\n",
    "                           pwr, rssi, hexlify(rmsg[:8]), hexlify(rmsg[-14:]))\n",
    "                xyz = TagMessage(rmsg)\n",
    "                print(xyz.header)\n",
    "                print(xyz.name)\n",
    "                print(xyz.payload[0].__len__())\n",
    "                print(len(xyz.payload[0].value()))\n",
    "                print(payload_to_lat(xyz.payload[0].value()))\n",
    "            else:\n",
    "                pstr = '{}, xc/rc:{}/{}, l:{}, t:{}, lp:{}, lr:{}, req:{}'.format(\n",
    "                            datetime.now(), xcnt, rcnt, len(req_msg), thresh,\n",
    "                            pwr, rssi, hexlify(req_msg[:8]))\n",
    "            print(pstr, end='')\n",
    "            if (status[-1] == 'e'):\n",
    "                print(', {}'.format(''.join(map(str, status))))\n",
    "            else:\n",
    "                x = last_len - len(pstr) if (last_len > len(pstr)) else 1\n",
    "                print(' ' * x,end='\\r')\n",
    "            sleep(delay)\n",
    "print('\\ndone')"
   ]
  },
  {
   "cell_type": "code",
   "execution_count": null,
   "metadata": {
    "collapsed": true
   },
   "outputs": [],
   "source": []
  },
  {
   "cell_type": "markdown",
   "metadata": {},
   "source": [
    "## Check Interrupt Status"
   ]
  },
  {
   "cell_type": "code",
   "execution_count": null,
   "metadata": {},
   "outputs": [],
   "source": [
    "s_name =  'int_status_rsp_s'\n",
    "p_s = eval(s_name)\n",
    "p_g = radio.get_interrupts()\n",
    "p_d = p_s.build(p_g)\n",
    "print('{}: {}'.format(s_name, insert_space(p_d)))\n",
    "print(radio_display_structs[p_s](p_s, p_d))"
   ]
  },
  {
   "cell_type": "code",
   "execution_count": null,
   "metadata": {},
   "outputs": [],
   "source": [
    "s_name =  'get_chip_status_rsp_s'\n",
    "p_s = eval(s_name)\n",
    "p_g = radio.get_chip_status()\n",
    "p_d = p_s.build(p_g)\n",
    "print('{}: {}'.format(s_name, insert_space(p_d)))\n",
    "print(radio_display_structs[p_s](p_s, p_d))"
   ]
  },
  {
   "cell_type": "code",
   "execution_count": null,
   "metadata": {
    "collapsed": true
   },
   "outputs": [],
   "source": [
    "#t,r = si446xradio_test()"
   ]
  },
  {
   "cell_type": "code",
   "execution_count": null,
   "metadata": {},
   "outputs": [],
   "source": [
    "from datetime import datetime \n",
    "\n",
    "now=datetime.now()\n",
    "print(now)"
   ]
  },
  {
   "cell_type": "code",
   "execution_count": null,
   "metadata": {
    "collapsed": true
   },
   "outputs": [],
   "source": [
    "MAX_CHUNK=64"
   ]
  },
  {
   "cell_type": "code",
   "execution_count": null,
   "metadata": {
    "collapsed": true
   },
   "outputs": [],
   "source": [
    "radio.clear_interrupts()"
   ]
  },
  {
   "cell_type": "code",
   "execution_count": null,
   "metadata": {},
   "outputs": [],
   "source": [
    "rx, tx = radio.fifo_info(rx_flush=True, tx_flush=True)\n",
    "print(rx,tx)"
   ]
  },
  {
   "cell_type": "code",
   "execution_count": null,
   "metadata": {
    "collapsed": true
   },
   "outputs": [],
   "source": [
    "radio.set_property('PKT', 0x0b, b'\\x3c')  # set tx fifo threshhold"
   ]
  },
  {
   "cell_type": "code",
   "execution_count": null,
   "metadata": {},
   "outputs": [],
   "source": [
    "rx, tx = radio.fifo_info()\n",
    "print(rx,tx)"
   ]
  },
  {
   "cell_type": "code",
   "execution_count": null,
   "metadata": {},
   "outputs": [],
   "source": [
    "status = radio.get_interrupts()\n",
    "print(status.ph_pend.TX_FIFO_ALMOST_EMPTY)"
   ]
  },
  {
   "cell_type": "code",
   "execution_count": null,
   "metadata": {},
   "outputs": [],
   "source": [
    "s_name =  'int_status_rsp_s'\n",
    "p_s = eval(s_name)\n",
    "p_g = radio.get_interrupts()\n",
    "p_d = p_s.build(p_g)\n",
    "print('{}: {}'.format(s_name, insert_space(p_d)))\n",
    "print(radio_display_structs[p_s](p_s, p_d))"
   ]
  },
  {
   "cell_type": "code",
   "execution_count": null,
   "metadata": {},
   "outputs": [],
   "source": [
    "buf = bytearray('\\x22' * 64)\n",
    "chunk = 8\n",
    "cur   = 8\n",
    "radio.write_tx_fifo(buf[:chunk])\n",
    "rx, tx = radio.fifo_info()\n",
    "print(rx,tx)"
   ]
  },
  {
   "cell_type": "code",
   "execution_count": null,
   "metadata": {},
   "outputs": [],
   "source": [
    "radio.start_tx(len(buf))\n",
    "while (True):\n",
    "    status = radio.get_interrupts()\n",
    "    if (status.ph_pend.TX_FIFO_ALMOST_EMPTY):\n",
    "        rx, tx = radio.fifo_info()\n",
    "        radio.write_tx_fifo(buf[cur:cur+chunk])\n",
    "        cur += chunk\n",
    "        print('.',end='')\n",
    "    if (status.ph_pend.PACKET_SENT):\n",
    "        print('done')\n",
    "        break\n",
    "    radio.clear_interrupts()"
   ]
  },
  {
   "cell_type": "code",
   "execution_count": null,
   "metadata": {},
   "outputs": [],
   "source": [
    "ss[0] = 10\n",
    "ss[1] = 20"
   ]
  },
  {
   "cell_type": "code",
   "execution_count": null,
   "metadata": {
    "collapsed": true
   },
   "outputs": [],
   "source": [
    "cur"
   ]
  },
  {
   "cell_type": "code",
   "execution_count": null,
   "metadata": {
    "collapsed": true
   },
   "outputs": [],
   "source": [
    "radio.set_property('PKT', 0x0b, ss) # tx/rx threshold"
   ]
  },
  {
   "cell_type": "code",
   "execution_count": null,
   "metadata": {
    "collapsed": true
   },
   "outputs": [],
   "source": [
    "radio.set_property('PKT', 0x0b, b'\\x48')  # set tx fifo threshhold"
   ]
  },
  {
   "cell_type": "code",
   "execution_count": null,
   "metadata": {
    "collapsed": true
   },
   "outputs": [],
   "source": [
    "radio.set_property('PKT', 0x0c, b'\\x14')  # set rx fifo threshold"
   ]
  },
  {
   "cell_type": "code",
   "execution_count": null,
   "metadata": {
    "collapsed": true
   },
   "outputs": [],
   "source": [
    "status = int_status(clr_all_flags, False)\n",
    "print(status.ph_pend.TX_FIFO_ALMOST_EMPTY)"
   ]
  },
  {
   "cell_type": "code",
   "execution_count": null,
   "metadata": {
    "collapsed": true
   },
   "outputs": [],
   "source": []
  },
  {
   "cell_type": "code",
   "execution_count": null,
   "metadata": {
    "collapsed": true
   },
   "outputs": [],
   "source": []
  },
  {
   "cell_type": "code",
   "execution_count": null,
   "metadata": {
    "collapsed": true
   },
   "outputs": [],
   "source": []
  }
 ],
 "metadata": {
  "kernelspec": {
   "display_name": "Python 2",
   "language": "python",
   "name": "python2"
  },
  "language_info": {
   "codemirror_mode": {
    "name": "ipython",
    "version": 2
   },
   "file_extension": ".py",
   "mimetype": "text/x-python",
   "name": "python",
   "nbconvert_exporter": "python",
   "pygments_lexer": "ipython2",
   "version": "2.7.9"
  }
 },
 "nbformat": 4,
 "nbformat_minor": 2
}
