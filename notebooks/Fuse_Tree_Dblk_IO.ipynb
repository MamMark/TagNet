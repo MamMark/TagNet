{
 "cells": [
  {
   "cell_type": "code",
   "execution_count": 1,
   "metadata": {
    "scrolled": false
   },
   "outputs": [
    {
     "name": "stdout",
     "output_type": "stream",
     "text": [
      "('tagnet: ', '/usr/local/lib/python2.7/dist-packages/ipykernel_launcher.py', '/mnt/Open/TagNet/notebooks')\n",
      "tagnet driver version 0.0.25\n"
     ]
    }
   ],
   "source": [
    "from __future__ import print_function\n",
    "\n",
    "import os\n",
    "import sys\n",
    "\n",
    "# save current stdout and reset after all of the imports to fix print problem\n",
    "# when changing defaultencoding.\n",
    "stdout = sys.stdout\n",
    "\n",
    "import logging\n",
    "from collections import defaultdict, OrderedDict\n",
    "from errno import ENOENT, ENODATA\n",
    "from stat import S_IFDIR, S_IFLNK, S_IFREG\n",
    "from sys import argv, exit, path\n",
    "from time import time, sleep\n",
    "from datetime import datetime\n",
    "import struct as pystruct\n",
    "from binascii import hexlify\n",
    "\n",
    "sys.path.insert(0,\"../tagfuse\")\n",
    "from tagfuse import *\n",
    "sys.path.insert(0,\"../tagnet\")\n",
    "from tagnet import *\n",
    "\n",
    "if not hasattr(__builtins__, 'bytes'):\n",
    "    bytes = str\n",
    "\n",
    "reload(sys)\n",
    "sys.setdefaultencoding('utf-8')\n",
    "sys.stdout = stdout"
   ]
  },
  {
   "cell_type": "markdown",
   "metadata": {},
   "source": [
    "## Show dblk size\n",
    "`ls -l /<node_id:ffffffffffff>/tag/sd/0/img/dblk/byte`\n",
    "## Show dblk current record number\n",
    "`ls -al /<node_id:ffffffffffff>/tag/sd/0/img/dblk/.recnum`\n",
    "## Show dblk current last known record offset\n",
    "`ls -l /<node_id:ffffffffffff>/tag/sd/0/img/dblk/.last_rec`\n",
    "## Show dblk current last known SYNC record offset\n",
    "`ls -l /<node_id:ffffffffffff>/tag/sd/0/img/dblk/.last_sync`\n",
    "## `tail -f` dblk file\n",
    "`tail -f /<node_id:ffffffffffff>/tag/sd/0/img/dblk/byte`"
   ]
  },
  {
   "cell_type": "code",
   "execution_count": 2,
   "metadata": {},
   "outputs": [],
   "source": [
    "from fuse import FuseOSError"
   ]
  },
  {
   "cell_type": "code",
   "execution_count": 3,
   "metadata": {},
   "outputs": [],
   "source": [
    "import inspect"
   ]
  },
  {
   "cell_type": "code",
   "execution_count": 29,
   "metadata": {},
   "outputs": [
    {
     "data": {
      "text/plain": [
       "('tagfuse', '0.0.32')"
      ]
     },
     "execution_count": 29,
     "metadata": {},
     "output_type": "execute_result"
    }
   ],
   "source": [
    "from tagfuse.tagfuseargs import __version__\n",
    "'tagfuse', __version__"
   ]
  },
  {
   "cell_type": "code",
   "execution_count": 4,
   "metadata": {},
   "outputs": [
    {
     "name": "stdout",
     "output_type": "stream",
     "text": [
      "('si446x version: ', '0.2.6')\n"
     ]
    }
   ],
   "source": [
    "from tagfuse.radioutils import radio_start\n",
    "radio = radio_start()"
   ]
  },
  {
   "cell_type": "markdown",
   "metadata": {},
   "source": [
    "```\n",
    "positional arguments:\n",
    "  mountpoint            directory To Be Used As Mountpoint\n",
    "\n",
    "optional arguments:\n",
    "  -h, --help            show this help message and exit\n",
    "  -s SPARSE_DIR, --sparse_dir SPARSE_DIR\n",
    "                        directory To where sparsefiles are stored\n",
    "  --disable_sparse      disable using the sparse file\n",
    "  --disable_sparse_read disable reading from sparse file, still write\n",
    "  -b, --background\n",
    "  -V, --version         show program's version number and exit\n",
    "  -v, --verbosity       increase output verbosity\n",
    "```"
   ]
  },
  {
   "cell_type": "code",
   "execution_count": 5,
   "metadata": {},
   "outputs": [],
   "source": [
    "from tagfuse.tagfuseargs import process_cmd_args, get_cmd_args"
   ]
  },
  {
   "cell_type": "code",
   "execution_count": 6,
   "metadata": {},
   "outputs": [],
   "source": [
    "import tagfuse.tagfuseargs\n",
    "tagfuse.tagfuseargs.global_args"
   ]
  },
  {
   "cell_type": "code",
   "execution_count": 7,
   "metadata": {},
   "outputs": [],
   "source": [
    "tagfuse.tagfuseargs.global_args=None"
   ]
  },
  {
   "cell_type": "code",
   "execution_count": 8,
   "metadata": {},
   "outputs": [
    {
     "name": "stdout",
     "output_type": "stream",
     "text": [
      "('mountpoint', '/home/pi/tag_store')\n",
      "('verbosity turned on', 1)\n",
      "('sparse files stored here', '/tmp')\n"
     ]
    },
    {
     "data": {
      "text/plain": [
       "Namespace(background=False, disable_sparse=False, disable_sparse_read=False, mountpoint='/home/pi/tag_store', sparse_dir='/tmp', verbosity=1)"
      ]
     },
     "execution_count": 8,
     "metadata": {},
     "output_type": "execute_result"
    }
   ],
   "source": [
    "#sys.argv = ['tagfuse.py', '~/tags', '--disable_sparse']\n",
    "sys.argv = ['tagfuse.py', '/home/pi/tag_store']\n",
    "process_cmd_args()\n",
    "get_cmd_args()"
   ]
  },
  {
   "cell_type": "code",
   "execution_count": 9,
   "metadata": {},
   "outputs": [
    {
     "name": "stdout",
     "output_type": "stream",
     "text": [
      "loading sparsefile\n",
      "*** TagFuseTree.py ending\n",
      "sparse handler init: /tmp\n"
     ]
    }
   ],
   "source": [
    "from tagfuse.tagfusetree import TagFuseRootTree\n",
    "tag_tree = TagFuseRootTree(radio)"
   ]
  },
  {
   "cell_type": "code",
   "execution_count": 10,
   "metadata": {},
   "outputs": [],
   "source": [
    "#%tb"
   ]
  },
  {
   "cell_type": "code",
   "execution_count": 11,
   "metadata": {},
   "outputs": [],
   "source": [
    "def LocateNode(tag_tree, path):\n",
    "    path_list = path2list(path)\n",
    "    # print(path_list)\n",
    "    if (path == '/'):\n",
    "        print('located root')\n",
    "        return tag_tree, path_list\n",
    "    return tag_tree.traverse(path_list, 0)\n",
    "\n",
    "def DeleteNode(path, node):\n",
    "    pass\n",
    "\n",
    "def path2list(path):\n",
    "    path = os.path.abspath(os.path.realpath(path))\n",
    "    return path.split('/')[1:]"
   ]
  },
  {
   "cell_type": "code",
   "execution_count": 12,
   "metadata": {},
   "outputs": [
    {
     "data": {
      "text/plain": [
       "['']"
      ]
     },
     "execution_count": 12,
     "metadata": {},
     "output_type": "execute_result"
    }
   ],
   "source": [
    "path2list('/')"
   ]
  },
  {
   "cell_type": "code",
   "execution_count": 13,
   "metadata": {},
   "outputs": [
    {
     "data": {
      "text/plain": [
       "['.test']"
      ]
     },
     "execution_count": 13,
     "metadata": {},
     "output_type": "execute_result"
    }
   ],
   "source": [
    "path2list('/.test/')"
   ]
  },
  {
   "cell_type": "code",
   "execution_count": null,
   "metadata": {},
   "outputs": [],
   "source": []
  },
  {
   "cell_type": "markdown",
   "metadata": {},
   "source": [
    "## Get Poll Count"
   ]
  },
  {
   "cell_type": "code",
   "execution_count": 14,
   "metadata": {},
   "outputs": [
    {
     "name": "stdout",
     "output_type": "stream",
     "text": [
      "ByteIOFileHandler([('st_ctime', 1522126049.877943), ('st_mtime', 1522126049.877945), ('st_nlink', 1), ('st_gid', 1000), ('st_blksize', 512), ('st_size', 0), ('st_atime', 1522126049.877946), ('st_uid', 1000), ('st_mode', 33060)])\n",
      "['<node_id:ffffffffffff>', 'tag', 'poll', 'cnt']\n"
     ]
    }
   ],
   "source": [
    "path='/ffffffffffff/tag/poll/cnt'\n",
    "handler, path_list = LocateNode(tag_tree, path)\n",
    "print(handler)\n",
    "print(path_list)"
   ]
  },
  {
   "cell_type": "code",
   "execution_count": 15,
   "metadata": {},
   "outputs": [
    {
     "data": {
      "text/plain": [
       "ByteIOFileHandler([('st_ctime', 1522126049.877943),\n",
       "                   ('st_mtime', 1522126057.419081),\n",
       "                   ('st_nlink', 1),\n",
       "                   ('st_gid', 1000),\n",
       "                   ('st_blksize', 512),\n",
       "                   ('st_size', 0),\n",
       "                   ('st_atime', 1522126049.877946),\n",
       "                   ('st_uid', 1000),\n",
       "                   ('st_mode', 33060)])"
      ]
     },
     "execution_count": 15,
     "metadata": {},
     "output_type": "execute_result"
    }
   ],
   "source": [
    "handler.getattr(path_list, update=True)"
   ]
  },
  {
   "cell_type": "markdown",
   "metadata": {},
   "source": [
    "## Get Poll Events"
   ]
  },
  {
   "cell_type": "code",
   "execution_count": null,
   "metadata": {},
   "outputs": [],
   "source": [
    "path='/ffffffffffff/tag/poll/ev'\n",
    "handler, path_list = LocateNode(tag_tree, path)\n",
    "type(handler)"
   ]
  },
  {
   "cell_type": "code",
   "execution_count": null,
   "metadata": {},
   "outputs": [],
   "source": [
    "handler.getattr(path_list, update=True)"
   ]
  },
  {
   "cell_type": "markdown",
   "metadata": {},
   "source": [
    "## Read Dblk "
   ]
  },
  {
   "cell_type": "code",
   "execution_count": null,
   "metadata": {},
   "outputs": [],
   "source": [
    "STOP"
   ]
  },
  {
   "cell_type": "code",
   "execution_count": 16,
   "metadata": {},
   "outputs": [
    {
     "data": {
      "text/plain": [
       "tagfuse.taghandlers.SparseIOFileHandler"
      ]
     },
     "execution_count": 16,
     "metadata": {},
     "output_type": "execute_result"
    }
   ],
   "source": [
    "path='/ffffffffffff/tag/sd/0/dblk/byte'\n",
    "handler, path_list = LocateNode(tag_tree, path)\n",
    "type(handler)"
   ]
  },
  {
   "cell_type": "code",
   "execution_count": 17,
   "metadata": {
    "scrolled": true
   },
   "outputs": [
    {
     "name": "stdout",
     "output_type": "stream",
     "text": [
      "*** sparsefile init /tmp/<node_id:ffffffffffff>_tag_sd_0_dblk_byte\n"
     ]
    },
    {
     "data": {
      "text/plain": [
       "SparseIOFileHandler([('st_ctime', 1522126049.880934),\n",
       "                     ('st_mtime', 1522126063.415092),\n",
       "                     ('st_nlink', 1),\n",
       "                     ('st_gid', 1000),\n",
       "                     ('st_blksize', 512),\n",
       "                     ('st_size', 9068852),\n",
       "                     ('st_atime', 1522126049.880937),\n",
       "                     ('st_uid', 1000),\n",
       "                     ('st_mode', 33060)])"
      ]
     },
     "execution_count": 17,
     "metadata": {},
     "output_type": "execute_result"
    }
   ],
   "source": [
    "attrs = handler.getattr(path_list, update=True)\n",
    "attrs"
   ]
  },
  {
   "cell_type": "code",
   "execution_count": 28,
   "metadata": {},
   "outputs": [
    {
     "name": "stdout",
     "output_type": "stream",
     "text": [
      "read p/l:512/100\n",
      "*** 4 sparsefile, cur/max number of blocks: 5/4, max block size: 1\n"
     ]
    },
    {
     "data": {
      "text/plain": [
       "bytearray(b'\\x80\\x00\\x01\\x00\\x01\\x00\\x00\\x00q\\x00\\x00\\x00\\x00\\x00\\x00\\x00\\r\\x13\\x00\\x00\\x00\\x00\\x00\\x00\\x7f&\\x00\\x00\\x00\\x00\\x00\\x00\\xef\\x00\\xdf\\xde\\x10\\x00\\x00\\x00\\x00\\x00\\x00\\x00\\xba\\xfa\\xba\\xfa\\x00\\x00\\x00\\x00\\x00\\x00\\x00\\x00\\x00\\x00\\x00\\x00\\x01\\x00\\x00\\x00\\x00\\x00\\x00\\x00\\xff\\xff\\xff\\xff\\x00\\x00\\x00\\x00\\x00\\x00\\x00\\x80\\x00\\x00\\x00\\x00\\x00\\x00\\x00\\x00\\xba\\xfa\\xba\\xfa\\x00\\x02\\x00\\x01\\x01\\x00\\x00\\x00')"
      ]
     },
     "execution_count": 28,
     "metadata": {},
     "output_type": "execute_result"
    }
   ],
   "source": [
    "handler.read(path_list, 100, 512)"
   ]
  },
  {
   "cell_type": "code",
   "execution_count": null,
   "metadata": {},
   "outputs": [],
   "source": [
    "handler.unlink(path_list)"
   ]
  },
  {
   "cell_type": "code",
   "execution_count": 23,
   "metadata": {},
   "outputs": [
    {
     "data": {
      "text/plain": [
       "SparseIOFileHandler([('st_ctime', 1522126049.880934),\n",
       "                     ('st_mtime', 1522126115.009572),\n",
       "                     ('st_nlink', 1),\n",
       "                     ('st_gid', 1000),\n",
       "                     ('st_blksize', 512),\n",
       "                     ('st_size', 9068852),\n",
       "                     ('st_atime', 1522126049.880937),\n",
       "                     ('st_uid', 1000),\n",
       "                     ('st_mode', 33060)])"
      ]
     },
     "execution_count": 23,
     "metadata": {},
     "output_type": "execute_result"
    }
   ],
   "source": [
    "attrs = handler.getattr(path_list, update=True)\n",
    "eof_offset = attrs['st_size']-1024\n",
    "array = handler.read(path_list, 1024, eof_offset)\n",
    "(attrs)"
   ]
  },
  {
   "cell_type": "code",
   "execution_count": null,
   "metadata": {},
   "outputs": [],
   "source": [
    "(eof_offset, len(array), hexlify(array[:24]))"
   ]
  },
  {
   "cell_type": "code",
   "execution_count": null,
   "metadata": {
    "scrolled": false
   },
   "outputs": [],
   "source": [
    "attrs = handler.getattr(path_list, update=True)\n",
    "eof_offset = attrs['st_size']\n",
    "array = bytearray()\n",
    "for i in range(10):\n",
    "    try:\n",
    "        buf = handler.read(path_list, 2, eof_offset)\n",
    "        #print(len(array), hexlify(array[:24]))\n",
    "        array += buf\n",
    "        eof_offset += len(buf)\n",
    "    except FuseOSError:\n",
    "        sleep(.3)\n",
    "        attrs = handler.getattr(path_list, update=True)\n",
    "        print('check for new eof', eof_offset, attrs['st_size'])"
   ]
  },
  {
   "cell_type": "code",
   "execution_count": null,
   "metadata": {},
   "outputs": [],
   "source": [
    "len(array), array"
   ]
  },
  {
   "cell_type": "raw",
   "metadata": {},
   "source": []
  },
  {
   "cell_type": "code",
   "execution_count": null,
   "metadata": {},
   "outputs": [],
   "source": []
  },
  {
   "cell_type": "markdown",
   "metadata": {},
   "source": [
    "##  Dblk Sparse IO Test "
   ]
  },
  {
   "cell_type": "code",
   "execution_count": null,
   "metadata": {},
   "outputs": [],
   "source": [
    "STOP"
   ]
  },
  {
   "cell_type": "code",
   "execution_count": null,
   "metadata": {},
   "outputs": [],
   "source": [
    "path='/ffffffffffff/tag/sd/0/dblk/byte'\n",
    "handler, path_list = LocateNode(tag_tree, path)\n",
    "type(handler)\n",
    "from binascii import hexlify"
   ]
  },
  {
   "cell_type": "code",
   "execution_count": null,
   "metadata": {},
   "outputs": [],
   "source": [
    "type(handler)"
   ]
  },
  {
   "cell_type": "code",
   "execution_count": null,
   "metadata": {},
   "outputs": [],
   "source": [
    "handler.sparse"
   ]
  },
  {
   "cell_type": "code",
   "execution_count": null,
   "metadata": {
    "scrolled": true
   },
   "outputs": [],
   "source": [
    "s = []\n",
    "if (handler.sparse) and (len(handler.sparse)):\n",
    "    for k,v in handler.sparse.items():\n",
    "        s += (k,len(v))\n",
    "(s)"
   ]
  },
  {
   "cell_type": "code",
   "execution_count": null,
   "metadata": {},
   "outputs": [],
   "source": [
    "attrs = handler.getattr(path_list, update=True)\n",
    "attrs"
   ]
  },
  {
   "cell_type": "code",
   "execution_count": null,
   "metadata": {},
   "outputs": [],
   "source": [
    "b = handler.read(path_list, 1, 1)\n",
    "(len(b), hexlify(b))"
   ]
  },
  {
   "cell_type": "code",
   "execution_count": null,
   "metadata": {
    "scrolled": true
   },
   "outputs": [],
   "source": [
    "b = handler.read(path_list, 4*512, 0*512)\n",
    "print(len(b), hexlify(b))"
   ]
  },
  {
   "cell_type": "code",
   "execution_count": null,
   "metadata": {},
   "outputs": [],
   "source": [
    "handler.flush(path_list)"
   ]
  },
  {
   "cell_type": "code",
   "execution_count": null,
   "metadata": {},
   "outputs": [],
   "source": [
    "handler.unlink(path_list)"
   ]
  },
  {
   "cell_type": "markdown",
   "metadata": {},
   "source": [
    "## Extended Dblk Sparse IO Test"
   ]
  },
  {
   "cell_type": "code",
   "execution_count": null,
   "metadata": {},
   "outputs": [],
   "source": [
    "STOP"
   ]
  },
  {
   "cell_type": "code",
   "execution_count": null,
   "metadata": {},
   "outputs": [],
   "source": [
    "import random"
   ]
  },
  {
   "cell_type": "code",
   "execution_count": null,
   "metadata": {},
   "outputs": [],
   "source": [
    "random.seed(.5)\n",
    "random_state = random.getstate()"
   ]
  },
  {
   "cell_type": "code",
   "execution_count": null,
   "metadata": {},
   "outputs": [],
   "source": [
    "def random_size(nx):\n",
    "    return random.randint(1, nx)\n",
    "#    return 100\n",
    "def random_offset(eof):\n",
    "#    return 0\n",
    "    return random.randint(0, eof)"
   ]
  },
  {
   "cell_type": "code",
   "execution_count": null,
   "metadata": {},
   "outputs": [],
   "source": [
    "attrs = handler.getattr(path_list, update=True)\n",
    "attrs"
   ]
  },
  {
   "cell_type": "code",
   "execution_count": null,
   "metadata": {},
   "outputs": [],
   "source": [
    "sg_buf = handler.read(path_list, 1000, 0)\n",
    "(len(sg_buf))"
   ]
  },
  {
   "cell_type": "code",
   "execution_count": null,
   "metadata": {},
   "outputs": [],
   "source": [
    "handler.unlink(path_list)"
   ]
  },
  {
   "cell_type": "code",
   "execution_count": null,
   "metadata": {},
   "outputs": [],
   "source": [
    "#handler.sparse.clear()\n",
    "#len(handler.sparse)"
   ]
  },
  {
   "cell_type": "code",
   "execution_count": null,
   "metadata": {},
   "outputs": [],
   "source": [
    "random.setstate(random_state)"
   ]
  },
  {
   "cell_type": "code",
   "execution_count": null,
   "metadata": {
    "scrolled": true
   },
   "outputs": [],
   "source": [
    "cur_eof = 2000\n",
    "max_len = 213\n",
    "first_time = True\n",
    "limit = 20000\n",
    "results = []\n",
    "b  = bytearray()\n",
    "\n",
    "sg_buf = handler.read(path_list, cur_eof, 0)\n",
    "print(len(sg_buf))\n",
    "handler.unlink(path_list)\n",
    "\n",
    "for i in range(limit):\n",
    "    #cur_eof = attrs['st_size']\n",
    "    sz = random_size(max_len)\n",
    "    of = random_offset(cur_eof)\n",
    "    sz = sz if (sz < (cur_eof-of)) else cur_eof-of\n",
    "    if sz == 0:\n",
    "        continue\n",
    "    print('>> {} >> next read, eof: {}, size to read: {}, offset to read: {}'.format(\n",
    "        i+1, cur_eof, sz, of))\n",
    "    b = handler.read(path_list, sz, of)\n",
    "    if b != sg_buf[of:of+sz]:\n",
    "        print('bad read', len(b), hexlify(b[:24]))\n",
    "        print('        ', len(sg_buf[of:of+24]), hexlify(sg_buf[of:of+24]))\n",
    "    # print(len(b), hexlify(b[:24]))\n",
    "    results += (of, sz, len(b))\n",
    "    attrs = handler.getattr(path_list, update=True)\n",
    "    sleep(.1)\n",
    "    if (len(handler.sparse) == 1):\n",
    "        if first_time:\n",
    "            first_time = False\n",
    "            continue\n",
    "        try:\n",
    "            if len(handler.sparse[0]) == cur_eof:\n",
    "                sp_buf = handler.sparse[0]\n",
    "                print('*** complete')\n",
    "                break\n",
    "        except KeyError:\n",
    "            print('*** still missing data')\n",
    "print('results', sg_buf == sp_buf)"
   ]
  },
  {
   "cell_type": "code",
   "execution_count": null,
   "metadata": {
    "scrolled": false
   },
   "outputs": [],
   "source": [
    "s = []\n",
    "if (handler.sparse) and (len(handler.sparse)):\n",
    "    for k,v in handler.sparse.items():\n",
    "        s.append(tuple((k,len(v))))\n",
    "(len(s), s)"
   ]
  },
  {
   "cell_type": "code",
   "execution_count": null,
   "metadata": {},
   "outputs": [],
   "source": [
    "sp_buf = handler.sparse[0]"
   ]
  },
  {
   "cell_type": "code",
   "execution_count": null,
   "metadata": {},
   "outputs": [],
   "source": [
    "sp_buf == sg_buf"
   ]
  },
  {
   "cell_type": "code",
   "execution_count": null,
   "metadata": {},
   "outputs": [],
   "source": [
    "STOP"
   ]
  },
  {
   "cell_type": "code",
   "execution_count": null,
   "metadata": {},
   "outputs": [],
   "source": [
    "handler.unlink(path_list)"
   ]
  },
  {
   "cell_type": "code",
   "execution_count": null,
   "metadata": {},
   "outputs": [],
   "source": [
    "handler.sparse.clear()"
   ]
  },
  {
   "cell_type": "code",
   "execution_count": null,
   "metadata": {},
   "outputs": [],
   "source": [
    "handler.sparse"
   ]
  },
  {
   "cell_type": "code",
   "execution_count": null,
   "metadata": {},
   "outputs": [],
   "source": [
    "handler.getattr(path_list, update=True)"
   ]
  },
  {
   "cell_type": "code",
   "execution_count": null,
   "metadata": {},
   "outputs": [],
   "source": [
    "handler.read(path_list, 3, 0)"
   ]
  },
  {
   "cell_type": "markdown",
   "metadata": {},
   "source": [
    "## Test Chest Module"
   ]
  },
  {
   "cell_type": "code",
   "execution_count": null,
   "metadata": {},
   "outputs": [],
   "source": [
    "STOP"
   ]
  },
  {
   "cell_type": "code",
   "execution_count": null,
   "metadata": {},
   "outputs": [],
   "source": [
    "import os\n",
    "from chest import Chest"
   ]
  },
  {
   "cell_type": "code",
   "execution_count": null,
   "metadata": {},
   "outputs": [],
   "source": [
    "os.mkdir('echo')"
   ]
  },
  {
   "cell_type": "code",
   "execution_count": null,
   "metadata": {},
   "outputs": [],
   "source": [
    "c=Chest(path='echo/1')"
   ]
  },
  {
   "cell_type": "code",
   "execution_count": null,
   "metadata": {},
   "outputs": [],
   "source": [
    "c[100]='100'\n",
    "c[200] = '200'"
   ]
  },
  {
   "cell_type": "code",
   "execution_count": null,
   "metadata": {},
   "outputs": [],
   "source": [
    "for k in c: print(k)"
   ]
  },
  {
   "cell_type": "code",
   "execution_count": null,
   "metadata": {},
   "outputs": [],
   "source": [
    "c.flush()"
   ]
  },
  {
   "cell_type": "code",
   "execution_count": null,
   "metadata": {},
   "outputs": [],
   "source": [
    "c.clear()"
   ]
  },
  {
   "cell_type": "code",
   "execution_count": null,
   "metadata": {},
   "outputs": [],
   "source": [
    "c.drop()"
   ]
  },
  {
   "cell_type": "code",
   "execution_count": null,
   "metadata": {
    "scrolled": true
   },
   "outputs": [],
   "source": [
    "help(Chest)"
   ]
  },
  {
   "cell_type": "markdown",
   "metadata": {},
   "source": [
    "## Get Poll Count and Events (msg level)"
   ]
  },
  {
   "cell_type": "code",
   "execution_count": null,
   "metadata": {},
   "outputs": [],
   "source": [
    "STOP"
   ]
  },
  {
   "cell_type": "code",
   "execution_count": null,
   "metadata": {},
   "outputs": [],
   "source": [
    "def get_poll_info(radio, path, name):\n",
    "    \n",
    "    def _get_poll_msg(path, name):\n",
    "        tlv_list = path2tlvs(path2list(path))\n",
    "        tlv_list.append(TagTlv(name))\n",
    "        req_obj = TagHead(TagName(tlv_list))\n",
    "        return req_obj\n",
    "\n",
    "    req_msg = _get_poll_msg(path, name)\n",
    "    err, payload = msg_exchange(radio, req_msg)\n",
    "    if (err is None) or (err == tlv_errors.SUCCESS):\n",
    "        size = payload2values(payload,\n",
    "                                [tlv_types.SIZE,\n",
    "                                ])[0]\n",
    "\n",
    "        return size\n",
    "    return None"
   ]
  },
  {
   "cell_type": "code",
   "execution_count": null,
   "metadata": {},
   "outputs": [],
   "source": [
    "TAG_PATH = '/<node_id:ffffffffffff>/tag/poll'"
   ]
  },
  {
   "cell_type": "code",
   "execution_count": null,
   "metadata": {},
   "outputs": [],
   "source": [
    "print('poll count', get_poll_info(radio, TAG_PATH, 'cnt'))\n",
    "print('poll events', get_poll_info(radio, TAG_PATH, 'ev'))"
   ]
  },
  {
   "cell_type": "markdown",
   "metadata": {},
   "source": [
    "## Write Dblk Note"
   ]
  },
  {
   "cell_type": "code",
   "execution_count": null,
   "metadata": {},
   "outputs": [],
   "source": [
    "STOP"
   ]
  },
  {
   "cell_type": "code",
   "execution_count": null,
   "metadata": {},
   "outputs": [],
   "source": [
    "path='/ffffffffffff/tag/sd/0/dblk/note'\n",
    "handler, path_list = LocateNode(tag_tree, path)\n",
    "type(handler)"
   ]
  },
  {
   "cell_type": "code",
   "execution_count": null,
   "metadata": {},
   "outputs": [],
   "source": [
    "handler.write(path_list, 'this is a note', 0)"
   ]
  },
  {
   "cell_type": "code",
   "execution_count": null,
   "metadata": {},
   "outputs": [],
   "source": [
    "handler.getattr(path_list, update=True)"
   ]
  },
  {
   "cell_type": "markdown",
   "metadata": {},
   "source": [
    "## test locateNode"
   ]
  },
  {
   "cell_type": "code",
   "execution_count": null,
   "metadata": {},
   "outputs": [],
   "source": [
    "STOP"
   ]
  },
  {
   "cell_type": "code",
   "execution_count": null,
   "metadata": {},
   "outputs": [],
   "source": [
    "path='/ffffffffffff/tag/sd/0/dblk/note'\n",
    "path='/'\n",
    "handler, path_list = LocateNode(tag_tree, path)\n",
    "type(handler)"
   ]
  },
  {
   "cell_type": "code",
   "execution_count": null,
   "metadata": {},
   "outputs": [],
   "source": [
    "handler"
   ]
  },
  {
   "cell_type": "code",
   "execution_count": null,
   "metadata": {},
   "outputs": [],
   "source": []
  },
  {
   "cell_type": "markdown",
   "metadata": {},
   "source": [
    "##  Echo Test "
   ]
  },
  {
   "cell_type": "code",
   "execution_count": null,
   "metadata": {},
   "outputs": [],
   "source": [
    "STOP"
   ]
  },
  {
   "cell_type": "code",
   "execution_count": null,
   "metadata": {},
   "outputs": [],
   "source": [
    "path='/.test/echo'\n",
    "handler, path_list = LocateNode(tag_tree, path)\n",
    "type(handler)\n",
    "from binascii import hexlify"
   ]
  },
  {
   "cell_type": "code",
   "execution_count": null,
   "metadata": {},
   "outputs": [],
   "source": [
    "type(handler)"
   ]
  },
  {
   "cell_type": "code",
   "execution_count": null,
   "metadata": {},
   "outputs": [],
   "source": [
    "handler.sparse"
   ]
  },
  {
   "cell_type": "code",
   "execution_count": null,
   "metadata": {},
   "outputs": [],
   "source": [
    "handler.write(path_list, '\\x02' * 512, 0) + handler.write(path_list, '\\x03' * 512, 512)"
   ]
  },
  {
   "cell_type": "code",
   "execution_count": null,
   "metadata": {},
   "outputs": [],
   "source": [
    "b = handler.read(path_list, 512, 0)\n",
    "print(len(b), hexlify(b))"
   ]
  },
  {
   "cell_type": "code",
   "execution_count": null,
   "metadata": {},
   "outputs": [],
   "source": [
    "b = handler.read(path_list, 512, 512)\n",
    "print(len(b), hexlify(b))"
   ]
  },
  {
   "cell_type": "code",
   "execution_count": null,
   "metadata": {},
   "outputs": [],
   "source": [
    "try:\n",
    "    b = handler.read(path_list, 512, 1024)\n",
    "    print(len(b), hexlify(b))\n",
    "except FuseOSError as e:\n",
    "    print(e)"
   ]
  },
  {
   "cell_type": "code",
   "execution_count": null,
   "metadata": {},
   "outputs": [],
   "source": [
    "b = handler.read(path_list, 16, 500)\n",
    "print(len(b), hexlify(b))"
   ]
  },
  {
   "cell_type": "code",
   "execution_count": null,
   "metadata": {},
   "outputs": [],
   "source": [
    "attrs = handler.getattr(path_list, update=True)\n",
    "attrs"
   ]
  },
  {
   "cell_type": "code",
   "execution_count": null,
   "metadata": {},
   "outputs": [],
   "source": [
    "len(handler.sparse)"
   ]
  },
  {
   "cell_type": "code",
   "execution_count": null,
   "metadata": {},
   "outputs": [],
   "source": [
    "len(handler.sparse[0])"
   ]
  },
  {
   "cell_type": "code",
   "execution_count": null,
   "metadata": {},
   "outputs": [],
   "source": [
    "for k,v in handler.sparse.items():\n",
    "    print(k, len(v))"
   ]
  },
  {
   "cell_type": "code",
   "execution_count": null,
   "metadata": {},
   "outputs": [],
   "source": [
    "handler.flush(path_list)"
   ]
  },
  {
   "cell_type": "code",
   "execution_count": null,
   "metadata": {},
   "outputs": [],
   "source": [
    "handler.unlink(path_list)"
   ]
  },
  {
   "cell_type": "code",
   "execution_count": null,
   "metadata": {
    "scrolled": true
   },
   "outputs": [],
   "source": [
    "from chest import Chest\n",
    "help(Chest)"
   ]
  }
 ],
 "metadata": {
  "kernelspec": {
   "display_name": "Python 2",
   "language": "python",
   "name": "python2"
  },
  "language_info": {
   "codemirror_mode": {
    "name": "ipython",
    "version": 2
   },
   "file_extension": ".py",
   "mimetype": "text/x-python",
   "name": "python",
   "nbconvert_exporter": "python",
   "pygments_lexer": "ipython2",
   "version": "2.7.13"
  }
 },
 "nbformat": 4,
 "nbformat_minor": 2
}
