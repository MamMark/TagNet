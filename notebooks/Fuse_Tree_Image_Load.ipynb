{
 "cells": [
  {
   "cell_type": "markdown",
   "metadata": {},
   "source": [
    "# Operational Examples"
   ]
  },
  {
   "cell_type": "markdown",
   "metadata": {},
   "source": [
    "## Show dblk size\n",
    "`ls -l /<node_id:ffffffffffff>/tag/sd/0/img/dblk/byte`"
   ]
  },
  {
   "cell_type": "markdown",
   "metadata": {},
   "source": [
    "## Show dblk current record number\n",
    "`ls -al /<node_id:ffffffffffff>/tag/sd/0/img/dblk/.recnum`"
   ]
  },
  {
   "cell_type": "markdown",
   "metadata": {},
   "source": [
    "## Show dblk current last known record offset\n",
    "`ls -l /<node_id:ffffffffffff>/tag/sd/0/img/dblk/.last_rec`"
   ]
  },
  {
   "cell_type": "markdown",
   "metadata": {},
   "source": [
    "## Show dblk current last known SYNC record offset\n",
    "`ls -l /<node_id:ffffffffffff>/tag/sd/0/img/dblk/.last_sync`"
   ]
  },
  {
   "cell_type": "markdown",
   "metadata": {},
   "source": [
    "## `tail -f` dblk file\n",
    "`tail -f /<node_id:ffffffffffff>/tag/sd/0/img/dblk/byte`"
   ]
  },
  {
   "cell_type": "code",
   "execution_count": null,
   "metadata": {},
   "outputs": [],
   "source": []
  },
  {
   "cell_type": "code",
   "execution_count": 1,
   "metadata": {
    "scrolled": false
   },
   "outputs": [
    {
     "name": "stdout",
     "output_type": "stream",
     "text": [
      "('si446x version: ', '0.2.6')\n",
      "('tagnet: ', '/usr/local/lib/python2.7/dist-packages/ipykernel_launcher.py', '/mnt/Open/TagNet/notebooks')\n",
      "tagnet driver version 0.0.25\n",
      "370489632 -1220264363 16047 ('0x16153920', '-0x48bbc1ab', '0x3eaf')\n",
      "-2702913 -4321127 3821828 ('-0x293e41', '-0x41ef67', '0x3a5104')\n",
      "loading sparsefile\n",
      "*** TagFuseTree.py ending\n"
     ]
    }
   ],
   "source": [
    "from __future__ import print_function, absolute_import, division\n",
    "\n",
    "import logging\n",
    "import os\n",
    "import sys\n",
    "from collections import defaultdict, OrderedDict\n",
    "from errno import ENOENT, ENODATA\n",
    "from stat import S_IFDIR, S_IFLNK, S_IFREG\n",
    "from sys import argv, exit, path\n",
    "from time import time, sleep\n",
    "from datetime import datetime\n",
    "import struct as pystruct\n",
    "from binascii import hexlify\n",
    "\n",
    "sys.path.insert(0,\"../tagfuse\")\n",
    "from tagfuse import radioutils\n",
    "from tagfuse import TagFuseTree\n",
    "from tagfuse import taghandlers\n",
    "\n",
    "sys.path.insert(0,\"../tagnet\")\n",
    "from tagnet import *\n",
    "\n",
    "from fuse import FuseOSError\n",
    "\n",
    "if not hasattr(__builtins__, 'bytes'):\n",
    "    bytes = str"
   ]
  },
  {
   "cell_type": "code",
   "execution_count": 2,
   "metadata": {},
   "outputs": [],
   "source": [
    "import inspect"
   ]
  },
  {
   "cell_type": "code",
   "execution_count": 3,
   "metadata": {},
   "outputs": [
    {
     "name": "stdout",
     "output_type": "stream",
     "text": [
      "('mountpoint', '/home/pi/tags')\n",
      "('verbosity turned on', 1)\n",
      "('sparse files stored here', '/tmp')\n"
     ]
    },
    {
     "data": {
      "text/plain": [
       "Namespace(background=False, disable_sparse=True, disable_sparse_read=False, mountpoint='/home/pi/tags', sparse_dir='/tmp', verbosity=1)"
      ]
     },
     "execution_count": 3,
     "metadata": {},
     "output_type": "execute_result"
    }
   ],
   "source": [
    "from tagfuse import tagfuseargs\n",
    "sys.argv = ['tagfuse.py', '~/tags', '--disable_sparse']\n",
    "tagfuseargs.process_cmd_args()\n",
    "tagfuseargs.get_cmd_args()"
   ]
  },
  {
   "cell_type": "code",
   "execution_count": 4,
   "metadata": {},
   "outputs": [],
   "source": [
    "#tagfuse.tagfuseargs.global_args=None"
   ]
  },
  {
   "cell_type": "markdown",
   "metadata": {},
   "source": [
    "### C structures from TAG code define image info metadata\n",
    "```\n",
    "typedef struct {                        /* little endian order  */\n",
    "  uint16_t build;                       /* that's native for us */\n",
    "  uint8_t  minor;\n",
    "  uint8_t  major;\n",
    "} image_ver_t;\n",
    "\n",
    "typedef struct {\n",
    "  uint8_t  hw_rev;\n",
    "  uint8_t  hw_model;\n",
    "} hw_ver_t;\n",
    "\n",
    "typedef struct {\n",
    "  uint32_t    sig;                      /* must be IMAGE_INFO_SIG to be valid */\n",
    "  uint32_t    image_start;              /* where this binary loads            */\n",
    "  uint32_t    image_length;             /* byte length of entire image        */\n",
    "  uint32_t    vector_chk;               /* simple checksum over vector table  */\n",
    "  uint32_t    image_chk;                /* simple checksum over entire image  */\n",
    "  image_ver_t ver_id;\n",
    "  hw_ver_t    hw_ver;\n",
    "} image_info_t;\n",
    "```"
   ]
  },
  {
   "cell_type": "code",
   "execution_count": 5,
   "metadata": {},
   "outputs": [],
   "source": [
    "#def path2list(path):\n",
    "#    path = os.path.abspath(os.path.realpath(path))\n",
    "#    return path.split('/')[1:]\n",
    "\n",
    "def LocateNode(tag_tree, path):\n",
    "    # print(path2list(path))\n",
    "    if (path == '/'):\n",
    "        print('located root')\n",
    "        return tag_tree\n",
    "    return tag_tree.traverse(path2list(path), 0)\n",
    "\n",
    "def DeleteNode(path, node):\n",
    "    pass\n",
    "\n",
    "def path2list(path):\n",
    "    path = os.path.abspath(os.path.realpath(path))\n",
    "    return path.split('/')[1:]"
   ]
  },
  {
   "cell_type": "code",
   "execution_count": 6,
   "metadata": {},
   "outputs": [],
   "source": [
    "#  IMAGE_INFO provides information about a Tag software image. This data is\n",
    "#  embedded in the image itself. The IMAGE_META_OFFSET is the offset into\n",
    "#  the image where image_info lives in the image.  It directly follows the\n",
    "#  exception vectors which are 0x140 bytes long.\n",
    "# \n",
    "#  This struct will have to change, If MSP432 vector table length changes.\n",
    "# \n",
    "IMAGE_INFO_SIG = 0x33275401\n",
    "IMAGE_META_OFFSET = 0x140\n",
    "IMAGE_INFO_DEFAULT = [IMAGE_INFO_SIG, 0x20000, (0x140*2)+0x1c, 0, 0, 257, 2, 3, ' '  * 40, ' '  * 40, ' '  * 30, 0xde, 2]\n",
    "#\n",
    "# Struct created for accessing image info (little indian)\n",
    "# sig, image_start, imagelength, vector_chk, image_chk, im_build, im_minor, im_major, main_tree, aux_tree, build_time, im_rev, im_model = image_info\n",
    "#\n",
    "IM_FIELDS = '<LLLLLHBB44s44s30sBB'\n",
    "image_info_struct = pystruct.Struct(IM_FIELDS)\n",
    "IMAGE_MIN_SIZE  =  (IMAGE_META_OFFSET + image_info_struct.size)"
   ]
  },
  {
   "cell_type": "code",
   "execution_count": 7,
   "metadata": {},
   "outputs": [],
   "source": [
    "#FILENAME    = '/tmp/test.bin'\n",
    "FILENAME    = 'blink464.bin'\n",
    "FILENAME    = 'main386.bin'\n",
    "#FILENAME    = 'main442.bin'\n",
    "#FILENAME    = 'main443.bin'"
   ]
  },
  {
   "cell_type": "code",
   "execution_count": 8,
   "metadata": {},
   "outputs": [
    {
     "name": "stdout",
     "output_type": "stream",
     "text": [
      "file information\n",
      "  signature: 0x33275401, start: 0x20000, length: 0xb398, vect_chk: 0x0, image_chk: 0x0\n",
      "  version: (0.2.386(0x182)), rev: 1, model: 240\n"
     ]
    }
   ],
   "source": [
    "try:\n",
    "    infile = open(FILENAME, 'rb')\n",
    "    infile.seek(0, 2) # seek to the end\n",
    "    file_size = infile.tell()\n",
    "    if file_size < IMAGE_MIN_SIZE: raise RadioLoadException(\"input file too short\")\n",
    "    infile.seek(0, 0)    # seek to the beginnnig\n",
    "    # get image info from input file and sanity check\n",
    "    infile.seek(IMAGE_META_OFFSET) # seek to location of image info\n",
    "    image_info = image_info_struct.unpack(infile.read(image_info_struct.size))\n",
    "    print(\"file information\")\n",
    "    sig, image_start, imagelength, vector_chk, image_chk, im_build, im_minor, im_major,\\\n",
    "        main_tree, aux_tree, build_time, im_rev, im_model = image_info\n",
    "    pstr = \"  signature: 0x{:x}, start: 0x{:x}, length: 0x{:x}, vect_chk: 0x{:x}, image_chk: 0x{:x}\"\n",
    "    print(pstr.format(sig, image_start, imagelength, vector_chk, image_chk))\n",
    "    pstr = \"  version: ({}.{}.{}(0x{:x})), rev: {}, model: {}\"\n",
    "    print(pstr.format(im_major, im_minor, im_build, im_build, im_rev, im_model))\n",
    "    if sig != IMAGE_INFO_SIG: raise RadioLoadException(\"image metadata is invalid\")\n",
    "    infile.seek(0)    # seek to the beginning\n",
    "    \n",
    "finally:\n",
    "    infile.close()"
   ]
  },
  {
   "cell_type": "code",
   "execution_count": 9,
   "metadata": {},
   "outputs": [],
   "source": [
    "def _file_size(fd):\n",
    "    fd.seek(0, 2) # seek to the end\n",
    "    _size = fd.tell()\n",
    "    if _size < IMAGE_MIN_SIZE: raise RadioLoadException(\"input file too short\")\n",
    "    fd.seek(0, 0)    # seek to the beginnnig\n",
    "    return _size"
   ]
  },
  {
   "cell_type": "code",
   "execution_count": 10,
   "metadata": {},
   "outputs": [],
   "source": [
    "def get_image_info(filename):\n",
    "    print(filename)\n",
    "    infile = open(filename, 'rb')\n",
    "    file_size = _file_size(infile)\n",
    "\n",
    "    # get image info from input file and sanity check\n",
    "    infile.seek(IMAGE_META_OFFSET) # seek to location of image info\n",
    "    image_info = image_info_struct.unpack(infile.read(image_info_struct.size))\n",
    "    print(\"file information\")\n",
    "    sig, image_start, imagelength, vector_chk, image_chk, im_build, im_minor, im_major,\\\n",
    "            main_tree, aux_tree, build_time, im_rev, im_model = image_info\n",
    "    pstr = \"  signature: 0x{:x}, start: 0x{:x}, length: 0x{:x}, vect_chk: 0x{:x}, image_chk: 0x{:x}\"\n",
    "    print(pstr.format(sig, image_start, imagelength, vector_chk, image_chk))\n",
    "    pstr = \"  version: ({}.{}.{}(0x{:x})), rev: {}, model: {}\"\n",
    "    print(pstr.format(im_major, im_minor, im_build, im_build, im_rev, im_model))\n",
    "    if sig != IMAGE_INFO_SIG:\n",
    "        raise RadioLoadException(\"image info is corrupted\")\n",
    "    if imagelength != file_size:\n",
    "        raise RadioLoadException(\"file size doesn't match image info, file: {}, info: {}\".format(\n",
    "                                                                                        file_size,\n",
    "                                                                                        imageLength))\n",
    "    infile.seek(0)    # seek back to the beginnnig\n",
    "    return (infile, (im_major, im_minor, im_build), imagelength)"
   ]
  },
  {
   "cell_type": "code",
   "execution_count": 11,
   "metadata": {},
   "outputs": [
    {
     "name": "stdout",
     "output_type": "stream",
     "text": [
      "main386.bin\n",
      "file information\n",
      "  signature: 0x33275401, start: 0x20000, length: 0xb398, vect_chk: 0x0, image_chk: 0x0\n",
      "  version: (0.2.386(0x182)), rev: 1, model: 240\n",
      "(0, 2, 386) 45976\n"
     ]
    }
   ],
   "source": [
    "fd, vers, size = get_image_info(FILENAME)\n",
    "fd.close()\n",
    "print(vers,size)"
   ]
  },
  {
   "cell_type": "code",
   "execution_count": 12,
   "metadata": {},
   "outputs": [],
   "source": [
    "def default_image(filename):\n",
    "    # write out simple default binary input file for testing purposes\n",
    "    #\n",
    "    if not os.path.isfile(filename):\n",
    "        with open(filename,'wb') as outfile:\n",
    "            buf = bytearray(IMAGE_META_OFFSET)\n",
    "            for x in range(1,IMAGE_META_OFFSET): buf[x] = x & 0x7f\n",
    "            outfile.write(buf)\n",
    "            outfile.write(bytearray(image_info_struct.pack(*IMAGE_INFO_DEFAULT)))\n",
    "            for i in range(64):\n",
    "                for x in range(256): buf[x] = x & 0x7f\n",
    "                outfile.write(buf)"
   ]
  },
  {
   "cell_type": "code",
   "execution_count": 13,
   "metadata": {},
   "outputs": [],
   "source": [
    "def get_name_from_class(model):\n",
    "    c = model.__class__.__mro__[0]\n",
    "    name = c.__module__ + \".\" + c.__name__\n",
    "    return name"
   ]
  },
  {
   "cell_type": "code",
   "execution_count": 14,
   "metadata": {},
   "outputs": [
    {
     "name": "stderr",
     "output_type": "stream",
     "text": [
      "/mnt/Open/TagNet/tagfuse/../si446x/si446x/si446xradio.py:711: RuntimeWarning: This channel is already in use, continuing anyway.  Use GPIO.setwarnings(False) to disable warnings.\n",
      "  GPIO.setup(GPIO_SDN,GPIO.OUT)   #  [sdn]\n"
     ]
    }
   ],
   "source": [
    "radio = radioutils.radio_start()"
   ]
  },
  {
   "cell_type": "code",
   "execution_count": 15,
   "metadata": {},
   "outputs": [
    {
     "name": "stdout",
     "output_type": "stream",
     "text": [
      "sparse handler init: /tmp\n"
     ]
    }
   ],
   "source": [
    "tag_tree = TagFuseTree.TagFuseRootTree(radio)\n",
    "tree_root = tag_tree"
   ]
  },
  {
   "cell_type": "code",
   "execution_count": 16,
   "metadata": {
    "scrolled": false
   },
   "outputs": [
    {
     "name": "stdout",
     "output_type": "stream",
     "text": [
      "located root\n",
      "<class 'tagfuse.taghandlers.PollNetDirHandler'>\n"
     ]
    }
   ],
   "source": [
    "path='/'\n",
    "handler = LocateNode(tag_tree, path)\n",
    "print(type(handler))"
   ]
  },
  {
   "cell_type": "code",
   "execution_count": 17,
   "metadata": {
    "scrolled": true
   },
   "outputs": [
    {
     "data": {
      "text/plain": [
       "True"
      ]
     },
     "execution_count": 17,
     "metadata": {},
     "output_type": "execute_result"
    }
   ],
   "source": [
    "h = tree_root\n",
    "isinstance(h, taghandlers.DirHandler)"
   ]
  },
  {
   "cell_type": "code",
   "execution_count": 18,
   "metadata": {},
   "outputs": [
    {
     "name": "stdout",
     "output_type": "stream",
     "text": [
      "<class 'tagfuse.taghandlers.PollNetDirHandler'> <type 'type'> <class 'tagfuse.taghandlers.PollNetDirHandler'> <type 'type'>\n",
      "True True False\n",
      "True True False\n"
     ]
    }
   ],
   "source": [
    "res = inspect.getmembers(h)\n",
    "for x, y in res:\n",
    "    if (x == '__class__'):\n",
    "        break\n",
    "print(y,type(y),type(h),type(taghandlers.DirHandler))\n",
    "print(isinstance(h,y), isinstance(h,taghandlers.DirHandler), isinstance(y,taghandlers.DirHandler))\n",
    "print(issubclass(type(h),y), issubclass(type(h),taghandlers.DirHandler), issubclass(type(y),taghandlers.DirHandler))"
   ]
  },
  {
   "cell_type": "code",
   "execution_count": 19,
   "metadata": {},
   "outputs": [
    {
     "data": {
      "text/plain": [
       "FileHandler([('st_ctime', 1523517058.096736),\n",
       "             ('st_mtime', 1523517058.096738),\n",
       "             ('st_nlink', 4),\n",
       "             ('st_gid', 1000),\n",
       "             ('st_blksize', 512),\n",
       "             ('st_size', 0),\n",
       "             ('st_atime', 1523517058.09674),\n",
       "             ('st_uid', 1000),\n",
       "             ('st_mode', 16873)])"
      ]
     },
     "execution_count": 19,
     "metadata": {},
     "output_type": "execute_result"
    }
   ],
   "source": [
    "h['']"
   ]
  },
  {
   "cell_type": "code",
   "execution_count": 20,
   "metadata": {},
   "outputs": [
    {
     "data": {
      "text/plain": [
       "FileHandler([('st_ctime', 1523517058.096736),\n",
       "             ('st_mtime', 1523517058.096738),\n",
       "             ('st_nlink', 4),\n",
       "             ('st_gid', 1000),\n",
       "             ('st_blksize', 512),\n",
       "             ('st_size', 0),\n",
       "             ('st_atime', 1523517058.09674),\n",
       "             ('st_uid', 1000),\n",
       "             ('st_mode', 16873)])"
      ]
     },
     "execution_count": 20,
     "metadata": {},
     "output_type": "execute_result"
    }
   ],
   "source": [
    "handler['']"
   ]
  },
  {
   "cell_type": "code",
   "execution_count": 21,
   "metadata": {
    "scrolled": true
   },
   "outputs": [
    {
     "data": {
      "text/plain": [
       "(DirHandler([('',\n",
       "              FileHandler([('st_ctime', 1523517058.107387),\n",
       "                           ('st_mtime', 1523517058.107388),\n",
       "                           ('st_nlink', 7),\n",
       "                           ('st_gid', 1000),\n",
       "                           ('st_blksize', 512),\n",
       "                           ('st_size', 0),\n",
       "                           ('st_atime', 1523517058.107389),\n",
       "                           ('st_uid', 1000),\n",
       "                           ('st_mode', 16873)])),\n",
       "             ('byte',\n",
       "              SparseIOFileHandler([('st_ctime', 1523517058.107766),\n",
       "                                   ('st_mtime', 1523517058.107767),\n",
       "                                   ('st_nlink', 1),\n",
       "                                   ('st_gid', 1000),\n",
       "                                   ('st_blksize', 512),\n",
       "                                   ('st_size', 0),\n",
       "                                   ('st_atime', 1523517058.107768),\n",
       "                                   ('st_uid', 1000),\n",
       "                                   ('st_mode', 33060)])),\n",
       "             ('note',\n",
       "              SimpleRecHandler([('st_ctime', 1523517058.109622),\n",
       "                                ('st_mtime', 1523517058.109624),\n",
       "                                ('st_nlink', 1),\n",
       "                                ('st_gid', 1000),\n",
       "                                ('st_blksize', 512),\n",
       "                                ('st_size', 0),\n",
       "                                ('st_atime', 1523517058.109624),\n",
       "                                ('st_uid', 1000),\n",
       "                                ('st_mode', 33200)])),\n",
       "             ('.recnum',\n",
       "              ByteIOFileHandler([('st_ctime', 1523517058.110219),\n",
       "                                 ('st_mtime', 1523517058.11022),\n",
       "                                 ('st_nlink', 1),\n",
       "                                 ('st_gid', 1000),\n",
       "                                 ('st_blksize', 512),\n",
       "                                 ('st_size', 0),\n",
       "                                 ('st_atime', 1523517058.110221),\n",
       "                                 ('st_uid', 1000),\n",
       "                                 ('st_mode', 33060)])),\n",
       "             ('.last_rec',\n",
       "              ByteIOFileHandler([('st_ctime', 1523517058.11057),\n",
       "                                 ('st_mtime', 1523517058.110571),\n",
       "                                 ('st_nlink', 1),\n",
       "                                 ('st_gid', 1000),\n",
       "                                 ('st_blksize', 512),\n",
       "                                 ('st_size', 0),\n",
       "                                 ('st_atime', 1523517058.110572),\n",
       "                                 ('st_uid', 1000),\n",
       "                                 ('st_mode', 33060)])),\n",
       "             ('.last_sync',\n",
       "              ByteIOFileHandler([('st_ctime', 1523517058.110904),\n",
       "                                 ('st_mtime', 1523517058.110905),\n",
       "                                 ('st_nlink', 1),\n",
       "                                 ('st_gid', 1000),\n",
       "                                 ('st_blksize', 512),\n",
       "                                 ('st_size', 0),\n",
       "                                 ('st_atime', 1523517058.110907),\n",
       "                                 ('st_uid', 1000),\n",
       "                                 ('st_mode', 33060)])),\n",
       "             ('.committed',\n",
       "              ByteIOFileHandler([('st_ctime', 1523517058.111235),\n",
       "                                 ('st_mtime', 1523517058.111236),\n",
       "                                 ('st_nlink', 1),\n",
       "                                 ('st_gid', 1000),\n",
       "                                 ('st_blksize', 512),\n",
       "                                 ('st_size', 0),\n",
       "                                 ('st_atime', 1523517058.111237),\n",
       "                                 ('st_uid', 1000),\n",
       "                                 ('st_mode', 33060)]))]),\n",
       " ['<node_id:ffffffffffff>', 'tag', 'sd', '0', 'dblk'])"
      ]
     },
     "execution_count": 21,
     "metadata": {},
     "output_type": "execute_result"
    }
   ],
   "source": [
    "handlerA = LocateNode(tree_root ,'/ffffffffffff/tag/sd/0/dblk')\n",
    "handlerA"
   ]
  },
  {
   "cell_type": "code",
   "execution_count": 22,
   "metadata": {
    "scrolled": true
   },
   "outputs": [
    {
     "data": {
      "text/plain": [
       "DirHandler([('',\n",
       "             FileHandler([('st_ctime', 1523517058.107387),\n",
       "                          ('st_mtime', 1523517058.107388),\n",
       "                          ('st_nlink', 7),\n",
       "                          ('st_gid', 1000),\n",
       "                          ('st_blksize', 512),\n",
       "                          ('st_size', 0),\n",
       "                          ('st_atime', 1523517058.107389),\n",
       "                          ('st_uid', 1000),\n",
       "                          ('st_mode', 16873)])),\n",
       "            ('byte',\n",
       "             SparseIOFileHandler([('st_ctime', 1523517058.107766),\n",
       "                                  ('st_mtime', 1523517058.107767),\n",
       "                                  ('st_nlink', 1),\n",
       "                                  ('st_gid', 1000),\n",
       "                                  ('st_blksize', 512),\n",
       "                                  ('st_size', 0),\n",
       "                                  ('st_atime', 1523517058.107768),\n",
       "                                  ('st_uid', 1000),\n",
       "                                  ('st_mode', 33060)])),\n",
       "            ('note',\n",
       "             SimpleRecHandler([('st_ctime', 1523517058.109622),\n",
       "                               ('st_mtime', 1523517058.109624),\n",
       "                               ('st_nlink', 1),\n",
       "                               ('st_gid', 1000),\n",
       "                               ('st_blksize', 512),\n",
       "                               ('st_size', 0),\n",
       "                               ('st_atime', 1523517058.109624),\n",
       "                               ('st_uid', 1000),\n",
       "                               ('st_mode', 33200)])),\n",
       "            ('.recnum',\n",
       "             ByteIOFileHandler([('st_ctime', 1523517058.110219),\n",
       "                                ('st_mtime', 1523517058.11022),\n",
       "                                ('st_nlink', 1),\n",
       "                                ('st_gid', 1000),\n",
       "                                ('st_blksize', 512),\n",
       "                                ('st_size', 0),\n",
       "                                ('st_atime', 1523517058.110221),\n",
       "                                ('st_uid', 1000),\n",
       "                                ('st_mode', 33060)])),\n",
       "            ('.last_rec',\n",
       "             ByteIOFileHandler([('st_ctime', 1523517058.11057),\n",
       "                                ('st_mtime', 1523517058.110571),\n",
       "                                ('st_nlink', 1),\n",
       "                                ('st_gid', 1000),\n",
       "                                ('st_blksize', 512),\n",
       "                                ('st_size', 0),\n",
       "                                ('st_atime', 1523517058.110572),\n",
       "                                ('st_uid', 1000),\n",
       "                                ('st_mode', 33060)])),\n",
       "            ('.last_sync',\n",
       "             ByteIOFileHandler([('st_ctime', 1523517058.110904),\n",
       "                                ('st_mtime', 1523517058.110905),\n",
       "                                ('st_nlink', 1),\n",
       "                                ('st_gid', 1000),\n",
       "                                ('st_blksize', 512),\n",
       "                                ('st_size', 0),\n",
       "                                ('st_atime', 1523517058.110907),\n",
       "                                ('st_uid', 1000),\n",
       "                                ('st_mode', 33060)])),\n",
       "            ('.committed',\n",
       "             ByteIOFileHandler([('st_ctime', 1523517058.111235),\n",
       "                                ('st_mtime', 1523517058.111236),\n",
       "                                ('st_nlink', 1),\n",
       "                                ('st_gid', 1000),\n",
       "                                ('st_blksize', 512),\n",
       "                                ('st_size', 0),\n",
       "                                ('st_atime', 1523517058.111237),\n",
       "                                ('st_uid', 1000),\n",
       "                                ('st_mode', 33060)]))])"
      ]
     },
     "execution_count": 22,
     "metadata": {},
     "output_type": "execute_result"
    }
   ],
   "source": [
    "handlerB = tree_root['ffffffffffff']['tag']['sd']['0']['dblk']\n",
    "handlerB"
   ]
  },
  {
   "cell_type": "code",
   "execution_count": 23,
   "metadata": {},
   "outputs": [
    {
     "name": "stdout",
     "output_type": "stream",
     "text": [
      "(DirHandler([('', FileHandler([('st_ctime', 1523517058.107387), ('st_mtime', 1523517058.107388), ('st_nlink', 7), ('st_gid', 1000), ('st_blksize', 512), ('st_size', 0), ('st_atime', 1523517058.107389), ('st_uid', 1000), ('st_mode', 16873)])), ('byte', SparseIOFileHandler([('st_ctime', 1523517058.107766), ('st_mtime', 1523517058.107767), ('st_nlink', 1), ('st_gid', 1000), ('st_blksize', 512), ('st_size', 0), ('st_atime', 1523517058.107768), ('st_uid', 1000), ('st_mode', 33060)])), ('note', SimpleRecHandler([('st_ctime', 1523517058.109622), ('st_mtime', 1523517058.109624), ('st_nlink', 1), ('st_gid', 1000), ('st_blksize', 512), ('st_size', 0), ('st_atime', 1523517058.109624), ('st_uid', 1000), ('st_mode', 33200)])), ('.recnum', ByteIOFileHandler([('st_ctime', 1523517058.110219), ('st_mtime', 1523517058.11022), ('st_nlink', 1), ('st_gid', 1000), ('st_blksize', 512), ('st_size', 0), ('st_atime', 1523517058.110221), ('st_uid', 1000), ('st_mode', 33060)])), ('.last_rec', ByteIOFileHandler([('st_ctime', 1523517058.11057), ('st_mtime', 1523517058.110571), ('st_nlink', 1), ('st_gid', 1000), ('st_blksize', 512), ('st_size', 0), ('st_atime', 1523517058.110572), ('st_uid', 1000), ('st_mode', 33060)])), ('.last_sync', ByteIOFileHandler([('st_ctime', 1523517058.110904), ('st_mtime', 1523517058.110905), ('st_nlink', 1), ('st_gid', 1000), ('st_blksize', 512), ('st_size', 0), ('st_atime', 1523517058.110907), ('st_uid', 1000), ('st_mode', 33060)])), ('.committed', ByteIOFileHandler([('st_ctime', 1523517058.111235), ('st_mtime', 1523517058.111236), ('st_nlink', 1), ('st_gid', 1000), ('st_blksize', 512), ('st_size', 0), ('st_atime', 1523517058.111237), ('st_uid', 1000), ('st_mode', 33060)]))]), ['<node_id:ffffffffffff>', 'tag', 'sd', '0', 'dblk']) DirHandler([('', FileHandler([('st_ctime', 1523517058.107387), ('st_mtime', 1523517058.107388), ('st_nlink', 7), ('st_gid', 1000), ('st_blksize', 512), ('st_size', 0), ('st_atime', 1523517058.107389), ('st_uid', 1000), ('st_mode', 16873)])), ('byte', SparseIOFileHandler([('st_ctime', 1523517058.107766), ('st_mtime', 1523517058.107767), ('st_nlink', 1), ('st_gid', 1000), ('st_blksize', 512), ('st_size', 0), ('st_atime', 1523517058.107768), ('st_uid', 1000), ('st_mode', 33060)])), ('note', SimpleRecHandler([('st_ctime', 1523517058.109622), ('st_mtime', 1523517058.109624), ('st_nlink', 1), ('st_gid', 1000), ('st_blksize', 512), ('st_size', 0), ('st_atime', 1523517058.109624), ('st_uid', 1000), ('st_mode', 33200)])), ('.recnum', ByteIOFileHandler([('st_ctime', 1523517058.110219), ('st_mtime', 1523517058.11022), ('st_nlink', 1), ('st_gid', 1000), ('st_blksize', 512), ('st_size', 0), ('st_atime', 1523517058.110221), ('st_uid', 1000), ('st_mode', 33060)])), ('.last_rec', ByteIOFileHandler([('st_ctime', 1523517058.11057), ('st_mtime', 1523517058.110571), ('st_nlink', 1), ('st_gid', 1000), ('st_blksize', 512), ('st_size', 0), ('st_atime', 1523517058.110572), ('st_uid', 1000), ('st_mode', 33060)])), ('.last_sync', ByteIOFileHandler([('st_ctime', 1523517058.110904), ('st_mtime', 1523517058.110905), ('st_nlink', 1), ('st_gid', 1000), ('st_blksize', 512), ('st_size', 0), ('st_atime', 1523517058.110907), ('st_uid', 1000), ('st_mode', 33060)])), ('.committed', ByteIOFileHandler([('st_ctime', 1523517058.111235), ('st_mtime', 1523517058.111236), ('st_nlink', 1), ('st_gid', 1000), ('st_blksize', 512), ('st_size', 0), ('st_atime', 1523517058.111237), ('st_uid', 1000), ('st_mode', 33060)]))])\n"
     ]
    },
    {
     "data": {
      "text/plain": [
       "False"
      ]
     },
     "execution_count": 23,
     "metadata": {},
     "output_type": "execute_result"
    }
   ],
   "source": [
    "print(handlerA, handlerB)\n",
    "handlerA == handlerB"
   ]
  },
  {
   "cell_type": "code",
   "execution_count": 24,
   "metadata": {},
   "outputs": [
    {
     "data": {
      "text/plain": [
       "SparseIOFileHandler([('st_ctime', 1523517058.107766),\n",
       "                     ('st_mtime', 1523517058.107767),\n",
       "                     ('st_nlink', 1),\n",
       "                     ('st_gid', 1000),\n",
       "                     ('st_blksize', 512),\n",
       "                     ('st_size', 0),\n",
       "                     ('st_atime', 1523517058.107768),\n",
       "                     ('st_uid', 1000),\n",
       "                     ('st_mode', 33060)])"
      ]
     },
     "execution_count": 24,
     "metadata": {},
     "output_type": "execute_result"
    }
   ],
   "source": [
    "tree_root['ffffffffffff']['tag']['sd']['0']['dblk']['byte']"
   ]
  },
  {
   "cell_type": "code",
   "execution_count": 25,
   "metadata": {},
   "outputs": [],
   "source": [
    "if isinstance(handlerA, taghandlers.DirHandler): print('ok')"
   ]
  },
  {
   "cell_type": "code",
   "execution_count": 26,
   "metadata": {},
   "outputs": [
    {
     "data": {
      "text/plain": [
       "(tagfuse.taghandlers.DirHandler, ['<node_id:ffffffffffff>'])"
      ]
     },
     "execution_count": 26,
     "metadata": {},
     "output_type": "execute_result"
    }
   ],
   "source": [
    "path='/ffffffffffff'\n",
    "handler, path_list = LocateNode(tag_tree, path)\n",
    "type(handler), path_list"
   ]
  },
  {
   "cell_type": "code",
   "execution_count": 27,
   "metadata": {},
   "outputs": [
    {
     "name": "stdout",
     "output_type": "stream",
     "text": [
      "*** getattr ['ffffffffffff']\n"
     ]
    },
    {
     "data": {
      "text/plain": [
       "FileHandler([('st_ctime', 1523517058.1018),\n",
       "             ('st_mtime', 1523517058.101801),\n",
       "             ('st_nlink', 3),\n",
       "             ('st_gid', 1000),\n",
       "             ('st_blksize', 512),\n",
       "             ('st_size', 0),\n",
       "             ('st_atime', 1523517058.101802),\n",
       "             ('st_uid', 1000),\n",
       "             ('st_mode', 16873)])"
      ]
     },
     "execution_count": 27,
     "metadata": {},
     "output_type": "execute_result"
    }
   ],
   "source": [
    "handler.getattr(path2list(path), update=True)"
   ]
  },
  {
   "cell_type": "code",
   "execution_count": 28,
   "metadata": {},
   "outputs": [
    {
     "data": {
      "text/plain": [
       "(tagfuse.taghandlers.DirHandler, ['<node_id:ffffffffffff>', 'tag', 'sd'])"
      ]
     },
     "execution_count": 28,
     "metadata": {},
     "output_type": "execute_result"
    }
   ],
   "source": [
    "path='/ffffffffffff/tag/sd'\n",
    "handler, path_list = LocateNode(tag_tree, path)\n",
    "type(handler), path_list"
   ]
  },
  {
   "cell_type": "markdown",
   "metadata": {},
   "source": [
    "## Poll for Tags"
   ]
  },
  {
   "cell_type": "code",
   "execution_count": 29,
   "metadata": {},
   "outputs": [],
   "source": [
    "STOP"
   ]
  },
  {
   "cell_type": "code",
   "execution_count": null,
   "metadata": {},
   "outputs": [],
   "source": [
    "tagpath='/'"
   ]
  },
  {
   "cell_type": "code",
   "execution_count": 53,
   "metadata": {},
   "outputs": [
    {
     "data": {
      "text/plain": [
       "(tagfuse.taghandlers.DirHandler, ['<node_id:ffffffffffff>'])"
      ]
     },
     "execution_count": 53,
     "metadata": {},
     "output_type": "execute_result"
    }
   ],
   "source": [
    "handler, path_list = LocateNode(tag_tree, tagpath)\n",
    "type(handler), path_list"
   ]
  },
  {
   "cell_type": "code",
   "execution_count": 50,
   "metadata": {
    "scrolled": false
   },
   "outputs": [
    {
     "name": "stdout",
     "output_type": "stream",
     "text": [
      "im get dir, state: v version: (0, 2, 386)\n",
      "im get dir, state: x version: (0, 0, 0)\n",
      "im get dir, state: x version: (0, 0, 0)\n",
      "im get dir, state: x version: (0, 0, 0)\n",
      "img readdir version/state (0, 2, 386) valid\n",
      "img readdir version/state (0, 0, 0) x\n",
      "img readdir version/state (0, 0, 0) x\n",
      "img readdir version/state (0, 0, 0) x\n",
      "tag_set Set(['0.2.386'])\n",
      "my_set Set([])\n"
     ]
    }
   ],
   "source": [
    "img_list = handler.readdir(path_list)"
   ]
  },
  {
   "cell_type": "markdown",
   "metadata": {},
   "source": [
    "## Examine Image Directory"
   ]
  },
  {
   "cell_type": "code",
   "execution_count": 29,
   "metadata": {},
   "outputs": [],
   "source": [
    "STOP"
   ]
  },
  {
   "cell_type": "code",
   "execution_count": 30,
   "metadata": {},
   "outputs": [],
   "source": [
    "tagpath='/ffffffffffff/tag/sd/0/img'"
   ]
  },
  {
   "cell_type": "code",
   "execution_count": 31,
   "metadata": {},
   "outputs": [
    {
     "data": {
      "text/plain": [
       "(tagfuse.taghandlers.ImageDirHandler,\n",
       " ['<node_id:ffffffffffff>', 'tag', 'sd', '0', 'img'])"
      ]
     },
     "execution_count": 31,
     "metadata": {},
     "output_type": "execute_result"
    }
   ],
   "source": [
    "handler, path_list = LocateNode(tag_tree, tagpath)\n",
    "type(handler), path_list"
   ]
  },
  {
   "cell_type": "code",
   "execution_count": 50,
   "metadata": {
    "scrolled": false
   },
   "outputs": [
    {
     "name": "stdout",
     "output_type": "stream",
     "text": [
      "im get dir, state: v version: (0, 2, 386)\n",
      "im get dir, state: x version: (0, 0, 0)\n",
      "im get dir, state: x version: (0, 0, 0)\n",
      "im get dir, state: x version: (0, 0, 0)\n",
      "img readdir version/state (0, 2, 386) valid\n",
      "img readdir version/state (0, 0, 0) x\n",
      "img readdir version/state (0, 0, 0) x\n",
      "img readdir version/state (0, 0, 0) x\n",
      "tag_set Set(['0.2.386'])\n",
      "my_set Set([])\n"
     ]
    }
   ],
   "source": [
    "img_list = handler.readdir(path_list)"
   ]
  },
  {
   "cell_type": "code",
   "execution_count": 51,
   "metadata": {},
   "outputs": [
    {
     "name": "stdout",
     "output_type": "stream",
     "text": [
      ".\n",
      "..\n",
      "0.2.386\n"
     ]
    }
   ],
   "source": [
    "for a in img_list:\n",
    "    print(a)"
   ]
  },
  {
   "cell_type": "code",
   "execution_count": 34,
   "metadata": {},
   "outputs": [
    {
     "data": {
      "text/plain": [
       "<si446x.si446xradio.Si446xRadio at 0x72218cd0>"
      ]
     },
     "execution_count": 34,
     "metadata": {},
     "output_type": "execute_result"
    }
   ],
   "source": [
    "handler.radio"
   ]
  },
  {
   "cell_type": "code",
   "execution_count": 35,
   "metadata": {
    "scrolled": true
   },
   "outputs": [
    {
     "name": "stdout",
     "output_type": "stream",
     "text": [
      "im get dir, state: x version: (0, 0, 0)\n",
      "im get dir, state: x version: (0, 0, 0)\n",
      "im get dir, state: x version: (0, 0, 0)\n",
      "im get dir, state: x version: (0, 0, 0)\n",
      "img readdir version/state (0, 0, 0) x\n",
      "img readdir version/state (0, 0, 0) x\n",
      "img readdir version/state (0, 0, 0) x\n",
      "img readdir version/state (0, 0, 0) x\n",
      "tag_set Set([])\n",
      "my_set Set([])\n",
      "im get dir, state: x version: (0, 0, 0)\n",
      "im get dir, state: x version: (0, 0, 0)\n",
      "im get dir, state: x version: (0, 0, 0)\n",
      "im get dir, state: x version: (0, 0, 0)\n",
      "img readdir version/state (0, 0, 0) x\n",
      "img readdir version/state (0, 0, 0) x\n",
      "img readdir version/state (0, 0, 0) x\n",
      "img readdir version/state (0, 0, 0) x\n",
      "tag_set Set([])\n",
      "my_set Set([])\n",
      "im get dir, state: x version: (0, 0, 0)\n",
      "im get dir, state: x version: (0, 0, 0)\n",
      "im get dir, state: x version: (0, 0, 0)\n",
      "im get dir, state: x version: (0, 0, 0)\n",
      "img readdir version/state (0, 0, 0) x\n",
      "img readdir version/state (0, 0, 0) x\n",
      "img readdir version/state (0, 0, 0) x\n",
      "img readdir version/state (0, 0, 0) x\n",
      "tag_set Set([])\n",
      "my_set Set([])\n",
      "im get dir, state: x version: (0, 0, 0)\n",
      "im get dir, state: x version: (0, 0, 0)\n",
      "im get dir, state: x version: (0, 0, 0)\n",
      "im get dir, state: x version: (0, 0, 0)\n",
      "img readdir version/state (0, 0, 0) x\n",
      "img readdir version/state (0, 0, 0) x\n",
      "img readdir version/state (0, 0, 0) x\n",
      "img readdir version/state (0, 0, 0) x\n",
      "tag_set Set([])\n",
      "my_set Set([])\n",
      "im get dir, state: x version: (0, 0, 0)\n",
      "im get dir, state: x version: (0, 0, 0)\n",
      "im get dir, state: x version: (0, 0, 0)\n",
      "im get dir, state: x version: (0, 0, 0)\n",
      "img readdir version/state (0, 0, 0) x\n",
      "img readdir version/state (0, 0, 0) x\n",
      "img readdir version/state (0, 0, 0) x\n",
      "img readdir version/state (0, 0, 0) x\n",
      "tag_set Set([])\n",
      "my_set Set([])\n",
      "im get dir, state: x version: (0, 0, 0)\n",
      "im get dir, state: x version: (0, 0, 0)\n",
      "im get dir, state: x version: (0, 0, 0)\n",
      "im get dir, state: x version: (0, 0, 0)\n",
      "img readdir version/state (0, 0, 0) x\n",
      "img readdir version/state (0, 0, 0) x\n",
      "img readdir version/state (0, 0, 0) x\n",
      "img readdir version/state (0, 0, 0) x\n",
      "tag_set Set([])\n",
      "my_set Set([])\n",
      "im get dir, state: x version: (0, 0, 0)\n",
      "im get dir, state: x version: (0, 0, 0)\n",
      "im get dir, state: x version: (0, 0, 0)\n",
      "im get dir, state: x version: (0, 0, 0)\n",
      "img readdir version/state (0, 0, 0) x\n",
      "img readdir version/state (0, 0, 0) x\n",
      "img readdir version/state (0, 0, 0) x\n",
      "img readdir version/state (0, 0, 0) x\n",
      "tag_set Set([])\n",
      "my_set Set([])\n",
      "im get dir, state: x version: (0, 0, 0)\n",
      "im get dir, state: x version: (0, 0, 0)\n",
      "im get dir, state: x version: (0, 0, 0)\n",
      "im get dir, state: x version: (0, 0, 0)\n",
      "img readdir version/state (0, 0, 0) x\n",
      "img readdir version/state (0, 0, 0) x\n",
      "img readdir version/state (0, 0, 0) x\n",
      "img readdir version/state (0, 0, 0) x\n",
      "tag_set Set([])\n",
      "my_set Set([])\n",
      "im get dir, state: x version: (0, 0, 0)\n",
      "im get dir, state: x version: (0, 0, 0)\n",
      "im get dir, state: x version: (0, 0, 0)\n",
      "im get dir, state: x version: (0, 0, 0)\n",
      "img readdir version/state (0, 0, 0) x\n",
      "img readdir version/state (0, 0, 0) x\n",
      "img readdir version/state (0, 0, 0) x\n",
      "img readdir version/state (0, 0, 0) x\n",
      "tag_set Set([])\n",
      "my_set Set([])\n",
      "im get dir, state: x version: (0, 0, 0)\n",
      "im get dir, state: x version: (0, 0, 0)\n",
      "im get dir, state: x version: (0, 0, 0)\n",
      "im get dir, state: x version: (0, 0, 0)\n",
      "img readdir version/state (0, 0, 0) x\n",
      "img readdir version/state (0, 0, 0) x\n",
      "img readdir version/state (0, 0, 0) x\n",
      "img readdir version/state (0, 0, 0) x\n",
      "tag_set Set([])\n",
      "my_set Set([])\n",
      "im get dir, state: x version: (0, 0, 0)\n",
      "im get dir, state: x version: (0, 0, 0)\n",
      "im get dir, state: x version: (0, 0, 0)\n",
      "im get dir, state: x version: (0, 0, 0)\n",
      "img readdir version/state (0, 0, 0) x\n",
      "img readdir version/state (0, 0, 0) x\n",
      "img readdir version/state (0, 0, 0) x\n",
      "img readdir version/state (0, 0, 0) x\n",
      "tag_set Set([])\n",
      "my_set Set([])\n",
      "im get dir, state: x version: (0, 0, 0)\n",
      "im get dir, state: x version: (0, 0, 0)\n",
      "im get dir, state: x version: (0, 0, 0)\n",
      "im get dir, state: x version: (0, 0, 0)\n",
      "img readdir version/state (0, 0, 0) x\n",
      "img readdir version/state (0, 0, 0) x\n",
      "img readdir version/state (0, 0, 0) x\n",
      "img readdir version/state (0, 0, 0) x\n",
      "tag_set Set([])\n",
      "my_set Set([])\n",
      "im get dir, state: x version: (0, 0, 0)\n",
      "im get dir, state: x version: (0, 0, 0)\n",
      "im get dir, state: x version: (0, 0, 0)\n",
      "im get dir, state: x version: (0, 0, 0)\n",
      "img readdir version/state (0, 0, 0) x\n",
      "img readdir version/state (0, 0, 0) x\n",
      "img readdir version/state (0, 0, 0) x\n",
      "img readdir version/state (0, 0, 0) x\n",
      "tag_set Set([])\n",
      "my_set Set([])\n",
      "im get dir, state: x version: (0, 0, 0)\n",
      "im get dir, state: x version: (0, 0, 0)\n",
      "im get dir, state: x version: (0, 0, 0)\n",
      "im get dir, state: x version: (0, 0, 0)\n",
      "img readdir version/state (0, 0, 0) x\n",
      "img readdir version/state (0, 0, 0) x\n",
      "img readdir version/state (0, 0, 0) x\n",
      "img readdir version/state (0, 0, 0) x\n",
      "tag_set Set([])\n",
      "my_set Set([])\n",
      "im get dir, state: x version: (0, 0, 0)\n",
      "im get dir, state: x version: (0, 0, 0)\n",
      "im get dir, state: x version: (0, 0, 0)\n",
      "im get dir, state: x version: (0, 0, 0)\n",
      "img readdir version/state (0, 0, 0) x\n",
      "img readdir version/state (0, 0, 0) x\n",
      "img readdir version/state (0, 0, 0) x\n",
      "img readdir version/state (0, 0, 0) x\n",
      "tag_set Set([])\n",
      "my_set Set([])\n",
      "im get dir, state: x version: (0, 0, 0)\n",
      "im get dir, state: x version: (0, 0, 0)\n",
      "im get dir, state: x version: (0, 0, 0)\n",
      "im get dir, state: x version: (0, 0, 0)\n",
      "img readdir version/state (0, 0, 0) x\n",
      "img readdir version/state (0, 0, 0) x\n",
      "img readdir version/state (0, 0, 0) x\n",
      "img readdir version/state (0, 0, 0) x\n",
      "tag_set Set([])\n",
      "my_set Set([])\n",
      "im get dir, state: x version: (0, 0, 0)\n",
      "im get dir, state: x version: (0, 0, 0)\n",
      "im get dir, state: x version: (0, 0, 0)\n",
      "im get dir, state: x version: (0, 0, 0)\n",
      "img readdir version/state (0, 0, 0) x\n",
      "img readdir version/state (0, 0, 0) x\n",
      "img readdir version/state (0, 0, 0) x\n",
      "img readdir version/state (0, 0, 0) x\n",
      "tag_set Set([])\n",
      "my_set Set([])\n",
      "im get dir, state: x version: (0, 0, 0)\n",
      "im get dir, state: x version: (0, 0, 0)\n",
      "im get dir, state: x version: (0, 0, 0)\n",
      "im get dir, state: x version: (0, 0, 0)\n",
      "img readdir version/state (0, 0, 0) x\n",
      "img readdir version/state (0, 0, 0) x\n",
      "img readdir version/state (0, 0, 0) x\n",
      "img readdir version/state (0, 0, 0) x\n",
      "tag_set Set([])\n",
      "my_set Set([])\n",
      "im get dir, state: x version: (0, 0, 0)\n",
      "im get dir, state: x version: (0, 0, 0)\n",
      "im get dir, state: x version: (0, 0, 0)\n",
      "im get dir, state: x version: (0, 0, 0)\n",
      "img readdir version/state (0, 0, 0) x\n",
      "img readdir version/state (0, 0, 0) x\n",
      "img readdir version/state (0, 0, 0) x\n",
      "img readdir version/state (0, 0, 0) x\n",
      "tag_set Set([])\n",
      "my_set Set([])\n",
      "im get dir, state: x version: (0, 0, 0)\n",
      "im get dir, state: x version: (0, 0, 0)\n",
      "im get dir, state: x version: (0, 0, 0)\n",
      "im get dir, state: x version: (0, 0, 0)\n",
      "img readdir version/state (0, 0, 0) x\n",
      "img readdir version/state (0, 0, 0) x\n",
      "img readdir version/state (0, 0, 0) x\n",
      "img readdir version/state (0, 0, 0) x\n",
      "tag_set Set([])\n",
      "my_set Set([])\n",
      "im get dir, state: x version: (0, 0, 0)\n",
      "im get dir, state: x version: (0, 0, 0)\n",
      "im get dir, state: x version: (0, 0, 0)\n",
      "im get dir, state: x version: (0, 0, 0)\n",
      "img readdir version/state (0, 0, 0) x\n",
      "img readdir version/state (0, 0, 0) x\n",
      "img readdir version/state (0, 0, 0) x\n",
      "img readdir version/state (0, 0, 0) x\n",
      "tag_set Set([])\n",
      "my_set Set([])\n",
      "im get dir, state: x version: (0, 0, 0)\n",
      "im get dir, state: x version: (0, 0, 0)\n",
      "im get dir, state: x version: (0, 0, 0)\n",
      "im get dir, state: x version: (0, 0, 0)\n",
      "img readdir version/state (0, 0, 0) x\n",
      "img readdir version/state (0, 0, 0) x\n",
      "img readdir version/state (0, 0, 0) x\n",
      "img readdir version/state (0, 0, 0) x\n",
      "tag_set Set([])\n",
      "my_set Set([])\n",
      "im get dir, state: x version: (0, 0, 0)\n",
      "im get dir, state: x version: (0, 0, 0)\n",
      "im get dir, state: x version: (0, 0, 0)\n",
      "im get dir, state: x version: (0, 0, 0)\n",
      "img readdir version/state (0, 0, 0) x\n",
      "img readdir version/state (0, 0, 0) x\n",
      "img readdir version/state (0, 0, 0) x\n",
      "img readdir version/state (0, 0, 0) x\n",
      "tag_set Set([])\n",
      "my_set Set([])\n",
      "im get dir, state: x version: (0, 0, 0)\n",
      "im get dir, state: x version: (0, 0, 0)\n",
      "im get dir, state: x version: (0, 0, 0)\n",
      "im get dir, state: x version: (0, 0, 0)\n",
      "img readdir version/state (0, 0, 0) x\n",
      "img readdir version/state (0, 0, 0) x\n",
      "img readdir version/state (0, 0, 0) x\n",
      "img readdir version/state (0, 0, 0) x\n",
      "tag_set Set([])\n",
      "my_set Set([])\n"
     ]
    },
    {
     "name": "stdout",
     "output_type": "stream",
     "text": [
      "im get dir, state: x version: (0, 0, 0)\n",
      "im get dir, state: x version: (0, 0, 0)\n",
      "im get dir, state: x version: (0, 0, 0)\n",
      "im get dir, state: x version: (0, 0, 0)\n",
      "img readdir version/state (0, 0, 0) x\n",
      "img readdir version/state (0, 0, 0) x\n",
      "img readdir version/state (0, 0, 0) x\n",
      "img readdir version/state (0, 0, 0) x\n",
      "tag_set Set([])\n",
      "my_set Set([])\n",
      "im get dir, state: x version: (0, 0, 0)\n",
      "im get dir, state: x version: (0, 0, 0)\n",
      "im get dir, state: x version: (0, 0, 0)\n",
      "im get dir, state: x version: (0, 0, 0)\n",
      "img readdir version/state (0, 0, 0) x\n",
      "img readdir version/state (0, 0, 0) x\n",
      "img readdir version/state (0, 0, 0) x\n",
      "img readdir version/state (0, 0, 0) x\n",
      "tag_set Set([])\n",
      "my_set Set([])\n",
      "im get dir, state: x version: (0, 0, 0)\n",
      "im get dir, state: x version: (0, 0, 0)\n",
      "im get dir, state: x version: (0, 0, 0)\n",
      "im get dir, state: x version: (0, 0, 0)\n",
      "img readdir version/state (0, 0, 0) x\n",
      "img readdir version/state (0, 0, 0) x\n",
      "img readdir version/state (0, 0, 0) x\n",
      "img readdir version/state (0, 0, 0) x\n",
      "tag_set Set([])\n",
      "my_set Set([])\n",
      "im get dir, state: x version: (0, 0, 0)\n",
      "im get dir, state: x version: (0, 0, 0)\n",
      "im get dir, state: x version: (0, 0, 0)\n",
      "im get dir, state: x version: (0, 0, 0)\n",
      "img readdir version/state (0, 0, 0) x\n",
      "img readdir version/state (0, 0, 0) x\n",
      "img readdir version/state (0, 0, 0) x\n",
      "img readdir version/state (0, 0, 0) x\n",
      "tag_set Set([])\n",
      "my_set Set([])\n",
      "im get dir, state: x version: (0, 0, 0)\n",
      "im get dir, state: x version: (0, 0, 0)\n",
      "im get dir, state: x version: (0, 0, 0)\n",
      "im get dir, state: x version: (0, 0, 0)\n",
      "img readdir version/state (0, 0, 0) x\n",
      "img readdir version/state (0, 0, 0) x\n",
      "img readdir version/state (0, 0, 0) x\n",
      "img readdir version/state (0, 0, 0) x\n",
      "tag_set Set([])\n",
      "my_set Set([])\n",
      "im get dir, state: x version: (0, 0, 0)\n",
      "im get dir, state: x version: (0, 0, 0)\n",
      "im get dir, state: x version: (0, 0, 0)\n",
      "im get dir, state: x version: (0, 0, 0)\n",
      "img readdir version/state (0, 0, 0) x\n",
      "img readdir version/state (0, 0, 0) x\n",
      "img readdir version/state (0, 0, 0) x\n",
      "img readdir version/state (0, 0, 0) x\n",
      "tag_set Set([])\n",
      "my_set Set([])\n",
      "im get dir, state: x version: (0, 0, 0)\n",
      "im get dir, state: x version: (0, 0, 0)\n",
      "im get dir, state: x version: (0, 0, 0)\n",
      "im get dir, state: x version: (0, 0, 0)\n",
      "img readdir version/state (0, 0, 0) x\n",
      "img readdir version/state (0, 0, 0) x\n",
      "img readdir version/state (0, 0, 0) x\n",
      "img readdir version/state (0, 0, 0) x\n",
      "tag_set Set([])\n",
      "my_set Set([])\n",
      "im get dir, state: x version: (0, 0, 0)\n",
      "im get dir, state: x version: (0, 0, 0)\n",
      "im get dir, state: x version: (0, 0, 0)\n",
      "im get dir, state: x version: (0, 0, 0)\n",
      "img readdir version/state (0, 0, 0) x\n",
      "img readdir version/state (0, 0, 0) x\n",
      "img readdir version/state (0, 0, 0) x\n",
      "img readdir version/state (0, 0, 0) x\n",
      "tag_set Set([])\n",
      "my_set Set([])\n",
      "im get dir, state: x version: (0, 0, 0)\n",
      "im get dir, state: x version: (0, 0, 0)\n",
      "im get dir, state: x version: (0, 0, 0)\n",
      "im get dir, state: x version: (0, 0, 0)\n",
      "img readdir version/state (0, 0, 0) x\n",
      "img readdir version/state (0, 0, 0) x\n",
      "img readdir version/state (0, 0, 0) x\n",
      "img readdir version/state (0, 0, 0) x\n",
      "tag_set Set([])\n",
      "my_set Set([])\n",
      "im get dir, state: x version: (0, 0, 0)\n",
      "im get dir, state: x version: (0, 0, 0)\n",
      "im get dir, state: x version: (0, 0, 0)\n",
      "im get dir, state: x version: (0, 0, 0)\n",
      "img readdir version/state (0, 0, 0) x\n",
      "img readdir version/state (0, 0, 0) x\n",
      "img readdir version/state (0, 0, 0) x\n",
      "img readdir version/state (0, 0, 0) x\n",
      "tag_set Set([])\n",
      "my_set Set([])\n",
      "im get dir, state: x version: (0, 0, 0)\n",
      "im get dir, state: x version: (0, 0, 0)\n",
      "im get dir, state: x version: (0, 0, 0)\n",
      "im get dir, state: x version: (0, 0, 0)\n",
      "img readdir version/state (0, 0, 0) x\n",
      "img readdir version/state (0, 0, 0) x\n",
      "img readdir version/state (0, 0, 0) x\n",
      "img readdir version/state (0, 0, 0) x\n",
      "tag_set Set([])\n",
      "my_set Set([])\n",
      "im get dir, state: x version: (0, 0, 0)\n",
      "im get dir, state: x version: (0, 0, 0)\n",
      "im get dir, state: x version: (0, 0, 0)\n",
      "im get dir, state: x version: (0, 0, 0)\n",
      "img readdir version/state (0, 0, 0) x\n",
      "img readdir version/state (0, 0, 0) x\n",
      "img readdir version/state (0, 0, 0) x\n",
      "img readdir version/state (0, 0, 0) x\n",
      "tag_set Set([])\n",
      "my_set Set([])\n",
      "im get dir, state: x version: (0, 0, 0)\n",
      "im get dir, state: x version: (0, 0, 0)\n",
      "im get dir, state: x version: (0, 0, 0)\n",
      "im get dir, state: x version: (0, 0, 0)\n",
      "img readdir version/state (0, 0, 0) x\n",
      "img readdir version/state (0, 0, 0) x\n",
      "img readdir version/state (0, 0, 0) x\n",
      "img readdir version/state (0, 0, 0) x\n",
      "tag_set Set([])\n",
      "my_set Set([])\n",
      "im get dir, state: x version: (0, 0, 0)\n",
      "im get dir, state: x version: (0, 0, 0)\n",
      "im get dir, state: x version: (0, 0, 0)\n",
      "im get dir, state: x version: (0, 0, 0)\n",
      "img readdir version/state (0, 0, 0) x\n",
      "img readdir version/state (0, 0, 0) x\n",
      "img readdir version/state (0, 0, 0) x\n",
      "img readdir version/state (0, 0, 0) x\n",
      "tag_set Set([])\n",
      "my_set Set([])\n",
      "im get dir, state: x version: (0, 0, 0)\n",
      "im get dir, state: x version: (0, 0, 0)\n",
      "im get dir, state: x version: (0, 0, 0)\n",
      "im get dir, state: x version: (0, 0, 0)\n",
      "img readdir version/state (0, 0, 0) x\n",
      "img readdir version/state (0, 0, 0) x\n",
      "img readdir version/state (0, 0, 0) x\n",
      "img readdir version/state (0, 0, 0) x\n",
      "tag_set Set([])\n",
      "my_set Set([])\n",
      "im get dir, state: x version: (0, 0, 0)\n",
      "im get dir, state: x version: (0, 0, 0)\n",
      "im get dir, state: x version: (0, 0, 0)\n",
      "im get dir, state: x version: (0, 0, 0)\n",
      "img readdir version/state (0, 0, 0) x\n",
      "img readdir version/state (0, 0, 0) x\n",
      "img readdir version/state (0, 0, 0) x\n",
      "img readdir version/state (0, 0, 0) x\n",
      "tag_set Set([])\n",
      "my_set Set([])\n",
      "im get dir, state: x version: (0, 0, 0)\n",
      "im get dir, state: x version: (0, 0, 0)\n",
      "im get dir, state: x version: (0, 0, 0)\n",
      "im get dir, state: x version: (0, 0, 0)\n",
      "img readdir version/state (0, 0, 0) x\n",
      "img readdir version/state (0, 0, 0) x\n",
      "img readdir version/state (0, 0, 0) x\n",
      "img readdir version/state (0, 0, 0) x\n",
      "tag_set Set([])\n",
      "my_set Set([])\n",
      "im get dir, state: x version: (0, 0, 0)\n",
      "im get dir, state: x version: (0, 0, 0)\n",
      "im get dir, state: x version: (0, 0, 0)\n",
      "im get dir, state: x version: (0, 0, 0)\n",
      "img readdir version/state (0, 0, 0) x\n",
      "img readdir version/state (0, 0, 0) x\n",
      "img readdir version/state (0, 0, 0) x\n",
      "img readdir version/state (0, 0, 0) x\n",
      "tag_set Set([])\n",
      "my_set Set([])\n",
      "im get dir, state: x version: (0, 0, 0)\n",
      "im get dir, state: x version: (0, 0, 0)\n",
      "im get dir, state: x version: (0, 0, 0)\n",
      "im get dir, state: x version: (0, 0, 0)\n",
      "img readdir version/state (0, 0, 0) x\n",
      "img readdir version/state (0, 0, 0) x\n",
      "img readdir version/state (0, 0, 0) x\n",
      "img readdir version/state (0, 0, 0) x\n",
      "tag_set Set([])\n",
      "my_set Set([])\n",
      "im get dir, state: x version: (0, 0, 0)\n",
      "im get dir, state: x version: (0, 0, 0)\n",
      "im get dir, state: x version: (0, 0, 0)\n",
      "im get dir, state: x version: (0, 0, 0)\n",
      "img readdir version/state (0, 0, 0) x\n",
      "img readdir version/state (0, 0, 0) x\n",
      "img readdir version/state (0, 0, 0) x\n",
      "img readdir version/state (0, 0, 0) x\n",
      "tag_set Set([])\n",
      "my_set Set([])\n",
      "im get dir, state: x version: (0, 0, 0)\n",
      "im get dir, state: x version: (0, 0, 0)\n",
      "im get dir, state: x version: (0, 0, 0)\n",
      "im get dir, state: x version: (0, 0, 0)\n",
      "img readdir version/state (0, 0, 0) x\n",
      "img readdir version/state (0, 0, 0) x\n",
      "img readdir version/state (0, 0, 0) x\n",
      "img readdir version/state (0, 0, 0) x\n",
      "tag_set Set([])\n",
      "my_set Set([])\n",
      "im get dir, state: x version: (0, 0, 0)\n",
      "im get dir, state: x version: (0, 0, 0)\n",
      "im get dir, state: x version: (0, 0, 0)\n",
      "im get dir, state: x version: (0, 0, 0)\n",
      "img readdir version/state (0, 0, 0) x\n",
      "img readdir version/state (0, 0, 0) x\n",
      "img readdir version/state (0, 0, 0) x\n",
      "img readdir version/state (0, 0, 0) x\n",
      "tag_set Set([])\n",
      "my_set Set([])\n",
      "im get dir, state: x version: (0, 0, 0)\n",
      "im get dir, state: x version: (0, 0, 0)\n",
      "im get dir, state: x version: (0, 0, 0)\n",
      "im get dir, state: x version: (0, 0, 0)\n",
      "img readdir version/state (0, 0, 0) x\n",
      "img readdir version/state (0, 0, 0) x\n",
      "img readdir version/state (0, 0, 0) x\n",
      "img readdir version/state (0, 0, 0) x\n",
      "tag_set Set([])\n",
      "my_set Set([])\n",
      "im get dir, state: x version: (0, 0, 0)\n",
      "im get dir, state: x version: (0, 0, 0)\n",
      "im get dir, state: x version: (0, 0, 0)\n",
      "im get dir, state: x version: (0, 0, 0)\n",
      "img readdir version/state (0, 0, 0) x\n",
      "img readdir version/state (0, 0, 0) x\n",
      "img readdir version/state (0, 0, 0) x\n",
      "img readdir version/state (0, 0, 0) x\n",
      "tag_set Set([])\n",
      "my_set Set([])\n"
     ]
    },
    {
     "name": "stdout",
     "output_type": "stream",
     "text": [
      "im get dir, state: x version: (0, 0, 0)\n",
      "im get dir, state: x version: (0, 0, 0)\n",
      "im get dir, state: x version: (0, 0, 0)\n",
      "im get dir, state: x version: (0, 0, 0)\n",
      "img readdir version/state (0, 0, 0) x\n",
      "img readdir version/state (0, 0, 0) x\n",
      "img readdir version/state (0, 0, 0) x\n",
      "img readdir version/state (0, 0, 0) x\n",
      "tag_set Set([])\n",
      "my_set Set([])\n",
      "im get dir, state: x version: (0, 0, 0)\n",
      "im get dir, state: x version: (0, 0, 0)\n",
      "im get dir, state: x version: (0, 0, 0)\n",
      "im get dir, state: x version: (0, 0, 0)\n",
      "img readdir version/state (0, 0, 0) x\n",
      "img readdir version/state (0, 0, 0) x\n",
      "img readdir version/state (0, 0, 0) x\n",
      "img readdir version/state (0, 0, 0) x\n",
      "tag_set Set([])\n",
      "my_set Set([])\n",
      "im get dir, state: x version: (0, 0, 0)\n",
      "im get dir, state: x version: (0, 0, 0)\n",
      "im get dir, state: x version: (0, 0, 0)\n",
      "im get dir, state: x version: (0, 0, 0)\n",
      "img readdir version/state (0, 0, 0) x\n",
      "img readdir version/state (0, 0, 0) x\n",
      "img readdir version/state (0, 0, 0) x\n",
      "img readdir version/state (0, 0, 0) x\n",
      "tag_set Set([])\n",
      "my_set Set([])\n",
      "im get dir, state: x version: (0, 0, 0)\n",
      "im get dir, state: x version: (0, 0, 0)\n",
      "im get dir, state: x version: (0, 0, 0)\n",
      "im get dir, state: x version: (0, 0, 0)\n",
      "img readdir version/state (0, 0, 0) x\n",
      "img readdir version/state (0, 0, 0) x\n",
      "img readdir version/state (0, 0, 0) x\n",
      "img readdir version/state (0, 0, 0) x\n",
      "tag_set Set([])\n",
      "my_set Set([])\n",
      "im get dir, state: x version: (0, 0, 0)\n",
      "im get dir, state: x version: (0, 0, 0)\n",
      "im get dir, state: x version: (0, 0, 0)\n",
      "im get dir, state: x version: (0, 0, 0)\n",
      "img readdir version/state (0, 0, 0) x\n",
      "img readdir version/state (0, 0, 0) x\n",
      "img readdir version/state (0, 0, 0) x\n",
      "img readdir version/state (0, 0, 0) x\n",
      "tag_set Set([])\n",
      "my_set Set([])\n",
      "im get dir, state: x version: (0, 0, 0)\n",
      "im get dir, state: x version: (0, 0, 0)\n",
      "im get dir, state: x version: (0, 0, 0)\n",
      "im get dir, state: x version: (0, 0, 0)\n",
      "img readdir version/state (0, 0, 0) x\n",
      "img readdir version/state (0, 0, 0) x\n",
      "img readdir version/state (0, 0, 0) x\n",
      "img readdir version/state (0, 0, 0) x\n",
      "tag_set Set([])\n",
      "my_set Set([])\n",
      "im get dir, state: x version: (0, 0, 0)\n",
      "im get dir, state: x version: (0, 0, 0)\n",
      "im get dir, state: x version: (0, 0, 0)\n",
      "im get dir, state: x version: (0, 0, 0)\n",
      "img readdir version/state (0, 0, 0) x\n",
      "img readdir version/state (0, 0, 0) x\n",
      "img readdir version/state (0, 0, 0) x\n",
      "img readdir version/state (0, 0, 0) x\n",
      "tag_set Set([])\n",
      "my_set Set([])\n",
      "im get dir, state: x version: (0, 0, 0)\n",
      "im get dir, state: x version: (0, 0, 0)\n",
      "im get dir, state: x version: (0, 0, 0)\n",
      "im get dir, state: x version: (0, 0, 0)\n",
      "img readdir version/state (0, 0, 0) x\n",
      "img readdir version/state (0, 0, 0) x\n",
      "img readdir version/state (0, 0, 0) x\n",
      "img readdir version/state (0, 0, 0) x\n",
      "tag_set Set([])\n",
      "my_set Set([])\n",
      "im get dir, state: x version: (0, 0, 0)\n",
      "im get dir, state: x version: (0, 0, 0)\n",
      "im get dir, state: x version: (0, 0, 0)\n",
      "im get dir, state: x version: (0, 0, 0)\n",
      "img readdir version/state (0, 0, 0) x\n",
      "img readdir version/state (0, 0, 0) x\n",
      "img readdir version/state (0, 0, 0) x\n",
      "img readdir version/state (0, 0, 0) x\n",
      "tag_set Set([])\n",
      "my_set Set([])\n",
      "im get dir, state: x version: (0, 0, 0)\n",
      "im get dir, state: x version: (0, 0, 0)\n",
      "im get dir, state: x version: (0, 0, 0)\n",
      "im get dir, state: x version: (0, 0, 0)\n",
      "img readdir version/state (0, 0, 0) x\n",
      "img readdir version/state (0, 0, 0) x\n",
      "img readdir version/state (0, 0, 0) x\n",
      "img readdir version/state (0, 0, 0) x\n",
      "tag_set Set([])\n",
      "my_set Set([])\n",
      "im get dir, state: x version: (0, 0, 0)\n",
      "im get dir, state: x version: (0, 0, 0)\n",
      "im get dir, state: x version: (0, 0, 0)\n",
      "im get dir, state: x version: (0, 0, 0)\n",
      "img readdir version/state (0, 0, 0) x\n",
      "img readdir version/state (0, 0, 0) x\n",
      "img readdir version/state (0, 0, 0) x\n",
      "img readdir version/state (0, 0, 0) x\n",
      "tag_set Set([])\n",
      "my_set Set([])\n",
      "im get dir, state: x version: (0, 0, 0)\n",
      "im get dir, state: x version: (0, 0, 0)\n",
      "im get dir, state: x version: (0, 0, 0)\n",
      "im get dir, state: x version: (0, 0, 0)\n",
      "img readdir version/state (0, 0, 0) x\n",
      "img readdir version/state (0, 0, 0) x\n",
      "img readdir version/state (0, 0, 0) x\n",
      "img readdir version/state (0, 0, 0) x\n",
      "tag_set Set([])\n",
      "my_set Set([])\n",
      "im get dir, state: x version: (0, 0, 0)\n",
      "im get dir, state: x version: (0, 0, 0)\n",
      "im get dir, state: x version: (0, 0, 0)\n",
      "im get dir, state: x version: (0, 0, 0)\n",
      "img readdir version/state (0, 0, 0) x\n",
      "img readdir version/state (0, 0, 0) x\n",
      "img readdir version/state (0, 0, 0) x\n",
      "img readdir version/state (0, 0, 0) x\n",
      "tag_set Set([])\n",
      "my_set Set([])\n",
      "im get dir, state: x version: (0, 0, 0)\n",
      "im get dir, state: x version: (0, 0, 0)\n",
      "im get dir, state: x version: (0, 0, 0)\n",
      "im get dir, state: x version: (0, 0, 0)\n",
      "img readdir version/state (0, 0, 0) x\n",
      "img readdir version/state (0, 0, 0) x\n",
      "img readdir version/state (0, 0, 0) x\n",
      "img readdir version/state (0, 0, 0) x\n",
      "tag_set Set([])\n",
      "my_set Set([])\n",
      "im get dir, state: x version: (0, 0, 0)\n",
      "im get dir, state: x version: (0, 0, 0)\n",
      "im get dir, state: x version: (0, 0, 0)\n",
      "im get dir, state: x version: (0, 0, 0)\n",
      "img readdir version/state (0, 0, 0) x\n",
      "img readdir version/state (0, 0, 0) x\n",
      "img readdir version/state (0, 0, 0) x\n",
      "img readdir version/state (0, 0, 0) x\n",
      "tag_set Set([])\n",
      "my_set Set([])\n",
      "im get dir, state: x version: (0, 0, 0)\n",
      "im get dir, state: x version: (0, 0, 0)\n",
      "im get dir, state: x version: (0, 0, 0)\n",
      "im get dir, state: x version: (0, 0, 0)\n",
      "img readdir version/state (0, 0, 0) x\n",
      "img readdir version/state (0, 0, 0) x\n",
      "img readdir version/state (0, 0, 0) x\n",
      "img readdir version/state (0, 0, 0) x\n",
      "tag_set Set([])\n",
      "my_set Set([])\n",
      "im get dir, state: x version: (0, 0, 0)\n",
      "im get dir, state: x version: (0, 0, 0)\n",
      "im get dir, state: x version: (0, 0, 0)\n",
      "im get dir, state: x version: (0, 0, 0)\n",
      "img readdir version/state (0, 0, 0) x\n",
      "img readdir version/state (0, 0, 0) x\n",
      "img readdir version/state (0, 0, 0) x\n",
      "img readdir version/state (0, 0, 0) x\n",
      "tag_set Set([])\n",
      "my_set Set([])\n",
      "im get dir, state: x version: (0, 0, 0)\n",
      "im get dir, state: x version: (0, 0, 0)\n",
      "im get dir, state: x version: (0, 0, 0)\n",
      "im get dir, state: x version: (0, 0, 0)\n",
      "img readdir version/state (0, 0, 0) x\n",
      "img readdir version/state (0, 0, 0) x\n",
      "img readdir version/state (0, 0, 0) x\n",
      "img readdir version/state (0, 0, 0) x\n",
      "tag_set Set([])\n",
      "my_set Set([])\n",
      "im get dir, state: x version: (0, 0, 0)\n",
      "im get dir, state: x version: (0, 0, 0)\n",
      "im get dir, state: x version: (0, 0, 0)\n",
      "im get dir, state: x version: (0, 0, 0)\n",
      "img readdir version/state (0, 0, 0) x\n",
      "img readdir version/state (0, 0, 0) x\n",
      "img readdir version/state (0, 0, 0) x\n",
      "img readdir version/state (0, 0, 0) x\n",
      "tag_set Set([])\n",
      "my_set Set([])\n",
      "im get dir, state: x version: (0, 0, 0)\n",
      "im get dir, state: x version: (0, 0, 0)\n",
      "im get dir, state: x version: (0, 0, 0)\n",
      "im get dir, state: x version: (0, 0, 0)\n",
      "img readdir version/state (0, 0, 0) x\n",
      "img readdir version/state (0, 0, 0) x\n",
      "img readdir version/state (0, 0, 0) x\n",
      "img readdir version/state (0, 0, 0) x\n",
      "tag_set Set([])\n",
      "my_set Set([])\n",
      "im get dir, state: x version: (0, 0, 0)\n",
      "im get dir, state: x version: (0, 0, 0)\n",
      "im get dir, state: x version: (0, 0, 0)\n",
      "im get dir, state: x version: (0, 0, 0)\n",
      "img readdir version/state (0, 0, 0) x\n",
      "img readdir version/state (0, 0, 0) x\n",
      "img readdir version/state (0, 0, 0) x\n",
      "img readdir version/state (0, 0, 0) x\n",
      "tag_set Set([])\n",
      "my_set Set([])\n",
      "im get dir, state: x version: (0, 0, 0)\n",
      "im get dir, state: x version: (0, 0, 0)\n",
      "im get dir, state: x version: (0, 0, 0)\n",
      "im get dir, state: x version: (0, 0, 0)\n",
      "img readdir version/state (0, 0, 0) x\n",
      "img readdir version/state (0, 0, 0) x\n",
      "img readdir version/state (0, 0, 0) x\n",
      "img readdir version/state (0, 0, 0) x\n",
      "tag_set Set([])\n",
      "my_set Set([])\n",
      "im get dir, state: x version: (0, 0, 0)\n",
      "im get dir, state: x version: (0, 0, 0)\n",
      "im get dir, state: x version: (0, 0, 0)\n",
      "im get dir, state: x version: (0, 0, 0)\n",
      "img readdir version/state (0, 0, 0) x\n",
      "img readdir version/state (0, 0, 0) x\n",
      "img readdir version/state (0, 0, 0) x\n",
      "img readdir version/state (0, 0, 0) x\n",
      "tag_set Set([])\n",
      "my_set Set([])\n",
      "im get dir, state: x version: (0, 0, 0)\n",
      "im get dir, state: x version: (0, 0, 0)\n",
      "im get dir, state: x version: (0, 0, 0)\n",
      "im get dir, state: x version: (0, 0, 0)\n",
      "img readdir version/state (0, 0, 0) x\n",
      "img readdir version/state (0, 0, 0) x\n",
      "img readdir version/state (0, 0, 0) x\n",
      "img readdir version/state (0, 0, 0) x\n",
      "tag_set Set([])\n",
      "my_set Set([])\n"
     ]
    },
    {
     "name": "stdout",
     "output_type": "stream",
     "text": [
      "im get dir, state: x version: (0, 0, 0)\n",
      "im get dir, state: x version: (0, 0, 0)\n",
      "im get dir, state: x version: (0, 0, 0)\n",
      "im get dir, state: x version: (0, 0, 0)\n",
      "img readdir version/state (0, 0, 0) x\n",
      "img readdir version/state (0, 0, 0) x\n",
      "img readdir version/state (0, 0, 0) x\n",
      "img readdir version/state (0, 0, 0) x\n",
      "tag_set Set([])\n",
      "my_set Set([])\n",
      "im get dir, state: x version: (0, 0, 0)\n",
      "im get dir, state: x version: (0, 0, 0)\n",
      "im get dir, state: x version: (0, 0, 0)\n",
      "im get dir, state: x version: (0, 0, 0)\n",
      "img readdir version/state (0, 0, 0) x\n",
      "img readdir version/state (0, 0, 0) x\n",
      "img readdir version/state (0, 0, 0) x\n",
      "img readdir version/state (0, 0, 0) x\n",
      "tag_set Set([])\n",
      "my_set Set([])\n",
      "im get dir, state: x version: (0, 0, 0)\n",
      "im get dir, state: x version: (0, 0, 0)\n",
      "im get dir, state: x version: (0, 0, 0)\n",
      "im get dir, state: x version: (0, 0, 0)\n",
      "img readdir version/state (0, 0, 0) x\n",
      "img readdir version/state (0, 0, 0) x\n",
      "img readdir version/state (0, 0, 0) x\n",
      "img readdir version/state (0, 0, 0) x\n",
      "tag_set Set([])\n",
      "my_set Set([])\n",
      "im get dir, state: x version: (0, 0, 0)\n",
      "im get dir, state: x version: (0, 0, 0)\n",
      "im get dir, state: x version: (0, 0, 0)\n",
      "im get dir, state: x version: (0, 0, 0)\n",
      "img readdir version/state (0, 0, 0) x\n",
      "img readdir version/state (0, 0, 0) x\n",
      "img readdir version/state (0, 0, 0) x\n",
      "img readdir version/state (0, 0, 0) x\n",
      "tag_set Set([])\n",
      "my_set Set([])\n",
      "im get dir, state: x version: (0, 0, 0)\n",
      "im get dir, state: x version: (0, 0, 0)\n",
      "im get dir, state: x version: (0, 0, 0)\n",
      "im get dir, state: x version: (0, 0, 0)\n",
      "img readdir version/state (0, 0, 0) x\n",
      "img readdir version/state (0, 0, 0) x\n",
      "img readdir version/state (0, 0, 0) x\n",
      "img readdir version/state (0, 0, 0) x\n",
      "tag_set Set([])\n",
      "my_set Set([])\n",
      "im get dir, state: x version: (0, 0, 0)\n",
      "im get dir, state: x version: (0, 0, 0)\n",
      "im get dir, state: x version: (0, 0, 0)\n",
      "im get dir, state: x version: (0, 0, 0)\n",
      "img readdir version/state (0, 0, 0) x\n",
      "img readdir version/state (0, 0, 0) x\n",
      "img readdir version/state (0, 0, 0) x\n",
      "img readdir version/state (0, 0, 0) x\n",
      "tag_set Set([])\n",
      "my_set Set([])\n",
      "im get dir, state: x version: (0, 0, 0)\n",
      "im get dir, state: x version: (0, 0, 0)\n",
      "im get dir, state: x version: (0, 0, 0)\n",
      "im get dir, state: x version: (0, 0, 0)\n",
      "img readdir version/state (0, 0, 0) x\n",
      "img readdir version/state (0, 0, 0) x\n",
      "img readdir version/state (0, 0, 0) x\n",
      "img readdir version/state (0, 0, 0) x\n",
      "tag_set Set([])\n",
      "my_set Set([])\n",
      "im get dir, state: x version: (0, 0, 0)\n",
      "im get dir, state: x version: (0, 0, 0)\n",
      "im get dir, state: x version: (0, 0, 0)\n",
      "im get dir, state: x version: (0, 0, 0)\n",
      "img readdir version/state (0, 0, 0) x\n",
      "img readdir version/state (0, 0, 0) x\n",
      "img readdir version/state (0, 0, 0) x\n",
      "img readdir version/state (0, 0, 0) x\n",
      "tag_set Set([])\n",
      "my_set Set([])\n",
      "im get dir, state: x version: (0, 0, 0)\n",
      "im get dir, state: x version: (0, 0, 0)\n",
      "im get dir, state: x version: (0, 0, 0)\n",
      "im get dir, state: x version: (0, 0, 0)\n",
      "img readdir version/state (0, 0, 0) x\n",
      "img readdir version/state (0, 0, 0) x\n",
      "img readdir version/state (0, 0, 0) x\n",
      "img readdir version/state (0, 0, 0) x\n",
      "tag_set Set([])\n",
      "my_set Set([])\n",
      "im get dir, state: x version: (0, 0, 0)\n",
      "im get dir, state: x version: (0, 0, 0)\n",
      "im get dir, state: x version: (0, 0, 0)\n",
      "im get dir, state: x version: (0, 0, 0)\n",
      "img readdir version/state (0, 0, 0) x\n",
      "img readdir version/state (0, 0, 0) x\n",
      "img readdir version/state (0, 0, 0) x\n",
      "img readdir version/state (0, 0, 0) x\n",
      "tag_set Set([])\n",
      "my_set Set([])\n",
      "im get dir, state: x version: (0, 0, 0)\n",
      "im get dir, state: x version: (0, 0, 0)\n",
      "im get dir, state: x version: (0, 0, 0)\n",
      "im get dir, state: x version: (0, 0, 0)\n",
      "img readdir version/state (0, 0, 0) x\n",
      "img readdir version/state (0, 0, 0) x\n",
      "img readdir version/state (0, 0, 0) x\n",
      "img readdir version/state (0, 0, 0) x\n",
      "tag_set Set([])\n",
      "my_set Set([])\n",
      "im get dir, state: x version: (0, 0, 0)\n",
      "im get dir, state: x version: (0, 0, 0)\n",
      "im get dir, state: x version: (0, 0, 0)\n",
      "im get dir, state: x version: (0, 0, 0)\n",
      "img readdir version/state (0, 0, 0) x\n",
      "img readdir version/state (0, 0, 0) x\n",
      "img readdir version/state (0, 0, 0) x\n",
      "img readdir version/state (0, 0, 0) x\n",
      "tag_set Set([])\n",
      "my_set Set([])\n",
      "im get dir, state: x version: (0, 0, 0)\n",
      "im get dir, state: x version: (0, 0, 0)\n",
      "im get dir, state: x version: (0, 0, 0)\n",
      "im get dir, state: x version: (0, 0, 0)\n",
      "img readdir version/state (0, 0, 0) x\n",
      "img readdir version/state (0, 0, 0) x\n",
      "img readdir version/state (0, 0, 0) x\n",
      "img readdir version/state (0, 0, 0) x\n",
      "tag_set Set([])\n",
      "my_set Set([])\n",
      "im get dir, state: x version: (0, 0, 0)\n",
      "im get dir, state: x version: (0, 0, 0)\n",
      "im get dir, state: x version: (0, 0, 0)\n",
      "im get dir, state: x version: (0, 0, 0)\n",
      "img readdir version/state (0, 0, 0) x\n",
      "img readdir version/state (0, 0, 0) x\n",
      "img readdir version/state (0, 0, 0) x\n",
      "img readdir version/state (0, 0, 0) x\n",
      "tag_set Set([])\n",
      "my_set Set([])\n",
      "im get dir, state: x version: (0, 0, 0)\n",
      "im get dir, state: x version: (0, 0, 0)\n",
      "im get dir, state: x version: (0, 0, 0)\n",
      "im get dir, state: x version: (0, 0, 0)\n",
      "img readdir version/state (0, 0, 0) x\n",
      "img readdir version/state (0, 0, 0) x\n",
      "img readdir version/state (0, 0, 0) x\n",
      "img readdir version/state (0, 0, 0) x\n",
      "tag_set Set([])\n",
      "my_set Set([])\n",
      "im get dir, state: x version: (0, 0, 0)\n",
      "im get dir, state: x version: (0, 0, 0)\n",
      "im get dir, state: x version: (0, 0, 0)\n",
      "im get dir, state: x version: (0, 0, 0)\n",
      "img readdir version/state (0, 0, 0) x\n",
      "img readdir version/state (0, 0, 0) x\n",
      "img readdir version/state (0, 0, 0) x\n",
      "img readdir version/state (0, 0, 0) x\n",
      "tag_set Set([])\n",
      "my_set Set([])\n",
      "im get dir, state: x version: (0, 0, 0)\n",
      "im get dir, state: x version: (0, 0, 0)\n",
      "im get dir, state: x version: (0, 0, 0)\n",
      "im get dir, state: x version: (0, 0, 0)\n",
      "img readdir version/state (0, 0, 0) x\n",
      "img readdir version/state (0, 0, 0) x\n",
      "img readdir version/state (0, 0, 0) x\n",
      "img readdir version/state (0, 0, 0) x\n",
      "tag_set Set([])\n",
      "my_set Set([])\n",
      "im get dir, state: x version: (0, 0, 0)\n",
      "im get dir, state: x version: (0, 0, 0)\n",
      "im get dir, state: x version: (0, 0, 0)\n",
      "im get dir, state: x version: (0, 0, 0)\n",
      "img readdir version/state (0, 0, 0) x\n",
      "img readdir version/state (0, 0, 0) x\n",
      "img readdir version/state (0, 0, 0) x\n",
      "img readdir version/state (0, 0, 0) x\n",
      "tag_set Set([])\n",
      "my_set Set([])\n",
      "im get dir, state: x version: (0, 0, 0)\n",
      "im get dir, state: x version: (0, 0, 0)\n",
      "im get dir, state: x version: (0, 0, 0)\n",
      "im get dir, state: x version: (0, 0, 0)\n",
      "img readdir version/state (0, 0, 0) x\n",
      "img readdir version/state (0, 0, 0) x\n",
      "img readdir version/state (0, 0, 0) x\n",
      "img readdir version/state (0, 0, 0) x\n",
      "tag_set Set([])\n",
      "my_set Set([])\n",
      "im get dir, state: x version: (0, 0, 0)\n",
      "im get dir, state: x version: (0, 0, 0)\n",
      "im get dir, state: x version: (0, 0, 0)\n",
      "im get dir, state: x version: (0, 0, 0)\n",
      "img readdir version/state (0, 0, 0) x\n",
      "img readdir version/state (0, 0, 0) x\n",
      "img readdir version/state (0, 0, 0) x\n",
      "img readdir version/state (0, 0, 0) x\n",
      "tag_set Set([])\n",
      "my_set Set([])\n",
      "im get dir, state: x version: (0, 0, 0)\n",
      "im get dir, state: x version: (0, 0, 0)\n",
      "im get dir, state: x version: (0, 0, 0)\n",
      "im get dir, state: x version: (0, 0, 0)\n",
      "img readdir version/state (0, 0, 0) x\n",
      "img readdir version/state (0, 0, 0) x\n",
      "img readdir version/state (0, 0, 0) x\n",
      "img readdir version/state (0, 0, 0) x\n",
      "tag_set Set([])\n",
      "my_set Set([])\n",
      "im get dir, state: x version: (0, 0, 0)\n",
      "im get dir, state: x version: (0, 0, 0)\n",
      "im get dir, state: x version: (0, 0, 0)\n",
      "im get dir, state: x version: (0, 0, 0)\n",
      "img readdir version/state (0, 0, 0) x\n",
      "img readdir version/state (0, 0, 0) x\n",
      "img readdir version/state (0, 0, 0) x\n",
      "img readdir version/state (0, 0, 0) x\n",
      "tag_set Set([])\n",
      "my_set Set([])\n",
      "im get dir, state: x version: (0, 0, 0)\n",
      "im get dir, state: x version: (0, 0, 0)\n",
      "im get dir, state: x version: (0, 0, 0)\n",
      "im get dir, state: x version: (0, 0, 0)\n",
      "img readdir version/state (0, 0, 0) x\n",
      "img readdir version/state (0, 0, 0) x\n",
      "img readdir version/state (0, 0, 0) x\n",
      "img readdir version/state (0, 0, 0) x\n",
      "tag_set Set([])\n",
      "my_set Set([])\n",
      "im get dir, state: x version: (0, 0, 0)\n",
      "im get dir, state: x version: (0, 0, 0)\n",
      "im get dir, state: x version: (0, 0, 0)\n",
      "im get dir, state: x version: (0, 0, 0)\n",
      "img readdir version/state (0, 0, 0) x\n",
      "img readdir version/state (0, 0, 0) x\n",
      "img readdir version/state (0, 0, 0) x\n",
      "img readdir version/state (0, 0, 0) x\n",
      "tag_set Set([])\n",
      "my_set Set([])\n"
     ]
    },
    {
     "name": "stdout",
     "output_type": "stream",
     "text": [
      "im get dir, state: x version: (0, 0, 0)\n",
      "im get dir, state: x version: (0, 0, 0)\n",
      "im get dir, state: x version: (0, 0, 0)\n",
      "im get dir, state: x version: (0, 0, 0)\n",
      "img readdir version/state (0, 0, 0) x\n",
      "img readdir version/state (0, 0, 0) x\n",
      "img readdir version/state (0, 0, 0) x\n",
      "img readdir version/state (0, 0, 0) x\n",
      "tag_set Set([])\n",
      "my_set Set([])\n",
      "im get dir, state: x version: (0, 0, 0)\n",
      "im get dir, state: x version: (0, 0, 0)\n",
      "im get dir, state: x version: (0, 0, 0)\n",
      "im get dir, state: x version: (0, 0, 0)\n",
      "img readdir version/state (0, 0, 0) x\n",
      "img readdir version/state (0, 0, 0) x\n",
      "img readdir version/state (0, 0, 0) x\n",
      "img readdir version/state (0, 0, 0) x\n",
      "tag_set Set([])\n",
      "my_set Set([])\n",
      "im get dir, state: x version: (0, 0, 0)\n",
      "im get dir, state: x version: (0, 0, 0)\n",
      "im get dir, state: x version: (0, 0, 0)\n",
      "im get dir, state: x version: (0, 0, 0)\n",
      "img readdir version/state (0, 0, 0) x\n",
      "img readdir version/state (0, 0, 0) x\n",
      "img readdir version/state (0, 0, 0) x\n",
      "img readdir version/state (0, 0, 0) x\n",
      "tag_set Set([])\n",
      "my_set Set([])\n",
      "im get dir, state: x version: (0, 0, 0)\n",
      "im get dir, state: x version: (0, 0, 0)\n",
      "im get dir, state: x version: (0, 0, 0)\n",
      "im get dir, state: x version: (0, 0, 0)\n",
      "img readdir version/state (0, 0, 0) x\n",
      "img readdir version/state (0, 0, 0) x\n",
      "img readdir version/state (0, 0, 0) x\n",
      "img readdir version/state (0, 0, 0) x\n",
      "tag_set Set([])\n",
      "my_set Set([])\n",
      "im get dir, state: x version: (0, 0, 0)\n",
      "im get dir, state: x version: (0, 0, 0)\n",
      "im get dir, state: x version: (0, 0, 0)\n",
      "im get dir, state: x version: (0, 0, 0)\n",
      "img readdir version/state (0, 0, 0) x\n",
      "img readdir version/state (0, 0, 0) x\n",
      "img readdir version/state (0, 0, 0) x\n",
      "img readdir version/state (0, 0, 0) x\n",
      "tag_set Set([])\n",
      "my_set Set([])\n",
      "im get dir, state: x version: (0, 0, 0)\n",
      "im get dir, state: x version: (0, 0, 0)\n",
      "im get dir, state: x version: (0, 0, 0)\n",
      "im get dir, state: x version: (0, 0, 0)\n",
      "img readdir version/state (0, 0, 0) x\n",
      "img readdir version/state (0, 0, 0) x\n",
      "img readdir version/state (0, 0, 0) x\n",
      "img readdir version/state (0, 0, 0) x\n",
      "tag_set Set([])\n",
      "my_set Set([])\n",
      "im get dir, state: x version: (0, 0, 0)\n",
      "im get dir, state: x version: (0, 0, 0)\n",
      "im get dir, state: x version: (0, 0, 0)\n",
      "im get dir, state: x version: (0, 0, 0)\n",
      "img readdir version/state (0, 0, 0) x\n",
      "img readdir version/state (0, 0, 0) x\n",
      "img readdir version/state (0, 0, 0) x\n",
      "img readdir version/state (0, 0, 0) x\n",
      "tag_set Set([])\n",
      "my_set Set([])\n",
      "im get dir, state: x version: (0, 0, 0)\n",
      "im get dir, state: x version: (0, 0, 0)\n",
      "im get dir, state: x version: (0, 0, 0)\n",
      "im get dir, state: x version: (0, 0, 0)\n",
      "img readdir version/state (0, 0, 0) x\n",
      "img readdir version/state (0, 0, 0) x\n",
      "img readdir version/state (0, 0, 0) x\n",
      "img readdir version/state (0, 0, 0) x\n",
      "tag_set Set([])\n",
      "my_set Set([])\n",
      "im get dir, state: x version: (0, 0, 0)\n",
      "im get dir, state: x version: (0, 0, 0)\n",
      "im get dir, state: x version: (0, 0, 0)\n",
      "im get dir, state: x version: (0, 0, 0)\n",
      "img readdir version/state (0, 0, 0) x\n",
      "img readdir version/state (0, 0, 0) x\n",
      "img readdir version/state (0, 0, 0) x\n",
      "img readdir version/state (0, 0, 0) x\n",
      "tag_set Set([])\n",
      "my_set Set([])\n"
     ]
    },
    {
     "ename": "KeyboardInterrupt",
     "evalue": "",
     "output_type": "error",
     "traceback": [
      "\u001b[0;31m\u001b[0m",
      "\u001b[0;31mKeyboardInterrupt\u001b[0mTraceback (most recent call last)",
      "\u001b[0;32m<ipython-input-35-631f3f137922>\u001b[0m in \u001b[0;36m<module>\u001b[0;34m()\u001b[0m\n\u001b[1;32m      1\u001b[0m \u001b[0;32mfor\u001b[0m \u001b[0mi\u001b[0m \u001b[0;32min\u001b[0m \u001b[0mrange\u001b[0m\u001b[0;34m(\u001b[0m\u001b[0;36m5000\u001b[0m\u001b[0;34m)\u001b[0m\u001b[0;34m:\u001b[0m\u001b[0;34m\u001b[0m\u001b[0m\n\u001b[0;32m----> 2\u001b[0;31m     \u001b[0mimg_list\u001b[0m \u001b[0;34m=\u001b[0m \u001b[0mhandler\u001b[0m\u001b[0;34m.\u001b[0m\u001b[0mreaddir\u001b[0m\u001b[0;34m(\u001b[0m\u001b[0mpath_list\u001b[0m\u001b[0;34m)\u001b[0m\u001b[0;34m\u001b[0m\u001b[0m\n\u001b[0m",
      "\u001b[0;32m/mnt/Open/TagNet/tagfuse/tagfuse/taghandlers.pyc\u001b[0m in \u001b[0;36mreaddir\u001b[0;34m(self, path_list)\u001b[0m\n\u001b[1;32m    702\u001b[0m     \u001b[0;32mdef\u001b[0m \u001b[0mreaddir\u001b[0m\u001b[0;34m(\u001b[0m\u001b[0mself\u001b[0m\u001b[0;34m,\u001b[0m \u001b[0mpath_list\u001b[0m\u001b[0;34m)\u001b[0m\u001b[0;34m:\u001b[0m\u001b[0;34m\u001b[0m\u001b[0m\n\u001b[1;32m    703\u001b[0m         \u001b[0;31m# zzz print('image readdir', path_list)\u001b[0m\u001b[0;34m\u001b[0m\u001b[0;34m\u001b[0m\u001b[0m\n\u001b[0;32m--> 704\u001b[0;31m         \u001b[0mtag_dir\u001b[0m \u001b[0;34m=\u001b[0m \u001b[0mim_get_dir\u001b[0m\u001b[0;34m(\u001b[0m\u001b[0mself\u001b[0m\u001b[0;34m.\u001b[0m\u001b[0mradio\u001b[0m\u001b[0;34m,\u001b[0m \u001b[0mpath_list\u001b[0m\u001b[0;34m)\u001b[0m\u001b[0;34m\u001b[0m\u001b[0m\n\u001b[0m\u001b[1;32m    705\u001b[0m         \u001b[0;32mif\u001b[0m \u001b[0;34m(\u001b[0m\u001b[0mtag_dir\u001b[0m\u001b[0;34m)\u001b[0m\u001b[0;34m:\u001b[0m\u001b[0;34m\u001b[0m\u001b[0m\n\u001b[1;32m    706\u001b[0m             \u001b[0;31m# make set of versions found on tag\u001b[0m\u001b[0;34m\u001b[0m\u001b[0;34m\u001b[0m\u001b[0m\n",
      "\u001b[0;32m/mnt/Open/TagNet/tagfuse/tagfuse/radioimage.pyc\u001b[0m in \u001b[0;36mim_get_dir\u001b[0;34m(radio, path_list, version)\u001b[0m\n\u001b[1;32m    137\u001b[0m     \u001b[0;31m# zzz print('dir_req.name', dir_req.name)\u001b[0m\u001b[0;34m\u001b[0m\u001b[0;34m\u001b[0m\u001b[0m\n\u001b[1;32m    138\u001b[0m     error, payload = msg_exchange(radio,\n\u001b[0;32m--> 139\u001b[0;31m                                  dir_req)\n\u001b[0m\u001b[1;32m    140\u001b[0m     \u001b[0;31m# zzz print(error, payload)\u001b[0m\u001b[0;34m\u001b[0m\u001b[0;34m\u001b[0m\u001b[0m\n\u001b[1;32m    141\u001b[0m     \u001b[0mrtn_list\u001b[0m \u001b[0;34m=\u001b[0m \u001b[0;34m[\u001b[0m\u001b[0;34m]\u001b[0m\u001b[0;34m\u001b[0m\u001b[0m\n",
      "\u001b[0;32m/mnt/Open/TagNet/tagfuse/tagfuse/radioutils.pyc\u001b[0m in \u001b[0;36mmsg_exchange\u001b[0;34m(radio, req)\u001b[0m\n\u001b[1;32m    195\u001b[0m         \u001b[0mpayload\u001b[0m \u001b[0;34m=\u001b[0m \u001b[0mNone\u001b[0m\u001b[0;34m\u001b[0m\u001b[0m\n\u001b[1;32m    196\u001b[0m         \u001b[0mradio_send_msg\u001b[0m\u001b[0;34m(\u001b[0m\u001b[0mradio\u001b[0m\u001b[0;34m,\u001b[0m \u001b[0mreq_msg\u001b[0m\u001b[0;34m,\u001b[0m \u001b[0mRADIO_POWER\u001b[0m\u001b[0;34m)\u001b[0m\u001b[0;34m;\u001b[0m\u001b[0;34m\u001b[0m\u001b[0m\n\u001b[0;32m--> 197\u001b[0;31m         \u001b[0mrsp_buf\u001b[0m\u001b[0;34m,\u001b[0m \u001b[0mrssi\u001b[0m\u001b[0;34m,\u001b[0m \u001b[0mstatus\u001b[0m \u001b[0;34m=\u001b[0m \u001b[0mradio_receive_msg\u001b[0m\u001b[0;34m(\u001b[0m\u001b[0mradio\u001b[0m\u001b[0;34m,\u001b[0m \u001b[0mMAX_RECV\u001b[0m\u001b[0;34m,\u001b[0m \u001b[0mMAX_WAIT\u001b[0m\u001b[0;34m)\u001b[0m\u001b[0;34m\u001b[0m\u001b[0m\n\u001b[0m\u001b[1;32m    198\u001b[0m         \u001b[0;32mif\u001b[0m \u001b[0;34m(\u001b[0m\u001b[0mrsp_buf\u001b[0m\u001b[0;34m)\u001b[0m\u001b[0;34m:\u001b[0m\u001b[0;34m\u001b[0m\u001b[0m\n\u001b[1;32m    199\u001b[0m             \u001b[0;31m# zzz print(len(rsp_buf),hexlify(rsp_buf))\u001b[0m\u001b[0;34m\u001b[0m\u001b[0;34m\u001b[0m\u001b[0m\n",
      "\u001b[0;32m/mnt/Open/TagNet/tagfuse/tagfuse/radioutils.pyc\u001b[0m in \u001b[0;36mradio_receive_msg\u001b[0;34m(radio, max_recv, wait)\u001b[0m\n\u001b[1;32m    558\u001b[0m         \u001b[0mstatus\u001b[0m \u001b[0;34m=\u001b[0m \u001b[0mint_status\u001b[0m\u001b[0;34m(\u001b[0m\u001b[0mradio\u001b[0m\u001b[0;34m,\u001b[0m \u001b[0mclr_flags\u001b[0m\u001b[0;34m=\u001b[0m\u001b[0mcflags\u001b[0m\u001b[0;34m)\u001b[0m\u001b[0;34m\u001b[0m\u001b[0m\n\u001b[1;32m    559\u001b[0m \u001b[0;34m\u001b[0m\u001b[0m\n\u001b[0;32m--> 560\u001b[0;31m     \u001b[0mstatus\u001b[0m \u001b[0;34m=\u001b[0m \u001b[0mint_status\u001b[0m\u001b[0;34m(\u001b[0m\u001b[0mradio\u001b[0m\u001b[0;34m)\u001b[0m\u001b[0;34m\u001b[0m\u001b[0m\n\u001b[0m\u001b[1;32m    561\u001b[0m     \u001b[0mpkt_len\u001b[0m \u001b[0;34m=\u001b[0m \u001b[0mradio\u001b[0m\u001b[0;34m.\u001b[0m\u001b[0mget_packet_info\u001b[0m\u001b[0;34m(\u001b[0m\u001b[0;34m)\u001b[0m\u001b[0;34m\u001b[0m\u001b[0m\n\u001b[1;32m    562\u001b[0m     \u001b[0;32mif\u001b[0m \u001b[0;34m(\u001b[0m\u001b[0mdatetime\u001b[0m\u001b[0;34m.\u001b[0m\u001b[0mnow\u001b[0m\u001b[0;34m(\u001b[0m\u001b[0;34m)\u001b[0m \u001b[0;34m>\u001b[0m \u001b[0mend\u001b[0m\u001b[0;34m)\u001b[0m\u001b[0;34m:\u001b[0m\u001b[0;34m\u001b[0m\u001b[0m\n",
      "\u001b[0;32m/mnt/Open/TagNet/tagfuse/tagfuse/radioutils.pyc\u001b[0m in \u001b[0;36mint_status\u001b[0;34m(radio, clr_flags, show)\u001b[0m\n\u001b[1;32m    367\u001b[0m                 \u001b[0;32melse\u001b[0m \u001b[0mclr_pend_int_s\u001b[0m\u001b[0;34m.\u001b[0m\u001b[0mparse\u001b[0m\u001b[0;34m(\u001b[0m\u001b[0;34m'\\xff'\u001b[0m \u001b[0;34m*\u001b[0m \u001b[0mclr_pend_int_s\u001b[0m\u001b[0;34m.\u001b[0m\u001b[0msizeof\u001b[0m\u001b[0;34m(\u001b[0m\u001b[0;34m)\u001b[0m\u001b[0;34m)\u001b[0m\u001b[0;34m\u001b[0m\u001b[0m\n\u001b[1;32m    368\u001b[0m     \u001b[0mclr_flags\u001b[0m\u001b[0;34m.\u001b[0m\u001b[0mph_pend\u001b[0m\u001b[0;34m.\u001b[0m\u001b[0mSTATE_CHANGE\u001b[0m \u001b[0;34m=\u001b[0m \u001b[0mFalse\u001b[0m    \u001b[0;31m# always clear this interrupt\u001b[0m\u001b[0;34m\u001b[0m\u001b[0m\n\u001b[0;32m--> 369\u001b[0;31m     \u001b[0mp_g\u001b[0m \u001b[0;34m=\u001b[0m \u001b[0mradio\u001b[0m\u001b[0;34m.\u001b[0m\u001b[0mget_clear_interrupts\u001b[0m\u001b[0;34m(\u001b[0m\u001b[0mclr_flags\u001b[0m\u001b[0;34m)\u001b[0m\u001b[0;34m\u001b[0m\u001b[0m\n\u001b[0m\u001b[1;32m    370\u001b[0m     \u001b[0;32mif\u001b[0m \u001b[0;34m(\u001b[0m\u001b[0mshow\u001b[0m \u001b[0;32mis\u001b[0m \u001b[0mTrue\u001b[0m\u001b[0;34m)\u001b[0m\u001b[0;34m:\u001b[0m\u001b[0;34m\u001b[0m\u001b[0m\n\u001b[1;32m    371\u001b[0m         \u001b[0ms_name\u001b[0m \u001b[0;34m=\u001b[0m  \u001b[0;34m'int_status_rsp_s'\u001b[0m\u001b[0;34m\u001b[0m\u001b[0m\n",
      "\u001b[0;32m/mnt/Open/TagNet/tagfuse/../si446x/si446x/si446xradio.pyc\u001b[0m in \u001b[0;36mget_clear_interrupts\u001b[0;34m(self, clr_flags)\u001b[0m\n\u001b[1;32m    423\u001b[0m         \u001b[0mRefer\u001b[0m \u001b[0mto\u001b[0m \u001b[0mstructures\u001b[0m \u001b[0mdefined\u001b[0m \u001b[0mby\u001b[0m \u001b[0mthe\u001b[0m \u001b[0mSi4463\u001b[0m \u001b[0mradio\u001b[0m \u001b[0mAPI\u001b[0m \u001b[0mrevB1B\u001b[0m\u001b[0;34m.\u001b[0m\u001b[0;34m\u001b[0m\u001b[0m\n\u001b[1;32m    424\u001b[0m         \"\"\"\n\u001b[0;32m--> 425\u001b[0;31m         \u001b[0mself\u001b[0m\u001b[0;34m.\u001b[0m\u001b[0mclear_interrupts\u001b[0m\u001b[0;34m(\u001b[0m\u001b[0mclr_flags\u001b[0m\u001b[0;34m)\u001b[0m\u001b[0;34m\u001b[0m\u001b[0m\n\u001b[0m\u001b[1;32m    426\u001b[0m         \u001b[0mrsp\u001b[0m \u001b[0;34m=\u001b[0m \u001b[0mself\u001b[0m\u001b[0;34m.\u001b[0m\u001b[0mspi\u001b[0m\u001b[0;34m.\u001b[0m\u001b[0mresponse\u001b[0m\u001b[0;34m(\u001b[0m\u001b[0mint_status_rsp_s\u001b[0m\u001b[0;34m.\u001b[0m\u001b[0msizeof\u001b[0m\u001b[0;34m(\u001b[0m\u001b[0;34m)\u001b[0m\u001b[0;34m,\u001b[0m \u001b[0mint_status_rsp_s\u001b[0m\u001b[0;34m.\u001b[0m\u001b[0mname\u001b[0m\u001b[0;34m)\u001b[0m\u001b[0;34m\u001b[0m\u001b[0m\n\u001b[1;32m    427\u001b[0m         \u001b[0;32mif\u001b[0m \u001b[0;34m(\u001b[0m\u001b[0mrsp\u001b[0m\u001b[0;34m)\u001b[0m\u001b[0;34m:\u001b[0m\u001b[0;34m\u001b[0m\u001b[0m\n",
      "\u001b[0;32m/mnt/Open/TagNet/tagfuse/../si446x/si446x/si446xradio.pyc\u001b[0m in \u001b[0;36mclear_interrupts\u001b[0;34m(self, clr_flags)\u001b[0m\n\u001b[1;32m    239\u001b[0m         \u001b[0mrequest\u001b[0m \u001b[0;34m=\u001b[0m \u001b[0mread_cmd_s\u001b[0m\u001b[0;34m.\u001b[0m\u001b[0mparse\u001b[0m\u001b[0;34m(\u001b[0m\u001b[0;34m'\\x00'\u001b[0m \u001b[0;34m*\u001b[0m \u001b[0mread_cmd_s\u001b[0m\u001b[0;34m.\u001b[0m\u001b[0msizeof\u001b[0m\u001b[0;34m(\u001b[0m\u001b[0;34m)\u001b[0m\u001b[0;34m)\u001b[0m\u001b[0;34m\u001b[0m\u001b[0m\n\u001b[1;32m    240\u001b[0m         \u001b[0mrequest\u001b[0m\u001b[0;34m.\u001b[0m\u001b[0mcmd\u001b[0m\u001b[0;34m=\u001b[0m\u001b[0;34m'GET_INT_STATUS'\u001b[0m\u001b[0;34m\u001b[0m\u001b[0m\n\u001b[0;32m--> 241\u001b[0;31m         \u001b[0mcf\u001b[0m \u001b[0;34m=\u001b[0m \u001b[0mclr_pend_int_s\u001b[0m\u001b[0;34m.\u001b[0m\u001b[0mbuild\u001b[0m\u001b[0;34m(\u001b[0m\u001b[0mclr_flags\u001b[0m\u001b[0;34m)\u001b[0m \u001b[0;32mif\u001b[0m \u001b[0;34m(\u001b[0m\u001b[0mclr_flags\u001b[0m\u001b[0;34m)\u001b[0m \u001b[0;32melse\u001b[0m \u001b[0;34m''\u001b[0m\u001b[0;34m\u001b[0m\u001b[0m\n\u001b[0m\u001b[1;32m    242\u001b[0m         \u001b[0mcmd\u001b[0m \u001b[0;34m=\u001b[0m \u001b[0mread_cmd_s\u001b[0m\u001b[0;34m.\u001b[0m\u001b[0mbuild\u001b[0m\u001b[0;34m(\u001b[0m\u001b[0mrequest\u001b[0m\u001b[0;34m)\u001b[0m \u001b[0;34m+\u001b[0m \u001b[0mcf\u001b[0m\u001b[0;34m\u001b[0m\u001b[0m\n\u001b[1;32m    243\u001b[0m         \u001b[0ms_name\u001b[0m \u001b[0;34m=\u001b[0m \u001b[0mget_clear_int_cmd_s\u001b[0m\u001b[0;34m.\u001b[0m\u001b[0mname\u001b[0m \u001b[0;32mif\u001b[0m \u001b[0;34m(\u001b[0m\u001b[0mcf\u001b[0m\u001b[0;34m)\u001b[0m \u001b[0;32melse\u001b[0m \u001b[0mread_cmd_s\u001b[0m\u001b[0;34m.\u001b[0m\u001b[0mname\u001b[0m\u001b[0;34m\u001b[0m\u001b[0m\n",
      "\u001b[0;32m/usr/local/lib/python2.7/dist-packages/construct/core.pyc\u001b[0m in \u001b[0;36mbuild\u001b[0;34m(self, obj)\u001b[0m\n\u001b[1;32m    210\u001b[0m         \"\"\"\n\u001b[1;32m    211\u001b[0m         \u001b[0mstream\u001b[0m \u001b[0;34m=\u001b[0m \u001b[0mBytesIO\u001b[0m\u001b[0;34m(\u001b[0m\u001b[0;34m)\u001b[0m\u001b[0;34m\u001b[0m\u001b[0m\n\u001b[0;32m--> 212\u001b[0;31m         \u001b[0mself\u001b[0m\u001b[0;34m.\u001b[0m\u001b[0mbuild_stream\u001b[0m\u001b[0;34m(\u001b[0m\u001b[0mobj\u001b[0m\u001b[0;34m,\u001b[0m \u001b[0mstream\u001b[0m\u001b[0;34m)\u001b[0m\u001b[0;34m\u001b[0m\u001b[0m\n\u001b[0m\u001b[1;32m    213\u001b[0m         \u001b[0;32mreturn\u001b[0m \u001b[0mstream\u001b[0m\u001b[0;34m.\u001b[0m\u001b[0mgetvalue\u001b[0m\u001b[0;34m(\u001b[0m\u001b[0;34m)\u001b[0m\u001b[0;34m\u001b[0m\u001b[0m\n\u001b[1;32m    214\u001b[0m \u001b[0;34m\u001b[0m\u001b[0m\n",
      "\u001b[0;32m/usr/local/lib/python2.7/dist-packages/construct/core.pyc\u001b[0m in \u001b[0;36mbuild_stream\u001b[0;34m(self, obj, stream)\u001b[0m\n\u001b[1;32m    217\u001b[0m         \u001b[0mBuild\u001b[0m \u001b[0man\u001b[0m \u001b[0mobject\u001b[0m \u001b[0mdirectly\u001b[0m \u001b[0minto\u001b[0m \u001b[0ma\u001b[0m \u001b[0mstream\u001b[0m\u001b[0;34m.\u001b[0m\u001b[0;34m\u001b[0m\u001b[0m\n\u001b[1;32m    218\u001b[0m         \"\"\"\n\u001b[0;32m--> 219\u001b[0;31m         \u001b[0mself\u001b[0m\u001b[0;34m.\u001b[0m\u001b[0m_build\u001b[0m\u001b[0;34m(\u001b[0m\u001b[0mobj\u001b[0m\u001b[0;34m,\u001b[0m \u001b[0mstream\u001b[0m\u001b[0;34m,\u001b[0m \u001b[0mContainer\u001b[0m\u001b[0;34m(\u001b[0m\u001b[0;34m)\u001b[0m\u001b[0;34m)\u001b[0m\u001b[0;34m\u001b[0m\u001b[0m\n\u001b[0m\u001b[1;32m    220\u001b[0m \u001b[0;34m\u001b[0m\u001b[0m\n\u001b[1;32m    221\u001b[0m     \u001b[0;32mdef\u001b[0m \u001b[0m_build\u001b[0m\u001b[0;34m(\u001b[0m\u001b[0mself\u001b[0m\u001b[0;34m,\u001b[0m \u001b[0mobj\u001b[0m\u001b[0;34m,\u001b[0m \u001b[0mstream\u001b[0m\u001b[0;34m,\u001b[0m \u001b[0mcontext\u001b[0m\u001b[0;34m)\u001b[0m\u001b[0;34m:\u001b[0m\u001b[0;34m\u001b[0m\u001b[0m\n",
      "\u001b[0;32m/usr/local/lib/python2.7/dist-packages/construct/core.pyc\u001b[0m in \u001b[0;36m_build\u001b[0;34m(self, obj, stream, context)\u001b[0m\n\u001b[1;32m    689\u001b[0m                 \u001b[0msubobj\u001b[0m \u001b[0;34m=\u001b[0m \u001b[0mgetattr\u001b[0m\u001b[0;34m(\u001b[0m\u001b[0mobj\u001b[0m\u001b[0;34m,\u001b[0m \u001b[0msc\u001b[0m\u001b[0;34m.\u001b[0m\u001b[0mname\u001b[0m\u001b[0;34m)\u001b[0m\u001b[0;34m\u001b[0m\u001b[0m\n\u001b[1;32m    690\u001b[0m                 \u001b[0mcontext\u001b[0m\u001b[0;34m[\u001b[0m\u001b[0msc\u001b[0m\u001b[0;34m.\u001b[0m\u001b[0mname\u001b[0m\u001b[0;34m]\u001b[0m \u001b[0;34m=\u001b[0m \u001b[0msubobj\u001b[0m\u001b[0;34m\u001b[0m\u001b[0m\n\u001b[0;32m--> 691\u001b[0;31m             \u001b[0msc\u001b[0m\u001b[0;34m.\u001b[0m\u001b[0m_build\u001b[0m\u001b[0;34m(\u001b[0m\u001b[0msubobj\u001b[0m\u001b[0;34m,\u001b[0m \u001b[0mstream\u001b[0m\u001b[0;34m,\u001b[0m \u001b[0mcontext\u001b[0m\u001b[0;34m)\u001b[0m\u001b[0;34m\u001b[0m\u001b[0m\n\u001b[0m\u001b[1;32m    692\u001b[0m     \u001b[0;32mdef\u001b[0m \u001b[0m_sizeof\u001b[0m\u001b[0;34m(\u001b[0m\u001b[0mself\u001b[0m\u001b[0;34m,\u001b[0m \u001b[0mcontext\u001b[0m\u001b[0;34m)\u001b[0m\u001b[0;34m:\u001b[0m\u001b[0;34m\u001b[0m\u001b[0m\n\u001b[1;32m    693\u001b[0m         \u001b[0;31m#if self.nested:\u001b[0m\u001b[0;34m\u001b[0m\u001b[0;34m\u001b[0m\u001b[0m\n",
      "\u001b[0;32m/usr/local/lib/python2.7/dist-packages/construct/core.pyc\u001b[0m in \u001b[0;36m_build\u001b[0;34m(self, obj, stream, context)\u001b[0m\n\u001b[1;32m    271\u001b[0m         \u001b[0;32mreturn\u001b[0m \u001b[0mself\u001b[0m\u001b[0;34m.\u001b[0m\u001b[0msubcon\u001b[0m\u001b[0;34m.\u001b[0m\u001b[0m_parse\u001b[0m\u001b[0;34m(\u001b[0m\u001b[0mstream\u001b[0m\u001b[0;34m,\u001b[0m \u001b[0mcontext\u001b[0m\u001b[0;34m)\u001b[0m\u001b[0;34m\u001b[0m\u001b[0m\n\u001b[1;32m    272\u001b[0m     \u001b[0;32mdef\u001b[0m \u001b[0m_build\u001b[0m\u001b[0;34m(\u001b[0m\u001b[0mself\u001b[0m\u001b[0;34m,\u001b[0m \u001b[0mobj\u001b[0m\u001b[0;34m,\u001b[0m \u001b[0mstream\u001b[0m\u001b[0;34m,\u001b[0m \u001b[0mcontext\u001b[0m\u001b[0;34m)\u001b[0m\u001b[0;34m:\u001b[0m\u001b[0;34m\u001b[0m\u001b[0m\n\u001b[0;32m--> 273\u001b[0;31m         \u001b[0mself\u001b[0m\u001b[0;34m.\u001b[0m\u001b[0msubcon\u001b[0m\u001b[0;34m.\u001b[0m\u001b[0m_build\u001b[0m\u001b[0;34m(\u001b[0m\u001b[0mobj\u001b[0m\u001b[0;34m,\u001b[0m \u001b[0mstream\u001b[0m\u001b[0;34m,\u001b[0m \u001b[0mcontext\u001b[0m\u001b[0;34m)\u001b[0m\u001b[0;34m\u001b[0m\u001b[0m\n\u001b[0m\u001b[1;32m    274\u001b[0m     \u001b[0;32mdef\u001b[0m \u001b[0m_sizeof\u001b[0m\u001b[0;34m(\u001b[0m\u001b[0mself\u001b[0m\u001b[0;34m,\u001b[0m \u001b[0mcontext\u001b[0m\u001b[0;34m)\u001b[0m\u001b[0;34m:\u001b[0m\u001b[0;34m\u001b[0m\u001b[0m\n\u001b[1;32m    275\u001b[0m         \u001b[0;32mreturn\u001b[0m \u001b[0mself\u001b[0m\u001b[0;34m.\u001b[0m\u001b[0msubcon\u001b[0m\u001b[0;34m.\u001b[0m\u001b[0m_sizeof\u001b[0m\u001b[0;34m(\u001b[0m\u001b[0mcontext\u001b[0m\u001b[0;34m)\u001b[0m\u001b[0;34m\u001b[0m\u001b[0m\n",
      "\u001b[0;32m/usr/local/lib/python2.7/dist-packages/construct/core.pyc\u001b[0m in \u001b[0;36m_build\u001b[0;34m(self, obj, stream, context)\u001b[0m\n\u001b[1;32m    689\u001b[0m                 \u001b[0msubobj\u001b[0m \u001b[0;34m=\u001b[0m \u001b[0mgetattr\u001b[0m\u001b[0;34m(\u001b[0m\u001b[0mobj\u001b[0m\u001b[0;34m,\u001b[0m \u001b[0msc\u001b[0m\u001b[0;34m.\u001b[0m\u001b[0mname\u001b[0m\u001b[0;34m)\u001b[0m\u001b[0;34m\u001b[0m\u001b[0m\n\u001b[1;32m    690\u001b[0m                 \u001b[0mcontext\u001b[0m\u001b[0;34m[\u001b[0m\u001b[0msc\u001b[0m\u001b[0;34m.\u001b[0m\u001b[0mname\u001b[0m\u001b[0;34m]\u001b[0m \u001b[0;34m=\u001b[0m \u001b[0msubobj\u001b[0m\u001b[0;34m\u001b[0m\u001b[0m\n\u001b[0;32m--> 691\u001b[0;31m             \u001b[0msc\u001b[0m\u001b[0;34m.\u001b[0m\u001b[0m_build\u001b[0m\u001b[0;34m(\u001b[0m\u001b[0msubobj\u001b[0m\u001b[0;34m,\u001b[0m \u001b[0mstream\u001b[0m\u001b[0;34m,\u001b[0m \u001b[0mcontext\u001b[0m\u001b[0;34m)\u001b[0m\u001b[0;34m\u001b[0m\u001b[0m\n\u001b[0m\u001b[1;32m    692\u001b[0m     \u001b[0;32mdef\u001b[0m \u001b[0m_sizeof\u001b[0m\u001b[0;34m(\u001b[0m\u001b[0mself\u001b[0m\u001b[0;34m,\u001b[0m \u001b[0mcontext\u001b[0m\u001b[0;34m)\u001b[0m\u001b[0;34m:\u001b[0m\u001b[0;34m\u001b[0m\u001b[0m\n\u001b[1;32m    693\u001b[0m         \u001b[0;31m#if self.nested:\u001b[0m\u001b[0;34m\u001b[0m\u001b[0;34m\u001b[0m\u001b[0m\n",
      "\u001b[0;32m/usr/local/lib/python2.7/dist-packages/construct/core.pyc\u001b[0m in \u001b[0;36m_build\u001b[0;34m(self, obj, stream, context)\u001b[0m\n\u001b[1;32m   1096\u001b[0m         \u001b[0;32mreturn\u001b[0m \u001b[0mself\u001b[0m\u001b[0;34m.\u001b[0m\u001b[0msubcon\u001b[0m\u001b[0;34m.\u001b[0m\u001b[0m_parse\u001b[0m\u001b[0;34m(\u001b[0m\u001b[0mstream2\u001b[0m\u001b[0;34m,\u001b[0m \u001b[0mcontext\u001b[0m\u001b[0;34m)\u001b[0m\u001b[0;34m\u001b[0m\u001b[0m\n\u001b[1;32m   1097\u001b[0m     \u001b[0;32mdef\u001b[0m \u001b[0m_build\u001b[0m\u001b[0;34m(\u001b[0m\u001b[0mself\u001b[0m\u001b[0;34m,\u001b[0m \u001b[0mobj\u001b[0m\u001b[0;34m,\u001b[0m \u001b[0mstream\u001b[0m\u001b[0;34m,\u001b[0m \u001b[0mcontext\u001b[0m\u001b[0;34m)\u001b[0m\u001b[0;34m:\u001b[0m\u001b[0;34m\u001b[0m\u001b[0m\n\u001b[0;32m-> 1098\u001b[0;31m         \u001b[0msize\u001b[0m \u001b[0;34m=\u001b[0m \u001b[0mself\u001b[0m\u001b[0;34m.\u001b[0m\u001b[0m_sizeof\u001b[0m\u001b[0;34m(\u001b[0m\u001b[0mcontext\u001b[0m\u001b[0;34m)\u001b[0m\u001b[0;34m\u001b[0m\u001b[0m\n\u001b[0m\u001b[1;32m   1099\u001b[0m         \u001b[0mstream2\u001b[0m \u001b[0;34m=\u001b[0m \u001b[0mBytesIO\u001b[0m\u001b[0;34m(\u001b[0m\u001b[0;34m)\u001b[0m\u001b[0;34m\u001b[0m\u001b[0m\n\u001b[1;32m   1100\u001b[0m         \u001b[0mself\u001b[0m\u001b[0;34m.\u001b[0m\u001b[0msubcon\u001b[0m\u001b[0;34m.\u001b[0m\u001b[0m_build\u001b[0m\u001b[0;34m(\u001b[0m\u001b[0mobj\u001b[0m\u001b[0;34m,\u001b[0m \u001b[0mstream2\u001b[0m\u001b[0;34m,\u001b[0m \u001b[0mcontext\u001b[0m\u001b[0;34m)\u001b[0m\u001b[0;34m\u001b[0m\u001b[0m\n",
      "\u001b[0;32m/usr/local/lib/python2.7/dist-packages/construct/core.pyc\u001b[0m in \u001b[0;36m_sizeof\u001b[0;34m(self, context)\u001b[0m\n\u001b[1;32m   1102\u001b[0m         \u001b[0;32massert\u001b[0m \u001b[0mlen\u001b[0m\u001b[0;34m(\u001b[0m\u001b[0mdata\u001b[0m\u001b[0;34m)\u001b[0m \u001b[0;34m==\u001b[0m \u001b[0msize\u001b[0m\u001b[0;34m\u001b[0m\u001b[0m\n\u001b[1;32m   1103\u001b[0m         \u001b[0m_write_stream\u001b[0m\u001b[0;34m(\u001b[0m\u001b[0mstream\u001b[0m\u001b[0;34m,\u001b[0m \u001b[0mself\u001b[0m\u001b[0;34m.\u001b[0m\u001b[0m_sizeof\u001b[0m\u001b[0;34m(\u001b[0m\u001b[0mcontext\u001b[0m\u001b[0;34m)\u001b[0m\u001b[0;34m,\u001b[0m \u001b[0mdata\u001b[0m\u001b[0;34m)\u001b[0m\u001b[0;34m\u001b[0m\u001b[0m\n\u001b[0;32m-> 1104\u001b[0;31m     \u001b[0;32mdef\u001b[0m \u001b[0m_sizeof\u001b[0m\u001b[0;34m(\u001b[0m\u001b[0mself\u001b[0m\u001b[0;34m,\u001b[0m \u001b[0mcontext\u001b[0m\u001b[0;34m)\u001b[0m\u001b[0;34m:\u001b[0m\u001b[0;34m\u001b[0m\u001b[0m\n\u001b[0m\u001b[1;32m   1105\u001b[0m         \u001b[0;32mreturn\u001b[0m \u001b[0mself\u001b[0m\u001b[0;34m.\u001b[0m\u001b[0mresizer\u001b[0m\u001b[0;34m(\u001b[0m\u001b[0mself\u001b[0m\u001b[0;34m.\u001b[0m\u001b[0msubcon\u001b[0m\u001b[0;34m.\u001b[0m\u001b[0m_sizeof\u001b[0m\u001b[0;34m(\u001b[0m\u001b[0mcontext\u001b[0m\u001b[0;34m)\u001b[0m\u001b[0;34m)\u001b[0m\u001b[0;34m\u001b[0m\u001b[0m\n\u001b[1;32m   1106\u001b[0m \u001b[0;34m\u001b[0m\u001b[0m\n",
      "\u001b[0;31mKeyboardInterrupt\u001b[0m: "
     ]
    }
   ],
   "source": [
    "for i in range(5000):\n",
    "    img_list = handler.readdir(path_list)"
   ]
  },
  {
   "cell_type": "markdown",
   "metadata": {},
   "source": [
    "## Write Image using TagFuse API"
   ]
  },
  {
   "cell_type": "code",
   "execution_count": 36,
   "metadata": {},
   "outputs": [],
   "source": [
    "def write_file(fd, handler, path_list, fsize):\n",
    "    while (fsize - fd.tell() > 0):\n",
    "        fpos = fd.tell()\n",
    "        size = handler.write(path_list, fd.read(4096), fpos)"
   ]
  },
  {
   "cell_type": "code",
   "execution_count": 37,
   "metadata": {},
   "outputs": [],
   "source": [
    "def _file_size(fd):\n",
    "    fd.seek(0, 2) # seek to the end\n",
    "    _size = fd.tell()\n",
    "    if _size < IMAGE_MIN_SIZE: raise RadioLoadException(\"input file too short\")\n",
    "    fd.seek(0, 0)    # seek to the beginnnig\n",
    "    return _size"
   ]
  },
  {
   "cell_type": "code",
   "execution_count": 38,
   "metadata": {},
   "outputs": [
    {
     "name": "stdout",
     "output_type": "stream",
     "text": [
      "main386.bin\n",
      "file information\n",
      "  signature: 0x33275401, start: 0x20000, length: 0xb398, vect_chk: 0x0, image_chk: 0x0\n",
      "  version: (0.2.386(0x182)), rev: 1, model: 240\n"
     ]
    },
    {
     "data": {
      "text/plain": [
       "((0, 2, 386), 45976)"
      ]
     },
     "execution_count": 38,
     "metadata": {},
     "output_type": "execute_result"
    }
   ],
   "source": [
    "fd, vers, size = get_image_info(FILENAME)\n",
    "(vers, size)"
   ]
  },
  {
   "cell_type": "code",
   "execution_count": 39,
   "metadata": {},
   "outputs": [
    {
     "data": {
      "text/plain": [
       "('/ffffffffffff/tag/sd/0/img', '/ffffffffffff/tag/sd/0/img/0.2.386')"
      ]
     },
     "execution_count": 39,
     "metadata": {},
     "output_type": "execute_result"
    }
   ],
   "source": [
    "dirpath   = '/ffffffffffff/tag/sd/0/img'\n",
    "filepath  = dirpath + '/' + '.'.join(map(str,vers))\n",
    "(dirpath, filepath)"
   ]
  },
  {
   "cell_type": "code",
   "execution_count": 40,
   "metadata": {},
   "outputs": [
    {
     "ename": "NameError",
     "evalue": "name 'STOP' is not defined",
     "output_type": "error",
     "traceback": [
      "\u001b[0;31m\u001b[0m",
      "\u001b[0;31mNameError\u001b[0mTraceback (most recent call last)",
      "\u001b[0;32m<ipython-input-40-ee4decdca3b8>\u001b[0m in \u001b[0;36m<module>\u001b[0;34m()\u001b[0m\n\u001b[0;32m----> 1\u001b[0;31m \u001b[0mSTOP\u001b[0m\u001b[0;34m\u001b[0m\u001b[0m\n\u001b[0m",
      "\u001b[0;31mNameError\u001b[0m: name 'STOP' is not defined"
     ]
    }
   ],
   "source": [
    "STOP"
   ]
  },
  {
   "cell_type": "code",
   "execution_count": 41,
   "metadata": {},
   "outputs": [
    {
     "name": "stdout",
     "output_type": "stream",
     "text": [
      "*** dirhandler.traverse fail\n"
     ]
    },
    {
     "data": {
      "text/plain": [
       "(NoneType, None)"
      ]
     },
     "execution_count": 41,
     "metadata": {},
     "output_type": "execute_result"
    }
   ],
   "source": [
    "filehandler, path_list = LocateNode(tag_tree, filepath)\n",
    "type(filehandler), path_list"
   ]
  },
  {
   "cell_type": "code",
   "execution_count": null,
   "metadata": {},
   "outputs": [],
   "source": [
    "dirhandler, _ = LocateNode(tag_tree, dirpath)\n",
    "type(dirhandler)"
   ]
  },
  {
   "cell_type": "code",
   "execution_count": null,
   "metadata": {},
   "outputs": [],
   "source": [
    "mode = 0o0666\n",
    "dirhandler.create(path_list, mode)"
   ]
  },
  {
   "cell_type": "code",
   "execution_count": null,
   "metadata": {
    "scrolled": false
   },
   "outputs": [],
   "source": [
    "dirhandler"
   ]
  },
  {
   "cell_type": "code",
   "execution_count": null,
   "metadata": {
    "scrolled": true
   },
   "outputs": [],
   "source": [
    "fd.tell()\n",
    "write_file(fd, filehandler, path_list, size)"
   ]
  },
  {
   "cell_type": "code",
   "execution_count": null,
   "metadata": {},
   "outputs": [],
   "source": [
    "filehandler.flush(path_list)"
   ]
  },
  {
   "cell_type": "code",
   "execution_count": null,
   "metadata": {},
   "outputs": [],
   "source": [
    "attrs = filehandler.getattr(path_list, update=True)\n",
    "attrs"
   ]
  },
  {
   "cell_type": "code",
   "execution_count": null,
   "metadata": {},
   "outputs": [],
   "source": [
    "filehandler.flush(path_list)"
   ]
  },
  {
   "cell_type": "markdown",
   "metadata": {},
   "source": [
    "## Load Image File onto Tag using radioutils"
   ]
  },
  {
   "cell_type": "code",
   "execution_count": null,
   "metadata": {},
   "outputs": [],
   "source": [
    "STOP"
   ]
  },
  {
   "cell_type": "code",
   "execution_count": 42,
   "metadata": {},
   "outputs": [],
   "source": [
    "version='0.2.442'\n",
    "dirpath='/ffffffffffff/tag/sd/0/img'\n",
    "filepath=dirpath+'/'+version"
   ]
  },
  {
   "cell_type": "code",
   "execution_count": 43,
   "metadata": {
    "scrolled": true
   },
   "outputs": [
    {
     "data": {
      "text/plain": [
       "(tagfuse.taghandlers.ImageDirHandler,\n",
       " ['<node_id:ffffffffffff>', 'tag', 'sd', '0', 'img'])"
      ]
     },
     "execution_count": 43,
     "metadata": {},
     "output_type": "execute_result"
    }
   ],
   "source": [
    "dirhandler, path_list = LocateNode(tag_tree, dirpath)\n",
    "(type(dirhandler), path_list)"
   ]
  },
  {
   "cell_type": "code",
   "execution_count": null,
   "metadata": {},
   "outputs": [],
   "source": [
    "STOP"
   ]
  },
  {
   "cell_type": "code",
   "execution_count": 44,
   "metadata": {},
   "outputs": [],
   "source": [
    "radio.trace._enable()\n",
    "# set rssi control (enable latch, average4, latch on sync)\n",
    "prp         = bytearray('0x22')\n",
    "radio.set_property('MODEM', 0x4c, prp) \n",
    "# tx/rx threshold\n",
    "#prp = bytearray('\\x20\\x20')\n",
    "#radio.set_property('PKT', 0x0b, prp)"
   ]
  },
  {
   "cell_type": "code",
   "execution_count": 45,
   "metadata": {},
   "outputs": [],
   "source": [
    "# default paramters\n",
    "MAX_PAYLOAD         = 254\n",
    "MAX_RETRIES         = 10\n",
    "SHORT_DELAY         = 0"
   ]
  },
  {
   "cell_type": "code",
   "execution_count": 46,
   "metadata": {},
   "outputs": [],
   "source": [
    "class RadioLoadException(Exception):\n",
    "    pass"
   ]
  },
  {
   "cell_type": "code",
   "execution_count": 47,
   "metadata": {},
   "outputs": [],
   "source": [
    "def upload_image(radio, tagpath, filename):\n",
    "    \n",
    "    def _file_size(fd):\n",
    "        fd.seek(0, 2) # seek to the end\n",
    "        _size = fd.tell()\n",
    "        if _size < IMAGE_MIN_SIZE: raise RadioLoadException(\"input file too short\")\n",
    "        fd.seek(0, 0)    # seek to the beginnnig\n",
    "        return _size\n",
    "\n",
    "    def _put_msg(fd, path, version, file_size, eod=False):\n",
    "        tlv_list = radioutils.path2tlvs(path_list)\n",
    "        tlv_list.append(TagTlv(tlv_types.VERSION, version))\n",
    "        if (fd.tell() > 0):\n",
    "            tlv_list.append(TagTlv(tlv_types.OFFSET, fd.tell()))\n",
    "        # build the PUT mesage object\n",
    "        req_obj = TagPut(TagName(tlv_list))\n",
    "        # optionally add payload\n",
    "        if eod:\n",
    "            # send end of data indication\n",
    "            pload = TagTlvList([TagTlv(tlv_types.EOF)])\n",
    "        elif (fd.tell() < file_size):\n",
    "            # determine payload size to send and read it\n",
    "            chunk_size = MAX_PAYLOAD - req_obj.pkt_len()\n",
    "            if ((file_size - fd.tell()) < chunk_size):\n",
    "                chunk_size = file_size - fd.tell()\n",
    "            pload = bytearray(fd.read(chunk_size))\n",
    "        # else\n",
    "            # just send without payload\n",
    "        if (pload is not None):\n",
    "            req_obj.payload = pload\n",
    "        return req_obj, len(pload)\n",
    "\n",
    "    start = datetime.now()\n",
    "    print(start)\n",
    "    try:\n",
    "        # open input file and determine its length\n",
    "        print(filename)\n",
    "        infile = open(filename, 'rb')\n",
    "        file_size = _file_size(infile)\n",
    "\n",
    "        # get image info from input file and sanity check\n",
    "        infile.seek(IMAGE_META_OFFSET) # seek to location of image info\n",
    "        image_info = image_info_struct.unpack(infile.read(image_info_struct.size))\n",
    "        print(\"file information\")\n",
    "        sig, image_start, imagelength, vector_chk, image_chk, im_build, im_minor, im_major,\\\n",
    "            main_tree, aux_tree, build_time, im_rev, im_model = image_info\n",
    "        pstr = \"  signature: 0x{:x}, start: 0x{:x}, length: 0x{:x}, vect_chk: 0x{:x}, image_chk: 0x{:x}\"\n",
    "        print(pstr.format(sig, image_start, imagelength, vector_chk, image_chk))\n",
    "        pstr = \"  version: ({}.{}.{}(0x{:x})), rev: {}, model: {}\"\n",
    "        print(pstr.format(im_major, im_minor, im_build, im_build, im_rev, im_model))\n",
    "        if sig != IMAGE_INFO_SIG:\n",
    "            raise RadioLoadException(\"image info is corrupted\")\n",
    "        if imagelength != file_size:\n",
    "            raise RadioLoadException(\"file size doesn't match image info, file: {}, info: {}\".format(\n",
    "                                                                                        file_size,\n",
    "                                                                                        imageLength))\n",
    "        infile.seek(0)    # seek back to the beginnnig\n",
    "\n",
    "        # loop to transfer image data to tag\n",
    "        retries         = 0\n",
    "        total_retries   = 0\n",
    "        packets_sent    = 0\n",
    "        while (file_size - infile.tell() > 0):\n",
    "            if ((packets_sent % 10) == 0):\n",
    "                print(\"\\r{0:.2f}%\".format((float(infile.tell())/float(file_size))*100), end='')\n",
    "            #    print(\">>>> file size: {}, offset: {}, retries: {}, rssi: {}\\r\".format(file_size, infile.tell(), retries, rssi, end=''))\n",
    "            req_msg, plen = _put_msg(infile, tagpath, (im_major, im_minor, im_build), file_size)\n",
    "            err, payload = radioutils.msg_exchange(radio, req_msg)\n",
    "            packets_sent = packets_sent + 1\n",
    "            if (err) and (err == tlv_errors.EALREADY):\n",
    "                raise RadioLoadException('file already exists')\n",
    "            offset = None\n",
    "            if (err is None) or (err == tlv_errors.SUCCESS):\n",
    "                offset = radioutils.payload2values(payload,\n",
    "                                     [tlv_types.OFFSET,\n",
    "                                     ])[0]\n",
    "                # zzz print(offset, err)\n",
    "            if offset and offset != infile.tell():\n",
    "                if (err): p = \"{}\".format(err)\n",
    "                else:     p = \"BAD OFFSET\"\n",
    "                print(\"\\n{}  {}! offset: response {}, expected {}\".format(\n",
    "                                                                        datetime.now(),\n",
    "                                                                        p,\n",
    "                                                                        offset,\n",
    "                                                                        infile.tell()))\n",
    "                if (offset >= 0):\n",
    "                    infile.seek(offset, 0)\n",
    "                else:\n",
    "                    infile.seek(-plen, 1)\n",
    "                    offset -= plen\n",
    "                retries = retries + 1\n",
    "                total_retries = total_retries + 1\n",
    "            else:\n",
    "                retries = 0\n",
    "            if (retries > MAX_RETRIES):\n",
    "                raise RadioLoadException(\"too many retries\")\n",
    "            sleep(SHORT_DELAY)\n",
    "\n",
    "        # send end of file to complete the image load operation\n",
    "        \n",
    "        req_msg, plen = _put_msg(infile, tagpath, (im_major, im_minor, im_build), file_size, eod=True)\n",
    "        err, payload = radioutils.msg_exchange(radio, req_msg)\n",
    "        if (err is None) or (err == tlv_errors.SUCCESS):\n",
    "            offset = radioutils.payload2values(payload,\n",
    "                                     [tlv_types.OFFSET,\n",
    "                                     ])[0]\n",
    "#            if (offset is none): offset = -1\n",
    "#        else:\n",
    "#            offset = -1\n",
    "        print(\"\\ntotals bytes: {}, packets: {} retries: {}\".format(offset,\n",
    "                                                                   packets_sent,\n",
    "                                                                   total_retries))\n",
    "    except RadioLoadException as e:\n",
    "        print('terminating:', e)\n",
    "    finally:\n",
    "        infile.close()\n",
    "    print('\\ndone, elapsed time', datetime.now() - start)"
   ]
  },
  {
   "cell_type": "code",
   "execution_count": null,
   "metadata": {},
   "outputs": [],
   "source": []
  },
  {
   "cell_type": "code",
   "execution_count": 48,
   "metadata": {},
   "outputs": [],
   "source": [
    "TAG_PATH = '/ffffffffffff/tag/sd/0/img'"
   ]
  },
  {
   "cell_type": "code",
   "execution_count": 49,
   "metadata": {
    "scrolled": true
   },
   "outputs": [
    {
     "name": "stdout",
     "output_type": "stream",
     "text": [
      "2018-04-12 00:12:29.199299\n",
      "main386.bin\n",
      "file information\n",
      "  signature: 0x33275401, start: 0x20000, length: 0xb398, vect_chk: 0x0, image_chk: 0x0\n",
      "  version: (0.2.386(0x182)), rev: 1, model: 240\n",
      "65.48%radio send command error\n",
      "radio receive cmd error\n",
      "msg_exchange: timeout\n",
      "msg_exchange: timeout\n",
      "98.21%\n",
      "totals bytes: 45976, packets: 214 retries: 0\n",
      "\n",
      "done, elapsed time 0:01:30.739108\n"
     ]
    }
   ],
   "source": [
    "upload_image(radio, TAG_PATH, FILENAME)"
   ]
  },
  {
   "cell_type": "markdown",
   "metadata": {},
   "source": [
    "## Get Version of 'active', 'standby', 'golden', 'nib', and 'running' Images"
   ]
  },
  {
   "cell_type": "code",
   "execution_count": null,
   "metadata": {},
   "outputs": [],
   "source": [
    "STOP"
   ]
  },
  {
   "cell_type": "code",
   "execution_count": null,
   "metadata": {},
   "outputs": [],
   "source": [
    "def get_version(radio, path, which):\n",
    "    \n",
    "    def _get_version_msg(path, which):\n",
    "        tlv_list = path2tlvs(path2list(path))\n",
    "        tlv_list.append(TagTlv(tlv_types.STRING, which))\n",
    "        req_obj = TagGet(TagName(tlv_list))\n",
    "        return req_obj\n",
    "\n",
    "    req_msg = _get_version_msg(path, which)\n",
    "    # zzz print(req_msg.name)\n",
    "    err, payload = msg_exchange(radio, req_msg)\n",
    "    # zzz print(payload)\n",
    "    if (err == None):\n",
    "        err = tlv_errors.SUCCESS\n",
    "    if err == tlv_errors.SUCCESS:\n",
    "        version, state = payload2values(payload,\n",
    "                                [tlv_types.VERSION,\n",
    "                                 tlv_types.STRING,\n",
    "                                ])\n",
    "    else:\n",
    "        version = (0,0,0)\n",
    "        state = 'x'\n",
    "\n",
    "    return err, version, state"
   ]
  },
  {
   "cell_type": "code",
   "execution_count": null,
   "metadata": {},
   "outputs": [],
   "source": [
    "TAG_PATH = '/<node_id:ffffffffffff>/tag/sys'"
   ]
  },
  {
   "cell_type": "code",
   "execution_count": null,
   "metadata": {},
   "outputs": [],
   "source": [
    "print(get_version(radio, TAG_PATH, 'active'))\n",
    "print(get_version(radio, TAG_PATH, 'backup'))\n",
    "print(get_version(radio, TAG_PATH, 'running'))\n",
    "print(get_version(radio, TAG_PATH, 'nib',))\n",
    "print(get_version(radio, TAG_PATH, 'golden'))"
   ]
  },
  {
   "cell_type": "markdown",
   "metadata": {},
   "source": [
    "## Delete Version Image"
   ]
  },
  {
   "cell_type": "code",
   "execution_count": null,
   "metadata": {},
   "outputs": [],
   "source": [
    "STOP"
   ]
  },
  {
   "cell_type": "code",
   "execution_count": null,
   "metadata": {},
   "outputs": [],
   "source": [
    "def delete_image(radio, path, version):\n",
    "    \n",
    "    def _delete_msg(path, version):\n",
    "        tlv_list = path2tlvs(path2list(path))\n",
    "        tlv_list.append(TagTlv(tlv_types.VERSION, version))\n",
    "        req_obj = TagDelete(TagName(tlv_list))\n",
    "        return req_obj\n",
    "\n",
    "    req_msg = _delete_msg(path, version)\n",
    "    print(req_msg.name)\n",
    "    err, payload = msg_exchange(radio, req_msg)\n",
    "    print(payload)\n",
    "    if (err is None):\n",
    "        err = tlv_errors.SUCCESS\n",
    "    return err"
   ]
  },
  {
   "cell_type": "code",
   "execution_count": null,
   "metadata": {},
   "outputs": [],
   "source": [
    "TAG_PATH = '/<node_id:ffffffffffff>/tag/sd/0/img'"
   ]
  },
  {
   "cell_type": "code",
   "execution_count": null,
   "metadata": {},
   "outputs": [],
   "source": [
    "print(delete_image(radio, TAG_PATH, (0,2,386)))"
   ]
  },
  {
   "cell_type": "markdown",
   "metadata": {},
   "source": [
    "## Set Version of 'active' and 'backup' Images"
   ]
  },
  {
   "cell_type": "code",
   "execution_count": null,
   "metadata": {},
   "outputs": [],
   "source": [
    "STOP"
   ]
  },
  {
   "cell_type": "code",
   "execution_count": null,
   "metadata": {},
   "outputs": [],
   "source": [
    "def set_version(radio, path, which, version):\n",
    "    \n",
    "    def _set_version_msg(path, which, version):\n",
    "        tlv_list = path2tlvs(path2list(path))\n",
    "        tlv_list.extend([\n",
    "            TagTlv(tlv_types.STRING, which),\n",
    "            TagTlv(tlv_types.VERSION, version),\n",
    "           ])\n",
    "        req_obj = TagPut(TagName(tlv_list))\n",
    "        return req_obj\n",
    "\n",
    "    req_msg = _set_version_msg(path, which, version)\n",
    "    err, payload = msg_exchange(radio, req_msg)\n",
    "    if (err is None):\n",
    "        err = tlv_errors.SUCCESS\n",
    "    return err"
   ]
  },
  {
   "cell_type": "code",
   "execution_count": null,
   "metadata": {},
   "outputs": [],
   "source": [
    "TAG_PATH = '/<node_id:ffffffffffff>/tag/sys'"
   ]
  },
  {
   "cell_type": "code",
   "execution_count": null,
   "metadata": {},
   "outputs": [],
   "source": [
    "print(set_version(radio, TAG_PATH, 'active', (0, 2, 384)))\n",
    "#print(set_version(radio, TAG_PATH, 'backup', (0, 2, 386)))"
   ]
  },
  {
   "cell_type": "markdown",
   "metadata": {},
   "source": [
    "## Get Poll Count and Events"
   ]
  },
  {
   "cell_type": "code",
   "execution_count": null,
   "metadata": {},
   "outputs": [],
   "source": [
    "STOP"
   ]
  },
  {
   "cell_type": "code",
   "execution_count": null,
   "metadata": {},
   "outputs": [],
   "source": [
    "def get_poll_info(radio, path, name):\n",
    "    \n",
    "    def _get_poll_msg(path, name):\n",
    "        tlv_list = radioutils.path2tlvs(path2list(path))\n",
    "        tlv_list.append(TagTlv(name))\n",
    "        req_obj = TagHead(TagName(tlv_list))\n",
    "        return req_obj\n",
    "\n",
    "    req_msg = _get_poll_msg(path, name)\n",
    "    err, payload = radioutils.msg_exchange(radio, req_msg)\n",
    "    if (err is None) or (err == tlv_errors.SUCCESS):\n",
    "        size = radioutils.payload2values(payload,\n",
    "                                [tlv_types.SIZE,\n",
    "                                ])[0]\n",
    "\n",
    "        return size\n",
    "    return None"
   ]
  },
  {
   "cell_type": "code",
   "execution_count": null,
   "metadata": {},
   "outputs": [],
   "source": [
    "TAG_PATH = '/<node_id:ffffffffffff>/tag/poll'"
   ]
  },
  {
   "cell_type": "code",
   "execution_count": null,
   "metadata": {},
   "outputs": [],
   "source": [
    "print('poll count', get_poll_info(radio, TAG_PATH, 'cnt'))\n",
    "print('poll events', get_poll_info(radio, TAG_PATH, 'ev'))"
   ]
  },
  {
   "cell_type": "markdown",
   "metadata": {},
   "source": [
    "## Reboot into 'active', 'standby', 'golden', 'nib', and 'running' Images"
   ]
  },
  {
   "cell_type": "code",
   "execution_count": null,
   "metadata": {},
   "outputs": [],
   "source": [
    "STOP"
   ]
  },
  {
   "cell_type": "code",
   "execution_count": null,
   "metadata": {},
   "outputs": [],
   "source": [
    "def reboot_version(radio, path, which, version):\n",
    "    \n",
    "    def _reboot_version_msg(path, which, version):\n",
    "        tlv_list = radioutils.path2tlvs(radioutils.path2list(path))\n",
    "        tlv_list.extend([\n",
    "            TagTlv(tlv_types.STRING, which),\n",
    "            TagTlv(tlv_types.VERSION, version),\n",
    "           ])\n",
    "        req_obj = TagPut(TagName(tlv_list))\n",
    "        return req_obj\n",
    "\n",
    "    req_msg = _reboot_version_msg(path, which, version)\n",
    "    err, payload = radioutils.msg_exchange(radio, req_msg)\n",
    "    if (err is None):\n",
    "        err = tlv_errors.SUCCESS\n",
    "    return err"
   ]
  },
  {
   "cell_type": "code",
   "execution_count": null,
   "metadata": {},
   "outputs": [],
   "source": [
    "TAG_PATH = '/<node_id:ffffffffffff>/tag/sys'"
   ]
  },
  {
   "cell_type": "code",
   "execution_count": null,
   "metadata": {},
   "outputs": [],
   "source": [
    "reboot_version(radio, TAG_PATH, 'active', (0, 1, 0))\n",
    "#set_version(radio, TAG_PATH, 'backup', (0, 1, 0))\n",
    "#set_version(radio, TAG_PATH, 'running', (0, 1, 0))\n",
    "#set_version(radio, TAG_PATH, 'nib', (0, 1, 0))\n",
    "reboot_version(radio, TAG_PATH, 'golden', (0, 1, 0))"
   ]
  },
  {
   "cell_type": "code",
   "execution_count": null,
   "metadata": {},
   "outputs": [],
   "source": []
  },
  {
   "cell_type": "markdown",
   "metadata": {},
   "source": [
    "## other Image"
   ]
  },
  {
   "cell_type": "code",
   "execution_count": null,
   "metadata": {},
   "outputs": [],
   "source": [
    "TAG_PATH = '/<node_id:ffffffffffff>/tag/sys'"
   ]
  },
  {
   "cell_type": "code",
   "execution_count": null,
   "metadata": {},
   "outputs": [],
   "source": []
  },
  {
   "cell_type": "code",
   "execution_count": null,
   "metadata": {},
   "outputs": [],
   "source": [
    "STOP"
   ]
  },
  {
   "cell_type": "code",
   "execution_count": null,
   "metadata": {},
   "outputs": [],
   "source": [
    "TAG_PATH = '/<node_id:ffffffffffff>/tag/sys'"
   ]
  },
  {
   "cell_type": "code",
   "execution_count": null,
   "metadata": {},
   "outputs": [],
   "source": []
  },
  {
   "cell_type": "markdown",
   "metadata": {},
   "source": [
    "## OTHER FUNCTIONS"
   ]
  },
  {
   "cell_type": "code",
   "execution_count": null,
   "metadata": {},
   "outputs": [],
   "source": [
    "STOP"
   ]
  },
  {
   "cell_type": "code",
   "execution_count": null,
   "metadata": {
    "scrolled": false
   },
   "outputs": [],
   "source": [
    "handler.radio.trace.display(handler.radio.trace.filter())"
   ]
  },
  {
   "cell_type": "code",
   "execution_count": null,
   "metadata": {},
   "outputs": [],
   "source": [
    "radio.get_clear_interrupts()"
   ]
  },
  {
   "cell_type": "code",
   "execution_count": null,
   "metadata": {
    "scrolled": true
   },
   "outputs": [],
   "source": [
    "for i in range(100):\n",
    "    print(radio.get_clear_interrupts())"
   ]
  },
  {
   "cell_type": "code",
   "execution_count": null,
   "metadata": {},
   "outputs": [],
   "source": [
    "radio.dump_radio()"
   ]
  },
  {
   "cell_type": "markdown",
   "metadata": {},
   "source": [
    "# "
   ]
  }
 ],
 "metadata": {
  "kernelspec": {
   "display_name": "Python 2",
   "language": "python",
   "name": "python2"
  },
  "language_info": {
   "codemirror_mode": {
    "name": "ipython",
    "version": 2
   },
   "file_extension": ".py",
   "mimetype": "text/x-python",
   "name": "python",
   "nbconvert_exporter": "python",
   "pygments_lexer": "ipython2",
   "version": "2.7.13"
  }
 },
 "nbformat": 4,
 "nbformat_minor": 2
}
