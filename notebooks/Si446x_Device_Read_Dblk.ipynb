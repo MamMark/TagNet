{
 "cells": [
  {
   "cell_type": "markdown",
   "metadata": {},
   "source": [
    "# Si446x Device Direct Access Tag Position Tracker"
   ]
  },
  {
   "cell_type": "code",
   "execution_count": null,
   "metadata": {
    "collapsed": true
   },
   "outputs": [],
   "source": [
    "from __future__ import print_function\n",
    "from builtins import *                  # python3 types\n",
    "from time import sleep\n",
    "from datetime import datetime\n",
    "import struct as pystruct\n",
    "from binascii import hexlify\n",
    "import os.path"
   ]
  },
  {
   "cell_type": "code",
   "execution_count": null,
   "metadata": {
    "scrolled": true
   },
   "outputs": [],
   "source": [
    "!pwd\n",
    "%autosave 0\n",
    "import sys\n",
    "sys.path.append(\"../si446x/si446x\")\n",
    "%run '../si446x/si446x/notebooks/si446x_Device_Layer.ipynb'"
   ]
  },
  {
   "cell_type": "code",
   "execution_count": null,
   "metadata": {
    "collapsed": true
   },
   "outputs": [],
   "source": [
    "import sys\n",
    "sys.path.append(\"../tagnet/tagnet\")\n",
    "from tagmessages import TagMessage, TagPoll, TagGet, TagPut, TagDelete, TagHead\n",
    "from tagnames import TagName\n",
    "from tagtlv import TagTlv, TagTlvList, tlv_types"
   ]
  },
  {
   "cell_type": "code",
   "execution_count": null,
   "metadata": {},
   "outputs": [],
   "source": [
    "import datetime\n",
    "print('Test Start Time: {}'.format(datetime.datetime.now()))\n",
    "print('Si446x Radio Device Driver Version: {}'.format(si446x_device_version()))"
   ]
  },
  {
   "cell_type": "markdown",
   "metadata": {},
   "source": [
    "##  Start up Radio"
   ]
  },
  {
   "cell_type": "code",
   "execution_count": null,
   "metadata": {
    "collapsed": true,
    "scrolled": true
   },
   "outputs": [],
   "source": [
    "radio = si446x_device_start_radio()"
   ]
  },
  {
   "cell_type": "code",
   "execution_count": null,
   "metadata": {
    "scrolled": true
   },
   "outputs": [],
   "source": [
    "si446x_device_show_config(radio.dump_radio())"
   ]
  },
  {
   "cell_type": "markdown",
   "metadata": {},
   "source": [
    "## Check for Command Error"
   ]
  },
  {
   "cell_type": "code",
   "execution_count": null,
   "metadata": {
    "collapsed": true
   },
   "outputs": [],
   "source": [
    "status = radio.get_chip_status()\n",
    "if (status.chip_pend.CMD_ERROR):\n",
    "    print(status)"
   ]
  },
  {
   "cell_type": "markdown",
   "metadata": {},
   "source": [
    "##  Configure Radio"
   ]
  },
  {
   "cell_type": "code",
   "execution_count": null,
   "metadata": {
    "scrolled": true
   },
   "outputs": [],
   "source": [
    "config = si446x_device_config_radio(radio)\n",
    "\n",
    "si446x_device_show_config(radio.dump_radio())\n",
    "total = 0\n",
    "print('\\n=== const config strings:')\n",
    "for s in config:\n",
    "    print((hexlify(s)))\n",
    "    total += len(s) - 4\n",
    "print('\\n total: {}'.format(total))"
   ]
  },
  {
   "cell_type": "markdown",
   "metadata": {},
   "source": [
    "## Dblk Data Transfer"
   ]
  },
  {
   "cell_type": "code",
   "execution_count": null,
   "metadata": {
    "collapsed": true
   },
   "outputs": [],
   "source": [
    "from pyproj import Proj, transform\n",
    "from ipywidgets import interact, interactive, fixed, interact_manual\n",
    "from ipywidgets.embed import embed_minimal_html\n",
    "import ipywidgets as widgets"
   ]
  },
  {
   "cell_type": "markdown",
   "metadata": {},
   "source": [
    "### Repeat fetching Dblk contents until end of file"
   ]
  },
  {
   "cell_type": "code",
   "execution_count": null,
   "metadata": {
    "collapsed": true
   },
   "outputs": [],
   "source": [
    "# default paramters\n",
    "MAX_WAIT            = 10\n",
    "MAX_RECV            = 255\n",
    "MAX_PAYLOAD         = 254\n",
    "MAX_RETRIES         = 10\n",
    "RADIO_POWER         = 100\n",
    "SHORT_DELAY         = 0\n",
    "from datetime import datetime"
   ]
  },
  {
   "cell_type": "code",
   "execution_count": null,
   "metadata": {
    "collapsed": true
   },
   "outputs": [],
   "source": [
    "#\"tag\"  \"sd\"    <node_id>   \"0\"   \"dblk\"   \"0\"\n",
    "def get_dblk_bytes(file_offset, amount_to_get):\n",
    "    dblk_bytes_name = TagName ('/tag/sd')\n",
    "    dblk_bytes_name += [TagTlv(tlv_types.NODE_ID, -1),\n",
    "                        TagTlv(0),\n",
    "                        TagTlv('dblk'),\n",
    "                        TagTlv(0),\n",
    "                        TagTlv(tlv_types.OFFSET, file_offset),\n",
    "                        TagTlv(tlv_types.SIZE, amount_to_get),\n",
    "                       ]\n",
    "    get_dblk = TagGet(dblk_bytes_name)\n",
    "    print(get_dblk.name)\n",
    "    req_msg = get_dblk.build()\n",
    "    si446x_device_send_msg(radio, req_msg, RADIO_POWER);\n",
    "    rsp_msg, rssi, status = si446x_device_receive_msg(radio, MAX_RECV, 5)\n",
    "    if(rsp_msg):\n",
    "        print(hexlify(rsp_msg))\n",
    "        rsp_obj = TagMessage(rsp_msg)\n",
    "#        print(rsp_obj.header.options.param.error_code)\n",
    "#        print(rsp_obj.payload)\n",
    "        if (rsp_obj.payload):\n",
    "            pass\n",
    "        else:\n",
    "            print(\"{}\".format(rsp_obj.header.options.param.error_code))\n",
    "#    else:\n",
    "#        print('TIMEOUT')\n",
    "    return rsp_obj"
   ]
  },
  {
   "cell_type": "code",
   "execution_count": null,
   "metadata": {},
   "outputs": [],
   "source": [
    "msg = get_dblk_bytes(512,200)"
   ]
  },
  {
   "cell_type": "code",
   "execution_count": null,
   "metadata": {},
   "outputs": [],
   "source": [
    "print(msg.payload[0].value(), msg.payload[1].value(), len(msg.payload[2].value()))\n",
    "print(hexlify(msg.payload[2].value()))"
   ]
  },
  {
   "cell_type": "code",
   "execution_count": null,
   "metadata": {
    "collapsed": true,
    "scrolled": false
   },
   "outputs": [],
   "source": [
    "start = datetime.now()\n",
    "for x in range(1000):\n",
    "    dblk_data = get_dblk_bytes()\n",
    "    if dblk_data:\n",
    "        break\n",
    "    else:\n",
    "        print(\"\\r{} {}\".format(datetime.now() - start, 'timeout'), end=\"\")\n",
    "        continue\n",
    "    print(\"\\r{}  {}\".format(datetime.now() - start, tag_geo), end=\"\")\n",
    "    sleep(5)\n",
    "print(\"\\ntime:{}, lat:{}, lon:{}, elv:{}\".format(datetime.now() - start, *tag_geo))"
   ]
  },
  {
   "cell_type": "markdown",
   "metadata": {},
   "source": [
    "## Extra"
   ]
  },
  {
   "cell_type": "code",
   "execution_count": null,
   "metadata": {
    "collapsed": true
   },
   "outputs": [],
   "source": [
    "STOP"
   ]
  },
  {
   "cell_type": "markdown",
   "metadata": {},
   "source": [
    "## Get Chip Status"
   ]
  },
  {
   "cell_type": "code",
   "execution_count": null,
   "metadata": {
    "collapsed": true
   },
   "outputs": [],
   "source": [
    "print(radio.get_chip_status())"
   ]
  },
  {
   "cell_type": "markdown",
   "metadata": {},
   "source": [
    "## Get Image Directory"
   ]
  },
  {
   "cell_type": "code",
   "execution_count": null,
   "metadata": {},
   "outputs": [],
   "source": [
    "#\"tag\"  \"sd\"    <node_id>   \"img\"\n",
    "image_manager_name = TagName ('tag',\n",
    "                              'sd',\n",
    "                              TagTlv(tlv_types.NODE_ID, -1),\n",
    "                              TagTlv(0),\n",
    "                              TagTlv('img'))\n",
    "dir_info = TagGet(image_manager_name)\n",
    "#print(dir_info.name)\n",
    "dir_msg = dir_info.build()\n",
    "#print(len(dir_msg),hexlify(dir_msg))\n",
    "si446x_device_send_msg(radio, dir_msg, RADIO_POWER);\n",
    "rsp_buf, rssi, status = si446x_device_receive_msg(radio, MAX_RECV, MAX_WAIT)\n",
    "if (rsp_buf):\n",
    "#    print(len(rsp_buf),hexlify(rsp_buf))\n",
    "    rsp_obj = TagMessage(rsp_buf)\n",
    "    for x in range(0, 8, 2):\n",
    "        print(\"state: {}, {}\".format(rsp_obj.payload[x+1].value(), rsp_obj.payload[x]))\n",
    "else:\n",
    "    print('timeout')"
   ]
  },
  {
   "cell_type": "code",
   "execution_count": null,
   "metadata": {
    "collapsed": true
   },
   "outputs": [],
   "source": [
    "#\"tag\"\t\"sys\"\t<node_id>\t\"which\"\n",
    "def get_version(which):\n",
    "    sys_name = TagName ('tag',\n",
    "                        'sys',\n",
    "                        TagTlv(tlv_types.NODE_ID, -1),\n",
    "                        TagTlv(which))\n",
    "    sys_obj = TagGet(sys_name)\n",
    "#    print(sys_obj.name)\n",
    "    get_msg = sys_obj.build()\n",
    "    si446x_device_send_msg(radio, get_msg, RADIO_POWER);\n",
    "    rsp_buf, rssi, status = si446x_device_receive_msg(radio, MAX_RECV, 5)\n",
    "    if(rsp_buf):\n",
    "#        print(hexlify(rsp_buf))\n",
    "        rsp_obj = TagMessage(rsp_buf)\n",
    "        print(\"{}: {:^10} state: {}, {}\".format(rsp_obj.header.options.param.error_code, which, rsp_obj.payload[1].value(), rsp_obj.payload[0]))"
   ]
  },
  {
   "cell_type": "code",
   "execution_count": null,
   "metadata": {},
   "outputs": [],
   "source": [
    "get_version('active')\n",
    "get_version('backup')\n",
    "get_version('golden')\n",
    "get_version('nib')\n",
    "get_version('running')"
   ]
  },
  {
   "cell_type": "code",
   "execution_count": null,
   "metadata": {
    "collapsed": true
   },
   "outputs": [],
   "source": [
    "#\"tag\"\t\"sys\"\t<node_id>\t\"which\"\n",
    "def set_version(which, version):\n",
    "    set_name = TagName ('tag',\n",
    "                        'sys',\n",
    "                        TagTlv(tlv_types.NODE_ID, -1),\n",
    "                        TagTlv(which),\n",
    "                        TagTlv(tlv_types.VERSION, version))\n",
    "    set_obj = TagPut(set_name)\n",
    "#    print(set_obj.name)\n",
    "    set_msg = set_obj.build()\n",
    "    si446x_device_send_msg(radio, set_msg, RADIO_POWER);\n",
    "    rsp_buf, rssi, status = si446x_device_receive_msg(radio, MAX_RECV, 5)\n",
    "    if(rsp_buf):\n",
    "#        print(hexlify(rsp_buf))\n",
    "        rsp_obj = TagMessage(rsp_buf)\n",
    "#        print(rsp_obj.header)\n",
    "        if (rsp_obj.payload):\n",
    "            print(\"{}: state: {}, {}\".format(rsp_obj.header.options.param.error_code, rsp_obj.payload[1].value(), rsp_obj.payload[0]))\n",
    "        else:\n",
    "            print(\"{}\".format(rsp_obj.header.options.param.error_code))"
   ]
  },
  {
   "cell_type": "code",
   "execution_count": null,
   "metadata": {},
   "outputs": [],
   "source": [
    "set_version('active', (118, 16, 0))"
   ]
  },
  {
   "cell_type": "code",
   "execution_count": null,
   "metadata": {
    "collapsed": true
   },
   "outputs": [],
   "source": [
    "set_version('backup', (32, 16, 0))"
   ]
  },
  {
   "cell_type": "code",
   "execution_count": null,
   "metadata": {
    "collapsed": true
   },
   "outputs": [],
   "source": [
    "set_version('running', (125, 1, 0))"
   ]
  },
  {
   "cell_type": "markdown",
   "metadata": {},
   "source": [
    "## Interactive Group Properties"
   ]
  },
  {
   "cell_type": "code",
   "execution_count": null,
   "metadata": {
    "collapsed": true
   },
   "outputs": [],
   "source": [
    "from si446xdef import *\n",
    "\n",
    "\n",
    "def si446x_device_group_fetch_and_decode(group):\n",
    "    gname = radio_config_group_ids.decoding[group]\n",
    "    g_s = radio_config_groups[radio_config_group_ids.build(gname)]\n",
    "    gid = radio_config_group_ids.build(gname)\n",
    "    p = si446x_device_get_property(radio, gname, 0, g_s.sizeof())\n",
    "    print(g_s, insert_space(p))\n",
    "    #print(gname, len(p), hexlify(p))\n",
    "    print(radio_display_structs[g_s](g_s, p))\n",
    "    return None\n",
    "\n",
    "\n",
    "def si446x_device_command_fetch_and_decode(cmd):\n",
    "    cname = radio_status_cmd_ids.decoding[cmd]\n",
    "    cfunc, cstr = radio_status_commands[radio_config_cmd_ids.build(cname)]\n",
    "#    print(cname, cmd)\n",
    "    if (cfunc):\n",
    "        cmd = cfunc(cname)\n",
    "        if (cmd):\n",
    "#            print(cfunc, hexlify(cmd), cstr)\n",
    "            radio.spi.command(cmd, cstr)\n",
    "            rsp = radio.spi.response(cstr.sizeof(), cstr.name)\n",
    "            if (rsp):\n",
    "#                print(cstr, radio_display_structs[cstr])\n",
    "                print(cstr, insert_space(rsp))\n",
    "                print(radio_display_structs[cstr](cstr, rsp))\n",
    "            else:\n",
    "                print('no response')\n",
    "        else:\n",
    "            print('no command')\n",
    "    else:\n",
    "        print('no function')\n",
    "    return None"
   ]
  },
  {
   "cell_type": "code",
   "execution_count": null,
   "metadata": {
    "collapsed": true,
    "scrolled": true
   },
   "outputs": [],
   "source": [
    "interact(si446x_device_group_fetch_and_decode, group=radio_config_group_ids.encoding)"
   ]
  },
  {
   "cell_type": "markdown",
   "metadata": {},
   "source": [
    "## Interactive  Command Status Responses"
   ]
  },
  {
   "cell_type": "code",
   "execution_count": null,
   "metadata": {
    "collapsed": true
   },
   "outputs": [],
   "source": [
    "interact(si446x_device_command_fetch_and_decode, cmd=radio_status_cmd_ids.encoding)"
   ]
  },
  {
   "cell_type": "code",
   "execution_count": null,
   "metadata": {
    "collapsed": true
   },
   "outputs": [],
   "source": [
    "from datetime import datetime\n",
    "datetime.now()"
   ]
  },
  {
   "cell_type": "code",
   "execution_count": null,
   "metadata": {
    "collapsed": true
   },
   "outputs": [],
   "source": []
  }
 ],
 "metadata": {
  "kernelspec": {
   "display_name": "Python 2",
   "language": "python",
   "name": "python2"
  },
  "language_info": {
   "codemirror_mode": {
    "name": "ipython",
    "version": 2
   },
   "file_extension": ".py",
   "mimetype": "text/x-python",
   "name": "python",
   "nbconvert_exporter": "python",
   "pygments_lexer": "ipython2",
   "version": "2.7.9"
  }
 },
 "nbformat": 4,
 "nbformat_minor": 2
}
