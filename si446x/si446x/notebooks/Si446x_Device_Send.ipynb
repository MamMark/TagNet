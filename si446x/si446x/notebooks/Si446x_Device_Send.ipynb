{
 "cells": [
  {
   "cell_type": "markdown",
   "metadata": {},
   "source": [
    "# Si446x Device Direct Access Ping"
   ]
  },
  {
   "cell_type": "code",
   "execution_count": null,
   "metadata": {
    "scrolled": true
   },
   "outputs": [],
   "source": [
    "%autosave 0\n",
    "import sys\n",
    "sys.path.append(\"../\") # go to parent dir\n",
    "%run si446x_Device_Layer.ipynb\n",
    "#test"
   ]
  },
  {
   "cell_type": "code",
   "execution_count": null,
   "metadata": {},
   "outputs": [],
   "source": [
    "import datetime\n",
    "print('Test Start Time: {}'.format(datetime.datetime.now()))\n",
    "print('Si446x Radio Device Driver Version: {}'.format(si446x_device_version()))"
   ]
  },
  {
   "cell_type": "markdown",
   "metadata": {},
   "source": [
    "##  Start up Radio"
   ]
  },
  {
   "cell_type": "code",
   "execution_count": null,
   "metadata": {
    "scrolled": true
   },
   "outputs": [],
   "source": [
    "radio = si446x_device_start_radio()"
   ]
  },
  {
   "cell_type": "code",
   "execution_count": null,
   "metadata": {
    "scrolled": true
   },
   "outputs": [],
   "source": [
    "si446x_device_show_config(radio.dump_radio())"
   ]
  },
  {
   "cell_type": "code",
   "execution_count": null,
   "metadata": {
    "collapsed": true
   },
   "outputs": [],
   "source": []
  },
  {
   "cell_type": "markdown",
   "metadata": {},
   "source": [
    "## Check for Command Error"
   ]
  },
  {
   "cell_type": "code",
   "execution_count": null,
   "metadata": {
    "collapsed": true
   },
   "outputs": [],
   "source": [
    "status = radio.get_chip_status()\n",
    "if (status.chip_pend.CMD_ERROR):\n",
    "    print(status)"
   ]
  },
  {
   "cell_type": "markdown",
   "metadata": {},
   "source": [
    "##  Configure Radio"
   ]
  },
  {
   "cell_type": "code",
   "execution_count": null,
   "metadata": {
    "scrolled": false
   },
   "outputs": [],
   "source": [
    "config = si446x_device_config_radio(radio)\n",
    "\n",
    "si446x_device_show_config(radio.dump_radio())\n",
    "total = 0\n",
    "print('\\n=== const config strings:')\n",
    "for s in config:\n",
    "    print((hexlify(s)))\n",
    "    total += len(s) - 4\n",
    "print('\\n total: {}'.format(total))"
   ]
  },
  {
   "cell_type": "markdown",
   "metadata": {},
   "source": [
    "## Get Chip Status"
   ]
  },
  {
   "cell_type": "code",
   "execution_count": null,
   "metadata": {},
   "outputs": [],
   "source": [
    "print(radio.get_chip_status())"
   ]
  },
  {
   "cell_type": "markdown",
   "metadata": {},
   "source": [
    "## Interactive Group Properties"
   ]
  },
  {
   "cell_type": "code",
   "execution_count": null,
   "metadata": {
    "scrolled": true
   },
   "outputs": [],
   "source": [
    "from ipywidgets import interact\n",
    "interact(si446x_device_group_fetch_and_decode, group=radio_config_group_ids.encoding)"
   ]
  },
  {
   "cell_type": "markdown",
   "metadata": {},
   "source": [
    "## Interactive  Command Status Responses"
   ]
  },
  {
   "cell_type": "code",
   "execution_count": null,
   "metadata": {},
   "outputs": [],
   "source": [
    "interact(si446x_device_command_fetch_and_decode, cmd=radio_status_cmd_ids.encoding)"
   ]
  },
  {
   "cell_type": "code",
   "execution_count": null,
   "metadata": {},
   "outputs": [],
   "source": [
    "f = True\n",
    "status = int_status(0, f)"
   ]
  },
  {
   "cell_type": "markdown",
   "metadata": {},
   "source": [
    "## Transmit Packet Stream"
   ]
  },
  {
   "cell_type": "code",
   "execution_count": null,
   "metadata": {
    "scrolled": true
   },
   "outputs": [],
   "source": [
    "from __future__ import print_function\n",
    "from time import sleep\n",
    "from datetime import datetime\n",
    "\n",
    "num         = 10000\n",
    "delay       = .5\n",
    "pkt         = bytearray(256)\n",
    "\n",
    "step        = 1\n",
    "prp         = bytearray(1)\n",
    "mj_r        = range(num)\n",
    "th_r        = range(25,46,5)             # fifo threshold setting (min,max,opt): 1,64,40\n",
    "sz_r        = range(250,260,10)             # msg size (min,max): 4, 255\n",
    "pw_r        = [1 << i for i in range(1)] # power amp setting (min, max,opt): 1,127,10\n",
    "count       = 0\n",
    "radio.trace._enable()\n",
    "\n",
    "start = datetime.now()\n",
    "print(start)\n",
    "\n",
    "for major in mj_r:\n",
    "    for thresh in th_r:\n",
    "        prp[0]=thresh\n",
    "        radio.set_property('PKT', 0x0b, prp)  # set tx fifo threshhold\n",
    "        for pw in pw_r:\n",
    "            if (pw > 127): pw = 127\n",
    "            for size in sz_r:\n",
    "                if (size > 255): size = 254\n",
    "                for i in range(1,len(pkt)):\n",
    "                    pkt[i] = i\n",
    "                pkt[i] = size\n",
    "                progress = x_si446x_device_send_msg(radio, pkt[:size], pw)\n",
    "                count += 1\n",
    "                print('\\r{}, c:{}, l:{}, p:{}, t:{}, m:{}, s:{}'.format(\n",
    "                    datetime.now(), count, size, pw, thresh, hexlify(pkt[:4]), \n",
    "                    ''.join(map(str, progress))),end='')\n",
    "                if (progress[-1] == 'e'): print()\n",
    "                else: print('                    ',end='')\n",
    "                sleep(delay)\n",
    "\n",
    "print('\\ndone')"
   ]
  },
  {
   "cell_type": "code",
   "execution_count": null,
   "metadata": {
    "collapsed": true
   },
   "outputs": [],
   "source": []
  },
  {
   "cell_type": "markdown",
   "metadata": {},
   "source": [
    "## Check Interrupt Status"
   ]
  },
  {
   "cell_type": "code",
   "execution_count": null,
   "metadata": {
    "collapsed": true
   },
   "outputs": [],
   "source": [
    "s_name =  'int_status_rsp_s'\n",
    "p_s = eval(s_name)\n",
    "p_g = radio.get_interrupts()\n",
    "p_d = p_s.build(p_g)\n",
    "print('{}: {}'.format(s_name, insert_space(p_d)))\n",
    "print(radio_display_structs[p_s](p_s, p_d))"
   ]
  },
  {
   "cell_type": "code",
   "execution_count": null,
   "metadata": {
    "collapsed": true
   },
   "outputs": [],
   "source": [
    "s_name =  'get_chip_status_rsp_s'\n",
    "p_s = eval(s_name)\n",
    "p_g = radio.get_chip_status()\n",
    "p_d = p_s.build(p_g)\n",
    "print('{}: {}'.format(s_name, insert_space(p_d)))\n",
    "print(radio_display_structs[p_s](p_s, p_d))"
   ]
  },
  {
   "cell_type": "code",
   "execution_count": null,
   "metadata": {
    "collapsed": true
   },
   "outputs": [],
   "source": [
    "#t,r = si446xradio_test()"
   ]
  },
  {
   "cell_type": "code",
   "execution_count": null,
   "metadata": {
    "collapsed": true
   },
   "outputs": [],
   "source": [
    "from datetime import datetime \n",
    "\n",
    "now=datetime.now()\n",
    "print(now)"
   ]
  },
  {
   "cell_type": "code",
   "execution_count": null,
   "metadata": {
    "collapsed": true
   },
   "outputs": [],
   "source": [
    "MAX_CHUNK=64"
   ]
  },
  {
   "cell_type": "code",
   "execution_count": null,
   "metadata": {
    "collapsed": true
   },
   "outputs": [],
   "source": [
    "radio.clear_interrupts()"
   ]
  },
  {
   "cell_type": "code",
   "execution_count": null,
   "metadata": {
    "collapsed": true
   },
   "outputs": [],
   "source": [
    "rx, tx = radio.fifo_info(rx_flush=True, tx_flush=True)\n",
    "print(rx,tx)"
   ]
  },
  {
   "cell_type": "code",
   "execution_count": null,
   "metadata": {
    "collapsed": true
   },
   "outputs": [],
   "source": [
    "radio.set_property('PKT', 0x0b, b'\\x3c')  # set tx fifo threshhold"
   ]
  },
  {
   "cell_type": "code",
   "execution_count": null,
   "metadata": {
    "collapsed": true
   },
   "outputs": [],
   "source": [
    "rx, tx = radio.fifo_info()\n",
    "print(rx,tx)"
   ]
  },
  {
   "cell_type": "code",
   "execution_count": null,
   "metadata": {
    "collapsed": true
   },
   "outputs": [],
   "source": [
    "status = radio.get_interrupts()\n",
    "print(status.ph_pend.TX_FIFO_ALMOST_EMPTY)"
   ]
  },
  {
   "cell_type": "code",
   "execution_count": null,
   "metadata": {
    "collapsed": true
   },
   "outputs": [],
   "source": [
    "s_name =  'int_status_rsp_s'\n",
    "p_s = eval(s_name)\n",
    "p_g = radio.get_interrupts()\n",
    "p_d = p_s.build(p_g)\n",
    "print('{}: {}'.format(s_name, insert_space(p_d)))\n",
    "print(radio_display_structs[p_s](p_s, p_d))"
   ]
  },
  {
   "cell_type": "code",
   "execution_count": null,
   "metadata": {
    "collapsed": true
   },
   "outputs": [],
   "source": [
    "buf = bytearray('\\x22' * 64)\n",
    "chunk = 8\n",
    "cur   = 8\n",
    "radio.write_tx_fifo(buf[:chunk])\n",
    "rx, tx = radio.fifo_info()\n",
    "print(rx,tx)"
   ]
  },
  {
   "cell_type": "code",
   "execution_count": null,
   "metadata": {
    "collapsed": true
   },
   "outputs": [],
   "source": [
    "radio.start_tx(len(buf))\n",
    "while (True):\n",
    "    status = radio.get_interrupts()\n",
    "    if (status.ph_pend.TX_FIFO_ALMOST_EMPTY):\n",
    "        rx, tx = radio.fifo_info()\n",
    "        radio.write_tx_fifo(buf[cur:cur+chunk])\n",
    "        cur += chunk\n",
    "        print('.',end='')\n",
    "    if (status.ph_pend.PACKET_SENT):\n",
    "        print('done')\n",
    "        break\n",
    "    radio.clear_interrupts()"
   ]
  },
  {
   "cell_type": "code",
   "execution_count": null,
   "metadata": {
    "collapsed": true
   },
   "outputs": [],
   "source": [
    "ss[0] = 10\n",
    "ss[1] = 20"
   ]
  },
  {
   "cell_type": "code",
   "execution_count": null,
   "metadata": {
    "collapsed": true
   },
   "outputs": [],
   "source": [
    "cur"
   ]
  },
  {
   "cell_type": "code",
   "execution_count": null,
   "metadata": {
    "collapsed": true
   },
   "outputs": [],
   "source": [
    "radio.set_property('PKT', 0x0b, ss) # tx/rx threshold"
   ]
  },
  {
   "cell_type": "code",
   "execution_count": null,
   "metadata": {
    "collapsed": true
   },
   "outputs": [],
   "source": [
    "radio.set_property('PKT', 0x0b, b'\\x48')  # set tx fifo threshhold"
   ]
  },
  {
   "cell_type": "code",
   "execution_count": null,
   "metadata": {
    "collapsed": true
   },
   "outputs": [],
   "source": [
    "radio.set_property('PKT', 0x0c, b'\\x14')  # set rx fifo threshold"
   ]
  },
  {
   "cell_type": "code",
   "execution_count": null,
   "metadata": {
    "collapsed": true
   },
   "outputs": [],
   "source": [
    "status = int_status(clr_all_flags, False)\n",
    "print(status.ph_pend.TX_FIFO_ALMOST_EMPTY)"
   ]
  },
  {
   "cell_type": "code",
   "execution_count": null,
   "metadata": {
    "collapsed": true
   },
   "outputs": [],
   "source": []
  },
  {
   "cell_type": "code",
   "execution_count": null,
   "metadata": {
    "collapsed": true
   },
   "outputs": [],
   "source": []
  }
 ],
 "metadata": {
  "kernelspec": {
   "display_name": "Python 2",
   "language": "python",
   "name": "python2"
  },
  "language_info": {
   "codemirror_mode": {
    "name": "ipython",
    "version": 2
   },
   "file_extension": ".py",
   "mimetype": "text/x-python",
   "name": "python",
   "nbconvert_exporter": "python",
   "pygments_lexer": "ipython2",
   "version": "2.7.9"
  }
 },
 "nbformat": 4,
 "nbformat_minor": 2
}
