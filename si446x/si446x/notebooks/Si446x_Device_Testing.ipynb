{
 "cells": [
  {
   "cell_type": "markdown",
   "metadata": {},
   "source": [
    "# Si446x Device Direct Access Layer Tests\n",
    "\n",
    "This notebook explores the Si446xRadio class, which handles the direct access to operating system provided SPI bus and GPIO interface pins that connect to the Si446x device. This provides the command and control interface provided by the device."
   ]
  },
  {
   "cell_type": "code",
   "execution_count": null,
   "metadata": {
    "scrolled": true
   },
   "outputs": [],
   "source": [
    "from __future__ import print_function\n",
    "\n",
    "import sys\n",
    "sys.path.append(\"../\") # go to parent dir\n",
    "%run si446x_Device_Layer.ipynb"
   ]
  },
  {
   "cell_type": "code",
   "execution_count": null,
   "metadata": {},
   "outputs": [],
   "source": [
    "import datetime\n",
    "print('Test Start Time: {}'.format(datetime.datetime.now()))\n",
    "print('Si446x Radio Device Driver Version: {}'.format(si446x_device_version()))"
   ]
  },
  {
   "cell_type": "markdown",
   "metadata": {},
   "source": [
    "##  Start up Radio"
   ]
  },
  {
   "cell_type": "code",
   "execution_count": null,
   "metadata": {
    "scrolled": true
   },
   "outputs": [],
   "source": [
    "radio = si446x_device_start_radio()"
   ]
  },
  {
   "cell_type": "code",
   "execution_count": null,
   "metadata": {
    "scrolled": true
   },
   "outputs": [],
   "source": [
    "si446x_device_show_config(radio.dump_radio())"
   ]
  },
  {
   "cell_type": "code",
   "execution_count": null,
   "metadata": {
    "collapsed": true
   },
   "outputs": [],
   "source": []
  },
  {
   "cell_type": "markdown",
   "metadata": {},
   "source": [
    "## Check for Command Error"
   ]
  },
  {
   "cell_type": "code",
   "execution_count": null,
   "metadata": {
    "collapsed": true
   },
   "outputs": [],
   "source": [
    "status = radio.get_chip_status()\n",
    "if (status.chip_pend.CMD_ERROR):\n",
    "    print(status)"
   ]
  },
  {
   "cell_type": "markdown",
   "metadata": {},
   "source": [
    "##  Configure Radio"
   ]
  },
  {
   "cell_type": "code",
   "execution_count": null,
   "metadata": {
    "scrolled": true
   },
   "outputs": [],
   "source": [
    "config = si446x_device_config_radio(radio)\n",
    "\n",
    "si446x_device_show_config(radio.dump_radio())\n",
    "total = 0\n",
    "print('\\n=== const config strings:')\n",
    "for s in config:\n",
    "    print((hexlify(s)))\n",
    "    total += len(s) - 4\n",
    "print('\\n total: {}'.format(total))"
   ]
  },
  {
   "cell_type": "markdown",
   "metadata": {},
   "source": [
    "## Set Interrupt Control"
   ]
  },
  {
   "cell_type": "code",
   "execution_count": null,
   "metadata": {
    "collapsed": true
   },
   "outputs": [],
   "source": [
    "radio.set_property('INT_CTL', 0, '\\x03\\x3b\\x2b\\x00')"
   ]
  },
  {
   "cell_type": "code",
   "execution_count": null,
   "metadata": {
    "scrolled": true
   },
   "outputs": [],
   "source": [
    "s_name = 'int_ctl_group_s'\n",
    "prop = radio.get_property('INT_CTL', 0, eval(s_name).sizeof())\n",
    "print('get interrupt property group: {}'.format(insert_space(prop)))\n",
    "print(si446x_device_format_group(s_name, prop))"
   ]
  },
  {
   "cell_type": "markdown",
   "metadata": {},
   "source": [
    "## Get Chip Status"
   ]
  },
  {
   "cell_type": "code",
   "execution_count": null,
   "metadata": {},
   "outputs": [],
   "source": [
    "print(radio.get_chip_status())"
   ]
  },
  {
   "cell_type": "markdown",
   "metadata": {},
   "source": [
    "## Get Interrupt Status"
   ]
  },
  {
   "cell_type": "code",
   "execution_count": null,
   "metadata": {},
   "outputs": [],
   "source": [
    "s_name =  'int_status_rsp_s'\n",
    "prop = eval(s_name).build(radio.get_interrupts())\n",
    "print('{}: {}'.format(s_name, hexlify(prop)))\n",
    "print(si446x_device_format_group(s_name, prop))"
   ]
  },
  {
   "cell_type": "markdown",
   "metadata": {},
   "source": [
    "## Set Transmit Power"
   ]
  },
  {
   "cell_type": "code",
   "execution_count": null,
   "metadata": {},
   "outputs": [],
   "source": [
    "s_name =  'pa_group_s'\n",
    "pa = si446x_device_get_group(radio, 'PA')\n",
    "print(si446x_device_format_group('PA', eval(s_name).build(pa)))\n",
    "radio.set_power(120)\n",
    "pa = si446x_device_get_group(radio, 'PA')\n",
    "print(si446x_device_format_group('PA', eval(s_name).build(pa)))\n",
    "print(pa_group_s.parse(eval(s_name).build(pa)))"
   ]
  },
  {
   "cell_type": "code",
   "execution_count": null,
   "metadata": {},
   "outputs": [],
   "source": [
    "pa = si446x_device_get_group(radio, 'INT_CTL')\n",
    "print(pa)"
   ]
  },
  {
   "cell_type": "markdown",
   "metadata": {},
   "source": [
    "## Get Properties  by Group"
   ]
  },
  {
   "cell_type": "code",
   "execution_count": null,
   "metadata": {
    "scrolled": true
   },
   "outputs": [],
   "source": [
    "group_str = radio_config_groups[radio_config_group_ids.build('PA')]\n",
    "print(hexlify(si446x_device_get_property(radio, 'PA', 0, group_str.sizeof())))\n",
    "print(si446x_device_get_group(radio, 'PA'))"
   ]
  },
  {
   "cell_type": "markdown",
   "metadata": {},
   "source": [
    "## Interactive Group Properties"
   ]
  },
  {
   "cell_type": "code",
   "execution_count": null,
   "metadata": {
    "scrolled": true
   },
   "outputs": [],
   "source": [
    "interact(si446x_device_group_fetch_and_decode, group=radio_config_group_ids.encoding)"
   ]
  },
  {
   "cell_type": "markdown",
   "metadata": {},
   "source": [
    "## Interactive  Command Status Responses"
   ]
  },
  {
   "cell_type": "code",
   "execution_count": null,
   "metadata": {},
   "outputs": [],
   "source": [
    "interact(si446x_device_command_fetch_and_decode, cmd=radio_status_cmd_ids.encoding)"
   ]
  },
  {
   "cell_type": "markdown",
   "metadata": {},
   "source": [
    "## Transmit Packet Stream"
   ]
  },
  {
   "cell_type": "code",
   "execution_count": null,
   "metadata": {
    "scrolled": false
   },
   "outputs": [],
   "source": [
    "from __future__ import print_function\n",
    "from time import sleep\n",
    "\n",
    "num         = 10\n",
    "delay       = .1\n",
    "pkt         = bytearray(256)\n",
    "ss          = bytearray('\\x10\\x10')\n",
    "\n",
    "step        = 20\n",
    "mj_r        = range(num)\n",
    "th_r        = range(1,45,step)   # fifo threshold setting (min,max): 1, 64\n",
    "sz_r        = range(4,100,step)  # msg size (min,max): 4, 255\n",
    "pw_r        = range(10,22,step)  # power amp setting (min, max): 1, 127\n",
    "\n",
    "radio.trace._enable()\n",
    "\n",
    "for major in mj_r:\n",
    "    for thresh in th_r:\n",
    "        print('thresh: {}'.format(thresh))\n",
    "        ss[0] = thresh\n",
    "        ss[1] = thresh\n",
    "        radio.set_property('PKT', 0x0b, ss) # tx/rx threshold\n",
    "        for size in sz_r:\n",
    "            pl = []\n",
    "            pkt[1] = (size % 256)\n",
    "            for pw in pw_r:\n",
    "                pl.append(si446x_device_send_msg(radio, pkt[:size], pw))\n",
    "                sleep(delay)\n",
    "            for l in pl:\n",
    "                if (l[-1] == 'e'):\n",
    "                    print('ERROR: size:{}, power: {}, results: {}'.format(size, pw, ''.join(map(str, l))))\n",
    "#           print('{} {}'.format(size, ''.join(map(str, l))))\n",
    "    print('done {}\\n'.format(major))"
   ]
  },
  {
   "cell_type": "markdown",
   "metadata": {},
   "source": [
    "## Check Interrupt Status"
   ]
  },
  {
   "cell_type": "code",
   "execution_count": null,
   "metadata": {
    "collapsed": true
   },
   "outputs": [],
   "source": [
    "def int_status(clr_flags=None, show=False):\n",
    "    s_name =  'int_status_rsp_s'\n",
    "    p_s = eval(s_name)\n",
    "    clr_flags = clr_flags if (clr_flags) else clr_pend_int_s.parse('\\xff' * clr_pend_int_s.sizeof())\n",
    "    clr_flags.ph_pend.STATE_CHANGE = False\n",
    "    p_g = radio.get_clear_interrupts(clr_flags)\n",
    "    p_d = p_s.build(p_g)\n",
    "    if (show):\n",
    "#        print('{}: {}'.format(s_name, hexlify(p_d)))\n",
    "        print(radio_display_structs[p_s](p_s, p_d))\n",
    "    return p_g"
   ]
  },
  {
   "cell_type": "code",
   "execution_count": null,
   "metadata": {
    "collapsed": true
   },
   "outputs": [],
   "source": [
    "def show_int_rsp(pend_flags):\n",
    "    s_name =  'int_status_rsp_s'\n",
    "    p_s = eval(s_name)\n",
    "    clr_flags = clr_pend_int_s.parse('\\xff' * clr_pend_int_s.sizeof())\n",
    "    clr_flags.ph_pend.STATE_CHANGE = False\n",
    "    p_g = radio.get_clear_interrupts(clr_flags)\n",
    "    p_d = p_s.build(p_g)\n",
    "#    print('{}: {}'.format(s_name, hexlify(p_d)))\n",
    "    print(radio_display_structs[p_s](p_s, p_d))\n"
   ]
  },
  {
   "cell_type": "code",
   "execution_count": null,
   "metadata": {},
   "outputs": [],
   "source": [
    "s_name =  'int_status_rsp_s'\n",
    "p_s = eval(s_name)\n",
    "p_g = radio.get_interrupts()\n",
    "p_d = p_s.build(p_g)\n",
    "print('{}: {}'.format(s_name, insert_space(p_d)))\n",
    "print(radio_display_structs[p_s](p_s, p_d))"
   ]
  },
  {
   "cell_type": "code",
   "execution_count": null,
   "metadata": {},
   "outputs": [],
   "source": [
    "s_name =  'get_chip_status_rsp_s'\n",
    "p_s = eval(s_name)\n",
    "p_g = radio.get_chip_status()\n",
    "p_d = p_s.build(p_g)\n",
    "print('{}: {}'.format(s_name, insert_space(p_d)))\n",
    "print(radio_display_structs[p_s](p_s, p_d))"
   ]
  },
  {
   "cell_type": "code",
   "execution_count": null,
   "metadata": {},
   "outputs": [],
   "source": [
    "s_name =  'int_status_rsp_s'\n",
    "p_s = eval(s_name)\n",
    "clr_flags = clr_pend_int_s.parse('\\xff' * clr_pend_int_s.sizeof())\n",
    "clr_flags.ph_pend.STATE_CHANGE = False\n",
    "p_g = radio.get_clear_interrupts()\n",
    "p_d = p_s.build(p_g)\n",
    "print('{}: {}'.format(s_name, insert_space(p_d)))\n",
    "print(radio_display_structs[p_s](p_s, p_d))"
   ]
  },
  {
   "cell_type": "code",
   "execution_count": null,
   "metadata": {},
   "outputs": [],
   "source": [
    "s_name =  'int_status_rsp_s'\n",
    "p_s = eval(s_name)\n",
    "p_g = radio.get_interrupts()\n",
    "p_d = p_s.build(p_g)\n",
    "print('{}: {}'.format(s_name, insert_space(p_d)))\n",
    "print(radio_display_structs[p_s](p_s, p_d))"
   ]
  },
  {
   "cell_type": "code",
   "execution_count": null,
   "metadata": {
    "collapsed": true
   },
   "outputs": [],
   "source": [
    "#t,r = si446xradio_test()"
   ]
  },
  {
   "cell_type": "code",
   "execution_count": null,
   "metadata": {},
   "outputs": [],
   "source": [
    "from datetime import datetime \n",
    "\n",
    "now=datetime.now()\n",
    "print(now)"
   ]
  },
  {
   "cell_type": "code",
   "execution_count": null,
   "metadata": {
    "collapsed": true
   },
   "outputs": [],
   "source": []
  },
  {
   "cell_type": "code",
   "execution_count": null,
   "metadata": {
    "collapsed": true
   },
   "outputs": [],
   "source": []
  }
 ],
 "metadata": {
  "kernelspec": {
   "display_name": "Python 2",
   "language": "python",
   "name": "python2"
  },
  "language_info": {
   "codemirror_mode": {
    "name": "ipython",
    "version": 2
   },
   "file_extension": ".py",
   "mimetype": "text/x-python",
   "name": "python",
   "nbconvert_exporter": "python",
   "pygments_lexer": "ipython2",
   "version": "2.7.9"
  }
 },
 "nbformat": 4,
 "nbformat_minor": 2
}
