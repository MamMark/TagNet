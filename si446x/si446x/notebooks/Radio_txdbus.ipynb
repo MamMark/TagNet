{
 "cells": [
  {
   "cell_type": "markdown",
   "metadata": {},
   "source": [
    "## Get version of local si446x library in use"
   ]
  },
  {
   "cell_type": "code",
   "execution_count": 1,
   "metadata": {},
   "outputs": [
    {
     "name": "stdout",
     "output_type": "stream",
     "text": [
      "0.1.40\n"
     ]
    }
   ],
   "source": [
    "from si446x.si446xvers import __version__\n",
    "print(__version__)"
   ]
  },
  {
   "cell_type": "markdown",
   "metadata": {},
   "source": [
    "## Open Radio Driver Dbus Interface"
   ]
  },
  {
   "cell_type": "code",
   "execution_count": 2,
   "metadata": {
    "collapsed": true
   },
   "outputs": [],
   "source": [
    "%run RadioIO.ipynb\n",
    "radio = si446x_open()"
   ]
  },
  {
   "cell_type": "markdown",
   "metadata": {},
   "source": [
    "## Get si446x Part Info"
   ]
  },
  {
   "cell_type": "code",
   "execution_count": 6,
   "metadata": {
    "scrolled": true
   },
   "outputs": [
    {
     "name": "stdout",
     "output_type": "stream",
     "text": [
      "ON, <States=S_RX_ON>, unshuts 0\n",
      " RX: packets 0, len_errors 0, timeouts 0, sync_errors 0, crc_errors 0, rssi 0, \n",
      " TX: packets 1, errors 0, timeouts 3, power 33, \n",
      " sync frr: 08002e1e\n",
      " node P222, version 0.1.40 [2017.04.27 13:27:02.043658]\n",
      "['Part Number: 4463, rev: 0x11, id: 0xf, romid: 0x3', [17, 68, 99, 0, 0, 15, 0, 3], 'Firmware: 3.0.15, patch: 0x0, func: 0x1', [3, 0, 15, 0, 0, 1]]\n"
     ]
    }
   ],
   "source": [
    "print(si446x_status(radio))\n",
    "print(si446x_part_info(radio))"
   ]
  },
  {
   "cell_type": "markdown",
   "metadata": {},
   "source": [
    "## Get DBus Interface name information for Si446x device driver"
   ]
  },
  {
   "cell_type": "code",
   "execution_count": 7,
   "metadata": {},
   "outputs": [
    {
     "name": "stdout",
     "output_type": "stream",
     "text": [
      "('org.tagnet.si446x', '/org/tagnet/si446x/0/0')\n"
     ]
    }
   ],
   "source": [
    "from si446x import BUS_NAME, OBJECT_PATH\n",
    "print(BUS_NAME, OBJECT_PATH)"
   ]
  },
  {
   "cell_type": "markdown",
   "metadata": {},
   "source": [
    "## Ping the Radio Driver DBus interface"
   ]
  },
  {
   "cell_type": "code",
   "execution_count": 8,
   "metadata": {},
   "outputs": [
    {
     "name": "stdout",
     "output_type": "stream",
     "text": [
      "Ping Failed. org.tagnet.si446x:/org/tagnet/si446x/0/0 is not available\n"
     ]
    }
   ],
   "source": [
    "from twisted.internet import reactor, defer\n",
    "from txdbus           import client, error\n",
    "from txdbus.interface import DBusInterface, Method\n",
    "\n",
    "peer_iface = DBusInterface( 'org.freedesktop.DBus.Peer',\n",
    "                            Method('Ping')\n",
    "                          )\n",
    "\n",
    "@defer.inlineCallbacks\n",
    "def main():\n",
    "    try:\n",
    "        cli  = yield client.connect(reactor)\n",
    "        robj = yield cli.getRemoteObject( BUS_NAME, OBJECT_PATH, peer_iface )\n",
    "        yield robj.callRemote('Ping')\n",
    "        print('Ping Succeeded. {}:{} is available'.format(BUS_NAME,OBJECT_PATH))\n",
    "    except error.DBusException, e:\n",
    "        print('Ping Failed. {}:{} is not available'.format(BUS_NAME,OBJECT_PATH))\n",
    "    reactor.stop()\n",
    "\n",
    "reactor.callWhenRunning(main)\n",
    "reactor.run()"
   ]
  },
  {
   "cell_type": "code",
   "execution_count": null,
   "metadata": {
    "collapsed": true
   },
   "outputs": [],
   "source": []
  }
 ],
 "metadata": {
  "kernelspec": {
   "display_name": "Python 2",
   "language": "python",
   "name": "python2"
  }
 },
 "nbformat": 4,
 "nbformat_minor": 2
}
