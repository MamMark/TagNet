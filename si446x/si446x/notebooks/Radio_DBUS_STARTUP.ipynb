{
 "cells": [
  {
   "cell_type": "markdown",
   "metadata": {},
   "source": [
    "# Start and check Dbus Daemon"
   ]
  },
  {
   "cell_type": "markdown",
   "metadata": {},
   "source": [
    "## Start Dbus daemon"
   ]
  },
  {
   "cell_type": "code",
   "execution_count": null,
   "metadata": {
    "collapsed": true
   },
   "outputs": [],
   "source": [
    "!eval `dbus-launch --sh-syntax`; echo \"D-Bus per-session daemon address is: $DBUS_SESSION_BUS_ADDRESS\""
   ]
  },
  {
   "cell_type": "markdown",
   "metadata": {},
   "source": [
    "##  Check Dbus session environment variable"
   ]
  },
  {
   "cell_type": "code",
   "execution_count": 2,
   "metadata": {
    "scrolled": false
   },
   "outputs": [
    {
     "name": "stdout",
     "output_type": "stream",
     "text": [
      "export DBUS_SESSION_BUS_ADDRESS='unix:abstract=/tmp/dbus-JtFwD5OlpE,guid=7a0e63c56c622705c370e05b58f67c16'\n"
     ]
    }
   ],
   "source": [
    "import os\n",
    "print(\"export DBUS_SESSION_BUS_ADDRESS=\\'{}\\'\".format(os.environ['DBUS_SESSION_BUS_ADDRESS']))"
   ]
  },
  {
   "cell_type": "markdown",
   "metadata": {},
   "source": [
    "## Set Dbus environment variable"
   ]
  },
  {
   "cell_type": "code",
   "execution_count": null,
   "metadata": {
    "collapsed": true,
    "scrolled": false
   },
   "outputs": [],
   "source": [
    "import os\n",
    "out = !dbus-launch --sh-syntax\n",
    "a = out[0].split('=', 1)\n",
    "a0 = a[0]\n",
    "a1 = \"\".join(a[1:])[:-1]\n",
    "print out\n",
    "print a0, a1\n",
    "os.environ[a0] = a1\n",
    "print a0, os.environ[a0]"
   ]
  },
  {
   "cell_type": "markdown",
   "metadata": {},
   "source": [
    "# Start si446x"
   ]
  },
  {
   "cell_type": "markdown",
   "metadata": {},
   "source": [
    "## Command line invocation"
   ]
  },
  {
   "cell_type": "code",
   "execution_count": null,
   "metadata": {
    "collapsed": true
   },
   "outputs": [],
   "source": [
    "%env DBUS_SESSION_BUS_ADDRESS='unix:abstract=/tmp/dbus-fmgWcS17m4,guid=de5bc5f9338a6eda64c0e5ae58ec6ea9'\n",
    "!python -m si446x"
   ]
  },
  {
   "cell_type": "markdown",
   "metadata": {},
   "source": [
    "## Python invocation"
   ]
  },
  {
   "cell_type": "code",
   "execution_count": null,
   "metadata": {
    "collapsed": true
   },
   "outputs": [],
   "source": [
    "from si446x              import reactor_loop\n",
    "from twisted.python      import log\n",
    "import sys\n",
    "\n",
    "if __name__ == '__main__':\n",
    "    log.startLogging(sys.stdout)\n",
    "    reactor_loop()"
   ]
  },
  {
   "cell_type": "markdown",
   "metadata": {},
   "source": [
    "# Start pydbus"
   ]
  },
  {
   "cell_type": "code",
   "execution_count": 1,
   "metadata": {
    "collapsed": true
   },
   "outputs": [],
   "source": [
    "from pydbus import SessionBus\n",
    "\n",
    "#get the session bus\n",
    "bus = SessionBus()\n",
    "#get the object\n",
    "radio = bus.get(\"org.tagnet.si446x\", \"/org/tagnet/si446x/0/0\")"
   ]
  },
  {
   "cell_type": "markdown",
   "metadata": {},
   "source": [
    "# Query Radio Driver Status"
   ]
  },
  {
   "cell_type": "code",
   "execution_count": 2,
   "metadata": {},
   "outputs": [
    {
     "name": "stdout",
     "output_type": "stream",
     "text": [
      "ON, <States=S_RX_ON>, unshuts 0\n",
      " RX: packets 0, len_errors 0, timeouts 0, sync_errors 8, crc_errors 0, rssi 0, \n",
      " TX: packets 0, errors 0, timeouts 0, power 32, \n",
      " node P211, version 0.1.6 [2017.04.19 13:27:48.308264]\n"
     ]
    }
   ],
   "source": [
    "#call the methods and print the results\n",
    "reply = radio.status()\n",
    "print(reply)"
   ]
  },
  {
   "cell_type": "markdown",
   "metadata": {},
   "source": [
    "# Get Radio Device Info"
   ]
  },
  {
   "cell_type": "markdown",
   "metadata": {},
   "source": [
    "### Silicon Labs Radio Part Info"
   ]
  },
  {
   "cell_type": "markdown",
   "metadata": {},
   "source": [
    "The known device version information as published on Silicon Labs Message Board:\n",
    "\n",
    "ROMID=3,REV=B1B\n",
    "4060\n",
    "4063\n",
    "4355\n",
    "4362\n",
    "4438\n",
    "4455\n",
    "4460\n",
    "4461\n",
    "4463\n",
    "4464\n",
    "\n",
    "ROMID=6,REV=C2A\n",
    "4055\n",
    "4060\n",
    "4063\n",
    "4355\n",
    "4362\n",
    "4438\n",
    "4455\n",
    "4460\n",
    "4461\n",
    "4463\n",
    "4464\n",
    "\n",
    "ROMID=6,REV=A2A\n",
    "4467\n",
    "4468\n",
    "\n",
    "(see: http://community.silabs.com/t5/Proprietary-Knowledge-Base/Using-PART-INFO-command-to-identify-EZRadio-PRO-part-number/ta-p/194617)"
   ]
  },
  {
   "cell_type": "markdown",
   "metadata": {},
   "source": [
    "### Get Radio Part Info"
   ]
  },
  {
   "cell_type": "code",
   "execution_count": 27,
   "metadata": {},
   "outputs": [
    {
     "name": "stdout",
     "output_type": "stream",
     "text": [
      "Part Number: 4463, rev: 0x11, id: 0xf, romid: 0x3\n",
      "[17, 68, 99, 0, 0, 15, 0, 3]\n",
      "Firmware: 3.0.15, patch: 0x0, func: 0x1\n",
      "[3, 0, 15, 0, 0, 1]\n"
     ]
    }
   ],
   "source": [
    "from si446x.si446xdef import *\n",
    "\n",
    "#create get part info radio command message\n",
    "request = read_cmd_s.parse('\\x00' * read_cmd_s.sizeof())\n",
    "request.cmd='PART_INFO'\n",
    "cmd = read_cmd_s.build(request)\n",
    "#call the methods and print the results\n",
    "rsp = radio.spi_send_recv(cmd, read_part_info_rsp_s.sizeof(),\n",
    "                          read_cmd_s.name, read_part_info_rsp_s.name)    \n",
    "if (rsp):\n",
    "    response = read_part_info_rsp_s.parse(bytearray(rsp))\n",
    "    print(\"Part Number: %x, rev: 0x%x, id: 0x%x, romid: 0x%x\"%\n",
    "          (response.part, response.chiprev, response.id, response.romid))\n",
    "    print(rsp[1:])\n",
    "\n",
    "request.cmd='FUNC_INFO'\n",
    "cmd = read_cmd_s.build(request)\n",
    "rsp = radio.spi_send_recv(cmd, read_func_info_rsp_s.sizeof(),\n",
    "                          read_cmd_s.name, read_func_info_rsp_s.name)    \n",
    "if (rsp):\n",
    "    response = read_func_info_rsp_s.parse(bytearray(rsp))\n",
    "    print(\"Firmware: %d.%d.%d, patch: 0x%x, func: 0x%x\"%\n",
    "          (response.revext, response.revbranch, response.revint, response.patch, response.func))\n",
    "    print(rsp[1:])"
   ]
  },
  {
   "cell_type": "markdown",
   "metadata": {},
   "source": [
    "# Start Dbus and si446x Together"
   ]
  },
  {
   "cell_type": "code",
   "execution_count": 19,
   "metadata": {},
   "outputs": [
    {
     "name": "stdout",
     "output_type": "stream",
     "text": [
      "^C\r\n"
     ]
    }
   ],
   "source": [
    "!eval `dbus-launch --sh-syntax python -m si446x`; echo \"D-Bus per-session daemon address is: $DBUS_SESSION_BUS_ADDRESS\""
   ]
  },
  {
   "cell_type": "markdown",
   "metadata": {},
   "source": [
    "# Send packets as fast as possible"
   ]
  },
  {
   "cell_type": "code",
   "execution_count": 104,
   "metadata": {},
   "outputs": [
    {
     "name": "stdout",
     "output_type": "stream",
     "text": [
      ".\n",
      ".\n",
      ".\n",
      ".\n",
      ".\n",
      ".\n",
      ".\n",
      ".\n",
      ".\n",
      ".\n",
      ".\n",
      ".\n",
      ".\n",
      ".\n",
      ".\n",
      ".\n",
      ".\n",
      ".\n",
      ".\n",
      ".\n",
      ".\n",
      ".\n",
      ".\n",
      ".\n",
      ".\n",
      ".\n",
      ".\n",
      ".\n",
      ".\n",
      ".\n",
      ".\n",
      ".\n",
      ".\n",
      ".\n",
      ".\n",
      ".\n",
      ".\n",
      ".\n",
      ".\n",
      ".\n",
      ".\n",
      ".\n",
      ".\n",
      ".\n",
      ".\n",
      ".\n",
      ".\n",
      ".\n",
      ".\n"
     ]
    }
   ],
   "source": [
    "from time import sleep\n",
    "\n",
    "buf = bytearray('\\x00' * 250)\n",
    "buf[0] = 250\n",
    "pwr = 33\n",
    "for i in range(1,50):\n",
    "    buf[1] = i\n",
    "    rsp = radio.send(buf, pwr)\n",
    "    sleep(.5)\n",
    "    print('.',)\n",
    "\n"
   ]
  },
  {
   "cell_type": "code",
   "execution_count": null,
   "metadata": {
    "collapsed": true
   },
   "outputs": [],
   "source": []
  }
 ],
 "metadata": {
  "kernelspec": {
   "display_name": "Python 2",
   "language": "python",
   "name": "python2"
  },
  "language_info": {
   "codemirror_mode": {
    "name": "ipython",
    "version": 2
   },
   "file_extension": ".py",
   "mimetype": "text/x-python",
   "name": "python",
   "nbconvert_exporter": "python",
   "pygments_lexer": "ipython2",
   "version": "2.7.9"
  }
 },
 "nbformat": 4,
 "nbformat_minor": 2
}
