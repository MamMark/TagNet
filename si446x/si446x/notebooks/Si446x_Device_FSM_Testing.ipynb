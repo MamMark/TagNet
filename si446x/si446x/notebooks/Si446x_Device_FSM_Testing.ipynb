{
 "cells": [
  {
   "cell_type": "code",
   "execution_count": null,
   "metadata": {
    "collapsed": true
   },
   "outputs": [],
   "source": [
    "%run si446x_Device_Layer.ipynb"
   ]
  },
  {
   "cell_type": "code",
   "execution_count": null,
   "metadata": {
    "collapsed": true
   },
   "outputs": [],
   "source": [
    "import datetime\n",
    "print('Test Start Time: {}'.format(datetime.datetime.now()))\n",
    "print('Si446x Radio Device Driver Version: {}'.format(si446x_device_version()))"
   ]
  },
  {
   "cell_type": "code",
   "execution_count": null,
   "metadata": {
    "collapsed": true
   },
   "outputs": [],
   "source": [
    "def my_async_interrupt(channel):\n",
    "    print('async_int channel({})'.format(channel))"
   ]
  },
  {
   "cell_type": "code",
   "execution_count": null,
   "metadata": {
    "collapsed": true
   },
   "outputs": [],
   "source": [
    "def si446x_fsm_start():\n",
    "    \"\"\"\n",
    "    Instantiate the Si446x Driver FSM component\n",
    "\n",
    "    includes the following objects:\n",
    "    radio, state machine actions, finite state machine\n",
    "\n",
    "    Returns fsm object reference\n",
    "    \"\"\"\n",
    "    actions = Si446xFsmActionHandlers(radio, dbus)\n",
    "    machine = constructFiniteStateMachine(\n",
    "        inputs=Events,\n",
    "        outputs=Actions,\n",
    "        states=States,\n",
    "        table=table,\n",
    "        initial=States.S_SDN,\n",
    "        richInputs=[],\n",
    "        inputContext={},\n",
    "        world=MethodSuffixOutputer(actions),\n",
    "    )\n",
    "    fsm={'actions': actions, 'machine': machine, 'trace': trace}\n",
    "    return [fsm]"
   ]
  },
  {
   "cell_type": "code",
   "execution_count": null,
   "metadata": {
    "collapsed": true
   },
   "outputs": [],
   "source": [
    "TESTING = True"
   ]
  },
  {
   "cell_type": "code",
   "execution_count": null,
   "metadata": {
    "collapsed": true
   },
   "outputs": [],
   "source": [
    "if (TESTING):\n",
    "    trace =  si446xtrace.Trace(1000)\n",
    "    radio = Si446xRadio(device=0, callback=my_async_interrupt, trace=trace)\n",
    "    fsm = si446x_fsm_start(trace)"
   ]
  }
 ],
 "metadata": {
  "kernelspec": {
   "display_name": "Python 2",
   "language": "python",
   "name": "python2"
  },
  "language_info": {
   "codemirror_mode": {
    "name": "ipython",
    "version": 2
   },
   "file_extension": ".py",
   "mimetype": "text/x-python",
   "name": "python",
   "nbconvert_exporter": "python",
   "pygments_lexer": "ipython2",
   "version": "2.7.9"
  }
 },
 "nbformat": 4,
 "nbformat_minor": 2
}
