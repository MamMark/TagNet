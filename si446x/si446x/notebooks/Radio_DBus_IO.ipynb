{
 "cells": [
  {
   "cell_type": "markdown",
   "metadata": {},
   "source": [
    "# Si446x Radio DBus Driver Access Routines"
   ]
  },
  {
   "cell_type": "markdown",
   "metadata": {},
   "source": [
    "## Establish DBus connection to the Radio"
   ]
  },
  {
   "cell_type": "code",
   "execution_count": 1,
   "metadata": {
    "collapsed": true
   },
   "outputs": [],
   "source": [
    "from pydbus import SessionBus\n",
    "from si446x.si446xdef import BUS_NAME, OBJECT_PATH\n",
    "\n",
    "def si446x_dbus_open():\n",
    "    #get the session bus\n",
    "    bus = SessionBus()\n",
    "    #get the object\n",
    "    return bus.get(BUS_NAME, OBJECT_PATH)"
   ]
  },
  {
   "cell_type": "markdown",
   "metadata": {},
   "source": [
    "## Get Radio Part Info"
   ]
  },
  {
   "cell_type": "markdown",
   "metadata": {},
   "source": [
    "### Silicon Labs Radio Part Info"
   ]
  },
  {
   "cell_type": "markdown",
   "metadata": {},
   "source": [
    "The known device version information as published on Silicon Labs Message Board:\n",
    "\n",
    "ROMID=3,REV=B1B\n",
    "4060\n",
    "4063\n",
    "4355\n",
    "4362\n",
    "4438\n",
    "4455\n",
    "4460\n",
    "4461\n",
    "4463\n",
    "4464\n",
    "\n",
    "ROMID=6,REV=C2A\n",
    "4055\n",
    "4060\n",
    "4063\n",
    "4355\n",
    "4362\n",
    "4438\n",
    "4455\n",
    "4460\n",
    "4461\n",
    "4463\n",
    "4464\n",
    "\n",
    "ROMID=6,REV=A2A\n",
    "4467\n",
    "4468\n",
    "\n",
    "(see: http://community.silabs.com/t5/Proprietary-Knowledge-Base/Using-PART-INFO-command-to-identify-EZRadio-PRO-part-number/ta-p/194617)"
   ]
  },
  {
   "cell_type": "code",
   "execution_count": 33,
   "metadata": {
    "collapsed": true
   },
   "outputs": [],
   "source": [
    "from si446x.si446xdef import *\n",
    "\n",
    "def si446x_dbus_part_info(radio):\n",
    "    pi = []\n",
    "    #create get part info radio command message\n",
    "    request = read_cmd_s.parse('\\x00' * read_cmd_s.sizeof())\n",
    "    request.cmd='PART_INFO'\n",
    "    cmd = read_cmd_s.build(request)\n",
    "    #call the methods and print the results\n",
    "    rsp = radio.spi_send_recv(cmd, read_part_info_rsp_s.sizeof(),\n",
    "                          read_cmd_s.name, read_part_info_rsp_s.name)    \n",
    "    if (rsp):\n",
    "        response = read_part_info_rsp_s.parse(bytearray(rsp))\n",
    "        frsp = (\"Part Number: %x, rev: 0x%x, id: 0x%x, romid: 0x%x\"%\n",
    "              (response.part, response.chiprev, response.id, response.romid))\n",
    "        pi.append((frsp, response, rsp[1:]))\n",
    "\n",
    "    request.cmd='FUNC_INFO'\n",
    "    cmd = read_cmd_s.build(request)\n",
    "    rsp = radio.spi_send_recv(cmd, read_func_info_rsp_s.sizeof(),\n",
    "                              read_cmd_s.name, read_func_info_rsp_s.name)    \n",
    "    if (rsp):\n",
    "        response = read_func_info_rsp_s.parse(bytearray(rsp))\n",
    "        frsp = (\"Firmware: %d.%d.%d, patch: 0x%x, func: 0x%x\"%\n",
    "              (response.revext, response.revbranch, response.revint, response.patch, response.func))\n",
    "        pi.append((frsp, response, rsp[1:]))\n",
    "    return pi\n"
   ]
  },
  {
   "cell_type": "markdown",
   "metadata": {},
   "source": [
    "## Get GPIO Pin Configuration"
   ]
  },
  {
   "cell_type": "code",
   "execution_count": 3,
   "metadata": {
    "collapsed": true
   },
   "outputs": [],
   "source": [
    "def si446x_dbus_get_gpio_config(radio):\n",
    "    request = read_cmd_s.parse('\\x00' * read_cmd_s.sizeof())\n",
    "    request.cmd='GPIO_PIN_CFG'\n",
    "    cmd = read_cmd_s.build(request)\n",
    "    rsp = bytearray(radio.spi_send_recv(cmd, get_gpio_pin_cfg_rsp_s.sizeof(),\n",
    "                             read_cmd_s.name, get_gpio_pin_cfg_rsp_s.name))\n",
    "    print('{}: {}'.format(get_gpio_pin_cfg_rsp_s.name, hexlify(rsp)))\n",
    "    return rsp"
   ]
  },
  {
   "cell_type": "raw",
   "metadata": {},
   "source": [
    "## Get Interrupt Status"
   ]
  },
  {
   "cell_type": "code",
   "execution_count": 4,
   "metadata": {
    "collapsed": true
   },
   "outputs": [],
   "source": [
    "def si446x_dbus_get_int_status(radio):\n",
    "    request = read_cmd_s.parse('\\x00' * read_cmd_s.sizeof())\n",
    "    request.cmd='GPIO_PIN_CFG'\n",
    "    cmd = read_cmd_s.build(request)\n",
    "    rsp = bytearray(radio.spi_send_recv(cmd, get_gpio_pin_cfg_rsp_s.sizeof(),\n",
    "                             read_cmd_s.name, get_gpio_pin_cfg_rsp_s.name))\n",
    "    print('{}: {}'.format(get_gpio_pin_cfg_rsp_s.name, hexlify(rsp)))\n",
    "    return rsp"
   ]
  },
  {
   "cell_type": "markdown",
   "metadata": {},
   "source": [
    "## Get Radio Properties\n",
    "\n",
    "Retrieve one, some, or all properties of a specific group.\n",
    "\n",
    "If the number of properties requested (length) is greater than the Radio response message buffer size (16 bytes minus CTS), then multiple Radio get_request messages are issued and  the response is accumulated, repeating radio requests until total length has been retrieved. Note that first byte in response message is the CTS value (0xFF) and is therefore stripped."
   ]
  },
  {
   "cell_type": "code",
   "execution_count": 5,
   "metadata": {
    "collapsed": true
   },
   "outputs": [],
   "source": [
    "from si446x.si446xdef import *\n",
    "from binascii import hexlify\n",
    "\n",
    "def si446x_dbus_get_property(radio, group, prop_x, len):\n",
    "    limit = prop_x + len\n",
    "    MAX_RSP = 15\n",
    "    prop_b = bytearray()\n",
    "    request = get_property_cmd_s.parse('\\x00' * get_property_cmd_s.sizeof())\n",
    "    request.cmd='GET_PROPERTY'\n",
    "    request.group=group\n",
    "    while (prop_x < limit):\n",
    "        chunk_size = limit - prop_x\n",
    "        x = MAX_RSP if (chunk_size >= MAX_RSP) else chunk_size\n",
    "        request.num_props=x\n",
    "        request.start_prop=prop_x\n",
    "        cmd = get_property_cmd_s.build(request)\n",
    "        rsp = radio.spi_send_recv(cmd, x + 1,\n",
    "                             get_property_cmd_s.name, get_property_rsp_s.name)\n",
    "        if (rsp):\n",
    "            prop_b += bytearray(rsp[1:x+1])\n",
    "            prop_x += x\n",
    "        else:\n",
    "            return None\n",
    "    return prop_b"
   ]
  },
  {
   "cell_type": "markdown",
   "metadata": {},
   "source": [
    "## Get Radio Driver Status"
   ]
  },
  {
   "cell_type": "code",
   "execution_count": 6,
   "metadata": {
    "collapsed": true
   },
   "outputs": [],
   "source": [
    "def si446x_dbus_status(radio):\n",
    "    #call the methods and print the results\n",
    "    return radio.status()"
   ]
  },
  {
   "cell_type": "markdown",
   "metadata": {},
   "source": [
    "# Send Packets"
   ]
  },
  {
   "cell_type": "code",
   "execution_count": 7,
   "metadata": {
    "collapsed": true
   },
   "outputs": [],
   "source": [
    "from time import sleep\n",
    "\n",
    "# buf = bytearray('\\x00' * 250)\n",
    "# buf[0] = 250\n",
    "# pwr = 33\n",
    "\n",
    "def si446x_dbus_send(radio, buf, pwr=32, count=1, wait=None):\n",
    "    for i in range(1,count):\n",
    "        buf[0] = len(buf)\n",
    "        buf[1] = i\n",
    "        rsp = radio.send(buf, pwr)\n",
    "        if (wait): sleep(wait)\n",
    "        print('.',)"
   ]
  },
  {
   "cell_type": "markdown",
   "metadata": {},
   "source": [
    "# Unit Test"
   ]
  },
  {
   "cell_type": "code",
   "execution_count": 35,
   "metadata": {
    "collapsed": true
   },
   "outputs": [],
   "source": [
    "UNIT_TEST = False"
   ]
  },
  {
   "cell_type": "code",
   "execution_count": 34,
   "metadata": {},
   "outputs": [
    {
     "name": "stdout",
     "output_type": "stream",
     "text": [
      "Part Number: 4463, rev: 0x11, id: 0xf, romid: 0x3\n",
      "Firmware: 3.0.15, patch: 0x0, func: 0x1\n",
      "ON, <States=S_RX_ON>, unshuts 0\n",
      " RX: packets 0, len_errors 0, timeouts 0, sync_errors 0, crc_errors 0, rssi 0, \n",
      " TX: packets 0, errors 0, timeouts 0, power 5, \n",
      " sync frr: 08000e54\n",
      " node P211, version 0.1.53 [2017.04.30 16:31:08.645570]\n",
      "get_gpio_pin_cfg_rsp_s: ff9c08a120270b00\n"
     ]
    }
   ],
   "source": [
    "if (UNIT_TEST):\n",
    "    radio = si446x_dbus_open()\n",
    "    for tup in si446x_dbus_part_info(radio):\n",
    "        print(tup[0])\n",
    "#        print(\"Part Number: %x, rev: 0x%x, id: 0x%x, romid: 0x%x\"%\n",
    "#              (tup[0].part, tup[0].chiprev, tup[0].id, tup[0].romid))\n",
    "#        print(\"Firmware: %d.%d.%d, patch: 0x%x, func: 0x%x\"%\n",
    "#              (s[1].revext, s[1].revbranch, s[1].revint, s[1].patch, s[1].func))\n",
    "    print(si446x_dbus_status(radio))\n",
    "    si446x_dbus_get_gpio_config(radio)\n",
    "    buf = bytearray('\\x00' * 10)\n",
    "    si446x_dbus_send(radio, buf)"
   ]
  },
  {
   "cell_type": "code",
   "execution_count": null,
   "metadata": {
    "collapsed": true
   },
   "outputs": [],
   "source": []
  }
 ],
 "metadata": {
  "kernelspec": {
   "display_name": "Python 2",
   "language": "python",
   "name": "python2"
  },
  "language_info": {
   "codemirror_mode": {
    "name": "ipython",
    "version": 2
   },
   "file_extension": ".py",
   "mimetype": "text/x-python",
   "name": "python",
   "nbconvert_exporter": "python",
   "pygments_lexer": "ipython2",
   "version": "2.7.9"
  }
 },
 "nbformat": 4,
 "nbformat_minor": 2
}
