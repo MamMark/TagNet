{
 "cells": [
  {
   "cell_type": "code",
   "execution_count": null,
   "metadata": {
    "collapsed": true
   },
   "outputs": [],
   "source": [
    "radio_group_names = ['GLOBAL', 'INT_CTL', 'FRR_CTL' ,'PREAMBLE' ,'SYNC', 'PKT',\n",
    "                  'MODEM', 'MODEM_CHFLT', 'PA', 'SYNTH', 'MATCH', 'FREQ_CONTROL', 'RX_HOP']\n",
    "\n",
    "for grp in radio_group_names:\n",
    "    si446x_get_property_group(radio, gn)"
   ]
  },
  {
   "cell_type": "code",
   "execution_count": null,
   "metadata": {
    "collapsed": true
   },
   "outputs": [],
   "source": []
  }
 ],
 "metadata": {
  "kernelspec": {
   "display_name": "Python 2",
   "language": "python",
   "name": "python2"
  },
  "language_info": {
   "codemirror_mode": {
    "name": "ipython",
    "version": 2
   },
   "file_extension": ".py",
   "mimetype": "text/x-python",
   "name": "python",
   "nbconvert_exporter": "python",
   "pygments_lexer": "ipython2",
   "version": "2.7.9"
  }
 },
 "nbformat": 4,
 "nbformat_minor": 2
}
