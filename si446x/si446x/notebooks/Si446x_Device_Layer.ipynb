{
 "cells": [
  {
   "cell_type": "markdown",
   "metadata": {},
   "source": [
    "# Si446x Device Direct Access Layer Access\n",
    "\n",
    "This notebook explores the Si446xRadio class, which handles the direct access to operating system provided SPI bus and GPIO interface pins that connect to the Si446x device. This provides the command and control interface provided by the device."
   ]
  },
  {
   "cell_type": "code",
   "execution_count": null,
   "metadata": {
    "collapsed": true
   },
   "outputs": [],
   "source": [
    "%autosave 0\n",
    "from __future__ import print_function\n",
    "#test\n",
    "import RPi.GPIO as GPIO\n",
    "import sys\n",
    "sys.path.append(\"../\") # go to parent dir\n",
    "from si446xradio import *\n",
    "from si446xdef import *\n",
    "\n",
    "import types\n",
    "from binascii import hexlify"
   ]
  },
  {
   "cell_type": "code",
   "execution_count": null,
   "metadata": {
    "collapsed": true
   },
   "outputs": [],
   "source": [
    "%autosave 0"
   ]
  },
  {
   "cell_type": "markdown",
   "metadata": {},
   "source": [
    "## Si446xRadio Class API"
   ]
  },
  {
   "cell_type": "code",
   "execution_count": null,
   "metadata": {
    "collapsed": true,
    "scrolled": true
   },
   "outputs": [],
   "source": [
    "help(Si446xRadio)"
   ]
  },
  {
   "cell_type": "markdown",
   "metadata": {},
   "source": [
    "## Get Device Driver Version"
   ]
  },
  {
   "cell_type": "code",
   "execution_count": null,
   "metadata": {
    "collapsed": true
   },
   "outputs": [],
   "source": [
    "from si446xvers import __version__\n",
    "\n",
    "def si446x_device_version():\n",
    "    return __version__"
   ]
  },
  {
   "cell_type": "markdown",
   "metadata": {},
   "source": [
    "##  Start up Radio"
   ]
  },
  {
   "cell_type": "code",
   "execution_count": null,
   "metadata": {
    "collapsed": true
   },
   "outputs": [],
   "source": [
    "def si446x_device_start_radio():\n",
    "    radio=Si446xRadio(0)\n",
    "    radio.unshutdown()\n",
    "    radio.power_up()\n",
    "    return radio"
   ]
  },
  {
   "cell_type": "markdown",
   "metadata": {},
   "source": [
    "## Configure Radio"
   ]
  },
  {
   "cell_type": "code",
   "execution_count": null,
   "metadata": {
    "collapsed": true
   },
   "outputs": [],
   "source": [
    "def si446x_device_config_radio(radio):\n",
    "    radio.config_frr()\n",
    "    config_strings = []\n",
    "    list_of_lists = radio.get_config_lists()\n",
    "    for l in list_of_lists:\n",
    "        x = 0\n",
    "        while (True):\n",
    "            s = l(x)\n",
    "            x += len(s) + 1\n",
    "            if (not s): break\n",
    "            if s[0] == radio_config_cmd_ids.build('POWER_UP'): continue\n",
    "            if s[0] == radio_config_cmd_ids.build('SET_PROPERTY'):\n",
    "                if s[1] == radio_config_group_ids.build('FRR_CTL'):\n",
    "                    continue\n",
    "            config_strings.append(s)\n",
    "            radio.send_config(s)\n",
    "            status = radio.get_chip_status()\n",
    "            if (status.chip_pend.CMD_ERROR):\n",
    "                print(status)\n",
    "                print(insert_space(s))\n",
    "                radio.clear_interrupts()\n",
    "    # these settings should be included in the compiled config strings\n",
    "    radio.set_property('PKT', 0x0b, '\\x10\\x10') # tx/rx threshold\n",
    "    return config_strings"
   ]
  },
  {
   "cell_type": "markdown",
   "metadata": {},
   "source": [
    "## Get Radio Property Group"
   ]
  },
  {
   "cell_type": "code",
   "execution_count": null,
   "metadata": {
    "collapsed": true
   },
   "outputs": [],
   "source": [
    "def si446x_device_get_group(radio, g_n):\n",
    "    g_s = radio_config_groups[radio_config_group_ids.build(g_n)]\n",
    "    return g_s.parse(si446x_device_get_property(radio, g_n, 0, g_s.sizeof()))"
   ]
  },
  {
   "cell_type": "markdown",
   "metadata": {},
   "source": [
    "## Get Radio Property"
   ]
  },
  {
   "cell_type": "code",
   "execution_count": null,
   "metadata": {
    "collapsed": true
   },
   "outputs": [],
   "source": [
    "def si446x_device_get_property(radio, g_n, start, limit):\n",
    "    prop_x = 0\n",
    "    prop_b = bytearray()\n",
    "    while (prop_x < limit):\n",
    "        chunk_size = limit - prop_x\n",
    "        x = MAX_RADIO_RSP if (chunk_size >= MAX_RADIO_RSP) else chunk_size\n",
    "        rsp = radio.get_property(g_n, prop_x, x)\n",
    "        if (rsp):\n",
    "            prop_b += bytearray(rsp[:x])\n",
    "            prop_x += x\n",
    "        else:\n",
    "            return None\n",
    "    return prop_b"
   ]
  },
  {
   "cell_type": "markdown",
   "metadata": {},
   "source": [
    "## Format Radio Property Group"
   ]
  },
  {
   "cell_type": "code",
   "execution_count": null,
   "metadata": {
    "collapsed": true
   },
   "outputs": [],
   "source": [
    "def si446x_device_format_group(gn, data):\n",
    "    s = ' {} '.format(gn)\n",
    "    try:\n",
    "        my_struct = radio_config_groups[radio_config_group_ids.build(gn)]\n",
    "        p = radio_display_structs[my_struct]\n",
    "        s += p(my_struct, data)\n",
    "    except:\n",
    "        if ((s_name == 'string') or isinstance(data, types.StringType)):\n",
    "            s += data\n",
    "        else:\n",
    "            s += insert_space(hexlify(data))\n",
    "    return  s"
   ]
  },
  {
   "cell_type": "markdown",
   "metadata": {},
   "source": [
    "##  Show Radio Configuration"
   ]
  },
  {
   "cell_type": "code",
   "execution_count": null,
   "metadata": {
    "collapsed": true
   },
   "outputs": [],
   "source": [
    "def si446x_device_show_config(config):\n",
    "    total = 0\n",
    "    for k, v in config.iteritems():\n",
    "        total += len(v)\n",
    "        s = radio_config_groups[k]\n",
    "        p = radio_display_structs[s]\n",
    "        print('\\n{}: {}\\n{}'.format(s.name, s.sizeof(), insert_space(v)))\n",
    "        print(p(s,v))\n",
    "    print('\\n=== total: {}'.format(total))"
   ]
  },
  {
   "cell_type": "markdown",
   "metadata": {},
   "source": [
    "## Get Compiled Radio Configuration"
   ]
  },
  {
   "cell_type": "code",
   "execution_count": null,
   "metadata": {
    "collapsed": true
   },
   "outputs": [],
   "source": [
    "from si446x.si446xcfg import get_config_wds, get_config_local\n",
    "\n",
    "def si446x_device_get_raw_config():\n",
    "    rl = []\n",
    "    for l in [get_config_wds, get_config_local]:\n",
    "        x = 0\n",
    "        while (True):\n",
    "            s = l(x)\n",
    "            if (not s): break\n",
    "            rl.append(s)\n",
    "            x += len(s) + 1\n",
    "    return rl"
   ]
  },
  {
   "cell_type": "code",
   "execution_count": null,
   "metadata": {
    "collapsed": true
   },
   "outputs": [],
   "source": [
    "def int_status(clr_flags=None, show=False):\n",
    "    s_name =  'int_status_rsp_s'\n",
    "    p_s = eval(s_name)\n",
    "    clr_flags = clr_flags if (clr_flags) else clr_pend_int_s.parse('\\xff' * clr_pend_int_s.sizeof())\n",
    "    clr_flags.ph_pend.STATE_CHANGE = False\n",
    "    p_g = radio.get_clear_interrupts(clr_flags)\n",
    "    p_d = p_s.build(p_g)\n",
    "    if (show):\n",
    "#        print('{}: {}'.format(s_name, hexlify(p_d)))\n",
    "        print(radio_display_structs[p_s](p_s, p_d))\n",
    "    return p_g"
   ]
  },
  {
   "cell_type": "code",
   "execution_count": null,
   "metadata": {
    "collapsed": true
   },
   "outputs": [],
   "source": [
    "def show_int_rsp(pend_flags):\n",
    "    s_name =  'int_status_rsp_s'\n",
    "    p_s = eval(s_name)\n",
    "    clr_flags = clr_pend_int_s.parse('\\xff' * clr_pend_int_s.sizeof())\n",
    "    clr_flags.ph_pend.STATE_CHANGE = False\n",
    "    p_g = radio.get_clear_interrupts(clr_flags)\n",
    "    p_d = p_s.build(p_g)\n",
    "#    print('{}: {}'.format(s_name, hexlify(p_d)))\n",
    "    print(radio_display_structs[p_s](p_s, p_d))"
   ]
  },
  {
   "cell_type": "markdown",
   "metadata": {},
   "source": [
    "## Send a complete message"
   ]
  },
  {
   "cell_type": "code",
   "execution_count": null,
   "metadata": {
    "collapsed": true
   },
   "outputs": [],
   "source": [
    "from si446xdef  import clr_pend_int_s\n",
    "\n",
    "clr_all_flags = clr_pend_int_s.parse('\\00' * clr_pend_int_s.sizeof())\n",
    "clr_no_flags  = clr_pend_int_s.parse('\\ff' * clr_pend_int_s.sizeof())\n",
    "\n",
    "MAX_CHUNK = 64"
   ]
  },
  {
   "cell_type": "code",
   "execution_count": null,
   "metadata": {
    "collapsed": true
   },
   "outputs": [],
   "source": [
    "def stuff_fifo(radio, buf, rx_flush=False, tx_flush=False):\n",
    "    rx, tx = radio.fifo_info(rx_flush, tx_flush)\n",
    "    chunk = len(buf) if (len(buf) < MAX_CHUNK) else MAX_CHUNK\n",
    "    progress.append('f')\n",
    "    progress.append(str(tx)+',')\n",
    "    progress.append(str(chunk))\n",
    "    radio.write_tx_fifo(buf[:chunk])\n",
    "    return chunk\n",
    "    \n",
    "def si446x_device_send_msg(radio, msg, pwr):\n",
    "    progress = []\n",
    "    show = False\n",
    "    cur = 0\n",
    "\n",
    "    length = len(msg)\n",
    "    msg[0] = length - 1\n",
    "    \n",
    "    int_status(clr_all_flags)\n",
    "\n",
    "    radio.set_power(pwr)\n",
    "    rx, tx = radio.fifo_info(rx_flush=True, tx_flush=True)\n",
    "    if (tx != MAX_CHUNK): print('tx fifo bad: {}'.format(tx))\n",
    "    chunk = length if (length < MAX_CHUNK) else MAX_CHUNK\n",
    "    length -= chunk\n",
    "    progress.append('f')\n",
    "    progress.append(tx)\n",
    "    progress.append('.')\n",
    "    progress.append(chunk)\n",
    "    radio.write_tx_fifo(msg[:chunk])\n",
    "    rx, tx = radio.fifo_info()\n",
    "    progress.append('.')\n",
    "    progress.append(tx)\n",
    "\n",
    "    radio.start_tx(len(msg))\n",
    "\n",
    "    cflags = clr_no_flags\n",
    "    while (True):\n",
    "        progress.append('w')\n",
    "        status = int_status(cflags, show)\n",
    "        cflags = clr_no_flags\n",
    "        if (status.ph_pend.TX_FIFO_ALMOST_EMPTY):\n",
    "            progress.append('f')\n",
    "            if (length > 0):\n",
    "                rx, tx = radio.fifo_info()\n",
    "                cur += chunk\n",
    "                chunk = length if (length < MAX_CHUNK) else MAX_CHUNK\n",
    "                chunk = chunk if (chunk < tx) else tx\n",
    "                length -= chunk\n",
    "                progress.append(tx)\n",
    "                progress.append('.')\n",
    "                progress.append(chunk)\n",
    "                radio.write_tx_fifo(msg[cur:cur+chunk])\n",
    "                rx, tx = radio.fifo_info()\n",
    "                progress.append('.')\n",
    "                progress.append(tx)\n",
    "            cflags.ph_pend.TX_FIFO_ALMOST_EMPTY = False\n",
    "        if (status.ph_pend.PACKET_SENT):\n",
    "            progress.append(':')\n",
    "            rx, tx = radio.fifo_info()\n",
    "            progress.append(str(tx))\n",
    "            cflags.ph_pend.PACKET_SENT = False\n",
    "            break\n",
    "        \n",
    "    if (length > 0):\n",
    "        progress.append('e')\n",
    "        progress.append(str(length)+',')\n",
    "        progress.append(tx)\n",
    "        if (status.ph_pend.TX_FIFO_ALMOST_EMPTY):\n",
    "            progress.append('NOT EMPTY')\n",
    "        progress.append('e')\n",
    "    else:\n",
    "        progress.append(':')\n",
    "        progress.append(len(msg))\n",
    "\n",
    "    status = int_status(clr_all_flags, show)\n",
    "    \n",
    "    return progress"
   ]
  },
  {
   "cell_type": "markdown",
   "metadata": {},
   "source": [
    "## Receive a complete message"
   ]
  },
  {
   "cell_type": "code",
   "execution_count": null,
   "metadata": {
    "collapsed": true
   },
   "outputs": [],
   "source": [
    "from datetime import datetime, timedelta\n",
    "\n",
    "def drain_rx_fifo(p):\n",
    "    rx, tx = radio.fifo_info()\n",
    "    if (rx > MAX_CHUNK):\n",
    "        rx = MAX_CHUNK\n",
    "        p.append('?')\n",
    "    p.append(rx)\n",
    "    if (rx): return bytearray(radio.read_rx_fifo(rx))\n",
    "    else:    return ''\n",
    "\n",
    "def si446x_device_receive_msg(radio, max_recv, wait):  \n",
    "    start = datetime.now()\n",
    "    delta= timedelta(seconds=wait)\n",
    "    end = start + delta\n",
    "    msg = bytearray()\n",
    "    progress = []\n",
    "    show = False\n",
    "    int_status(clr_all_flags)\n",
    "    radio.fifo_info(rx_flush=True, tx_flush=True)\n",
    "    radio.start_rx(0)\n",
    "    status = int_status(clr_no_flags)\n",
    "    while (datetime.now() < end):\n",
    "        cflags = clr_no_flags\n",
    "        if (status.modem_pend.INVALID_PREAMBLE):\n",
    "            cflags.modem_pend.INVALID_PREAMBLE = False\n",
    "            if (not progress):\n",
    "                progress.append('p')\n",
    "            elif progress[-1] == 'p':\n",
    "                progress.append(2)\n",
    "            elif (isinstance(progress[-1], (int, long))) and (progress[-2] == 'p'):\n",
    "                progress[-1] += 1\n",
    "            else:\n",
    "                progress.append('p')\n",
    "        if (status.modem_pend.INVALID_SYNC):\n",
    "            cflags.modem_pend.INVALID_SYNC = False\n",
    "            progress.append('s')\n",
    "        if (status.ph_pend.RX_FIFO_ALMOST_FULL):\n",
    "            cflags.ph_pend.RX_FIFO_ALMOST_FULL = False\n",
    "            progress.append('w')\n",
    "            msg += drain_rx_fifo(progress)\n",
    "            progress.append('.')\n",
    "            rx, tx = radio.fifo_info()\n",
    "            progress.append(rx)\n",
    "        if (status.ph_pend.PACKET_RX):\n",
    "            cflags.ph_pend.PACKET_RX = False\n",
    "            progress.append('f')\n",
    "            msg += drain_rx_fifo(progress)\n",
    "            progress.append('.')\n",
    "            rx, tx = radio.fifo_info()\n",
    "            progress.append(rx)\n",
    "            progress.append(':')\n",
    "            progress.append(len(msg))\n",
    "            break\n",
    "        status = int_status(cflags, show)\n",
    "    status = int_status()\n",
    "    pkt_len = radio.get_packet_info()\n",
    "    if (datetime.now() > end) or ((pkt_len + 1) != len(msg)):\n",
    "        progress.append('e')\n",
    "        progress.append(pkt_len + 1)\n",
    "        progress.append(',')\n",
    "        progress.append(len(msg))\n",
    "        progress.append('e')\n",
    "    return (msg, radio.fast_latched_rssi(), progress)"
   ]
  },
  {
   "cell_type": "markdown",
   "metadata": {},
   "source": [
    "## Interactive Inspection of Radio Info"
   ]
  },
  {
   "cell_type": "code",
   "execution_count": null,
   "metadata": {
    "collapsed": true
   },
   "outputs": [],
   "source": [
    "from ipywidgets import interact, interactive, fixed, interact_manual\n",
    "import ipywidgets as widgets\n",
    "from si446xdef import *\n",
    "\n",
    "\n",
    "def si446x_device_group_fetch_and_decode(group):\n",
    "    gname = radio_config_group_ids.decoding[group]\n",
    "    g_s = radio_config_groups[radio_config_group_ids.build(gname)]\n",
    "    gid = radio_config_group_ids.build(gname)\n",
    "    p = si446x_device_get_property(radio, gname, 0, g_s.sizeof())\n",
    "    print(g_s, insert_space(p))\n",
    "    #print(gname, len(p), hexlify(p))\n",
    "    print(radio_display_structs[g_s](g_s, p))\n",
    "    return None\n",
    "\n",
    "\n",
    "def si446x_device_command_fetch_and_decode(cmd):\n",
    "    cname = radio_status_cmd_ids.decoding[cmd]\n",
    "    cfunc, cstr = radio_status_commands[radio_config_cmd_ids.build(cname)]\n",
    "#    print(cname, cmd)\n",
    "    if (cfunc):\n",
    "        cmd = cfunc(cname)\n",
    "        if (cmd):\n",
    "#            print(cfunc, hexlify(cmd), cstr)\n",
    "            radio.spi.command(cmd, cstr)\n",
    "            rsp = radio.spi.response(cstr.sizeof(), cstr.name)\n",
    "            if (rsp):\n",
    "#                print(cstr, radio_display_structs[cstr])\n",
    "                print(cstr, insert_space(rsp))\n",
    "                print(radio_display_structs[cstr](cstr, rsp))\n",
    "            else:\n",
    "                print('no response')\n",
    "        else:\n",
    "            print('no command')\n",
    "    else:\n",
    "        print('no function')\n",
    "    return None"
   ]
  },
  {
   "cell_type": "markdown",
   "metadata": {},
   "source": [
    "# UNIT TEST"
   ]
  },
  {
   "cell_type": "code",
   "execution_count": null,
   "metadata": {
    "collapsed": true
   },
   "outputs": [],
   "source": [
    "UNIT_TESTING = False"
   ]
  },
  {
   "cell_type": "code",
   "execution_count": null,
   "metadata": {
    "collapsed": true
   },
   "outputs": [],
   "source": [
    "def insert_space(st):\n",
    "    p_ds = ''\n",
    "    ix = 4\n",
    "    i = 0\n",
    "    p_s = hexlify(st)\n",
    "    while (i < (len(st) * 2)):\n",
    "        p_ds += p_s[i:i+ix] + ' '\n",
    "        i += ix\n",
    "    return p_ds"
   ]
  },
  {
   "cell_type": "code",
   "execution_count": null,
   "metadata": {
    "collapsed": true,
    "scrolled": true
   },
   "outputs": [],
   "source": [
    "if (UNIT_TESTING):\n",
    "    print('si446x driver version: {}\\n'.format(si446x_device_version()))\n",
    "    radio = si446x_device_start_radio()\n",
    "    config = si446x_device_config_radio(radio)\n",
    "    print('compiled config strings (wdds + local):\\n')\n",
    "    for s in config:\n",
    "        print('{}'.format(insert_space(s)))"
   ]
  },
  {
   "cell_type": "code",
   "execution_count": null,
   "metadata": {
    "collapsed": true
   },
   "outputs": [],
   "source": [
    "if (UNIT_TESTING):\n",
    "    info = radio.read_silicon_info()\n",
    "    for s in info:\n",
    "        print(insert_space(s[0]), s[1])\n",
    "    print(radio.get_gpio())"
   ]
  },
  {
   "cell_type": "code",
   "execution_count": null,
   "metadata": {
    "collapsed": true
   },
   "outputs": [],
   "source": [
    "if (UNIT_TESTING):\n",
    "    response = []\n",
    "    request = read_cmd_s.parse('\\x00' * read_cmd_s.sizeof())\n",
    "    request.cmd='PART_INFO'\n",
    "    cmd = read_cmd_s.build(request)\n",
    "    radio.spi.command(cmd, read_cmd_s.name)\n",
    "    rsp = radio.spi.response(read_part_info_rsp_s.sizeof(),\n",
    "                            read_part_info_rsp_s.name)\n",
    "    if (rsp):\n",
    "        response.append((rsp, read_part_info_rsp_s.parse(rsp)))\n",
    "    request.cmd='FUNC_INFO'\n",
    "    cmd = read_cmd_s.build(request)\n",
    "    radio.spi.command(cmd, read_cmd_s.name)\n",
    "    rsp = radio.spi.response(read_func_info_rsp_s.sizeof(),\n",
    "                            read_func_info_rsp_s.name)\n",
    "    if (rsp):\n",
    "        response.append((rsp,read_func_info_rsp_s.parse(rsp)))\n",
    "    print(response)"
   ]
  },
  {
   "cell_type": "code",
   "execution_count": null,
   "metadata": {
    "collapsed": true,
    "scrolled": true
   },
   "outputs": [],
   "source": [
    "if (UNIT_TESTING):\n",
    "    si446x_device_show_config(radio.dump_radio())"
   ]
  },
  {
   "cell_type": "code",
   "execution_count": null,
   "metadata": {
    "collapsed": true,
    "scrolled": false
   },
   "outputs": [],
   "source": [
    "if (UNIT_TESTING):\n",
    "    for p_n in ['FRR_CTL', 'PA']:\n",
    "        p_id = radio_config_group_ids.build(p_n)\n",
    "        p_g = radio_config_groups[p_id]\n",
    "        p_da = si446x_device_get_group(radio, p_n)\n",
    "        p_di = p_g.build(p_da)\n",
    "        print('{} {}[{}]: ({}) {}'.format(p_n, p_g, hexlify(p_id), p_g.sizeof(), insert_space(p_di)))\n",
    "        print(radio_display_structs[p_g](p_g, p_di))\n",
    "        print(p_da)\n",
    "        print()"
   ]
  },
  {
   "cell_type": "code",
   "execution_count": null,
   "metadata": {
    "collapsed": true
   },
   "outputs": [],
   "source": [
    "if (UNIT_TESTING):\n",
    "    s_name = 'pa_group_s'\n",
    "    my_struct = eval(s_name)\n",
    "    st = my_struct.parse('\\x00' * my_struct.sizeof())\n",
    "    data = my_struct.build(st)\n",
    "    print('{}: {}'.format(s_name, radio_display_structs[my_struct](my_struct, data)))"
   ]
  },
  {
   "cell_type": "code",
   "execution_count": null,
   "metadata": {
    "collapsed": true,
    "scrolled": true
   },
   "outputs": [],
   "source": [
    "if (UNIT_TESTING):\n",
    "    pa_g = si446x_device_get_group(radio, 'PA')\n",
    "    pa_s = radio_config_groups[radio_config_group_ids.build('PA')]\n",
    "    ps = pa_s.build(pa_g)\n",
    "    print('{}: {}'.format(pa_s, insert_space(ps)))\n",
    "    print(pa_g)\n",
    "    print(radio_display_structs[pa_s](pa_s, ps))"
   ]
  },
  {
   "cell_type": "code",
   "execution_count": null,
   "metadata": {
    "collapsed": true
   },
   "outputs": [],
   "source": [
    "if (UNIT_TESTING):\n",
    "    print('\\n programmed config strings:')\n",
    "    for s in config:\n",
    "        print(insert_space(s))\n",
    "    print('\\n const config strings:')\n",
    "    for t in si446x_device_get_raw_config():\n",
    "        print(insert_space(t))\n",
    "    assert(s==t)"
   ]
  },
  {
   "cell_type": "code",
   "execution_count": null,
   "metadata": {
    "collapsed": true,
    "scrolled": true
   },
   "outputs": [],
   "source": [
    "if (UNIT_TESTING):\n",
    "    g_name='FRR_CTL'\n",
    "    g = si446x_device_get_group(radio, g_name)\n",
    "    print('{}: {}'.format(radio_config_groups[radio_config_group_ids.build(g_name)],\n",
    "                          insert_space(radio_config_groups[radio_config_group_ids.build(g_name)].build(g))))\n",
    "    print(g)"
   ]
  },
  {
   "cell_type": "code",
   "execution_count": null,
   "metadata": {
    "collapsed": true,
    "scrolled": true
   },
   "outputs": [],
   "source": [
    "if (UNIT_TESTING):\n",
    "    radio.set_power(10)\n",
    "    g_name = 'PA'\n",
    "    g = si446x_device_get_group(radio, g_name)\n",
    "    p = radio_config_groups[radio_config_group_ids.build(g_name)].build(g)\n",
    "    print(si446x_device_format_group('PA', p))\n",
    "    radio.set_power(32)\n",
    "    g = si446x_device_get_group(radio, g_name)\n",
    "    p = radio_config_groups[radio_config_group_ids.build(g_name)].build(g)\n",
    "    print(si446x_device_format_group('PA', p))"
   ]
  },
  {
   "cell_type": "code",
   "execution_count": null,
   "metadata": {
    "collapsed": true,
    "scrolled": false
   },
   "outputs": [],
   "source": [
    "if (UNIT_TESTING):\n",
    "    print(si446x_device_get_group(radio, 'PA'))"
   ]
  },
  {
   "cell_type": "code",
   "execution_count": null,
   "metadata": {
    "collapsed": true,
    "scrolled": false
   },
   "outputs": [],
   "source": [
    "if (UNIT_TESTING):\n",
    "    \"\"\"\n",
    "    note that errors occur above threshold of 40. This implies interrupt latency is not satisfied.\n",
    "    In runtime environment, use a value in range of 10 to 30. 10 could potentially cause more \n",
    "    interrupts, but tolerates longer latency.\n",
    "    \"\"\"\n",
    "    step = 1\n",
    "    bb = bytearray(256)\n",
    "    radio.trace._enable()\n",
    "    ss = bytearray('\\x10\\x10')\n",
    "    for thresh in range(20,25,step):\n",
    "        print('thresh: {}'.format(thresh))\n",
    "        ss[0] = thresh\n",
    "        ss[1] = thresh\n",
    "        radio.set_property('PKT', 0x0b, ss) # tx/rx threshold\n",
    "        for i in range(4,128,step):\n",
    "            pl = si446x_device_send_msg(radio, bb[:i], 60)\n",
    "#            print('{} {}'.format(i, ''.join(map(str, pl))))\n",
    "            if (pl[-1] == 'e'):\n",
    "                print('ERROR {} {}'.format(i, ''.join(map(str, pl))))\n",
    "    print('\\ndone')"
   ]
  },
  {
   "cell_type": "code",
   "execution_count": null,
   "metadata": {
    "collapsed": true
   },
   "outputs": [],
   "source": [
    "if (UNIT_TESTING):\n",
    "    pass"
   ]
  },
  {
   "cell_type": "code",
   "execution_count": null,
   "metadata": {
    "collapsed": true
   },
   "outputs": [],
   "source": []
  }
 ],
 "metadata": {
  "kernelspec": {
   "display_name": "Python 2",
   "language": "python",
   "name": "python2"
  },
  "language_info": {
   "codemirror_mode": {
    "name": "ipython",
    "version": 2
   },
   "file_extension": ".py",
   "mimetype": "text/x-python",
   "name": "python",
   "nbconvert_exporter": "python",
   "pygments_lexer": "ipython2",
   "version": "2.7.9"
  }
 },
 "nbformat": 4,
 "nbformat_minor": 2
}
