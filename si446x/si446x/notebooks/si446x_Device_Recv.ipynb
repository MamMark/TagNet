{
 "cells": [
  {
   "cell_type": "code",
   "execution_count": null,
   "metadata": {},
   "outputs": [],
   "source": [
    "%autosave 0\n",
    "import sys\n",
    "sys.path.append(\"../\") # go to parent dir\n",
    "%run si446x_Device_Layer.ipynb\n",
    "#test"
   ]
  },
  {
   "cell_type": "code",
   "execution_count": null,
   "metadata": {},
   "outputs": [],
   "source": [
    "print('si446x driver version: {}\\n'.format(si446x_device_version()))\n",
    "radio = si446x_device_start_radio()\n",
    "config = si446x_device_config_radio(radio)\n",
    "print('compiled config strings (wdds + local:\\n{}'.format(config))"
   ]
  },
  {
   "cell_type": "code",
   "execution_count": null,
   "metadata": {
    "scrolled": true
   },
   "outputs": [],
   "source": [
    "si446x_device_show_config(radio.dump_radio())"
   ]
  },
  {
   "cell_type": "markdown",
   "metadata": {},
   "source": [
    "## Interactive Inspection of Radio Status"
   ]
  },
  {
   "cell_type": "code",
   "execution_count": null,
   "metadata": {},
   "outputs": [],
   "source": [
    "interact(si446x_device_group_fetch_and_decode, group=radio_config_group_ids.encoding)"
   ]
  },
  {
   "cell_type": "code",
   "execution_count": null,
   "metadata": {},
   "outputs": [],
   "source": [
    "interact(si446x_device_command_fetch_and_decode, cmd=radio_status_cmd_ids.encoding)"
   ]
  },
  {
   "cell_type": "markdown",
   "metadata": {},
   "source": [
    "## Receive Packets"
   ]
  },
  {
   "cell_type": "code",
   "execution_count": null,
   "metadata": {
    "collapsed": true
   },
   "outputs": [],
   "source": [
    "def show_interrupts():\n",
    "    s_name =  'int_status_rsp_s'\n",
    "    p_s = eval(s_name)\n",
    "    p_g = radio.get_interrupts()\n",
    "    p_d = p_s.build(p_g)\n",
    "    print('{}: {}'.format(s_name, hexlify(p_d)))\n",
    "    print(radio_display_structs[p_s](p_s, p_d))"
   ]
  },
  {
   "cell_type": "code",
   "execution_count": null,
   "metadata": {
    "scrolled": true
   },
   "outputs": [],
   "source": [
    "from __future__ import print_function\n",
    "from datetime import datetime\n",
    "\n",
    "num          = 500000\n",
    "MAX_RECV     = 256\n",
    "MAX_WAIT     = 10\n",
    "prp          = bytearray(1)\n",
    "prp[0]        = 25\n",
    "\n",
    "start = datetime.now()\n",
    "print(start)\n",
    "\n",
    "radio.trace._enable()\n",
    "radio.set_property('PKT', 0x0c, prp)  # set rx fifo threshold\n",
    "\n",
    "for i in range(1,num):\n",
    "    msg, rssi, status = si446x_device_receive_msg(radio, MAX_RECV, MAX_WAIT)\n",
    "#    print(len(msg), rssi)\n",
    "#    if (status[-1] == 'e'):\n",
    "    sx = ''\n",
    "    if (msg):\n",
    "        m = 16\n",
    "        x = m if (len(msg) >= m) else len(msg)\n",
    "        sx += hexlify(msg[:x])\n",
    "        sx += \"..\"\n",
    "        sx += (hexlify(msg[-x:]))\n",
    "    print('\\r{}, c:{}, l:{}, r:{}, t:{}, m:{}, s:{}                  '.format(\n",
    "        datetime.now(), i, len(msg), rssi, prp[0], sx, ''.join(map(str, status))), end='')\n",
    "    if (status[-1] == 'e'): print()\n",
    "\n",
    "show_interrupts()\n",
    "print('done')"
   ]
  },
  {
   "cell_type": "code",
   "execution_count": null,
   "metadata": {
    "collapsed": true
   },
   "outputs": [],
   "source": [
    "from datetime import datetime \n",
    "\n",
    "now=datetime.now()\n",
    "print(now)"
   ]
  },
  {
   "cell_type": "code",
   "execution_count": null,
   "metadata": {
    "collapsed": true
   },
   "outputs": [],
   "source": [
    "reply = radio.dump_trace(0)\n",
    "print(len(reply))\n",
    "for tim,where,sig,s_name,dat in reply:\n",
    "    my_struct = None\n",
    "    if (s_name == 'string'):\n",
    "        result = bytearray(dat)\n",
    "    else:\n",
    "        result = '{:<20} {}'.format(s_name, binascii.hexlify(bytearray(dat[:8])))\n",
    "        if ((s_name == 'set_property_cmd_s') or (s_name == 'get_property_cmd_s')\n",
    "           or (s_name == 'get_property_rsp_s')):\n",
    "            my_struct = None\n",
    "        else:\n",
    "            my_struct = eval(s_name)\n",
    "    f = '{} {:^16} {}'.format(t.format_time(tim),\n",
    "                      where,\n",
    "                      result)\n",
    "    print(f)\n",
    "    if (my_struct):\n",
    "        st = radio_display_structs[my_struct](my_struct, bytearray(dat))\n",
    "        print('   {}\\n'.format(st))"
   ]
  },
  {
   "cell_type": "code",
   "execution_count": null,
   "metadata": {
    "collapsed": true
   },
   "outputs": [],
   "source": [
    "t = radio.trace\n",
    "entries = t.filter(filter='RADIO_RSP')\n",
    "p = t.display(entries)\n",
    "for entry in p:\n",
    "    lst = []\n",
    "    for x in entry[5].split(' '): lst.append(str(x))\n",
    "    if (not lst):\n",
    "        s = ''\n",
    "    elif (lst[1] == 'string'):\n",
    "        s = ' '.join(lst[2:])\n",
    "    else:\n",
    "        s = lst[1]\n",
    "    print(\"{} {:<14} {:<20}\".format(entry[0],entry[2],entry[5]))\n",
    "    print(s)"
   ]
  },
  {
   "cell_type": "code",
   "execution_count": null,
   "metadata": {
    "collapsed": true
   },
   "outputs": [],
   "source": []
  },
  {
   "cell_type": "code",
   "execution_count": null,
   "metadata": {
    "collapsed": true
   },
   "outputs": [],
   "source": []
  }
 ],
 "metadata": {
  "kernelspec": {
   "display_name": "Python 2",
   "language": "python",
   "name": "python2"
  },
  "language_info": {
   "codemirror_mode": {
    "name": "ipython",
    "version": 2
   },
   "file_extension": ".py",
   "mimetype": "text/x-python",
   "name": "python",
   "nbconvert_exporter": "python",
   "pygments_lexer": "ipython2",
   "version": "2.7.9"
  }
 },
 "nbformat": 4,
 "nbformat_minor": 2
}
