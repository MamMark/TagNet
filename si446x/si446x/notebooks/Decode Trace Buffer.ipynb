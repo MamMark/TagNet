{
 "cells": [
  {
   "cell_type": "code",
   "execution_count": 1,
   "metadata": {
    "collapsed": true
   },
   "outputs": [],
   "source": [
    "from si446x.si446xdef import *\n"
   ]
  },
  {
   "cell_type": "code",
   "execution_count": 2,
   "metadata": {
    "collapsed": true
   },
   "outputs": [],
   "source": [
    "from si446x.si446xtrace import *\n"
   ]
  },
  {
   "cell_type": "code",
   "execution_count": 3,
   "metadata": {},
   "outputs": [
    {
     "name": "stdout",
     "output_type": "stream",
     "text": [
      "[\"@-@  1   @-@ (2017.04.18 03:47:59.653398  0.000000) RADIO_CMD < f0:223 -> f1:220 -> > change_state_cmd_s: Container({'state': 'NOCHANGE', 'cmd': 'CHANGE_STATE'})\"]\n",
      "[\"@-@  2   @-@ (2017.04.18 03:47:59.653398  0.000000) RADIO_CMD < f0:223 -> f1:220 -> > change_state_cmd_s: Container({'state': 'NOCHANGE', 'cmd': 'CHANGE_STATE'})\", \"@-@  3   @-@ (2017.04.18 03:47:59.667593  0.000000) RADIO_CMD < f0:223 -> f1:220 -> > change_state_cmd_s: Container({'state': 'NOCHANGE', 'cmd': 'CHANGE_STATE'})\", \"@-@  4   @-@ (2017.04.18 03:47:59.668205  0.000000) RADIO_CMD < f0:223 -> f1:220 -> > change_state_cmd_s: Container({'state': 'NOCHANGE', 'cmd': 'CHANGE_STATE'})\", \"@-@  5   @-@ (2017.04.18 03:47:59.668798  0.000000) RADIO_CMD < f0:223 -> f1:220 -> > change_state_cmd_s: Container({'state': 'NOCHANGE', 'cmd': 'CHANGE_STATE'})\"]\n",
      "(1492512479.656366, 1492512479.656366, '2017.04.18 03:47:59.656366', <si446x.si446xtrace.Trace instance at 0x70e7b0d0>)\n"
     ]
    }
   ],
   "source": [
    "t = si446xtrace_test()\n",
    "print(t)"
   ]
  },
  {
   "cell_type": "code",
   "execution_count": 20,
   "metadata": {},
   "outputs": [
    {
     "data": {
      "text/plain": [
       "[\"@-@  22  @-@ (2017.04.18 03:47:59.653398  0.000000) RADIO_CMD < f0:223 -> f1:220 -> > change_state_cmd_s: Container({'state': 'NOCHANGE', 'cmd': 'CHANGE_STATE'})\",\n",
       " \"@-@  23  @-@ (2017.04.18 03:47:59.667593  0.000000) RADIO_CMD < f0:223 -> f1:220 -> > change_state_cmd_s: Container({'state': 'NOCHANGE', 'cmd': 'CHANGE_STATE'})\",\n",
       " \"@-@  24  @-@ (2017.04.18 03:47:59.668205  0.000000) RADIO_CMD < f0:223 -> f1:220 -> > change_state_cmd_s: Container({'state': 'NOCHANGE', 'cmd': 'CHANGE_STATE'})\",\n",
       " \"@-@  25  @-@ (2017.04.18 03:47:59.668798  0.000000) RADIO_CMD < f0:223 -> f1:220 -> > change_state_cmd_s: Container({'state': 'NOCHANGE', 'cmd': 'CHANGE_STATE'})\"]"
      ]
     },
     "execution_count": 20,
     "metadata": {},
     "output_type": "execute_result"
    }
   ],
   "source": [
    "t[3].display()"
   ]
  },
  {
   "cell_type": "code",
   "execution_count": null,
   "metadata": {},
   "outputs": [],
   "source": [
    "from si446x.si446xtrace import f0, f1\n",
    "t = Trace(10)\n",
    "f0(t)\n",
    "print(t.rb.len())\n",
    "f1(t)\n",
    "print(t.rb.len())"
   ]
  },
  {
   "cell_type": "code",
   "execution_count": 23,
   "metadata": {},
   "outputs": [
    {
     "name": "stdout",
     "output_type": "stream",
     "text": [
      "4\n"
     ]
    },
    {
     "data": {
      "text/plain": [
       "[\"@-@  1   @-@ (2017.04.18 03:47:59.653398  0.000000) RADIO_CMD < f0:223 -> f1:220 -> > change_state_cmd_s: Container({'state': 'NOCHANGE', 'cmd': 'CHANGE_STATE'})\",\n",
       " \"@-@  2   @-@ (2017.04.18 03:47:59.667593  0.000000) RADIO_CMD < f0:223 -> f1:220 -> > change_state_cmd_s: Container({'state': 'NOCHANGE', 'cmd': 'CHANGE_STATE'})\",\n",
       " \"@-@  3   @-@ (2017.04.18 03:47:59.668205  0.000000) RADIO_CMD < f0:223 -> f1:220 -> > change_state_cmd_s: Container({'state': 'NOCHANGE', 'cmd': 'CHANGE_STATE'})\"]"
      ]
     },
     "execution_count": 23,
     "metadata": {},
     "output_type": "execute_result"
    }
   ],
   "source": [
    "t2 = Trace(0, rb=t[3].rb)\n",
    "print(t2.rb.len())\n",
    "t2.display()"
   ]
  },
  {
   "cell_type": "code",
   "execution_count": 13,
   "metadata": {},
   "outputs": [
    {
     "name": "stdout",
     "output_type": "stream",
     "text": [
      "4\n",
      "4\n"
     ]
    }
   ],
   "source": [
    "print(t2.rb.len())\n",
    "print(t[3].rb.len())"
   ]
  },
  {
   "cell_type": "code",
   "execution_count": 16,
   "metadata": {},
   "outputs": [
    {
     "name": "stdout",
     "output_type": "stream",
     "text": [
      "@-@  5   @-@ (1969.12.31 16:00:00.  -1492512479.668799)  <> \n"
     ]
    }
   ],
   "source": [
    "print(t2._format(0,'','','',''))"
   ]
  },
  {
   "cell_type": "code",
   "execution_count": 17,
   "metadata": {},
   "outputs": [
    {
     "name": "stdout",
     "output_type": "stream",
     "text": [
      "[\"@-@  6   @-@ (2017.04.18 03:47:59.653398  0.000000) RADIO_CMD < f0:223 -> f1:220 -> > change_state_cmd_s: Container({'state': 'NOCHANGE', 'cmd': 'CHANGE_STATE'})\", \"@-@  7   @-@ (2017.04.18 03:47:59.667593  0.000000) RADIO_CMD < f0:223 -> f1:220 -> > change_state_cmd_s: Container({'state': 'NOCHANGE', 'cmd': 'CHANGE_STATE'})\", \"@-@  8   @-@ (2017.04.18 03:47:59.668205  0.000000) RADIO_CMD < f0:223 -> f1:220 -> > change_state_cmd_s: Container({'state': 'NOCHANGE', 'cmd': 'CHANGE_STATE'})\"]\n"
     ]
    }
   ],
   "source": [
    "print(t2.display())"
   ]
  },
  {
   "cell_type": "code",
   "execution_count": null,
   "metadata": {
    "collapsed": true
   },
   "outputs": [],
   "source": []
  }
 ],
 "metadata": {
  "kernelspec": {
   "display_name": "Python 2",
   "language": "python",
   "name": "python2"
  },
  "language_info": {
   "codemirror_mode": {
    "name": "ipython",
    "version": 2
   },
   "file_extension": ".py",
   "mimetype": "text/x-python",
   "name": "python",
   "nbconvert_exporter": "python",
   "pygments_lexer": "ipython2",
   "version": "2.7.9"
  }
 },
 "nbformat": 4,
 "nbformat_minor": 2
}
